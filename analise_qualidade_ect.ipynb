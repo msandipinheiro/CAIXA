{
 "cells": [
  {
   "cell_type": "code",
   "execution_count": 1,
   "metadata": {},
   "outputs": [],
   "source": [
    "# importar as bibliotecas necessárias para conexão ao HAWQ, inserção do arquivo e exibição com o pandas\n",
    "import pandas as pd\n",
    "import psycopg2 \n",
    "import getpass"
   ]
  },
  {
   "cell_type": "code",
   "execution_count": 2,
   "metadata": {},
   "outputs": [
    {
     "name": "stdout",
     "output_type": "stream",
     "text": [
      "Digite seu usuário: f534689\n",
      "Digite sua senha: ········\n"
     ]
    }
   ],
   "source": [
    "# Célula com o usuário e senha para conexão ao HAWQ\n",
    "username = str(input(\"Digite seu usuário: \"))\n",
    "# obter a senha, solicitando ao usuario que digite\n",
    "password = getpass.getpass('Digite sua senha: ')"
   ]
  },
  {
   "cell_type": "code",
   "execution_count": 3,
   "metadata": {},
   "outputs": [],
   "source": [
    "# criar a conexao com o sildc de produção\n",
    "conexao_HAWQ = psycopg2.connect(\n",
    "    dbname = 'sildc', \n",
    "    user = username, \n",
    "    password = password, \n",
    "    host = '10.116.84.227',\n",
    "    port = '8132' \n",
    "    #sslmode = 'require'\n",
    ")\n",
    "# criar o cursor (variavel) que irá guiar as consultas na base\n",
    "cursor_HAWQ = conexao_HAWQ.cursor()"
   ]
  },
  {
   "cell_type": "code",
   "execution_count": 4,
   "metadata": {},
   "outputs": [],
   "source": [
    "consulta = 'select * from at_vicor.tbl_001_001_correios_principal;'"
   ]
  },
  {
   "cell_type": "code",
   "execution_count": 5,
   "metadata": {},
   "outputs": [],
   "source": [
    "perfil_dados = pd.read_sql(consulta,conexao_HAWQ)"
   ]
  },
  {
   "cell_type": "code",
   "execution_count": 6,
   "metadata": {},
   "outputs": [
    {
     "data": {
      "text/html": [
       "<div>\n",
       "<style scoped>\n",
       "    .dataframe tbody tr th:only-of-type {\n",
       "        vertical-align: middle;\n",
       "    }\n",
       "\n",
       "    .dataframe tbody tr th {\n",
       "        vertical-align: top;\n",
       "    }\n",
       "\n",
       "    .dataframe thead th {\n",
       "        text-align: right;\n",
       "    }\n",
       "</style>\n",
       "<table border=\"1\" class=\"dataframe\">\n",
       "  <thead>\n",
       "    <tr style=\"text-align: right;\">\n",
       "      <th></th>\n",
       "      <th>log_nu</th>\n",
       "      <th>ufe_sg</th>\n",
       "      <th>loc_nu</th>\n",
       "      <th>bai_nu_ini</th>\n",
       "      <th>bai_nu_fim</th>\n",
       "      <th>log_no</th>\n",
       "      <th>log_complemento</th>\n",
       "      <th>cep</th>\n",
       "      <th>int_cep</th>\n",
       "      <th>tlo_tx</th>\n",
       "      <th>log_sta_tlo</th>\n",
       "      <th>log_no_abrev</th>\n",
       "      <th>bai_no</th>\n",
       "      <th>bai_no_abrev</th>\n",
       "      <th>mun_nu</th>\n",
       "    </tr>\n",
       "  </thead>\n",
       "  <tbody>\n",
       "    <tr>\n",
       "      <th>0</th>\n",
       "      <td>1008337</td>\n",
       "      <td>MG</td>\n",
       "      <td>4047</td>\n",
       "      <td>57341</td>\n",
       "      <td>0</td>\n",
       "      <td>Ouro Fino                                     ...</td>\n",
       "      <td>...</td>\n",
       "      <td>38042274</td>\n",
       "      <td>38042274</td>\n",
       "      <td>Rua</td>\n",
       "      <td>S</td>\n",
       "      <td>R Ouro Fino</td>\n",
       "      <td>Damha Residencial Uberaba I</td>\n",
       "      <td>D Res Uberaba I</td>\n",
       "      <td>3170107</td>\n",
       "    </tr>\n",
       "    <tr>\n",
       "      <th>1</th>\n",
       "      <td>1008338</td>\n",
       "      <td>MG</td>\n",
       "      <td>4047</td>\n",
       "      <td>57341</td>\n",
       "      <td>0</td>\n",
       "      <td>Mariana                                       ...</td>\n",
       "      <td>...</td>\n",
       "      <td>38042276</td>\n",
       "      <td>38042276</td>\n",
       "      <td>Rua</td>\n",
       "      <td>S</td>\n",
       "      <td>R Mariana</td>\n",
       "      <td>Damha Residencial Uberaba I</td>\n",
       "      <td>D Res Uberaba I</td>\n",
       "      <td>3170107</td>\n",
       "    </tr>\n",
       "    <tr>\n",
       "      <th>2</th>\n",
       "      <td>1008339</td>\n",
       "      <td>MG</td>\n",
       "      <td>4047</td>\n",
       "      <td>57341</td>\n",
       "      <td>0</td>\n",
       "      <td>Lagoa Formosa                                 ...</td>\n",
       "      <td>...</td>\n",
       "      <td>38042278</td>\n",
       "      <td>38042278</td>\n",
       "      <td>Rua</td>\n",
       "      <td>S</td>\n",
       "      <td>R Lga Formosa</td>\n",
       "      <td>Damha Residencial Uberaba I</td>\n",
       "      <td>D Res Uberaba I</td>\n",
       "      <td>3170107</td>\n",
       "    </tr>\n",
       "    <tr>\n",
       "      <th>3</th>\n",
       "      <td>1008340</td>\n",
       "      <td>MG</td>\n",
       "      <td>4047</td>\n",
       "      <td>57341</td>\n",
       "      <td>0</td>\n",
       "      <td>A                                             ...</td>\n",
       "      <td>...</td>\n",
       "      <td>38042280</td>\n",
       "      <td>38042280</td>\n",
       "      <td>Rua</td>\n",
       "      <td>S</td>\n",
       "      <td>R A</td>\n",
       "      <td>Damha Residencial Uberaba I</td>\n",
       "      <td>D Res Uberaba I</td>\n",
       "      <td>3170107</td>\n",
       "    </tr>\n",
       "    <tr>\n",
       "      <th>4</th>\n",
       "      <td>1008341</td>\n",
       "      <td>MG</td>\n",
       "      <td>4047</td>\n",
       "      <td>57341</td>\n",
       "      <td>0</td>\n",
       "      <td>Um                                            ...</td>\n",
       "      <td>...</td>\n",
       "      <td>38042282</td>\n",
       "      <td>38042282</td>\n",
       "      <td>Avenida</td>\n",
       "      <td>S</td>\n",
       "      <td>Av Um</td>\n",
       "      <td>Damha Residencial Uberaba I</td>\n",
       "      <td>D Res Uberaba I</td>\n",
       "      <td>3170107</td>\n",
       "    </tr>\n",
       "  </tbody>\n",
       "</table>\n",
       "</div>"
      ],
      "text/plain": [
       "    log_nu ufe_sg  loc_nu  bai_nu_ini  bai_nu_fim  \\\n",
       "0  1008337     MG    4047       57341           0   \n",
       "1  1008338     MG    4047       57341           0   \n",
       "2  1008339     MG    4047       57341           0   \n",
       "3  1008340     MG    4047       57341           0   \n",
       "4  1008341     MG    4047       57341           0   \n",
       "\n",
       "                                              log_no  \\\n",
       "0  Ouro Fino                                     ...   \n",
       "1  Mariana                                       ...   \n",
       "2  Lagoa Formosa                                 ...   \n",
       "3  A                                             ...   \n",
       "4  Um                                            ...   \n",
       "\n",
       "                                     log_complemento       cep   int_cep  \\\n",
       "0                                                ...  38042274  38042274   \n",
       "1                                                ...  38042276  38042276   \n",
       "2                                                ...  38042278  38042278   \n",
       "3                                                ...  38042280  38042280   \n",
       "4                                                ...  38042282  38042282   \n",
       "\n",
       "                                 tlo_tx log_sta_tlo  \\\n",
       "0  Rua                                            S   \n",
       "1  Rua                                            S   \n",
       "2  Rua                                            S   \n",
       "3  Rua                                            S   \n",
       "4  Avenida                                        S   \n",
       "\n",
       "                           log_no_abrev                       bai_no  \\\n",
       "0  R Ouro Fino                           Damha Residencial Uberaba I   \n",
       "1  R Mariana                             Damha Residencial Uberaba I   \n",
       "2  R Lga Formosa                         Damha Residencial Uberaba I   \n",
       "3  R A                                   Damha Residencial Uberaba I   \n",
       "4  Av Um                                 Damha Residencial Uberaba I   \n",
       "\n",
       "                           bai_no_abrev   mun_nu  \n",
       "0  D Res Uberaba I                       3170107  \n",
       "1  D Res Uberaba I                       3170107  \n",
       "2  D Res Uberaba I                       3170107  \n",
       "3  D Res Uberaba I                       3170107  \n",
       "4  D Res Uberaba I                       3170107  "
      ]
     },
     "execution_count": 6,
     "metadata": {},
     "output_type": "execute_result"
    }
   ],
   "source": [
    "perfil_dados.head()"
   ]
  },
  {
   "cell_type": "code",
   "execution_count": 7,
   "metadata": {},
   "outputs": [],
   "source": [
    "cursor_HAWQ.close()"
   ]
  },
  {
   "cell_type": "code",
   "execution_count": 8,
   "metadata": {},
   "outputs": [],
   "source": [
    "from pandas_profiling import ProfileReport"
   ]
  },
  {
   "cell_type": "code",
   "execution_count": 9,
   "metadata": {},
   "outputs": [],
   "source": [
    "profile_ect = ProfileReport(perfil_dados, title=\"Relatório de qualidade de dados ECT\")"
   ]
  },
  {
   "cell_type": "code",
   "execution_count": 10,
   "metadata": {},
   "outputs": [
    {
     "data": {
      "application/vnd.jupyter.widget-view+json": {
       "model_id": "0340108ecacd4b4f981a804cdac9e5d4",
       "version_major": 2,
       "version_minor": 0
      },
      "text/plain": [
       "HBox(children=(FloatProgress(value=0.0, description='Summarize dataset', max=29.0, style=ProgressStyle(descrip…"
      ]
     },
     "metadata": {},
     "output_type": "display_data"
    },
    {
     "name": "stdout",
     "output_type": "stream",
     "text": [
      "\n"
     ]
    },
    {
     "data": {
      "application/vnd.jupyter.widget-view+json": {
       "model_id": "d7601bf96d814214b97299065f88e1f2",
       "version_major": 2,
       "version_minor": 0
      },
      "text/plain": [
       "HBox(children=(FloatProgress(value=0.0, description='Generate report structure', max=1.0, style=ProgressStyle(…"
      ]
     },
     "metadata": {},
     "output_type": "display_data"
    },
    {
     "name": "stdout",
     "output_type": "stream",
     "text": [
      "\n"
     ]
    },
    {
     "data": {
      "application/vnd.jupyter.widget-view+json": {
       "model_id": "36bf9039cf934878a8d1ef23178e5430",
       "version_major": 2,
       "version_minor": 0
      },
      "text/plain": [
       "HBox(children=(FloatProgress(value=0.0, description='Render HTML', max=1.0, style=ProgressStyle(description_wi…"
      ]
     },
     "metadata": {},
     "output_type": "display_data"
    },
    {
     "name": "stdout",
     "output_type": "stream",
     "text": [
      "\n"
     ]
    },
    {
     "data": {
      "application/vnd.jupyter.widget-view+json": {
       "model_id": "7a1d8659793047239109b6939b1ecaa5",
       "version_major": 2,
       "version_minor": 0
      },
      "text/plain": [
       "HBox(children=(FloatProgress(value=0.0, description='Export report to file', max=1.0, style=ProgressStyle(desc…"
      ]
     },
     "metadata": {},
     "output_type": "display_data"
    },
    {
     "name": "stdout",
     "output_type": "stream",
     "text": [
      "\n"
     ]
    }
   ],
   "source": [
    "profile_ect.to_file(\"cep.html\")"
   ]
  }
 ],
 "metadata": {
  "kernelspec": {
   "display_name": "Python 3",
   "language": "python",
   "name": "python3"
  },
  "language_info": {
   "codemirror_mode": {
    "name": "ipython",
    "version": 3
   },
   "file_extension": ".py",
   "mimetype": "text/x-python",
   "name": "python",
   "nbconvert_exporter": "python",
   "pygments_lexer": "ipython3",
   "version": "3.8.2"
  }
 },
 "nbformat": 4,
 "nbformat_minor": 4
}
