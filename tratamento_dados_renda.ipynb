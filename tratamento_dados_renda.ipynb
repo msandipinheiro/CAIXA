{
 "cells": [
  {
   "cell_type": "markdown",
   "metadata": {},
   "source": [
    "# Tratamento de Dados de Renda - SICLI\n",
    "--- \n",
    "Importar a biblioteca Pandas para manipulação dos dados em formato tabular."
   ]
  },
  {
   "cell_type": "code",
   "execution_count": 1,
   "metadata": {},
   "outputs": [],
   "source": [
    "import pandas as pd\n",
    "import numpy as np\n",
    "import scipy.stats as stats\n",
    "import matplotlib.pyplot as plt\n",
    "import seaborn as sns\n",
    "import pandas_profiling\n",
    "import datetime "
   ]
  },
  {
   "cell_type": "code",
   "execution_count": 2,
   "metadata": {},
   "outputs": [],
   "source": [
    "pd.set_option('float_format', '{:0.2f}'.format)"
   ]
  },
  {
   "cell_type": "markdown",
   "metadata": {},
   "source": [
    "Leitura do arquivo `cli_amostra_minas_gerais_202006051503.csv` contendo informações de renda dos clientes de Minas Gerais.  \n",
    "Para a geração deste arquivo, foi executado o [script sql](http://fontes.des.caixa/GESIR/gesir-solucoes-analiticas/ibge-indicadores-censitarios/blob/master/selecao-amostra-sicli/amostra_minas_gerais.sql#L103) utilizando os filtros de \"**sg_uf = 'MG'**\", \"**aa_fim isnull**\" e \"**ic_comprovacao = 'S'**\"."
   ]
  },
  {
   "cell_type": "code",
   "execution_count": 3,
   "metadata": {},
   "outputs": [],
   "source": [
    "arquivo = '../dados/amostra_sicli/cli_amostra_minas_gerais_202006051503.csv'\n",
    "sep = ';'"
   ]
  },
  {
   "cell_type": "code",
   "execution_count": 4,
   "metadata": {},
   "outputs": [],
   "source": [
    "df_renda = pd.read_csv(arquivo, sep=sep)"
   ]
  },
  {
   "cell_type": "code",
   "execution_count": 5,
   "metadata": {},
   "outputs": [
    {
     "name": "stdout",
     "output_type": "stream",
     "text": [
      "<class 'pandas.core.frame.DataFrame'>\n",
      "RangeIndex: 4251240 entries, 0 to 4251239\n",
      "Data columns (total 20 columns):\n",
      " #   Column              Dtype  \n",
      "---  ------              -----  \n",
      " 0   nu_pessoa           int64  \n",
      " 1   dt_nascimento       object \n",
      " 2   ic_tipo_renda       object \n",
      " 3   vr_renda_bruta      float64\n",
      " 4   vr_renda_liquida    float64\n",
      " 5   dt_inicio           object \n",
      " 6   dt_fim              float64\n",
      " 7   ic_principal        float64\n",
      " 8   nu_tipo_renda_p76   float64\n",
      " 9   no_atividade        object \n",
      " 10  de_local_trabalho   object \n",
      " 11  ic_infmo_renda      float64\n",
      " 12  dt_apuracao_renda   object \n",
      " 13  ic_sexo             object \n",
      " 14  ic_situacao         int64  \n",
      " 15  ic_inconsistencia   object \n",
      " 16  nu_estdo_civil_p27  int64  \n",
      " 17  de_estado_civil     int64  \n",
      " 18  nu_nivel_insto_p14  float64\n",
      " 19  de_nivel_instrucao  float64\n",
      "dtypes: float64(8), int64(4), object(8)\n",
      "memory usage: 648.7+ MB\n"
     ]
    }
   ],
   "source": [
    "df_renda.info()"
   ]
  },
  {
   "cell_type": "markdown",
   "metadata": {},
   "source": [
    "### Lista de colunas que serão desconsideradas em conformidade com:  \n",
    "http://fontes.des.caixa/GESIR/gesir-solucoes-analiticas/ibge-indicadores-censitarios/wikis/3.2.1.-qualidade-de-dados"
   ]
  },
  {
   "cell_type": "code",
   "execution_count": 6,
   "metadata": {},
   "outputs": [],
   "source": [
    "#features_drop=['dt_inicio','dt_fim','no_atividade','de_local_trabalho','dt_apuracao_renda','ic_situacao',\n",
    "### dt_apuracao_renda foi incluído visando ser utilizado no modelo que estima a faixa de renda\n",
    "features_drop=['dt_inicio','dt_fim','no_atividade','de_local_trabalho','ic_situacao',\n",
    "              'ic_inconsistencia','nu_nivel_insto_p14','de_nivel_instrucao']\n",
    "df_renda.drop(features_drop,axis=1,inplace=True)"
   ]
  },
  {
   "cell_type": "code",
   "execution_count": 7,
   "metadata": {},
   "outputs": [
    {
     "data": {
      "text/plain": [
       "Index(['nu_pessoa', 'dt_nascimento', 'ic_tipo_renda', 'vr_renda_bruta',\n",
       "       'vr_renda_liquida', 'ic_principal', 'nu_tipo_renda_p76',\n",
       "       'ic_infmo_renda', 'dt_apuracao_renda', 'ic_sexo', 'nu_estdo_civil_p27',\n",
       "       'de_estado_civil'],\n",
       "      dtype='object')"
      ]
     },
     "execution_count": 7,
     "metadata": {},
     "output_type": "execute_result"
    }
   ],
   "source": [
    "df_renda.columns"
   ]
  },
  {
   "cell_type": "code",
   "execution_count": 8,
   "metadata": {},
   "outputs": [],
   "source": [
    "features_renda = ['vr_renda_bruta','vr_renda_liquida']\n",
    "features = ['nu_pessoa', 'dt_nascimento', 'ic_tipo_renda', \n",
    "            'ic_principal', 'nu_tipo_renda_p76', 'ic_infmo_renda', \n",
    "            'ic_sexo', 'nu_estdo_civil_p27', 'de_estado_civil']\n",
    "\n",
    "features_all = ['nu_pessoa', 'dt_apuracao_renda', 'dt_nascimento', 'ic_tipo_renda', \n",
    "            'ic_principal', 'nu_tipo_renda_p76', 'ic_infmo_renda', \n",
    "            'ic_sexo', 'nu_estdo_civil_p27', 'de_estado_civil', \n",
    "            'vr_renda_bruta','vr_renda_liquida']"
   ]
  },
  {
   "cell_type": "markdown",
   "metadata": {},
   "source": [
    "### Relatório antes de tratar missing values"
   ]
  },
  {
   "cell_type": "code",
   "execution_count": 9,
   "metadata": {},
   "outputs": [],
   "source": [
    "#pandas_profiling.ProfileReport(df_renda[features])"
   ]
  },
  {
   "cell_type": "markdown",
   "metadata": {},
   "source": [
    "### Tratar dt_nascimento e criar idade\n",
    "1. Parse de validação e formatação de data    \n",
    "   - Sobre `format='%Y-%m-%d'` e `errors='coerce'` em https://pandas.pydata.org/pandas-docs/stable/reference/api/pandas.to_datetime.html  \n",
    "2. Eliminar os casos nulos em data de nascimento  \n",
    "3. Criar a idade  \n",
    "   - Sobre `<m8[Y]` em https://stackoverflow.com/questions/29206612/difference-between-data-type-datetime64ns-and-m8ns\n",
    "4. Considerar idades onde 18 <= idade <= 110  "
   ]
  },
  {
   "cell_type": "code",
   "execution_count": 10,
   "metadata": {},
   "outputs": [],
   "source": [
    "now = pd.Timestamp('now') # gera data atual\n",
    "# etapa 1\n",
    "df_renda['dt_nascimento'] = pd.to_datetime(df_renda['dt_nascimento'], format='%Y-%m-%d', errors='coerce')\n",
    "# etapa 2\n",
    "df_renda.dropna(subset=['dt_nascimento'], inplace=True)\n",
    "# etapa 3\n",
    "df_renda['idade'] = (now - df_renda['dt_nascimento']).astype('<m8[Y]').astype('int')\n",
    "# etapa 4\n",
    "df_renda = df_renda[(df_renda['idade']>=18) & (df_renda['idade']<=110)].reset_index(drop=True)"
   ]
  },
  {
   "cell_type": "code",
   "execution_count": 11,
   "metadata": {},
   "outputs": [],
   "source": [
    "features.append('idade')\n",
    "features_all.append('idade')"
   ]
  },
  {
   "cell_type": "markdown",
   "metadata": {},
   "source": [
    "#### ic_tipo_renda\n",
    "- Susbtituir NaN por `?`"
   ]
  },
  {
   "cell_type": "code",
   "execution_count": 12,
   "metadata": {},
   "outputs": [],
   "source": [
    "df_renda[\"ic_tipo_renda\"].fillna('?',inplace=True)"
   ]
  },
  {
   "cell_type": "markdown",
   "metadata": {},
   "source": [
    "#### ic_principal\n",
    "- Susbtituir NaN por `?`"
   ]
  },
  {
   "cell_type": "code",
   "execution_count": 13,
   "metadata": {},
   "outputs": [],
   "source": [
    "df_renda[\"ic_principal\"].fillna('0',inplace=True)"
   ]
  },
  {
   "cell_type": "markdown",
   "metadata": {},
   "source": [
    "#### nu_tipo_renda_p76\n",
    "- Susbtituir `NaN` por `8` em conformidade com:  \n",
    "http://fontes.des.caixa/GESIR/gesir-solucoes-analiticas/ibge-indicadores-censitarios/wikis/3.2.1.-qualidade-de-dados"
   ]
  },
  {
   "cell_type": "code",
   "execution_count": 14,
   "metadata": {},
   "outputs": [],
   "source": [
    "df_renda[\"nu_tipo_renda_p76\"].fillna('8',inplace=True)"
   ]
  },
  {
   "cell_type": "markdown",
   "metadata": {},
   "source": [
    "#### ic_infmo_renda\n",
    "- Susbtituir `NaN` por `0`"
   ]
  },
  {
   "cell_type": "code",
   "execution_count": 15,
   "metadata": {},
   "outputs": [],
   "source": [
    "df_renda[\"ic_infmo_renda\"].fillna(0,inplace=True)"
   ]
  },
  {
   "cell_type": "markdown",
   "metadata": {},
   "source": [
    "#### ic_sexo\n",
    "- Susbtituir `NaN` por `?`"
   ]
  },
  {
   "cell_type": "code",
   "execution_count": 16,
   "metadata": {},
   "outputs": [],
   "source": [
    "df_renda[\"ic_sexo\"].fillna('?',inplace=True)"
   ]
  },
  {
   "cell_type": "markdown",
   "metadata": {},
   "source": [
    "### Tratar **`outliers`** em **`vr_renda_bruta`** e **`vr_renda_liquida`**\n",
    "- Registros com **`renda = 0`** serão desconsiderados\n",
    "#### Função para gerar gráficos de análise de outliers"
   ]
  },
  {
   "cell_type": "code",
   "execution_count": 17,
   "metadata": {},
   "outputs": [],
   "source": [
    "def diagnostic_number_plots(df):\n",
    "    for v in df:\n",
    "        if pd.api.types.is_numeric_dtype(df[v]) == True:\n",
    "            # define figure size\n",
    "            plt.figure(figsize=(16, 4))\n",
    "\n",
    "            # histogram\n",
    "            plt.subplot(1, 3, 1)\n",
    "            sns.distplot(df[v], bins=30)\n",
    "            plt.title('Histogram')\n",
    "\n",
    "            # Q-Q plot\n",
    "            plt.subplot(1, 3, 2)\n",
    "            stats.probplot(df[v], dist=\"norm\", plot=plt)\n",
    "            plt.ylabel(v+' quantiles')\n",
    "\n",
    "            # boxplot\n",
    "            plt.subplot(1, 3, 3)\n",
    "            sns.boxplot(y=df[v])\n",
    "            plt.title('Boxplot')\n",
    "\n",
    "            plt.show()"
   ]
  },
  {
   "cell_type": "markdown",
   "metadata": {},
   "source": [
    "Análise do estado dos dados **antes** de retirar os **`outliers`**."
   ]
  },
  {
   "cell_type": "code",
   "execution_count": 18,
   "metadata": {},
   "outputs": [
    {
     "data": {
      "text/html": [
       "<div>\n",
       "<style scoped>\n",
       "    .dataframe tbody tr th:only-of-type {\n",
       "        vertical-align: middle;\n",
       "    }\n",
       "\n",
       "    .dataframe tbody tr th {\n",
       "        vertical-align: top;\n",
       "    }\n",
       "\n",
       "    .dataframe thead th {\n",
       "        text-align: right;\n",
       "    }\n",
       "</style>\n",
       "<table border=\"1\" class=\"dataframe\">\n",
       "  <thead>\n",
       "    <tr style=\"text-align: right;\">\n",
       "      <th></th>\n",
       "      <th>vr_renda_bruta</th>\n",
       "      <th>vr_renda_liquida</th>\n",
       "    </tr>\n",
       "  </thead>\n",
       "  <tbody>\n",
       "    <tr>\n",
       "      <th>count</th>\n",
       "      <td>2500108.00</td>\n",
       "      <td>2500108.00</td>\n",
       "    </tr>\n",
       "    <tr>\n",
       "      <th>mean</th>\n",
       "      <td>26337.53</td>\n",
       "      <td>4947464.90</td>\n",
       "    </tr>\n",
       "    <tr>\n",
       "      <th>std</th>\n",
       "      <td>22577701.11</td>\n",
       "      <td>1968549601.02</td>\n",
       "    </tr>\n",
       "    <tr>\n",
       "      <th>min</th>\n",
       "      <td>0.00</td>\n",
       "      <td>0.00</td>\n",
       "    </tr>\n",
       "    <tr>\n",
       "      <th>1%</th>\n",
       "      <td>0.00</td>\n",
       "      <td>0.00</td>\n",
       "    </tr>\n",
       "    <tr>\n",
       "      <th>5%</th>\n",
       "      <td>0.00</td>\n",
       "      <td>0.00</td>\n",
       "    </tr>\n",
       "    <tr>\n",
       "      <th>10%</th>\n",
       "      <td>0.00</td>\n",
       "      <td>0.00</td>\n",
       "    </tr>\n",
       "    <tr>\n",
       "      <th>25%</th>\n",
       "      <td>0.00</td>\n",
       "      <td>0.00</td>\n",
       "    </tr>\n",
       "    <tr>\n",
       "      <th>50%</th>\n",
       "      <td>240.00</td>\n",
       "      <td>450.00</td>\n",
       "    </tr>\n",
       "    <tr>\n",
       "      <th>75%</th>\n",
       "      <td>1045.00</td>\n",
       "      <td>1100.00</td>\n",
       "    </tr>\n",
       "    <tr>\n",
       "      <th>90%</th>\n",
       "      <td>2110.76</td>\n",
       "      <td>2000.00</td>\n",
       "    </tr>\n",
       "    <tr>\n",
       "      <th>95%</th>\n",
       "      <td>3255.22</td>\n",
       "      <td>3000.00</td>\n",
       "    </tr>\n",
       "    <tr>\n",
       "      <th>99%</th>\n",
       "      <td>9074.69</td>\n",
       "      <td>7518.60</td>\n",
       "    </tr>\n",
       "    <tr>\n",
       "      <th>max</th>\n",
       "      <td>22640331640.31</td>\n",
       "      <td>998000321251.33</td>\n",
       "    </tr>\n",
       "  </tbody>\n",
       "</table>\n",
       "</div>"
      ],
      "text/plain": [
       "       vr_renda_bruta  vr_renda_liquida\n",
       "count      2500108.00        2500108.00\n",
       "mean         26337.53        4947464.90\n",
       "std       22577701.11     1968549601.02\n",
       "min              0.00              0.00\n",
       "1%               0.00              0.00\n",
       "5%               0.00              0.00\n",
       "10%              0.00              0.00\n",
       "25%              0.00              0.00\n",
       "50%            240.00            450.00\n",
       "75%           1045.00           1100.00\n",
       "90%           2110.76           2000.00\n",
       "95%           3255.22           3000.00\n",
       "99%           9074.69           7518.60\n",
       "max    22640331640.31   998000321251.33"
      ]
     },
     "execution_count": 18,
     "metadata": {},
     "output_type": "execute_result"
    }
   ],
   "source": [
    "df_renda[features_renda].describe(include=[np.number], percentiles=[.01,.05,.10,.25,.5,.75,.9,.95,.99])"
   ]
  },
  {
   "cell_type": "code",
   "execution_count": 19,
   "metadata": {},
   "outputs": [
    {
     "data": {
      "image/png": "[encoded data removed]",
      "text/plain": [
       "<Figure size 1152x288 with 3 Axes>"
      ]
     },
     "metadata": {},
     "output_type": "display_data"
    },
    {
     "data": {
      "image/png": "[encoded data removed]",
      "text/plain": [
       "<Figure size 1152x288 with 3 Axes>"
      ]
     },
     "metadata": {},
     "output_type": "display_data"
    }
   ],
   "source": [
    "diagnostic_number_plots(df_renda[features_renda])"
   ]
  },
  {
   "cell_type": "markdown",
   "metadata": {},
   "source": [
    "#### Valores `NaN` serão convertidos para `0`"
   ]
  },
  {
   "cell_type": "code",
   "execution_count": 20,
   "metadata": {},
   "outputs": [],
   "source": [
    "df_renda['vr_renda_bruta'].fillna(0,inplace=True)\n",
    "df_renda['vr_renda_liquida'].fillna(0,inplace=True)"
   ]
  },
  {
   "cell_type": "code",
   "execution_count": 21,
   "metadata": {},
   "outputs": [
    {
     "name": "stdout",
     "output_type": "stream",
     "text": [
      "Qtd:   vr_renda_bruta    2543771\n",
      "dtype: int64\n",
      "Qtd: vr_renda_liquida    2275547\n",
      "dtype: int64\n"
     ]
    }
   ],
   "source": [
    "print('Qtd:   %s' % df_renda[['vr_renda_bruta']][df_renda['vr_renda_bruta']==0].count())\n",
    "print('Qtd: %s' % df_renda[['vr_renda_liquida']][df_renda['vr_renda_liquida']==0].count())"
   ]
  },
  {
   "cell_type": "markdown",
   "metadata": {},
   "source": [
    "- É bem significativa a quantidade de registros que contém **`0`** em renda bruta e líquida;\n",
    "- Portanto, os registros com **`0`** serão retirados para que a dispersão não seja enviezada a menor e, assim, os registros ficam sem distorções sobre as rendas."
   ]
  },
  {
   "cell_type": "markdown",
   "metadata": {},
   "source": [
    "Retirar os casos de **`renda = 0`**"
   ]
  },
  {
   "cell_type": "code",
   "execution_count": 22,
   "metadata": {},
   "outputs": [],
   "source": [
    "df_renda[['vr_renda_bruta']] = df_renda[['vr_renda_bruta']][df_renda['vr_renda_bruta'] > 0]"
   ]
  },
  {
   "cell_type": "code",
   "execution_count": 23,
   "metadata": {},
   "outputs": [],
   "source": [
    "df_renda[['vr_renda_liquida']] = df_renda[['vr_renda_liquida']][df_renda['vr_renda_liquida'] > 0]"
   ]
  },
  {
   "cell_type": "markdown",
   "metadata": {},
   "source": [
    "Distribuição por percentil **após** desconsiderar **`renda = 0`**"
   ]
  },
  {
   "cell_type": "code",
   "execution_count": 24,
   "metadata": {},
   "outputs": [
    {
     "data": {
      "text/html": [
       "<div>\n",
       "<style scoped>\n",
       "    .dataframe tbody tr th:only-of-type {\n",
       "        vertical-align: middle;\n",
       "    }\n",
       "\n",
       "    .dataframe tbody tr th {\n",
       "        vertical-align: top;\n",
       "    }\n",
       "\n",
       "    .dataframe thead th {\n",
       "        text-align: right;\n",
       "    }\n",
       "</style>\n",
       "<table border=\"1\" class=\"dataframe\">\n",
       "  <thead>\n",
       "    <tr style=\"text-align: right;\">\n",
       "      <th></th>\n",
       "      <th>vr_renda_bruta</th>\n",
       "      <th>vr_renda_liquida</th>\n",
       "    </tr>\n",
       "  </thead>\n",
       "  <tbody>\n",
       "    <tr>\n",
       "      <th>count</th>\n",
       "      <td>1358818.00</td>\n",
       "      <td>1627042.00</td>\n",
       "    </tr>\n",
       "    <tr>\n",
       "      <th>mean</th>\n",
       "      <td>48458.79</td>\n",
       "      <td>7602260.16</td>\n",
       "    </tr>\n",
       "    <tr>\n",
       "      <th>std</th>\n",
       "      <td>30625154.15</td>\n",
       "      <td>2440201420.80</td>\n",
       "    </tr>\n",
       "    <tr>\n",
       "      <th>min</th>\n",
       "      <td>0.01</td>\n",
       "      <td>0.01</td>\n",
       "    </tr>\n",
       "    <tr>\n",
       "      <th>1%</th>\n",
       "      <td>2.00</td>\n",
       "      <td>1.00</td>\n",
       "    </tr>\n",
       "    <tr>\n",
       "      <th>5%</th>\n",
       "      <td>199.00</td>\n",
       "      <td>180.00</td>\n",
       "    </tr>\n",
       "    <tr>\n",
       "      <th>10%</th>\n",
       "      <td>250.00</td>\n",
       "      <td>250.00</td>\n",
       "    </tr>\n",
       "    <tr>\n",
       "      <th>25%</th>\n",
       "      <td>510.00</td>\n",
       "      <td>500.00</td>\n",
       "    </tr>\n",
       "    <tr>\n",
       "      <th>50%</th>\n",
       "      <td>1000.00</td>\n",
       "      <td>952.05</td>\n",
       "    </tr>\n",
       "    <tr>\n",
       "      <th>75%</th>\n",
       "      <td>1769.84</td>\n",
       "      <td>1500.00</td>\n",
       "    </tr>\n",
       "    <tr>\n",
       "      <th>90%</th>\n",
       "      <td>3067.83</td>\n",
       "      <td>2526.46</td>\n",
       "    </tr>\n",
       "    <tr>\n",
       "      <th>95%</th>\n",
       "      <td>4805.82</td>\n",
       "      <td>3860.00</td>\n",
       "    </tr>\n",
       "    <tr>\n",
       "      <th>99%</th>\n",
       "      <td>13563.63</td>\n",
       "      <td>9755.31</td>\n",
       "    </tr>\n",
       "    <tr>\n",
       "      <th>max</th>\n",
       "      <td>22640331640.31</td>\n",
       "      <td>998000321251.33</td>\n",
       "    </tr>\n",
       "  </tbody>\n",
       "</table>\n",
       "</div>"
      ],
      "text/plain": [
       "       vr_renda_bruta  vr_renda_liquida\n",
       "count      1358818.00        1627042.00\n",
       "mean         48458.79        7602260.16\n",
       "std       30625154.15     2440201420.80\n",
       "min              0.01              0.01\n",
       "1%               2.00              1.00\n",
       "5%             199.00            180.00\n",
       "10%            250.00            250.00\n",
       "25%            510.00            500.00\n",
       "50%           1000.00            952.05\n",
       "75%           1769.84           1500.00\n",
       "90%           3067.83           2526.46\n",
       "95%           4805.82           3860.00\n",
       "99%          13563.63           9755.31\n",
       "max    22640331640.31   998000321251.33"
      ]
     },
     "execution_count": 24,
     "metadata": {},
     "output_type": "execute_result"
    }
   ],
   "source": [
    "df_renda[features_renda].describe(include=[np.number], percentiles=[.01,.05,.10,.25,.5,.75,.9,.95,.99])"
   ]
  },
  {
   "cell_type": "markdown",
   "metadata": {},
   "source": [
    "### Gera arquivo tratado COM OUTLIERS"
   ]
  },
  {
   "cell_type": "code",
   "execution_count": 25,
   "metadata": {},
   "outputs": [],
   "source": [
    "# Gera arquivo tratado COM OUTLIERS\n",
    "df_renda[features_all].to_csv('../dados/amostra_sicli_tratada/cli_renda_amostra_MG_validos_COM_outliers.csv',\n",
    "                              index=False, encoding='utf-8', sep=';')"
   ]
  },
  {
   "cell_type": "markdown",
   "metadata": {},
   "source": [
    "### Como serão tratados os outliers?\n",
    "Valores **`x%` acima** do `terceiro quartil` e os valores **`x%` abaixo** do `segundo quartil` **serão considerados** `outliers`.  "
   ]
  },
  {
   "cell_type": "markdown",
   "metadata": {},
   "source": [
    "Função que calcula o **`limite superior`** dos **`outlier`**."
   ]
  },
  {
   "cell_type": "code",
   "execution_count": 26,
   "metadata": {},
   "outputs": [],
   "source": [
    "def find_boundaries_upper(df, variable, distance):\n",
    "    # distance: std = 0.1 até 3.0\n",
    "\n",
    "    IQR = df[variable].quantile(0.75) - df[variable].quantile(0.25)\n",
    "    upper_boundary = df[variable].quantile(0.75) + (IQR * distance)\n",
    "\n",
    "    return upper_boundary"
   ]
  },
  {
   "cell_type": "markdown",
   "metadata": {},
   "source": [
    "Função que calcula o **`limite inferior`** dos **`outlier`**."
   ]
  },
  {
   "cell_type": "code",
   "execution_count": 27,
   "metadata": {},
   "outputs": [],
   "source": [
    "def find_boundaries_lower(df, variable, distance):\n",
    "    # distance: std = 0.1 até 3.0\n",
    "\n",
    "    IQR = df[variable].quantile(0.75) - df[variable].quantile(0.25)\n",
    "    lower_boundary = df[variable].quantile(0.25) - (IQR * distance)\n",
    "\n",
    "    return lower_boundary"
   ]
  },
  {
   "cell_type": "markdown",
   "metadata": {},
   "source": [
    "Parametrização dos **`outliers`** em **`renda bruta`** por porcentagem **acima** e **abaixo** do **desvio padrão**."
   ]
  },
  {
   "cell_type": "code",
   "execution_count": 28,
   "metadata": {},
   "outputs": [
    {
     "data": {
      "text/plain": [
       "(5549.36, 100.55200000000002)"
      ]
     },
     "execution_count": 28,
     "metadata": {},
     "output_type": "execute_result"
    }
   ],
   "source": [
    "vr_renda_bruta_upper_limit = find_boundaries_upper(df_renda,'vr_renda_bruta', 3.0)\n",
    "vr_renda_bruta_lower_limit = find_boundaries_lower(df_renda,'vr_renda_bruta', 0.325)\n",
    "\n",
    "vr_renda_bruta_upper_limit, vr_renda_bruta_lower_limit"
   ]
  },
  {
   "cell_type": "markdown",
   "metadata": {},
   "source": [
    "Parametrização dos **`outliers`** em **`renda líquida`** por porcentagem **acima** e **abaixo** do **desvio padrão**."
   ]
  },
  {
   "cell_type": "code",
   "execution_count": 29,
   "metadata": {},
   "outputs": [
    {
     "data": {
      "text/plain": [
       "(4500.0, 100.0)"
      ]
     },
     "execution_count": 29,
     "metadata": {},
     "output_type": "execute_result"
    }
   ],
   "source": [
    "vr_renda_liquida_upper_limit = find_boundaries_upper(df_renda,'vr_renda_liquida', 3.0)\n",
    "vr_renda_liquida_lower_limit = find_boundaries_lower(df_renda,'vr_renda_liquida', 0.4)\n",
    "\n",
    "vr_renda_liquida_upper_limit, vr_renda_liquida_lower_limit"
   ]
  },
  {
   "cell_type": "code",
   "execution_count": 30,
   "metadata": {},
   "outputs": [],
   "source": [
    "df_trimmed = df_renda[\n",
    "                (df_renda['vr_renda_liquida']>=vr_renda_liquida_lower_limit) & \n",
    "                (df_renda['vr_renda_bruta']>=vr_renda_bruta_lower_limit) & \n",
    "                (df_renda['vr_renda_liquida']<=vr_renda_liquida_upper_limit) & \n",
    "                (df_renda['vr_renda_bruta']<=vr_renda_bruta_upper_limit)\n",
    "            ].reset_index(drop=True)"
   ]
  },
  {
   "cell_type": "markdown",
   "metadata": {},
   "source": [
    "### Relatório após tratar missing values"
   ]
  },
  {
   "cell_type": "code",
   "execution_count": 31,
   "metadata": {},
   "outputs": [
    {
     "data": {
      "text/html": [
       "<div>\n",
       "<style scoped>\n",
       "    .dataframe tbody tr th:only-of-type {\n",
       "        vertical-align: middle;\n",
       "    }\n",
       "\n",
       "    .dataframe tbody tr th {\n",
       "        vertical-align: top;\n",
       "    }\n",
       "\n",
       "    .dataframe thead th {\n",
       "        text-align: right;\n",
       "    }\n",
       "</style>\n",
       "<table border=\"1\" class=\"dataframe\">\n",
       "  <thead>\n",
       "    <tr style=\"text-align: right;\">\n",
       "      <th></th>\n",
       "      <th>vr_renda_bruta</th>\n",
       "      <th>vr_renda_liquida</th>\n",
       "    </tr>\n",
       "  </thead>\n",
       "  <tbody>\n",
       "    <tr>\n",
       "      <th>count</th>\n",
       "      <td>1210298.00</td>\n",
       "      <td>1210298.00</td>\n",
       "    </tr>\n",
       "    <tr>\n",
       "      <th>mean</th>\n",
       "      <td>1252.77</td>\n",
       "      <td>1118.84</td>\n",
       "    </tr>\n",
       "    <tr>\n",
       "      <th>std</th>\n",
       "      <td>952.57</td>\n",
       "      <td>815.19</td>\n",
       "    </tr>\n",
       "    <tr>\n",
       "      <th>min</th>\n",
       "      <td>100.80</td>\n",
       "      <td>100.00</td>\n",
       "    </tr>\n",
       "    <tr>\n",
       "      <th>1%</th>\n",
       "      <td>163.50</td>\n",
       "      <td>160.00</td>\n",
       "    </tr>\n",
       "    <tr>\n",
       "      <th>5%</th>\n",
       "      <td>240.00</td>\n",
       "      <td>234.00</td>\n",
       "    </tr>\n",
       "    <tr>\n",
       "      <th>10%</th>\n",
       "      <td>300.00</td>\n",
       "      <td>280.00</td>\n",
       "    </tr>\n",
       "    <tr>\n",
       "      <th>25%</th>\n",
       "      <td>545.41</td>\n",
       "      <td>520.00</td>\n",
       "    </tr>\n",
       "    <tr>\n",
       "      <th>50%</th>\n",
       "      <td>1000.00</td>\n",
       "      <td>950.00</td>\n",
       "    </tr>\n",
       "    <tr>\n",
       "      <th>75%</th>\n",
       "      <td>1645.63</td>\n",
       "      <td>1466.00</td>\n",
       "    </tr>\n",
       "    <tr>\n",
       "      <th>90%</th>\n",
       "      <td>2535.15</td>\n",
       "      <td>2210.71</td>\n",
       "    </tr>\n",
       "    <tr>\n",
       "      <th>95%</th>\n",
       "      <td>3250.25</td>\n",
       "      <td>2856.32</td>\n",
       "    </tr>\n",
       "    <tr>\n",
       "      <th>99%</th>\n",
       "      <td>4500.00</td>\n",
       "      <td>4000.00</td>\n",
       "    </tr>\n",
       "    <tr>\n",
       "      <th>max</th>\n",
       "      <td>5549.13</td>\n",
       "      <td>4500.00</td>\n",
       "    </tr>\n",
       "  </tbody>\n",
       "</table>\n",
       "</div>"
      ],
      "text/plain": [
       "       vr_renda_bruta  vr_renda_liquida\n",
       "count      1210298.00        1210298.00\n",
       "mean          1252.77           1118.84\n",
       "std            952.57            815.19\n",
       "min            100.80            100.00\n",
       "1%             163.50            160.00\n",
       "5%             240.00            234.00\n",
       "10%            300.00            280.00\n",
       "25%            545.41            520.00\n",
       "50%           1000.00            950.00\n",
       "75%           1645.63           1466.00\n",
       "90%           2535.15           2210.71\n",
       "95%           3250.25           2856.32\n",
       "99%           4500.00           4000.00\n",
       "max           5549.13           4500.00"
      ]
     },
     "execution_count": 31,
     "metadata": {},
     "output_type": "execute_result"
    }
   ],
   "source": [
    "df_trimmed[features_renda].describe(include=[np.number], percentiles=[.01,.05,.10,.25,.5,.75,.9,.95,.99])"
   ]
  },
  {
   "cell_type": "code",
   "execution_count": 32,
   "metadata": {},
   "outputs": [
    {
     "data": {
      "image/png": "[encoded data removed]",
      "text/plain": [
       "<Figure size 1152x288 with 3 Axes>"
      ]
     },
     "metadata": {},
     "output_type": "display_data"
    },
    {
     "data": {
      "image/png": "[encoded data removed]",
      "text/plain": [
       "<Figure size 1152x288 with 3 Axes>"
      ]
     },
     "metadata": {},
     "output_type": "display_data"
    }
   ],
   "source": [
    "diagnostic_number_plots(df_trimmed[features_renda])"
   ]
  },
  {
   "cell_type": "markdown",
   "metadata": {},
   "source": [
    "### Gerar arquivo **sem `outliers`** em renda bruta e renda líquida."
   ]
  },
  {
   "cell_type": "code",
   "execution_count": 33,
   "metadata": {},
   "outputs": [],
   "source": [
    "df_renda[features_all].to_csv('../dados/amostra_sicli_tratada/cli_renda_amostra_MG_validos_sem_outliers.csv',\n",
    "                              index=False, encoding='utf-8', sep=';')"
   ]
  },
  {
   "cell_type": "code",
   "execution_count": 34,
   "metadata": {},
   "outputs": [
    {
     "data": {
      "text/html": [
       "<div>\n",
       "<style scoped>\n",
       "    .dataframe tbody tr th:only-of-type {\n",
       "        vertical-align: middle;\n",
       "    }\n",
       "\n",
       "    .dataframe tbody tr th {\n",
       "        vertical-align: top;\n",
       "    }\n",
       "\n",
       "    .dataframe thead th {\n",
       "        text-align: right;\n",
       "    }\n",
       "</style>\n",
       "<table border=\"1\" class=\"dataframe\">\n",
       "  <thead>\n",
       "    <tr style=\"text-align: right;\">\n",
       "      <th></th>\n",
       "      <th>nu_pessoa</th>\n",
       "      <th>vr_renda_bruta</th>\n",
       "      <th>vr_renda_liquida</th>\n",
       "      <th>nu_estdo_civil_p27</th>\n",
       "      <th>de_estado_civil</th>\n",
       "      <th>idade</th>\n",
       "    </tr>\n",
       "  </thead>\n",
       "  <tbody>\n",
       "    <tr>\n",
       "      <th>nu_pessoa</th>\n",
       "      <td>1.00</td>\n",
       "      <td>-0.00</td>\n",
       "      <td>-0.00</td>\n",
       "      <td>-0.01</td>\n",
       "      <td>0.01</td>\n",
       "      <td>-0.02</td>\n",
       "    </tr>\n",
       "    <tr>\n",
       "      <th>vr_renda_bruta</th>\n",
       "      <td>-0.00</td>\n",
       "      <td>1.00</td>\n",
       "      <td>0.94</td>\n",
       "      <td>0.05</td>\n",
       "      <td>0.41</td>\n",
       "      <td>-0.20</td>\n",
       "    </tr>\n",
       "    <tr>\n",
       "      <th>vr_renda_liquida</th>\n",
       "      <td>-0.00</td>\n",
       "      <td>0.94</td>\n",
       "      <td>1.00</td>\n",
       "      <td>0.05</td>\n",
       "      <td>0.38</td>\n",
       "      <td>-0.17</td>\n",
       "    </tr>\n",
       "    <tr>\n",
       "      <th>nu_estdo_civil_p27</th>\n",
       "      <td>-0.01</td>\n",
       "      <td>0.05</td>\n",
       "      <td>0.05</td>\n",
       "      <td>1.00</td>\n",
       "      <td>0.05</td>\n",
       "      <td>0.23</td>\n",
       "    </tr>\n",
       "    <tr>\n",
       "      <th>de_estado_civil</th>\n",
       "      <td>0.01</td>\n",
       "      <td>0.41</td>\n",
       "      <td>0.38</td>\n",
       "      <td>0.05</td>\n",
       "      <td>1.00</td>\n",
       "      <td>-0.43</td>\n",
       "    </tr>\n",
       "    <tr>\n",
       "      <th>idade</th>\n",
       "      <td>-0.02</td>\n",
       "      <td>-0.20</td>\n",
       "      <td>-0.17</td>\n",
       "      <td>0.23</td>\n",
       "      <td>-0.43</td>\n",
       "      <td>1.00</td>\n",
       "    </tr>\n",
       "  </tbody>\n",
       "</table>\n",
       "</div>"
      ],
      "text/plain": [
       "                    nu_pessoa  vr_renda_bruta  vr_renda_liquida  \\\n",
       "nu_pessoa                1.00           -0.00             -0.00   \n",
       "vr_renda_bruta          -0.00            1.00              0.94   \n",
       "vr_renda_liquida        -0.00            0.94              1.00   \n",
       "nu_estdo_civil_p27      -0.01            0.05              0.05   \n",
       "de_estado_civil          0.01            0.41              0.38   \n",
       "idade                   -0.02           -0.20             -0.17   \n",
       "\n",
       "                    nu_estdo_civil_p27  de_estado_civil  idade  \n",
       "nu_pessoa                        -0.01             0.01  -0.02  \n",
       "vr_renda_bruta                    0.05             0.41  -0.20  \n",
       "vr_renda_liquida                  0.05             0.38  -0.17  \n",
       "nu_estdo_civil_p27                1.00             0.05   0.23  \n",
       "de_estado_civil                   0.05             1.00  -0.43  \n",
       "idade                             0.23            -0.43   1.00  "
      ]
     },
     "execution_count": 34,
     "metadata": {},
     "output_type": "execute_result"
    }
   ],
   "source": [
    "df_trimmed.corr(method='pearson')"
   ]
  },
  {
   "cell_type": "code",
   "execution_count": 35,
   "metadata": {},
   "outputs": [
    {
     "data": {
      "text/plain": [
       "nu_pessoa             0.04\n",
       "vr_renda_bruta        1.48\n",
       "vr_renda_liquida      1.45\n",
       "ic_principal          0.73\n",
       "nu_tipo_renda_p76    -3.33\n",
       "ic_infmo_renda       -0.99\n",
       "nu_estdo_civil_p27    0.93\n",
       "de_estado_civil      -0.47\n",
       "idade                 0.54\n",
       "dtype: float64"
      ]
     },
     "execution_count": 35,
     "metadata": {},
     "output_type": "execute_result"
    }
   ],
   "source": [
    "df_trimmed.skew()"
   ]
  },
  {
   "cell_type": "code",
   "execution_count": 36,
   "metadata": {},
   "outputs": [
    {
     "data": {
      "text/html": [
       "<div>\n",
       "<style scoped>\n",
       "    .dataframe tbody tr th:only-of-type {\n",
       "        vertical-align: middle;\n",
       "    }\n",
       "\n",
       "    .dataframe tbody tr th {\n",
       "        vertical-align: top;\n",
       "    }\n",
       "\n",
       "    .dataframe thead th {\n",
       "        text-align: right;\n",
       "    }\n",
       "</style>\n",
       "<table border=\"1\" class=\"dataframe\">\n",
       "  <thead>\n",
       "    <tr style=\"text-align: right;\">\n",
       "      <th></th>\n",
       "      <th>nu_pessoa</th>\n",
       "      <th>vr_renda_bruta</th>\n",
       "      <th>vr_renda_liquida</th>\n",
       "      <th>nu_estdo_civil_p27</th>\n",
       "      <th>de_estado_civil</th>\n",
       "      <th>idade</th>\n",
       "    </tr>\n",
       "  </thead>\n",
       "  <tbody>\n",
       "    <tr>\n",
       "      <th>count</th>\n",
       "      <td>1210298.00</td>\n",
       "      <td>1210298.00</td>\n",
       "      <td>1210298.00</td>\n",
       "      <td>1210298.00</td>\n",
       "      <td>1210298.00</td>\n",
       "      <td>1210298.00</td>\n",
       "    </tr>\n",
       "    <tr>\n",
       "      <th>mean</th>\n",
       "      <td>4927446375447.18</td>\n",
       "      <td>1252.77</td>\n",
       "      <td>1118.84</td>\n",
       "      <td>3.13</td>\n",
       "      <td>5.15</td>\n",
       "      <td>50.47</td>\n",
       "    </tr>\n",
       "    <tr>\n",
       "      <th>std</th>\n",
       "      <td>2878395839270.07</td>\n",
       "      <td>952.57</td>\n",
       "      <td>815.19</td>\n",
       "      <td>3.05</td>\n",
       "      <td>2.85</td>\n",
       "      <td>18.83</td>\n",
       "    </tr>\n",
       "    <tr>\n",
       "      <th>min</th>\n",
       "      <td>10000055001.00</td>\n",
       "      <td>100.80</td>\n",
       "      <td>100.00</td>\n",
       "      <td>0.00</td>\n",
       "      <td>0.00</td>\n",
       "      <td>18.00</td>\n",
       "    </tr>\n",
       "    <tr>\n",
       "      <th>25%</th>\n",
       "      <td>2390075103489.00</td>\n",
       "      <td>545.41</td>\n",
       "      <td>520.00</td>\n",
       "      <td>1.00</td>\n",
       "      <td>2.00</td>\n",
       "      <td>36.00</td>\n",
       "    </tr>\n",
       "    <tr>\n",
       "      <th>50%</th>\n",
       "      <td>4900021016990.00</td>\n",
       "      <td>1000.00</td>\n",
       "      <td>950.00</td>\n",
       "      <td>1.00</td>\n",
       "      <td>6.00</td>\n",
       "      <td>48.00</td>\n",
       "    </tr>\n",
       "    <tr>\n",
       "      <th>75%</th>\n",
       "      <td>7440135554244.00</td>\n",
       "      <td>1645.63</td>\n",
       "      <td>1466.00</td>\n",
       "      <td>5.00</td>\n",
       "      <td>7.00</td>\n",
       "      <td>63.00</td>\n",
       "    </tr>\n",
       "    <tr>\n",
       "      <th>max</th>\n",
       "      <td>9990238382999.00</td>\n",
       "      <td>5549.13</td>\n",
       "      <td>4500.00</td>\n",
       "      <td>9.00</td>\n",
       "      <td>12.00</td>\n",
       "      <td>110.00</td>\n",
       "    </tr>\n",
       "  </tbody>\n",
       "</table>\n",
       "</div>"
      ],
      "text/plain": [
       "             nu_pessoa  vr_renda_bruta  vr_renda_liquida  nu_estdo_civil_p27  \\\n",
       "count       1210298.00      1210298.00        1210298.00          1210298.00   \n",
       "mean  4927446375447.18         1252.77           1118.84                3.13   \n",
       "std   2878395839270.07          952.57            815.19                3.05   \n",
       "min     10000055001.00          100.80            100.00                0.00   \n",
       "25%   2390075103489.00          545.41            520.00                1.00   \n",
       "50%   4900021016990.00         1000.00            950.00                1.00   \n",
       "75%   7440135554244.00         1645.63           1466.00                5.00   \n",
       "max   9990238382999.00         5549.13           4500.00                9.00   \n",
       "\n",
       "       de_estado_civil      idade  \n",
       "count       1210298.00 1210298.00  \n",
       "mean              5.15      50.47  \n",
       "std               2.85      18.83  \n",
       "min               0.00      18.00  \n",
       "25%               2.00      36.00  \n",
       "50%               6.00      48.00  \n",
       "75%               7.00      63.00  \n",
       "max              12.00     110.00  "
      ]
     },
     "execution_count": 36,
     "metadata": {},
     "output_type": "execute_result"
    }
   ],
   "source": [
    "df_trimmed.describe()"
   ]
  },
  {
   "cell_type": "code",
   "execution_count": 37,
   "metadata": {},
   "outputs": [],
   "source": [
    "features_trim = ['nu_pessoa', 'dt_nascimento', 'ic_tipo_renda', 'vr_renda_bruta',\n",
    "       'vr_renda_liquida', 'ic_principal', 'nu_tipo_renda_p76',\n",
    "       'ic_infmo_renda', 'ic_sexo', 'nu_estdo_civil_p27', 'de_estado_civil',\n",
    "       'idade']\n",
    "#label_trim = ['ic_sexo','nu_estdo_civil_p27','de_estado_civil']\n",
    "label_trim = ['nu_estdo_civil_p27','de_estado_civil']"
   ]
  },
  {
   "cell_type": "code",
   "execution_count": 38,
   "metadata": {},
   "outputs": [
    {
     "data": {
      "text/plain": [
       "M    654731\n",
       "F    554006\n",
       "?      1561\n",
       "Name: ic_sexo, dtype: int64"
      ]
     },
     "execution_count": 38,
     "metadata": {},
     "output_type": "execute_result"
    }
   ],
   "source": [
    "df_trimmed['ic_sexo'].value_counts().head()"
   ]
  },
  {
   "cell_type": "code",
   "execution_count": 39,
   "metadata": {},
   "outputs": [
    {
     "data": {
      "text/plain": [
       "1    596401\n",
       "9    157383\n",
       "7    101611\n",
       "2     88659\n",
       "0     75480\n",
       "Name: nu_estdo_civil_p27, dtype: int64"
      ]
     },
     "execution_count": 39,
     "metadata": {},
     "output_type": "execute_result"
    }
   ],
   "source": [
    "df_trimmed['nu_estdo_civil_p27'].value_counts().head()"
   ]
  },
  {
   "cell_type": "code",
   "execution_count": 40,
   "metadata": {},
   "outputs": [
    {
     "data": {
      "text/plain": [
       "7    408385\n",
       "2    144972\n",
       "0    138144\n",
       "9    108023\n",
       "5    105350\n",
       "Name: de_estado_civil, dtype: int64"
      ]
     },
     "execution_count": 40,
     "metadata": {},
     "output_type": "execute_result"
    }
   ],
   "source": [
    "df_trimmed['de_estado_civil'].value_counts().head()"
   ]
  },
  {
   "cell_type": "code",
   "execution_count": 41,
   "metadata": {},
   "outputs": [
    {
     "name": "stdout",
     "output_type": "stream",
     "text": [
      "(18154, 12) (18154, 2)\n",
      "(1192144, 12) (1192144, 2)\n"
     ]
    }
   ],
   "source": [
    "from sklearn.model_selection import train_test_split\n",
    "\n",
    "X, y = df_trimmed[features_trim], df_trimmed[label_trim]\n",
    "X_train, X_test, y_train, y_test =\\\n",
    "     train_test_split(X, y,\n",
    "                      test_size=0.985,\n",
    "                      random_state=0,\n",
    "                      stratify=y)\n",
    "\n",
    "print (X_train.shape, y_train.shape)\n",
    "print (X_test.shape, y_test.shape)"
   ]
  },
  {
   "cell_type": "code",
   "execution_count": 42,
   "metadata": {},
   "outputs": [
    {
     "name": "stdout",
     "output_type": "stream",
     "text": [
      "<class 'pandas.core.frame.DataFrame'>\n",
      "RangeIndex: 1210298 entries, 0 to 1210297\n",
      "Data columns (total 13 columns):\n",
      " #   Column              Non-Null Count    Dtype         \n",
      "---  ------              --------------    -----         \n",
      " 0   nu_pessoa           1210298 non-null  int64         \n",
      " 1   dt_nascimento       1210298 non-null  datetime64[ns]\n",
      " 2   ic_tipo_renda       1210298 non-null  object        \n",
      " 3   vr_renda_bruta      1210298 non-null  float64       \n",
      " 4   vr_renda_liquida    1210298 non-null  float64       \n",
      " 5   ic_principal        1210298 non-null  object        \n",
      " 6   nu_tipo_renda_p76   1210298 non-null  object        \n",
      " 7   ic_infmo_renda      1210298 non-null  object        \n",
      " 8   dt_apuracao_renda   1055941 non-null  object        \n",
      " 9   ic_sexo             1210298 non-null  object        \n",
      " 10  nu_estdo_civil_p27  1210298 non-null  int64         \n",
      " 11  de_estado_civil     1210298 non-null  int64         \n",
      " 12  idade               1210298 non-null  int64         \n",
      "dtypes: datetime64[ns](1), float64(2), int64(4), object(6)\n",
      "memory usage: 120.0+ MB\n"
     ]
    }
   ],
   "source": [
    "df_trimmed.info()"
   ]
  },
  {
   "cell_type": "code",
   "execution_count": null,
   "metadata": {},
   "outputs": [],
   "source": []
  },
  {
   "cell_type": "code",
   "execution_count": null,
   "metadata": {},
   "outputs": [],
   "source": []
  }
 ],
 "metadata": {
  "kernelspec": {
   "display_name": "Python 3",
   "language": "python",
   "name": "python3"
  },
  "language_info": {
   "codemirror_mode": {
    "name": "ipython",
    "version": 3
   },
   "file_extension": ".py",
   "mimetype": "text/x-python",
   "name": "python",
   "nbconvert_exporter": "python",
   "pygments_lexer": "ipython3",
   "version": "3.8.2"
  }
 },
 "nbformat": 4,
 "nbformat_minor": 4
}
