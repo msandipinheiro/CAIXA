{
 "cells": [
  {
   "cell_type": "markdown",
   "metadata": {},
   "source": [
    "# Junção dos dados de Cliente com a base do IBGE\n",
    "\n",
    "Este notebook tem como objetivo realizar a junção de duas bases de dados, base de Clientes CAIXA e a base de Área de ponderação do IBGE.\n",
    "\n",
    "Serão utilizadas as bases:\n",
    " - Amostra de Minas Gerais dos Clientes CAIXA - **cli_end_amostra_minas_gerais_validos.csv**;\n",
    " - Amostra de endereços de Minas Gerais da Empresa Brasileira de Correios e Telégrafos - **ect_amostra_minas_gerais.csv**;\n",
    " - Base de CEP por Setores Censitários - **cadastro_nacional_enderecos_fins_estatisticos.csv**\n",
    " - Base de Área de Ponderação por Setores Censitários - **Áreas de Ponderao por Setores Censitários.csv**\n",
    " \n",
    " ---\n",
    " Importação da biblioteca Pandas para manipulação de dados de forma tabular."
   ]
  },
  {
   "cell_type": "code",
   "execution_count": 1,
   "metadata": {},
   "outputs": [],
   "source": [
    "import time\n",
    "start = time.time() # inicia o tempo de execução\n",
    "\n",
    "import pandas as pd\n",
    "import re\n",
    "pd.set_option('float_format', '{:f}'.format) # Visualização de números decimais com uma casa."
   ]
  },
  {
   "cell_type": "markdown",
   "metadata": {},
   "source": [
    "Leitura do primeiro arquivo do conjunto de dados de Clientes CAIXA."
   ]
  },
  {
   "cell_type": "code",
   "execution_count": 2,
   "metadata": {},
   "outputs": [],
   "source": [
    "df = pd.read_csv(\"../dados/notebook/faixa_renda_estimada/faixa_renda_estimada_limpeza.csv\", delimiter=';')"
   ]
  },
  {
   "cell_type": "code",
   "execution_count": 3,
   "metadata": {},
   "outputs": [],
   "source": [
    "df['valida'] = (df['nu_cep_full'] / 1000000).astype(int)"
   ]
  },
  {
   "cell_type": "code",
   "execution_count": 4,
   "metadata": {},
   "outputs": [],
   "source": [
    "df_valido = df[df['valida'] != 0]\n",
    "df_invalido = df[df['valida'] == 0]"
   ]
  },
  {
   "cell_type": "code",
   "execution_count": 5,
   "metadata": {},
   "outputs": [],
   "source": [
    "del df"
   ]
  },
  {
   "cell_type": "code",
   "execution_count": 6,
   "metadata": {},
   "outputs": [
    {
     "name": "stdout",
     "output_type": "stream",
     "text": [
      "(5246793, 12) (1532839, 12)\n"
     ]
    }
   ],
   "source": [
    "print(df_valido.shape, df_invalido.shape)"
   ]
  },
  {
   "cell_type": "code",
   "execution_count": 7,
   "metadata": {},
   "outputs": [
    {
     "data": {
      "text/html": [
       "<div>\n",
       "<style scoped>\n",
       "    .dataframe tbody tr th:only-of-type {\n",
       "        vertical-align: middle;\n",
       "    }\n",
       "\n",
       "    .dataframe tbody tr th {\n",
       "        vertical-align: top;\n",
       "    }\n",
       "\n",
       "    .dataframe thead th {\n",
       "        text-align: right;\n",
       "    }\n",
       "</style>\n",
       "<table border=\"1\" class=\"dataframe\">\n",
       "  <thead>\n",
       "    <tr style=\"text-align: right;\">\n",
       "      <th></th>\n",
       "      <th>nu_pessoa_p17</th>\n",
       "      <th>nu_cep_full</th>\n",
       "      <th>nu_pessoa</th>\n",
       "      <th>idade</th>\n",
       "      <th>ic_tipo_renda</th>\n",
       "      <th>ic_sexo</th>\n",
       "      <th>nu_estdo_civil_p27</th>\n",
       "      <th>de_estado_civil</th>\n",
       "      <th>vr_renda_bruta</th>\n",
       "      <th>vr_renda_liquida</th>\n",
       "      <th>dt_apuracao_renda</th>\n",
       "      <th>valida</th>\n",
       "    </tr>\n",
       "  </thead>\n",
       "  <tbody>\n",
       "    <tr>\n",
       "      <th>0</th>\n",
       "      <td>8480186189848</td>\n",
       "      <td>37550000</td>\n",
       "      <td>0</td>\n",
       "      <td>0</td>\n",
       "      <td>?</td>\n",
       "      <td>?</td>\n",
       "      <td>0</td>\n",
       "      <td>0</td>\n",
       "      <td>0.000000</td>\n",
       "      <td>0.000000</td>\n",
       "      <td>?</td>\n",
       "      <td>37</td>\n",
       "    </tr>\n",
       "    <tr>\n",
       "      <th>1</th>\n",
       "      <td>9840064467984</td>\n",
       "      <td>31230460</td>\n",
       "      <td>0</td>\n",
       "      <td>0</td>\n",
       "      <td>?</td>\n",
       "      <td>?</td>\n",
       "      <td>0</td>\n",
       "      <td>0</td>\n",
       "      <td>0.000000</td>\n",
       "      <td>0.000000</td>\n",
       "      <td>?</td>\n",
       "      <td>31</td>\n",
       "    </tr>\n",
       "    <tr>\n",
       "      <th>2</th>\n",
       "      <td>6910060431691</td>\n",
       "      <td>35500200</td>\n",
       "      <td>0</td>\n",
       "      <td>0</td>\n",
       "      <td>?</td>\n",
       "      <td>?</td>\n",
       "      <td>0</td>\n",
       "      <td>0</td>\n",
       "      <td>0.000000</td>\n",
       "      <td>0.000000</td>\n",
       "      <td>?</td>\n",
       "      <td>35</td>\n",
       "    </tr>\n",
       "    <tr>\n",
       "      <th>3</th>\n",
       "      <td>5590187325559</td>\n",
       "      <td>39670000</td>\n",
       "      <td>0</td>\n",
       "      <td>0</td>\n",
       "      <td>?</td>\n",
       "      <td>?</td>\n",
       "      <td>0</td>\n",
       "      <td>0</td>\n",
       "      <td>0.000000</td>\n",
       "      <td>0.000000</td>\n",
       "      <td>?</td>\n",
       "      <td>39</td>\n",
       "    </tr>\n",
       "    <tr>\n",
       "      <th>4</th>\n",
       "      <td>5600102483560</td>\n",
       "      <td>39390000</td>\n",
       "      <td>0</td>\n",
       "      <td>0</td>\n",
       "      <td>?</td>\n",
       "      <td>?</td>\n",
       "      <td>0</td>\n",
       "      <td>0</td>\n",
       "      <td>0.000000</td>\n",
       "      <td>0.000000</td>\n",
       "      <td>?</td>\n",
       "      <td>39</td>\n",
       "    </tr>\n",
       "    <tr>\n",
       "      <th>...</th>\n",
       "      <td>...</td>\n",
       "      <td>...</td>\n",
       "      <td>...</td>\n",
       "      <td>...</td>\n",
       "      <td>...</td>\n",
       "      <td>...</td>\n",
       "      <td>...</td>\n",
       "      <td>...</td>\n",
       "      <td>...</td>\n",
       "      <td>...</td>\n",
       "      <td>...</td>\n",
       "      <td>...</td>\n",
       "    </tr>\n",
       "    <tr>\n",
       "      <th>5435040</th>\n",
       "      <td>470143547047</td>\n",
       "      <td>38500000</td>\n",
       "      <td>470143547047</td>\n",
       "      <td>21</td>\n",
       "      <td>I</td>\n",
       "      <td>F</td>\n",
       "      <td>1</td>\n",
       "      <td>7</td>\n",
       "      <td>0.000000</td>\n",
       "      <td>0.000000</td>\n",
       "      <td>2015-07-27</td>\n",
       "      <td>38</td>\n",
       "    </tr>\n",
       "    <tr>\n",
       "      <th>5435041</th>\n",
       "      <td>3380222118338</td>\n",
       "      <td>36406204</td>\n",
       "      <td>3380222118338</td>\n",
       "      <td>50</td>\n",
       "      <td>I</td>\n",
       "      <td>M</td>\n",
       "      <td>1</td>\n",
       "      <td>7</td>\n",
       "      <td>0.000000</td>\n",
       "      <td>1200.000000</td>\n",
       "      <td>2018-10-16</td>\n",
       "      <td>36</td>\n",
       "    </tr>\n",
       "    <tr>\n",
       "      <th>5435042</th>\n",
       "      <td>8620063421862</td>\n",
       "      <td>32215000</td>\n",
       "      <td>0</td>\n",
       "      <td>0</td>\n",
       "      <td>?</td>\n",
       "      <td>?</td>\n",
       "      <td>0</td>\n",
       "      <td>0</td>\n",
       "      <td>0.000000</td>\n",
       "      <td>0.000000</td>\n",
       "      <td>?</td>\n",
       "      <td>32</td>\n",
       "    </tr>\n",
       "    <tr>\n",
       "      <th>5435043</th>\n",
       "      <td>6730051464673</td>\n",
       "      <td>33140820</td>\n",
       "      <td>6730051464673</td>\n",
       "      <td>51</td>\n",
       "      <td>?</td>\n",
       "      <td>M</td>\n",
       "      <td>0</td>\n",
       "      <td>0</td>\n",
       "      <td>0.000000</td>\n",
       "      <td>0.000000</td>\n",
       "      <td>?</td>\n",
       "      <td>33</td>\n",
       "    </tr>\n",
       "    <tr>\n",
       "      <th>5435044</th>\n",
       "      <td>6730051464673</td>\n",
       "      <td>33140820</td>\n",
       "      <td>6730051464673</td>\n",
       "      <td>51</td>\n",
       "      <td>?</td>\n",
       "      <td>M</td>\n",
       "      <td>0</td>\n",
       "      <td>0</td>\n",
       "      <td>0.000000</td>\n",
       "      <td>0.000000</td>\n",
       "      <td>?</td>\n",
       "      <td>33</td>\n",
       "    </tr>\n",
       "  </tbody>\n",
       "</table>\n",
       "<p>5246793 rows × 12 columns</p>\n",
       "</div>"
      ],
      "text/plain": [
       "         nu_pessoa_p17  nu_cep_full      nu_pessoa  idade ic_tipo_renda  \\\n",
       "0        8480186189848     37550000              0      0             ?   \n",
       "1        9840064467984     31230460              0      0             ?   \n",
       "2        6910060431691     35500200              0      0             ?   \n",
       "3        5590187325559     39670000              0      0             ?   \n",
       "4        5600102483560     39390000              0      0             ?   \n",
       "...                ...          ...            ...    ...           ...   \n",
       "5435040   470143547047     38500000   470143547047     21             I   \n",
       "5435041  3380222118338     36406204  3380222118338     50             I   \n",
       "5435042  8620063421862     32215000              0      0             ?   \n",
       "5435043  6730051464673     33140820  6730051464673     51             ?   \n",
       "5435044  6730051464673     33140820  6730051464673     51             ?   \n",
       "\n",
       "        ic_sexo  nu_estdo_civil_p27  de_estado_civil  vr_renda_bruta  \\\n",
       "0             ?                   0                0        0.000000   \n",
       "1             ?                   0                0        0.000000   \n",
       "2             ?                   0                0        0.000000   \n",
       "3             ?                   0                0        0.000000   \n",
       "4             ?                   0                0        0.000000   \n",
       "...         ...                 ...              ...             ...   \n",
       "5435040       F                   1                7        0.000000   \n",
       "5435041       M                   1                7        0.000000   \n",
       "5435042       ?                   0                0        0.000000   \n",
       "5435043       M                   0                0        0.000000   \n",
       "5435044       M                   0                0        0.000000   \n",
       "\n",
       "         vr_renda_liquida dt_apuracao_renda  valida  \n",
       "0                0.000000                 ?      37  \n",
       "1                0.000000                 ?      31  \n",
       "2                0.000000                 ?      35  \n",
       "3                0.000000                 ?      39  \n",
       "4                0.000000                 ?      39  \n",
       "...                   ...               ...     ...  \n",
       "5435040          0.000000        2015-07-27      38  \n",
       "5435041       1200.000000        2018-10-16      36  \n",
       "5435042          0.000000                 ?      32  \n",
       "5435043          0.000000                 ?      33  \n",
       "5435044          0.000000                 ?      33  \n",
       "\n",
       "[5246793 rows x 12 columns]"
      ]
     },
     "execution_count": 7,
     "metadata": {},
     "output_type": "execute_result"
    }
   ],
   "source": [
    "df_valido"
   ]
  },
  {
   "cell_type": "markdown",
   "metadata": {},
   "source": [
    "Criação de uma variável chamada \"**corte**\" para a realização de pequenas quebras em partes devido a quantidade de recurso computacional."
   ]
  },
  {
   "cell_type": "code",
   "execution_count": 8,
   "metadata": {},
   "outputs": [
    {
     "name": "stdout",
     "output_type": "stream",
     "text": [
      "Digite a quantidade de partições que se deseja: 100\n"
     ]
    }
   ],
   "source": [
    "particao = int(input(\"Digite a quantidade de partições que se deseja: \"))"
   ]
  },
  {
   "cell_type": "code",
   "execution_count": 9,
   "metadata": {},
   "outputs": [],
   "source": [
    "corte = int((len(df_valido) / particao))"
   ]
  },
  {
   "cell_type": "markdown",
   "metadata": {},
   "source": [
    "Criação de um método de divisão do conjunto de dados em 'n' partes."
   ]
  },
  {
   "cell_type": "code",
   "execution_count": 10,
   "metadata": {},
   "outputs": [],
   "source": [
    "df_new = []\n",
    "contador = 0\n",
    "multiplicador = 2\n",
    "corte_base = corte\n",
    "for i in range(particao):\n",
    "    #print(contador, corte, multiplicador)\n",
    "    df_new.append(df_valido[contador:corte])\n",
    "    contador = corte\n",
    "    corte = corte_base * multiplicador\n",
    "    multiplicador += 1"
   ]
  },
  {
   "cell_type": "markdown",
   "metadata": {},
   "source": [
    "Deleta o conjunto de dados principal."
   ]
  },
  {
   "cell_type": "code",
   "execution_count": 11,
   "metadata": {},
   "outputs": [],
   "source": [
    "colunas = df_valido.columns"
   ]
  },
  {
   "cell_type": "code",
   "execution_count": 12,
   "metadata": {},
   "outputs": [
    {
     "data": {
      "text/plain": [
       "Index(['nu_pessoa_p17', 'nu_cep_full', 'nu_pessoa', 'idade', 'ic_tipo_renda',\n",
       "       'ic_sexo', 'nu_estdo_civil_p27', 'de_estado_civil', 'vr_renda_bruta',\n",
       "       'vr_renda_liquida', 'dt_apuracao_renda', 'valida'],\n",
       "      dtype='object')"
      ]
     },
     "execution_count": 12,
     "metadata": {},
     "output_type": "execute_result"
    }
   ],
   "source": [
    "colunas"
   ]
  },
  {
   "cell_type": "code",
   "execution_count": 13,
   "metadata": {},
   "outputs": [],
   "source": [
    "del df_valido"
   ]
  },
  {
   "cell_type": "markdown",
   "metadata": {},
   "source": [
    "Leitura do segundo arquivo de CEPs por Setores Censitários."
   ]
  },
  {
   "cell_type": "code",
   "execution_count": 14,
   "metadata": {},
   "outputs": [],
   "source": [
    "ibge_end = pd.read_csv(\"../dados/dominio/cadastro_nacional_enderecos_fins_estatisticos.csv\", delimiter = ';')"
   ]
  },
  {
   "cell_type": "markdown",
   "metadata": {},
   "source": [
    "Comando Linux para a criação de uma pasta temporária para a manipulação dos dados divididos."
   ]
  },
  {
   "cell_type": "code",
   "execution_count": 15,
   "metadata": {},
   "outputs": [
    {
     "name": "stdout",
     "output_type": "stream",
     "text": [
      "Pasta está limpa!\r\n"
     ]
    }
   ],
   "source": [
    "!if [ -d \"../dados/tmp\" ]; then echo \"Pasta está limpa!\" && rm -rf ../dados/tmp/* ; else echo \"Pasta criada com sucesso!\" && mkdir -p ../dados/tmp; fi"
   ]
  },
  {
   "cell_type": "markdown",
   "metadata": {},
   "source": [
    "Interação dos dez (10) conjuntos de dados realizando uma junção (**LEFT JOIN**) entre os arquivos de Clientes CAIXA e o arquivo de CEPs por Setores Censitários."
   ]
  },
  {
   "cell_type": "code",
   "execution_count": 16,
   "metadata": {},
   "outputs": [],
   "source": [
    "id_count = 1\n",
    "for i in df_new:\n",
    "    #print(i.shape)\n",
    "    merged_end = pd.merge (i, ibge_end, how='left', left_on='nu_cep_full', right_on='CEP')\n",
    "    #print(merged_end.shape)\n",
    "    merged_end['rank_setor'] = merged_end.groupby(['nu_pessoa_p17', 'nu_cep_full', 'nu_pessoa'])['Código setor censitário'].rank(method='first')\n",
    "    #print(merged_end.shape)\n",
    "    merged_end = merged_end[merged_end['rank_setor'] == 1]\n",
    "    #print(merged_end.shape)\n",
    "    merged_end.to_csv('../dados/tmp/df_new' + str(id_count) + '.csv', index=False, encoding='utf-8', sep=';')\n",
    "    del merged_end\n",
    "    id_count += 1\n",
    "    #print('\\n\\n')"
   ]
  },
  {
   "cell_type": "markdown",
   "metadata": {},
   "source": [
    "Comando Linux gerando um arquivo com todos os nomes dos arquivos .csv que foram gerados no processo anterior."
   ]
  },
  {
   "cell_type": "code",
   "execution_count": 17,
   "metadata": {},
   "outputs": [],
   "source": [
    "!ls -ltr ../dados/tmp/*.csv | cut -d\\  -f9 > ../dados/tmp/list_csv.txt"
   ]
  },
  {
   "cell_type": "markdown",
   "metadata": {},
   "source": [
    "Comando Linux realizando a limpeza das linhas em branco do arquivo."
   ]
  },
  {
   "cell_type": "code",
   "execution_count": 18,
   "metadata": {},
   "outputs": [],
   "source": [
    "!sed -i '/^$/d' ../dados/tmp/list_csv.txt"
   ]
  },
  {
   "cell_type": "markdown",
   "metadata": {},
   "source": [
    "Interação no arquivo **list_csv.txt** fazendo a leitura dos dez (10) arquivos e gerando somente um (1)."
   ]
  },
  {
   "cell_type": "code",
   "execution_count": 19,
   "metadata": {},
   "outputs": [],
   "source": [
    "!while read a ; do cat $a >> ../dados/tmp/df_new.csv ; done < ../dados/tmp/list_csv.txt"
   ]
  },
  {
   "cell_type": "markdown",
   "metadata": {},
   "source": [
    "Com a junção dos dez (10) arquivos em somente um (1), foi utilizado o comando Linux para substituir todos os cabeçalhos que vieram para o arquivo mantendo o primero, primeira linha de cabeçalho."
   ]
  },
  {
   "cell_type": "code",
   "execution_count": 20,
   "metadata": {},
   "outputs": [],
   "source": [
    "!sed -i \"1! s/nu_pessoa_p17;nu_cep_full;nu_pessoa;idade;ic_tipo_renda;ic_sexo;nu_estdo_civil_p27;de_estado_civil;vr_renda_bruta;vr_renda_liquida;dt_apuracao_renda;valida;Código setor censitário;CEP;rank_setor//g\" ../dados/tmp/df_new.csv"
   ]
  },
  {
   "cell_type": "markdown",
   "metadata": {},
   "source": [
    "Com a eliminação das linhas de cabeçalhos, foi executado o comando Linux para a eliminação das linhas em branco."
   ]
  },
  {
   "cell_type": "code",
   "execution_count": 21,
   "metadata": {},
   "outputs": [],
   "source": [
    "!sed -i '/^$/d' ../dados/tmp/df_new.csv"
   ]
  },
  {
   "cell_type": "markdown",
   "metadata": {},
   "source": [
    "Deleção dos DataFrames para a liberação de memória."
   ]
  },
  {
   "cell_type": "code",
   "execution_count": 22,
   "metadata": {},
   "outputs": [],
   "source": [
    "del ibge_end"
   ]
  },
  {
   "cell_type": "markdown",
   "metadata": {},
   "source": [
    "Comando Linux para a remorção de todos os dez (10) arquivos gerados deixando somente o principal, este contendo todo o conteúdo dos dez (10)."
   ]
  },
  {
   "cell_type": "code",
   "execution_count": 23,
   "metadata": {},
   "outputs": [],
   "source": [
    "!rm -rf ../dados/tmp/df_new?*.csv"
   ]
  },
  {
   "cell_type": "markdown",
   "metadata": {},
   "source": [
    "---\n",
    "Segunda junção de dados, importação dos dados da primeira junção com os dados de endereço da Empresa Brasileira de Correios e Telégrafos."
   ]
  },
  {
   "cell_type": "code",
   "execution_count": 24,
   "metadata": {},
   "outputs": [],
   "source": [
    "merged_end = pd.read_csv(\"../dados/tmp/df_new.csv\", delimiter = ';')"
   ]
  },
  {
   "cell_type": "code",
   "execution_count": 25,
   "metadata": {},
   "outputs": [
    {
     "data": {
      "text/plain": [
       "(2628470, 15)"
      ]
     },
     "execution_count": 25,
     "metadata": {},
     "output_type": "execute_result"
    }
   ],
   "source": [
    "merged_end.shape"
   ]
  },
  {
   "cell_type": "code",
   "execution_count": 26,
   "metadata": {},
   "outputs": [],
   "source": [
    "cep = pd.read_csv(\"../dados/amostra_correios/ect_amostra_minas_gerais.csv\", delimiter = ';')\n",
    "#cep.head()"
   ]
  },
  {
   "cell_type": "code",
   "execution_count": 27,
   "metadata": {},
   "outputs": [
    {
     "name": "stdout",
     "output_type": "stream",
     "text": [
      "<class 'pandas.core.frame.DataFrame'>\n",
      "RangeIndex: 2628470 entries, 0 to 2628469\n",
      "Data columns (total 15 columns):\n",
      " #   Column                   Dtype  \n",
      "---  ------                   -----  \n",
      " 0   nu_pessoa_p17            int64  \n",
      " 1   nu_cep_full              int64  \n",
      " 2   nu_pessoa                int64  \n",
      " 3   idade                    int64  \n",
      " 4   ic_tipo_renda            object \n",
      " 5   ic_sexo                  object \n",
      " 6   nu_estdo_civil_p27       int64  \n",
      " 7   de_estado_civil          int64  \n",
      " 8   vr_renda_bruta           float64\n",
      " 9   vr_renda_liquida         float64\n",
      " 10  dt_apuracao_renda        object \n",
      " 11  valida                   int64  \n",
      " 12  Código setor censitário  float64\n",
      " 13  CEP                      float64\n",
      " 14  rank_setor               float64\n",
      "dtypes: float64(5), int64(7), object(3)\n",
      "memory usage: 300.8+ MB\n"
     ]
    }
   ],
   "source": [
    "merged_end.info()"
   ]
  },
  {
   "cell_type": "markdown",
   "metadata": {},
   "source": [
    "Realização da segunda junção dos dados."
   ]
  },
  {
   "cell_type": "code",
   "execution_count": 28,
   "metadata": {},
   "outputs": [],
   "source": [
    "merged2 = pd.merge (merged_end,cep, how='left', left_on='CEP', right_on='int_cep')"
   ]
  },
  {
   "cell_type": "markdown",
   "metadata": {},
   "source": [
    "Deleção dos DataFrames para a liberação de memória."
   ]
  },
  {
   "cell_type": "code",
   "execution_count": 29,
   "metadata": {},
   "outputs": [],
   "source": [
    "del merged_end\n",
    "del cep"
   ]
  },
  {
   "cell_type": "markdown",
   "metadata": {},
   "source": [
    "Criação do ranqueamento pelo \"**nu_pessoa**\" e \"**nu_cep**\" no atributo \"**Código setor censitário**\"."
   ]
  },
  {
   "cell_type": "code",
   "execution_count": 30,
   "metadata": {},
   "outputs": [],
   "source": [
    "merged2['rank_setor'] = merged2.groupby(['nu_pessoa_p17', 'nu_cep_full'])['Código setor censitário'].rank(method='first')"
   ]
  },
  {
   "cell_type": "markdown",
   "metadata": {},
   "source": [
    "Filtro do ranqueamento dos Clientes e CEPs para evitar duplicidade."
   ]
  },
  {
   "cell_type": "code",
   "execution_count": 31,
   "metadata": {},
   "outputs": [],
   "source": [
    "merged2 = merged2[merged2['rank_setor']==1]"
   ]
  },
  {
   "cell_type": "markdown",
   "metadata": {},
   "source": [
    "Leitura do conjunto de dados de Áreas de Ponderação por Setores Censitários \"**Áreas de Ponderao por Setores Censitários.csv**\"."
   ]
  },
  {
   "cell_type": "code",
   "execution_count": 32,
   "metadata": {},
   "outputs": [],
   "source": [
    "area_setor = pd.read_csv ('../dados/dominio/Áreas de Ponderao por Setores Censitários.csv', delimiter=';')"
   ]
  },
  {
   "cell_type": "markdown",
   "metadata": {},
   "source": [
    "Junção dos conjuntos de Clientes CAIXA por Setores Censitários pelo conjunto de Setores Censitários por Área de Ponderação. Esta junção é para encontrar a Área de Ponderação com o dado do Setor Censitário."
   ]
  },
  {
   "cell_type": "code",
   "execution_count": 33,
   "metadata": {},
   "outputs": [],
   "source": [
    "merged2 = pd.merge(merged2,area_setor, how='left', left_on='Código setor censitário', right_on='Setor')"
   ]
  },
  {
   "cell_type": "markdown",
   "metadata": {},
   "source": [
    "Remorção das colunas duplicadas ou de ranqueamento dos dados."
   ]
  },
  {
   "cell_type": "code",
   "execution_count": 34,
   "metadata": {},
   "outputs": [],
   "source": [
    "merged2 = merged2.drop(columns=['rank_setor','valida','cep','CEP','int_cep','Código setor censitário'])"
   ]
  },
  {
   "cell_type": "markdown",
   "metadata": {},
   "source": []
  },
  {
   "cell_type": "code",
   "execution_count": 35,
   "metadata": {},
   "outputs": [],
   "source": [
    "merged3 = pd.concat([merged2,df_invalido], ignore_index=True)"
   ]
  },
  {
   "cell_type": "markdown",
   "metadata": {},
   "source": [
    "Inclusão de zero (**0**) para valores nulos e alteração do tipo dos dados para **inteiro**."
   ]
  },
  {
   "cell_type": "code",
   "execution_count": 36,
   "metadata": {},
   "outputs": [],
   "source": [
    "merged3['Área de ponderação'] = merged3['Área de ponderação'].fillna(0)\n",
    "merged3['Setor'] = merged3['Setor'].fillna(0)\n",
    "merged3['mun_nu'] = merged3['mun_nu'].fillna(0)\n",
    "merged3['Área de ponderação'] = merged3['Área de ponderação'].astype(int)\n",
    "merged3['Setor'] = merged3['Setor'].astype(int)\n",
    "merged3['mun_nu'] = merged3['mun_nu'].astype(int)"
   ]
  },
  {
   "cell_type": "code",
   "execution_count": 37,
   "metadata": {},
   "outputs": [
    {
     "data": {
      "text/plain": [
       "nu_pessoa_p17               0\n",
       "nu_cep_full                 0\n",
       "nu_pessoa                   0\n",
       "idade                       0\n",
       "ic_tipo_renda               0\n",
       "ic_sexo                     0\n",
       "nu_estdo_civil_p27          0\n",
       "de_estado_civil             0\n",
       "vr_renda_bruta              0\n",
       "vr_renda_liquida            0\n",
       "dt_apuracao_renda           0\n",
       "log_nu                2918566\n",
       "ufe_sg                2918566\n",
       "loc_nu                2918566\n",
       "bai_nu_ini            2918566\n",
       "bai_nu_fim            2918566\n",
       "log_no                2918566\n",
       "log_complemento       3940561\n",
       "tlo_tx                2918566\n",
       "log_sta_tlo           2918566\n",
       "log_no_abrev          2918566\n",
       "bai_no                2918566\n",
       "bai_no_abrev          2918566\n",
       "mun_nu                      0\n",
       "Área de ponderação          0\n",
       "Setor                       0\n",
       "valida                2628426\n",
       "dtype: int64"
      ]
     },
     "execution_count": 37,
     "metadata": {},
     "output_type": "execute_result"
    }
   ],
   "source": [
    "merged3.isna().sum()"
   ]
  },
  {
   "cell_type": "code",
   "execution_count": 38,
   "metadata": {},
   "outputs": [],
   "source": [
    "import numpy as np\n",
    "\n",
    "merged3[merged3.select_dtypes(exclude=[np.number]).columns] = \\\n",
    "merged3[merged3.select_dtypes(exclude=[np.number]).columns].fillna('?')"
   ]
  },
  {
   "cell_type": "code",
   "execution_count": 39,
   "metadata": {
    "scrolled": true
   },
   "outputs": [
    {
     "data": {
      "text/plain": [
       "nu_pessoa_p17               0\n",
       "nu_cep_full                 0\n",
       "nu_pessoa                   0\n",
       "idade                       0\n",
       "ic_tipo_renda               0\n",
       "ic_sexo                     0\n",
       "nu_estdo_civil_p27          0\n",
       "de_estado_civil             0\n",
       "vr_renda_bruta              0\n",
       "vr_renda_liquida            0\n",
       "dt_apuracao_renda           0\n",
       "log_nu                2918566\n",
       "ufe_sg                      0\n",
       "loc_nu                2918566\n",
       "bai_nu_ini            2918566\n",
       "bai_nu_fim            2918566\n",
       "log_no                      0\n",
       "log_complemento             0\n",
       "tlo_tx                      0\n",
       "log_sta_tlo                 0\n",
       "log_no_abrev                0\n",
       "bai_no                      0\n",
       "bai_no_abrev                0\n",
       "mun_nu                      0\n",
       "Área de ponderação          0\n",
       "Setor                       0\n",
       "valida                2628426\n",
       "dtype: int64"
      ]
     },
     "execution_count": 39,
     "metadata": {},
     "output_type": "execute_result"
    }
   ],
   "source": [
    "merged3.isna().sum()"
   ]
  },
  {
   "cell_type": "code",
   "execution_count": 40,
   "metadata": {},
   "outputs": [],
   "source": [
    "merged3[merged3.select_dtypes(include=['float64']).columns] = \\\n",
    "merged3[merged3.select_dtypes(include=['float64']).columns].fillna(0)"
   ]
  },
  {
   "cell_type": "code",
   "execution_count": 41,
   "metadata": {
    "scrolled": true
   },
   "outputs": [
    {
     "data": {
      "text/plain": [
       "nu_pessoa_p17         0\n",
       "nu_cep_full           0\n",
       "nu_pessoa             0\n",
       "idade                 0\n",
       "ic_tipo_renda         0\n",
       "ic_sexo               0\n",
       "nu_estdo_civil_p27    0\n",
       "de_estado_civil       0\n",
       "vr_renda_bruta        0\n",
       "vr_renda_liquida      0\n",
       "dt_apuracao_renda     0\n",
       "log_nu                0\n",
       "ufe_sg                0\n",
       "loc_nu                0\n",
       "bai_nu_ini            0\n",
       "bai_nu_fim            0\n",
       "log_no                0\n",
       "log_complemento       0\n",
       "tlo_tx                0\n",
       "log_sta_tlo           0\n",
       "log_no_abrev          0\n",
       "bai_no                0\n",
       "bai_no_abrev          0\n",
       "mun_nu                0\n",
       "Área de ponderação    0\n",
       "Setor                 0\n",
       "valida                0\n",
       "dtype: int64"
      ]
     },
     "execution_count": 41,
     "metadata": {},
     "output_type": "execute_result"
    }
   ],
   "source": [
    "merged3.isna().sum()"
   ]
  },
  {
   "cell_type": "code",
   "execution_count": 42,
   "metadata": {},
   "outputs": [
    {
     "name": "stdout",
     "output_type": "stream",
     "text": [
      "<class 'pandas.core.frame.DataFrame'>\n",
      "RangeIndex: 4161265 entries, 0 to 4161264\n",
      "Data columns (total 27 columns):\n",
      " #   Column              Dtype  \n",
      "---  ------              -----  \n",
      " 0   nu_pessoa_p17       int64  \n",
      " 1   nu_cep_full         int64  \n",
      " 2   nu_pessoa           int64  \n",
      " 3   idade               int64  \n",
      " 4   ic_tipo_renda       object \n",
      " 5   ic_sexo             object \n",
      " 6   nu_estdo_civil_p27  int64  \n",
      " 7   de_estado_civil     int64  \n",
      " 8   vr_renda_bruta      float64\n",
      " 9   vr_renda_liquida    float64\n",
      " 10  dt_apuracao_renda   object \n",
      " 11  log_nu              float64\n",
      " 12  ufe_sg              object \n",
      " 13  loc_nu              float64\n",
      " 14  bai_nu_ini          float64\n",
      " 15  bai_nu_fim          float64\n",
      " 16  log_no              object \n",
      " 17  log_complemento     object \n",
      " 18  tlo_tx              object \n",
      " 19  log_sta_tlo         object \n",
      " 20  log_no_abrev        object \n",
      " 21  bai_no              object \n",
      " 22  bai_no_abrev        object \n",
      " 23  mun_nu              int64  \n",
      " 24  Área de ponderação  int64  \n",
      " 25  Setor               int64  \n",
      " 26  valida              float64\n",
      "dtypes: float64(7), int64(9), object(11)\n",
      "memory usage: 857.2+ MB\n"
     ]
    }
   ],
   "source": [
    "merged3.info()"
   ]
  },
  {
   "cell_type": "markdown",
   "metadata": {},
   "source": [
    "Exportação dos dados no formato \"**csv**\"."
   ]
  },
  {
   "cell_type": "code",
   "execution_count": 43,
   "metadata": {},
   "outputs": [],
   "source": [
    "merged3.to_csv('../dados/notebook/cliente_area_de_ponderacao/cliente_area_de_ponderacao.csv', index=False, encoding='utf-8', sep=';')"
   ]
  },
  {
   "cell_type": "markdown",
   "metadata": {},
   "source": [
    "Remorção dos arquivos temporários."
   ]
  },
  {
   "cell_type": "code",
   "execution_count": 44,
   "metadata": {},
   "outputs": [],
   "source": [
    "!rm -rf ../dados/tmp"
   ]
  },
  {
   "cell_type": "code",
   "execution_count": 45,
   "metadata": {},
   "outputs": [],
   "source": [
    "elapsed = time.time() - start # informa o tempo de execução"
   ]
  },
  {
   "cell_type": "code",
   "execution_count": 46,
   "metadata": {},
   "outputs": [
    {
     "data": {
      "text/plain": [
       "5.633825620015462"
      ]
     },
     "execution_count": 46,
     "metadata": {},
     "output_type": "execute_result"
    }
   ],
   "source": [
    "elapsed / 60"
   ]
  }
 ],
 "metadata": {
  "kernelspec": {
   "display_name": "Python 3",
   "language": "python",
   "name": "python3"
  },
  "language_info": {
   "codemirror_mode": {
    "name": "ipython",
    "version": 3
   },
   "file_extension": ".py",
   "mimetype": "text/x-python",
   "name": "python",
   "nbconvert_exporter": "python",
   "pygments_lexer": "ipython3",
   "version": "3.7.6"
  }
 },
 "nbformat": 4,
 "nbformat_minor": 4
}
