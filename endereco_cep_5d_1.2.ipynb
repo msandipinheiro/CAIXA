{
 "cells": [
  {
   "cell_type": "markdown",
   "metadata": {},
   "source": [
    "### Índice\n",
    "1. Sobre o conjunto de dados\n",
    "2. Pré-processamento de texto\n",
    "3. Usar TFIDF para melhorar o vetor de contagem\n",
    "4. Conclusão"
   ]
  },
  {
   "cell_type": "markdown",
   "metadata": {},
   "source": [
    "### 1. Sobre o dataset \n",
    "\n",
    "CEPs\n",
    "\n",
    "Há um total de xxx CEPs no conjunto de dados..\n"
   ]
  },
  {
   "cell_type": "code",
   "execution_count": 1,
   "metadata": {},
   "outputs": [],
   "source": [
    "import pandas as pd\n",
    "import numpy as np\n",
    "\n",
    "from sklearn.model_selection import train_test_split\n",
    "from sklearn.metrics import accuracy_score\n",
    "from sklearn.model_selection import StratifiedKFold\n",
    "from sklearn.model_selection import cross_val_score\n",
    "\n",
    "#######################################\n",
    "# Execução da GPU na linha de comando #\n",
    "#       watch -n 1 nvidia-smi         #\n",
    "#######################################\n",
    "\n",
    "from xgboost import XGBClassifier\n",
    "from xgboost import plot_importance\n",
    "from xgboost import plot_tree\n",
    "import matplotlib.pyplot as plt\n",
    "\n",
    "from joblib import dump\n",
    "from joblib import load\n",
    "\n",
    "import time\n",
    "\n",
    "# Para tratar as palavras dos textos\n",
    "import unicodedata # Conjunto de caracteres de uniformidade unicode\n",
    "import re # Regular Expression\n",
    "\n",
    "# Para possibilitar processamento paralelo\n",
    "from multiprocessing import  Pool\n",
    "\n",
    "pd.set_option('display.max_colwidth', None)"
   ]
  },
  {
   "cell_type": "markdown",
   "metadata": {},
   "source": [
    "### ECT - teste usando estratificação com CEP"
   ]
  },
  {
   "cell_type": "code",
   "execution_count": 2,
   "metadata": {},
   "outputs": [
    {
     "data": {
      "text/html": [
       "<div>\n",
       "<style scoped>\n",
       "    .dataframe tbody tr th:only-of-type {\n",
       "        vertical-align: middle;\n",
       "    }\n",
       "\n",
       "    .dataframe tbody tr th {\n",
       "        vertical-align: top;\n",
       "    }\n",
       "\n",
       "    .dataframe thead th {\n",
       "        text-align: right;\n",
       "    }\n",
       "</style>\n",
       "<table border=\"1\" class=\"dataframe\">\n",
       "  <thead>\n",
       "    <tr style=\"text-align: right;\">\n",
       "      <th></th>\n",
       "      <th>log_nu</th>\n",
       "      <th>ufe_sg</th>\n",
       "      <th>loc_nu</th>\n",
       "      <th>bai_nu_ini</th>\n",
       "      <th>bai_nu_fim</th>\n",
       "      <th>log_no</th>\n",
       "      <th>log_complemento</th>\n",
       "      <th>cep</th>\n",
       "      <th>int_cep</th>\n",
       "      <th>tlo_tx</th>\n",
       "      <th>log_sta_tlo</th>\n",
       "      <th>log_no_abrev</th>\n",
       "      <th>bai_no</th>\n",
       "      <th>bai_no_abrev</th>\n",
       "      <th>mun_nu</th>\n",
       "    </tr>\n",
       "  </thead>\n",
       "  <tbody>\n",
       "    <tr>\n",
       "      <th>0</th>\n",
       "      <td>1008337</td>\n",
       "      <td>MG</td>\n",
       "      <td>4047</td>\n",
       "      <td>57341</td>\n",
       "      <td>0</td>\n",
       "      <td>Ouro Fino</td>\n",
       "      <td>NaN</td>\n",
       "      <td>38042274</td>\n",
       "      <td>38042274</td>\n",
       "      <td>Rua</td>\n",
       "      <td>S</td>\n",
       "      <td>R Ouro Fino</td>\n",
       "      <td>Damha Residencial Uberaba I</td>\n",
       "      <td>D Res Uberaba I</td>\n",
       "      <td>3170107</td>\n",
       "    </tr>\n",
       "  </tbody>\n",
       "</table>\n",
       "</div>"
      ],
      "text/plain": [
       "    log_nu ufe_sg  loc_nu  bai_nu_ini  bai_nu_fim     log_no log_complemento  \\\n",
       "0  1008337     MG    4047       57341           0  Ouro Fino             NaN   \n",
       "\n",
       "        cep   int_cep tlo_tx log_sta_tlo log_no_abrev  \\\n",
       "0  38042274  38042274    Rua           S  R Ouro Fino   \n",
       "\n",
       "                        bai_no     bai_no_abrev   mun_nu  \n",
       "0  Damha Residencial Uberaba I  D Res Uberaba I  3170107  "
      ]
     },
     "execution_count": 2,
     "metadata": {},
     "output_type": "execute_result"
    }
   ],
   "source": [
    "arquivo = 'ect_amostra_minas_gerais.csv'\n",
    "sep = ';'\n",
    "# ler o dataset\n",
    "df = pd.read_csv(arquivo, sep=sep)\n",
    "#df.shape\n",
    "df.head(1)"
   ]
  },
  {
   "cell_type": "code",
   "execution_count": 3,
   "metadata": {},
   "outputs": [
    {
     "data": {
      "text/plain": [
       "(111880, 15)"
      ]
     },
     "execution_count": 3,
     "metadata": {},
     "output_type": "execute_result"
    }
   ],
   "source": [
    "df.shape"
   ]
  },
  {
   "cell_type": "code",
   "execution_count": 4,
   "metadata": {},
   "outputs": [
    {
     "data": {
      "text/html": [
       "<div>\n",
       "<style scoped>\n",
       "    .dataframe tbody tr th:only-of-type {\n",
       "        vertical-align: middle;\n",
       "    }\n",
       "\n",
       "    .dataframe tbody tr th {\n",
       "        vertical-align: top;\n",
       "    }\n",
       "\n",
       "    .dataframe thead th {\n",
       "        text-align: right;\n",
       "    }\n",
       "</style>\n",
       "<table border=\"1\" class=\"dataframe\">\n",
       "  <thead>\n",
       "    <tr style=\"text-align: right;\">\n",
       "      <th></th>\n",
       "      <th>id_end</th>\n",
       "      <th>log_no</th>\n",
       "      <th>bai_no</th>\n",
       "      <th>log_no_abrev</th>\n",
       "      <th>ufe_sg</th>\n",
       "      <th>cep</th>\n",
       "      <th>cep_3d</th>\n",
       "      <th>label</th>\n",
       "    </tr>\n",
       "  </thead>\n",
       "  <tbody>\n",
       "    <tr>\n",
       "      <th>0</th>\n",
       "      <td>0</td>\n",
       "      <td>Ouro Fino</td>\n",
       "      <td>Damha Residencial Uberaba I</td>\n",
       "      <td>R Ouro Fino</td>\n",
       "      <td>MG</td>\n",
       "      <td>38042274</td>\n",
       "      <td>380</td>\n",
       "      <td>38042</td>\n",
       "    </tr>\n",
       "  </tbody>\n",
       "</table>\n",
       "</div>"
      ],
      "text/plain": [
       "   id_end     log_no                       bai_no log_no_abrev ufe_sg  \\\n",
       "0       0  Ouro Fino  Damha Residencial Uberaba I  R Ouro Fino     MG   \n",
       "\n",
       "        cep  cep_3d  label  \n",
       "0  38042274     380  38042  "
      ]
     },
     "execution_count": 4,
     "metadata": {},
     "output_type": "execute_result"
    }
   ],
   "source": [
    "# Coluna cep_3d contém os 3 primeiros dígitos do CEP. Junto com ufe_sg cep_3d forma o par\n",
    "# para a estratificação proporcional dos dados.\n",
    "df['cep_3d'] = (df['cep']/100000).astype(int)\n",
    "\n",
    "# label CEP com 5 DÍGITOS\n",
    "df['label']  = [int(x/1000) for x in df.cep]\n",
    "\n",
    "# identificador para comparação quando for concatenar\n",
    "df['id_end'] = [id for id in range(len(df))]\n",
    "\n",
    "features_end = ['id_end','log_no','bai_no','log_no_abrev','ufe_sg','cep','cep_3d','label']\n",
    "df[features_end].head(1)"
   ]
  },
  {
   "cell_type": "markdown",
   "metadata": {},
   "source": [
    "## Preparar amostras\n",
    "### ECT"
   ]
  },
  {
   "cell_type": "code",
   "execution_count": 5,
   "metadata": {},
   "outputs": [
    {
     "data": {
      "text/plain": [
       "(33564, 8)"
      ]
     },
     "execution_count": 5,
     "metadata": {},
     "output_type": "execute_result"
    }
   ],
   "source": [
    "X_train, X_test, y_train, y_test = train_test_split(df[features_end], \n",
    "                                                    df[['cep']], \n",
    "                                                    #test_size=0.2, \n",
    "                                                    test_size=0.3, \n",
    "                                                    random_state=7,\n",
    "                                                    stratify=df[['ufe_sg','cep_3d']])\n",
    "df_end = X_test\n",
    "del X_train, X_test, y_train, y_test\n",
    "df_end.shape"
   ]
  },
  {
   "cell_type": "code",
   "execution_count": 6,
   "metadata": {},
   "outputs": [
    {
     "data": {
      "text/html": [
       "<div>\n",
       "<style scoped>\n",
       "    .dataframe tbody tr th:only-of-type {\n",
       "        vertical-align: middle;\n",
       "    }\n",
       "\n",
       "    .dataframe tbody tr th {\n",
       "        vertical-align: top;\n",
       "    }\n",
       "\n",
       "    .dataframe thead th {\n",
       "        text-align: right;\n",
       "    }\n",
       "</style>\n",
       "<table border=\"1\" class=\"dataframe\">\n",
       "  <thead>\n",
       "    <tr style=\"text-align: right;\">\n",
       "      <th></th>\n",
       "      <th>id_end</th>\n",
       "      <th>log_no</th>\n",
       "      <th>bai_no</th>\n",
       "      <th>log_no_abrev</th>\n",
       "      <th>ufe_sg</th>\n",
       "      <th>cep</th>\n",
       "      <th>cep_3d</th>\n",
       "      <th>label</th>\n",
       "    </tr>\n",
       "  </thead>\n",
       "  <tbody>\n",
       "    <tr>\n",
       "      <th>111026</th>\n",
       "      <td>111026</td>\n",
       "      <td>Francisco Tarifa</td>\n",
       "      <td>Parque São Sebastião</td>\n",
       "      <td>R Francisco Tarifa</td>\n",
       "      <td>MG</td>\n",
       "      <td>37706154</td>\n",
       "      <td>377</td>\n",
       "      <td>37706</td>\n",
       "    </tr>\n",
       "  </tbody>\n",
       "</table>\n",
       "</div>"
      ],
      "text/plain": [
       "        id_end            log_no                bai_no        log_no_abrev  \\\n",
       "111026  111026  Francisco Tarifa  Parque São Sebastião  R Francisco Tarifa   \n",
       "\n",
       "       ufe_sg       cep  cep_3d  label  \n",
       "111026     MG  37706154     377  37706  "
      ]
     },
     "execution_count": 6,
     "metadata": {},
     "output_type": "execute_result"
    }
   ],
   "source": [
    "df_end.head(1)"
   ]
  },
  {
   "cell_type": "markdown",
   "metadata": {},
   "source": [
    "### Stopwords"
   ]
  },
  {
   "cell_type": "code",
   "execution_count": 7,
   "metadata": {},
   "outputs": [],
   "source": [
    "def load_stoplist():\n",
    "    stoplist = open(\"stopwords.txt\", \"r\")\n",
    "    stoplist = stoplist.read()\n",
    "    stoplist = set(stoplist.splitlines())\n",
    "    return stoplist\n",
    "\n",
    "stopwords = load_stoplist()"
   ]
  },
  {
   "cell_type": "markdown",
   "metadata": {},
   "source": [
    "## Criar coluna end_txt\n",
    "### ECT"
   ]
  },
  {
   "cell_type": "code",
   "execution_count": 8,
   "metadata": {},
   "outputs": [],
   "source": [
    "# =============================================================================\n",
    "# Aplica o conjunto unicode NFKD Compatibility Decomposition\n",
    "# https://unicode.org/reports/tr15/ \n",
    "# =============================================================================\n",
    "\n",
    "def norma(old):\n",
    "    new = ''.join(ch for ch in unicodedata.normalize('NFKD', \n",
    "                    str(old)) if not unicodedata.combining(ch))\n",
    "    return new\n",
    "\n",
    "#print(norma('são áéíóú'))"
   ]
  },
  {
   "cell_type": "code",
   "execution_count": 9,
   "metadata": {},
   "outputs": [],
   "source": [
    "# https://github.com/perinm/PI-2020.1/blob/master/Proj%20Final/Data%20Processing.ipynb\n",
    "def parallelize_dataframe(df, func, n_cores=8):\n",
    "    \"\"\"\n",
    "    Function that parallelizes any function applied to a dataframe\n",
    "    Input:\n",
    "    df      - Dataframe\n",
    "    func    - Function to be aplied to portions of Dataframe\n",
    "    n_cores - Number of CPU cores to be used on the application of func\n",
    "    \n",
    "    \"\"\"\n",
    "    df_split = np.array_split(df, n_cores)\n",
    "    pool = Pool(n_cores)\n",
    "    df = pd.concat(pool.map(func, df_split))\n",
    "    pool.close()\n",
    "    pool.join()\n",
    "    return df"
   ]
  },
  {
   "cell_type": "code",
   "execution_count": 10,
   "metadata": {},
   "outputs": [],
   "source": [
    "# https://github.com/perinm/PI-2020.1/blob/master/Proj%20Final/Data%20Processing.ipynb\n",
    "\n",
    "# Processo que cria a feature end_txt a partir dos campos que compõem um endereço\n",
    "def preprocessing_df_txt(df):\n",
    "    #return df[features_txt].apply(lambda x: \" \".join(x.astype(str)), axis=1)\n",
    "    return df[['log_no','bai_no','log_no_abrev']].apply(lambda x: \" \".join(x.astype(str)), \n",
    "                                                                       axis=1)"
   ]
  },
  {
   "cell_type": "code",
   "execution_count": 11,
   "metadata": {},
   "outputs": [
    {
     "data": {
      "text/plain": [
       "(33564, 9)"
      ]
     },
     "execution_count": 11,
     "metadata": {},
     "output_type": "execute_result"
    }
   ],
   "source": [
    "# https://github.com/perinm/PI-2020.1/blob/master/Proj%20Final/Data%20Processing.ipynb\n",
    "\n",
    "#Paralelização do processo que cria a nova feature end_txt\n",
    "df_end['end_txt'] = parallelize_dataframe(df_end[['log_no','bai_no','log_no_abrev']],\n",
    "                                          preprocessing_df_txt)\n",
    "df_end['end_txt'] = [re.sub(r'nan', ' ', x) for x in df_end['end_txt'].str.lower()]\n",
    "df_end['end_txt'] = [norma(x) for x in df_end['end_txt'].str.lower()]\n",
    "df_end.shape"
   ]
  },
  {
   "cell_type": "code",
   "execution_count": 12,
   "metadata": {},
   "outputs": [
    {
     "data": {
      "text/html": [
       "<div>\n",
       "<style scoped>\n",
       "    .dataframe tbody tr th:only-of-type {\n",
       "        vertical-align: middle;\n",
       "    }\n",
       "\n",
       "    .dataframe tbody tr th {\n",
       "        vertical-align: top;\n",
       "    }\n",
       "\n",
       "    .dataframe thead th {\n",
       "        text-align: right;\n",
       "    }\n",
       "</style>\n",
       "<table border=\"1\" class=\"dataframe\">\n",
       "  <thead>\n",
       "    <tr style=\"text-align: right;\">\n",
       "      <th></th>\n",
       "      <th>id_end</th>\n",
       "      <th>log_no</th>\n",
       "      <th>bai_no</th>\n",
       "      <th>log_no_abrev</th>\n",
       "      <th>ufe_sg</th>\n",
       "      <th>cep</th>\n",
       "      <th>cep_3d</th>\n",
       "      <th>label</th>\n",
       "      <th>end_txt</th>\n",
       "    </tr>\n",
       "  </thead>\n",
       "  <tbody>\n",
       "    <tr>\n",
       "      <th>111026</th>\n",
       "      <td>111026</td>\n",
       "      <td>Francisco Tarifa</td>\n",
       "      <td>Parque São Sebastião</td>\n",
       "      <td>R Francisco Tarifa</td>\n",
       "      <td>MG</td>\n",
       "      <td>37706154</td>\n",
       "      <td>377</td>\n",
       "      <td>37706</td>\n",
       "      <td>francisco tarifa parque sao sebastiao r francisco tarifa</td>\n",
       "    </tr>\n",
       "  </tbody>\n",
       "</table>\n",
       "</div>"
      ],
      "text/plain": [
       "        id_end            log_no                bai_no        log_no_abrev  \\\n",
       "111026  111026  Francisco Tarifa  Parque São Sebastião  R Francisco Tarifa   \n",
       "\n",
       "       ufe_sg       cep  cep_3d  label  \\\n",
       "111026     MG  37706154     377  37706   \n",
       "\n",
       "                                                         end_txt  \n",
       "111026  francisco tarifa parque sao sebastiao r francisco tarifa  "
      ]
     },
     "execution_count": 12,
     "metadata": {},
     "output_type": "execute_result"
    }
   ],
   "source": [
    "df_end.head(1)"
   ]
  },
  {
   "cell_type": "markdown",
   "metadata": {},
   "source": [
    "### 4. TFIDF\n",
    "#### ECT\n",
    "\n",
    "O TFIDF também pode ser facilmente implementado em Python usando o Sklearn."
   ]
  },
  {
   "cell_type": "code",
   "execution_count": 13,
   "metadata": {},
   "outputs": [
    {
     "data": {
      "text/plain": [
       "(33564, 4000)"
      ]
     },
     "execution_count": 13,
     "metadata": {},
     "output_type": "execute_result"
    }
   ],
   "source": [
    "from sklearn.feature_extraction.text import TfidfVectorizer\n",
    "\n",
    "# inicializar TFIDF\n",
    "vec = TfidfVectorizer(max_features=4000, stop_words=stopwords)\n",
    "# criar TFIDF\n",
    "tfidf = vec.fit_transform(df_end.end_txt)\n",
    "\n",
    "tfidf.shape\n",
    "#tfidf_df.shape"
   ]
  },
  {
   "cell_type": "code",
   "execution_count": 14,
   "metadata": {
    "scrolled": true
   },
   "outputs": [
    {
     "data": {
      "text/plain": [
       "(33564, 4000)"
      ]
     },
     "execution_count": 14,
     "metadata": {},
     "output_type": "execute_result"
    }
   ],
   "source": [
    "from scipy.sparse import csr_matrix #para transformar DataFrame em Sparse DataFrame otimizado\n",
    "\n",
    "sp_vec = csr_matrix(tfidf)\n",
    "tfidf_df = pd.DataFrame.sparse.from_spmatrix(sp_vec)\n",
    "\n",
    "# amostra\n",
    "#tfidf_df.iloc[:20, 3000:3050]\n",
    "\n",
    "# Apagar tfidf porque não mais será utilizado e libera RAM\n",
    "del tfidf\n",
    "\n",
    "tfidf_df.shape"
   ]
  },
  {
   "cell_type": "markdown",
   "metadata": {},
   "source": [
    "`id_bow` comparado com `id_end` para verificar se a concatenação foi adequada"
   ]
  },
  {
   "cell_type": "code",
   "execution_count": 15,
   "metadata": {},
   "outputs": [],
   "source": [
    "tfidf_df['id_bow'] = [id for id in range(len(tfidf_df))]"
   ]
  },
  {
   "cell_type": "code",
   "execution_count": 16,
   "metadata": {},
   "outputs": [
    {
     "data": {
      "text/html": [
       "<div>\n",
       "<style scoped>\n",
       "    .dataframe tbody tr th:only-of-type {\n",
       "        vertical-align: middle;\n",
       "    }\n",
       "\n",
       "    .dataframe tbody tr th {\n",
       "        vertical-align: top;\n",
       "    }\n",
       "\n",
       "    .dataframe thead th {\n",
       "        text-align: right;\n",
       "    }\n",
       "</style>\n",
       "<table border=\"1\" class=\"dataframe\">\n",
       "  <thead>\n",
       "    <tr style=\"text-align: right;\">\n",
       "      <th></th>\n",
       "      <th>0</th>\n",
       "      <th>1</th>\n",
       "      <th>2</th>\n",
       "      <th>3</th>\n",
       "      <th>4</th>\n",
       "      <th>5</th>\n",
       "      <th>6</th>\n",
       "      <th>7</th>\n",
       "      <th>8</th>\n",
       "      <th>9</th>\n",
       "      <th>...</th>\n",
       "      <th>3991</th>\n",
       "      <th>3992</th>\n",
       "      <th>3993</th>\n",
       "      <th>3994</th>\n",
       "      <th>3995</th>\n",
       "      <th>3996</th>\n",
       "      <th>3997</th>\n",
       "      <th>3998</th>\n",
       "      <th>3999</th>\n",
       "      <th>id_bow</th>\n",
       "    </tr>\n",
       "  </thead>\n",
       "  <tbody>\n",
       "    <tr>\n",
       "      <th>0</th>\n",
       "      <td>0.0</td>\n",
       "      <td>0.0</td>\n",
       "      <td>0.0</td>\n",
       "      <td>0.0</td>\n",
       "      <td>0.0</td>\n",
       "      <td>0.0</td>\n",
       "      <td>0.0</td>\n",
       "      <td>0.0</td>\n",
       "      <td>0.0</td>\n",
       "      <td>0.0</td>\n",
       "      <td>...</td>\n",
       "      <td>0.0</td>\n",
       "      <td>0.0</td>\n",
       "      <td>0.0</td>\n",
       "      <td>0.0</td>\n",
       "      <td>0.0</td>\n",
       "      <td>0.0</td>\n",
       "      <td>0.0</td>\n",
       "      <td>0.0</td>\n",
       "      <td>0.0</td>\n",
       "      <td>0</td>\n",
       "    </tr>\n",
       "  </tbody>\n",
       "</table>\n",
       "<p>1 rows × 4001 columns</p>\n",
       "</div>"
      ],
      "text/plain": [
       "     0    1    2    3    4    5    6    7    8    9  ...  3991  3992  3993  \\\n",
       "0  0.0  0.0  0.0  0.0  0.0  0.0  0.0  0.0  0.0  0.0  ...   0.0   0.0   0.0   \n",
       "\n",
       "   3994  3995  3996  3997  3998  3999  id_bow  \n",
       "0   0.0   0.0   0.0   0.0   0.0   0.0       0  \n",
       "\n",
       "[1 rows x 4001 columns]"
      ]
     },
     "execution_count": 16,
     "metadata": {},
     "output_type": "execute_result"
    }
   ],
   "source": [
    "tfidf_df.head(1)"
   ]
  },
  {
   "cell_type": "code",
   "execution_count": 17,
   "metadata": {},
   "outputs": [
    {
     "data": {
      "text/plain": [
       "(9987, 4005)"
      ]
     },
     "execution_count": 17,
     "metadata": {},
     "output_type": "execute_result"
    }
   ],
   "source": [
    "tfidf_df = pd.concat([df_end[['id_end','ufe_sg','cep_3d','label']], tfidf_df], axis=1, join='inner')\n",
    "\n",
    "tfidf_df.shape"
   ]
  },
  {
   "cell_type": "code",
   "execution_count": 18,
   "metadata": {},
   "outputs": [
    {
     "data": {
      "text/html": [
       "<div>\n",
       "<style scoped>\n",
       "    .dataframe tbody tr th:only-of-type {\n",
       "        vertical-align: middle;\n",
       "    }\n",
       "\n",
       "    .dataframe tbody tr th {\n",
       "        vertical-align: top;\n",
       "    }\n",
       "\n",
       "    .dataframe thead th {\n",
       "        text-align: right;\n",
       "    }\n",
       "</style>\n",
       "<table border=\"1\" class=\"dataframe\">\n",
       "  <thead>\n",
       "    <tr style=\"text-align: right;\">\n",
       "      <th></th>\n",
       "      <th>id_end</th>\n",
       "      <th>ufe_sg</th>\n",
       "      <th>cep_3d</th>\n",
       "      <th>label</th>\n",
       "      <th>0</th>\n",
       "      <th>1</th>\n",
       "      <th>2</th>\n",
       "      <th>3</th>\n",
       "      <th>4</th>\n",
       "      <th>5</th>\n",
       "      <th>...</th>\n",
       "      <th>3991</th>\n",
       "      <th>3992</th>\n",
       "      <th>3993</th>\n",
       "      <th>3994</th>\n",
       "      <th>3995</th>\n",
       "      <th>3996</th>\n",
       "      <th>3997</th>\n",
       "      <th>3998</th>\n",
       "      <th>3999</th>\n",
       "      <th>id_bow</th>\n",
       "    </tr>\n",
       "  </thead>\n",
       "  <tbody>\n",
       "    <tr>\n",
       "      <th>16803</th>\n",
       "      <td>16803</td>\n",
       "      <td>MG</td>\n",
       "      <td>380</td>\n",
       "      <td>38041</td>\n",
       "      <td>0.0</td>\n",
       "      <td>0.0</td>\n",
       "      <td>0.0</td>\n",
       "      <td>0.0</td>\n",
       "      <td>0.0</td>\n",
       "      <td>0.0</td>\n",
       "      <td>...</td>\n",
       "      <td>0.0</td>\n",
       "      <td>0.0</td>\n",
       "      <td>0.0</td>\n",
       "      <td>0.0</td>\n",
       "      <td>0.0</td>\n",
       "      <td>0.0</td>\n",
       "      <td>0.0</td>\n",
       "      <td>0.0</td>\n",
       "      <td>0.0</td>\n",
       "      <td>16803</td>\n",
       "    </tr>\n",
       "  </tbody>\n",
       "</table>\n",
       "<p>1 rows × 4005 columns</p>\n",
       "</div>"
      ],
      "text/plain": [
       "       id_end ufe_sg  cep_3d  label    0    1    2    3    4    5  ...  3991  \\\n",
       "16803   16803     MG     380  38041  0.0  0.0  0.0  0.0  0.0  0.0  ...   0.0   \n",
       "\n",
       "       3992  3993  3994  3995  3996  3997  3998  3999  id_bow  \n",
       "16803   0.0   0.0   0.0   0.0   0.0   0.0   0.0   0.0   16803  \n",
       "\n",
       "[1 rows x 4005 columns]"
      ]
     },
     "execution_count": 18,
     "metadata": {},
     "output_type": "execute_result"
    }
   ],
   "source": [
    "tfidf_df.head(1)"
   ]
  },
  {
   "cell_type": "code",
   "execution_count": 19,
   "metadata": {
    "scrolled": true
   },
   "outputs": [
    {
     "data": {
      "text/plain": [
       "35162    212\n",
       "35164    140\n",
       "35300    116\n",
       "35160    106\n",
       "35703    105\n",
       "        ... \n",
       "30440      1\n",
       "38056      1\n",
       "38309      1\n",
       "37704      1\n",
       "39440      1\n",
       "Name: label, Length: 691, dtype: int64"
      ]
     },
     "execution_count": 19,
     "metadata": {},
     "output_type": "execute_result"
    }
   ],
   "source": [
    "tfidf_df.label.value_counts()"
   ]
  },
  {
   "cell_type": "markdown",
   "metadata": {},
   "source": [
    "Retirando CEPs com quantidade inferior a 3"
   ]
  },
  {
   "cell_type": "code",
   "execution_count": 20,
   "metadata": {},
   "outputs": [
    {
     "data": {
      "text/plain": [
       "0    9987\n",
       "Name: uf, dtype: int64"
      ]
     },
     "execution_count": 20,
     "metadata": {},
     "output_type": "execute_result"
    }
   ],
   "source": [
    "# ENCODER\n",
    "from sklearn.preprocessing import LabelEncoder\n",
    "label_encoder = LabelEncoder()\n",
    "label_encoder = label_encoder.fit(tfidf_df['ufe_sg'])\n",
    "tfidf_df['uf'] = label_encoder.transform(tfidf_df['ufe_sg'])\n",
    "\n",
    "tfidf_df.uf.value_counts()\n"
   ]
  },
  {
   "cell_type": "code",
   "execution_count": 21,
   "metadata": {},
   "outputs": [],
   "source": [
    "# Elimina a feature cep_3d criada exclusivamente \n",
    "# para amostragem estratificada proporcional por ufe_sg e cep\n",
    "tfidf_df = tfidf_df.drop(columns=['cep_3d'])\n",
    "tfidf_df = tfidf_df.drop(columns=['ufe_sg'])\n",
    "tfidf_df = tfidf_df.drop(columns=['id_bow'])\n",
    "tfidf_df = tfidf_df.drop(columns=['id_end'])"
   ]
  },
  {
   "cell_type": "code",
   "execution_count": 22,
   "metadata": {},
   "outputs": [],
   "source": [
    "# DELETA df_end para liberar RAM\n",
    "del df_end"
   ]
  },
  {
   "cell_type": "code",
   "execution_count": 23,
   "metadata": {},
   "outputs": [
    {
     "data": {
      "text/html": [
       "<div>\n",
       "<style scoped>\n",
       "    .dataframe tbody tr th:only-of-type {\n",
       "        vertical-align: middle;\n",
       "    }\n",
       "\n",
       "    .dataframe tbody tr th {\n",
       "        vertical-align: top;\n",
       "    }\n",
       "\n",
       "    .dataframe thead th {\n",
       "        text-align: right;\n",
       "    }\n",
       "</style>\n",
       "<table border=\"1\" class=\"dataframe\">\n",
       "  <thead>\n",
       "    <tr style=\"text-align: right;\">\n",
       "      <th></th>\n",
       "      <th>label</th>\n",
       "    </tr>\n",
       "  </thead>\n",
       "  <tbody>\n",
       "    <tr>\n",
       "      <th>35162</th>\n",
       "      <td>212</td>\n",
       "    </tr>\n",
       "    <tr>\n",
       "      <th>35164</th>\n",
       "      <td>140</td>\n",
       "    </tr>\n",
       "    <tr>\n",
       "      <th>35300</th>\n",
       "      <td>116</td>\n",
       "    </tr>\n",
       "    <tr>\n",
       "      <th>35160</th>\n",
       "      <td>106</td>\n",
       "    </tr>\n",
       "    <tr>\n",
       "      <th>35703</th>\n",
       "      <td>105</td>\n",
       "    </tr>\n",
       "    <tr>\n",
       "      <th>...</th>\n",
       "      <td>...</td>\n",
       "    </tr>\n",
       "    <tr>\n",
       "      <th>30440</th>\n",
       "      <td>1</td>\n",
       "    </tr>\n",
       "    <tr>\n",
       "      <th>38056</th>\n",
       "      <td>1</td>\n",
       "    </tr>\n",
       "    <tr>\n",
       "      <th>38309</th>\n",
       "      <td>1</td>\n",
       "    </tr>\n",
       "    <tr>\n",
       "      <th>37704</th>\n",
       "      <td>1</td>\n",
       "    </tr>\n",
       "    <tr>\n",
       "      <th>39440</th>\n",
       "      <td>1</td>\n",
       "    </tr>\n",
       "  </tbody>\n",
       "</table>\n",
       "<p>691 rows × 1 columns</p>\n",
       "</div>"
      ],
      "text/plain": [
       "       label\n",
       "35162    212\n",
       "35164    140\n",
       "35300    116\n",
       "35160    106\n",
       "35703    105\n",
       "...      ...\n",
       "30440      1\n",
       "38056      1\n",
       "38309      1\n",
       "37704      1\n",
       "39440      1\n",
       "\n",
       "[691 rows x 1 columns]"
      ]
     },
     "execution_count": 23,
     "metadata": {},
     "output_type": "execute_result"
    }
   ],
   "source": [
    "min_qtd_cep = tfidf_df.label.value_counts()\n",
    "df_min_qtd_cep = pd.DataFrame(min_qtd_cep)\n",
    "df_min_qtd_cep"
   ]
  },
  {
   "cell_type": "code",
   "execution_count": 24,
   "metadata": {},
   "outputs": [],
   "source": [
    "df_min_qtd_cep.reset_index(inplace=True)"
   ]
  },
  {
   "cell_type": "code",
   "execution_count": 25,
   "metadata": {},
   "outputs": [
    {
     "data": {
      "text/html": [
       "<div>\n",
       "<style scoped>\n",
       "    .dataframe tbody tr th:only-of-type {\n",
       "        vertical-align: middle;\n",
       "    }\n",
       "\n",
       "    .dataframe tbody tr th {\n",
       "        vertical-align: top;\n",
       "    }\n",
       "\n",
       "    .dataframe thead th {\n",
       "        text-align: right;\n",
       "    }\n",
       "</style>\n",
       "<table border=\"1\" class=\"dataframe\">\n",
       "  <thead>\n",
       "    <tr style=\"text-align: right;\">\n",
       "      <th></th>\n",
       "      <th>index</th>\n",
       "      <th>label</th>\n",
       "    </tr>\n",
       "  </thead>\n",
       "  <tbody>\n",
       "    <tr>\n",
       "      <th>0</th>\n",
       "      <td>35162</td>\n",
       "      <td>212</td>\n",
       "    </tr>\n",
       "    <tr>\n",
       "      <th>1</th>\n",
       "      <td>35164</td>\n",
       "      <td>140</td>\n",
       "    </tr>\n",
       "    <tr>\n",
       "      <th>2</th>\n",
       "      <td>35300</td>\n",
       "      <td>116</td>\n",
       "    </tr>\n",
       "    <tr>\n",
       "      <th>3</th>\n",
       "      <td>35160</td>\n",
       "      <td>106</td>\n",
       "    </tr>\n",
       "    <tr>\n",
       "      <th>4</th>\n",
       "      <td>35703</td>\n",
       "      <td>105</td>\n",
       "    </tr>\n",
       "    <tr>\n",
       "      <th>...</th>\n",
       "      <td>...</td>\n",
       "      <td>...</td>\n",
       "    </tr>\n",
       "    <tr>\n",
       "      <th>590</th>\n",
       "      <td>34019</td>\n",
       "      <td>2</td>\n",
       "    </tr>\n",
       "    <tr>\n",
       "      <th>591</th>\n",
       "      <td>35904</td>\n",
       "      <td>2</td>\n",
       "    </tr>\n",
       "    <tr>\n",
       "      <th>592</th>\n",
       "      <td>38049</td>\n",
       "      <td>2</td>\n",
       "    </tr>\n",
       "    <tr>\n",
       "      <th>593</th>\n",
       "      <td>35704</td>\n",
       "      <td>2</td>\n",
       "    </tr>\n",
       "    <tr>\n",
       "      <th>594</th>\n",
       "      <td>35930</td>\n",
       "      <td>2</td>\n",
       "    </tr>\n",
       "  </tbody>\n",
       "</table>\n",
       "<p>595 rows × 2 columns</p>\n",
       "</div>"
      ],
      "text/plain": [
       "     index  label\n",
       "0    35162    212\n",
       "1    35164    140\n",
       "2    35300    116\n",
       "3    35160    106\n",
       "4    35703    105\n",
       "..     ...    ...\n",
       "590  34019      2\n",
       "591  35904      2\n",
       "592  38049      2\n",
       "593  35704      2\n",
       "594  35930      2\n",
       "\n",
       "[595 rows x 2 columns]"
      ]
     },
     "execution_count": 25,
     "metadata": {},
     "output_type": "execute_result"
    }
   ],
   "source": [
    "df_min_qtd_cep = df_min_qtd_cep[df_min_qtd_cep['label'] > 1]\n",
    "df_min_qtd_cep"
   ]
  },
  {
   "cell_type": "code",
   "execution_count": 26,
   "metadata": {},
   "outputs": [],
   "source": [
    "lista_exclui_cep = []\n",
    "for i in df_min_qtd_cep['index']:\n",
    "    lista_exclui_cep.append(i)"
   ]
  },
  {
   "cell_type": "code",
   "execution_count": 27,
   "metadata": {},
   "outputs": [
    {
     "data": {
      "text/html": [
       "<div>\n",
       "<style scoped>\n",
       "    .dataframe tbody tr th:only-of-type {\n",
       "        vertical-align: middle;\n",
       "    }\n",
       "\n",
       "    .dataframe tbody tr th {\n",
       "        vertical-align: top;\n",
       "    }\n",
       "\n",
       "    .dataframe thead th {\n",
       "        text-align: right;\n",
       "    }\n",
       "</style>\n",
       "<table border=\"1\" class=\"dataframe\">\n",
       "  <thead>\n",
       "    <tr style=\"text-align: right;\">\n",
       "      <th></th>\n",
       "      <th>label</th>\n",
       "      <th>0</th>\n",
       "      <th>1</th>\n",
       "      <th>2</th>\n",
       "      <th>3</th>\n",
       "      <th>4</th>\n",
       "      <th>5</th>\n",
       "      <th>6</th>\n",
       "      <th>7</th>\n",
       "      <th>8</th>\n",
       "      <th>...</th>\n",
       "      <th>3991</th>\n",
       "      <th>3992</th>\n",
       "      <th>3993</th>\n",
       "      <th>3994</th>\n",
       "      <th>3995</th>\n",
       "      <th>3996</th>\n",
       "      <th>3997</th>\n",
       "      <th>3998</th>\n",
       "      <th>3999</th>\n",
       "      <th>uf</th>\n",
       "    </tr>\n",
       "  </thead>\n",
       "  <tbody>\n",
       "    <tr>\n",
       "      <th>16803</th>\n",
       "      <td>38041</td>\n",
       "      <td>0.0</td>\n",
       "      <td>0.0</td>\n",
       "      <td>NaN</td>\n",
       "      <td>NaN</td>\n",
       "      <td>0.0</td>\n",
       "      <td>0.0</td>\n",
       "      <td>0.0</td>\n",
       "      <td>NaN</td>\n",
       "      <td>0.0</td>\n",
       "      <td>...</td>\n",
       "      <td>0.0</td>\n",
       "      <td>0.0</td>\n",
       "      <td>0.0</td>\n",
       "      <td>NaN</td>\n",
       "      <td>0.0</td>\n",
       "      <td>0.0</td>\n",
       "      <td>0.0</td>\n",
       "      <td>0.0</td>\n",
       "      <td>0.0</td>\n",
       "      <td>0</td>\n",
       "    </tr>\n",
       "    <tr>\n",
       "      <th>19249</th>\n",
       "      <td>38603</td>\n",
       "      <td>0.0</td>\n",
       "      <td>0.0</td>\n",
       "      <td>NaN</td>\n",
       "      <td>NaN</td>\n",
       "      <td>0.0</td>\n",
       "      <td>0.0</td>\n",
       "      <td>0.0</td>\n",
       "      <td>NaN</td>\n",
       "      <td>0.0</td>\n",
       "      <td>...</td>\n",
       "      <td>0.0</td>\n",
       "      <td>0.0</td>\n",
       "      <td>0.0</td>\n",
       "      <td>NaN</td>\n",
       "      <td>0.0</td>\n",
       "      <td>0.0</td>\n",
       "      <td>0.0</td>\n",
       "      <td>0.0</td>\n",
       "      <td>0.0</td>\n",
       "      <td>0</td>\n",
       "    </tr>\n",
       "    <tr>\n",
       "      <th>23250</th>\n",
       "      <td>33841</td>\n",
       "      <td>0.0</td>\n",
       "      <td>0.0</td>\n",
       "      <td>NaN</td>\n",
       "      <td>NaN</td>\n",
       "      <td>0.0</td>\n",
       "      <td>0.0</td>\n",
       "      <td>0.0</td>\n",
       "      <td>NaN</td>\n",
       "      <td>0.0</td>\n",
       "      <td>...</td>\n",
       "      <td>0.0</td>\n",
       "      <td>0.0</td>\n",
       "      <td>0.0</td>\n",
       "      <td>NaN</td>\n",
       "      <td>0.0</td>\n",
       "      <td>0.0</td>\n",
       "      <td>0.0</td>\n",
       "      <td>0.0</td>\n",
       "      <td>0.0</td>\n",
       "      <td>0</td>\n",
       "    </tr>\n",
       "    <tr>\n",
       "      <th>22063</th>\n",
       "      <td>35504</td>\n",
       "      <td>0.0</td>\n",
       "      <td>0.0</td>\n",
       "      <td>NaN</td>\n",
       "      <td>NaN</td>\n",
       "      <td>0.0</td>\n",
       "      <td>0.0</td>\n",
       "      <td>0.0</td>\n",
       "      <td>NaN</td>\n",
       "      <td>0.0</td>\n",
       "      <td>...</td>\n",
       "      <td>0.0</td>\n",
       "      <td>0.0</td>\n",
       "      <td>0.0</td>\n",
       "      <td>NaN</td>\n",
       "      <td>0.0</td>\n",
       "      <td>0.0</td>\n",
       "      <td>0.0</td>\n",
       "      <td>0.0</td>\n",
       "      <td>0.0</td>\n",
       "      <td>0</td>\n",
       "    </tr>\n",
       "    <tr>\n",
       "      <th>1224</th>\n",
       "      <td>38440</td>\n",
       "      <td>0.0</td>\n",
       "      <td>0.0</td>\n",
       "      <td>NaN</td>\n",
       "      <td>NaN</td>\n",
       "      <td>0.0</td>\n",
       "      <td>0.0</td>\n",
       "      <td>0.0</td>\n",
       "      <td>NaN</td>\n",
       "      <td>0.0</td>\n",
       "      <td>...</td>\n",
       "      <td>0.0</td>\n",
       "      <td>0.0</td>\n",
       "      <td>0.0</td>\n",
       "      <td>NaN</td>\n",
       "      <td>0.0</td>\n",
       "      <td>0.0</td>\n",
       "      <td>0.0</td>\n",
       "      <td>0.0</td>\n",
       "      <td>0.0</td>\n",
       "      <td>0</td>\n",
       "    </tr>\n",
       "    <tr>\n",
       "      <th>...</th>\n",
       "      <td>...</td>\n",
       "      <td>...</td>\n",
       "      <td>...</td>\n",
       "      <td>...</td>\n",
       "      <td>...</td>\n",
       "      <td>...</td>\n",
       "      <td>...</td>\n",
       "      <td>...</td>\n",
       "      <td>...</td>\n",
       "      <td>...</td>\n",
       "      <td>...</td>\n",
       "      <td>...</td>\n",
       "      <td>...</td>\n",
       "      <td>...</td>\n",
       "      <td>...</td>\n",
       "      <td>...</td>\n",
       "      <td>...</td>\n",
       "      <td>...</td>\n",
       "      <td>...</td>\n",
       "      <td>...</td>\n",
       "      <td>...</td>\n",
       "    </tr>\n",
       "    <tr>\n",
       "      <th>5240</th>\n",
       "      <td>37417</td>\n",
       "      <td>0.0</td>\n",
       "      <td>0.0</td>\n",
       "      <td>NaN</td>\n",
       "      <td>NaN</td>\n",
       "      <td>0.0</td>\n",
       "      <td>0.0</td>\n",
       "      <td>0.0</td>\n",
       "      <td>NaN</td>\n",
       "      <td>0.0</td>\n",
       "      <td>...</td>\n",
       "      <td>0.0</td>\n",
       "      <td>0.0</td>\n",
       "      <td>0.0</td>\n",
       "      <td>NaN</td>\n",
       "      <td>0.0</td>\n",
       "      <td>0.0</td>\n",
       "      <td>0.0</td>\n",
       "      <td>0.0</td>\n",
       "      <td>0.0</td>\n",
       "      <td>0</td>\n",
       "    </tr>\n",
       "    <tr>\n",
       "      <th>3060</th>\n",
       "      <td>38421</td>\n",
       "      <td>0.0</td>\n",
       "      <td>0.0</td>\n",
       "      <td>NaN</td>\n",
       "      <td>NaN</td>\n",
       "      <td>0.0</td>\n",
       "      <td>0.0</td>\n",
       "      <td>0.0</td>\n",
       "      <td>NaN</td>\n",
       "      <td>0.0</td>\n",
       "      <td>...</td>\n",
       "      <td>0.0</td>\n",
       "      <td>0.0</td>\n",
       "      <td>0.0</td>\n",
       "      <td>NaN</td>\n",
       "      <td>0.0</td>\n",
       "      <td>0.0</td>\n",
       "      <td>0.0</td>\n",
       "      <td>0.0</td>\n",
       "      <td>0.0</td>\n",
       "      <td>0</td>\n",
       "    </tr>\n",
       "    <tr>\n",
       "      <th>19482</th>\n",
       "      <td>39800</td>\n",
       "      <td>0.0</td>\n",
       "      <td>0.0</td>\n",
       "      <td>NaN</td>\n",
       "      <td>NaN</td>\n",
       "      <td>0.0</td>\n",
       "      <td>0.0</td>\n",
       "      <td>0.0</td>\n",
       "      <td>NaN</td>\n",
       "      <td>0.0</td>\n",
       "      <td>...</td>\n",
       "      <td>0.0</td>\n",
       "      <td>0.0</td>\n",
       "      <td>0.0</td>\n",
       "      <td>NaN</td>\n",
       "      <td>0.0</td>\n",
       "      <td>0.0</td>\n",
       "      <td>0.0</td>\n",
       "      <td>0.0</td>\n",
       "      <td>0.0</td>\n",
       "      <td>0</td>\n",
       "    </tr>\n",
       "    <tr>\n",
       "      <th>30106</th>\n",
       "      <td>32425</td>\n",
       "      <td>0.0</td>\n",
       "      <td>0.0</td>\n",
       "      <td>NaN</td>\n",
       "      <td>NaN</td>\n",
       "      <td>0.0</td>\n",
       "      <td>0.0</td>\n",
       "      <td>0.0</td>\n",
       "      <td>NaN</td>\n",
       "      <td>0.0</td>\n",
       "      <td>...</td>\n",
       "      <td>0.0</td>\n",
       "      <td>0.0</td>\n",
       "      <td>0.0</td>\n",
       "      <td>NaN</td>\n",
       "      <td>0.0</td>\n",
       "      <td>0.0</td>\n",
       "      <td>0.0</td>\n",
       "      <td>0.0</td>\n",
       "      <td>0.0</td>\n",
       "      <td>0</td>\n",
       "    </tr>\n",
       "    <tr>\n",
       "      <th>24035</th>\n",
       "      <td>38620</td>\n",
       "      <td>0.0</td>\n",
       "      <td>0.0</td>\n",
       "      <td>NaN</td>\n",
       "      <td>NaN</td>\n",
       "      <td>0.0</td>\n",
       "      <td>0.0</td>\n",
       "      <td>0.0</td>\n",
       "      <td>NaN</td>\n",
       "      <td>0.0</td>\n",
       "      <td>...</td>\n",
       "      <td>0.0</td>\n",
       "      <td>0.0</td>\n",
       "      <td>0.0</td>\n",
       "      <td>NaN</td>\n",
       "      <td>0.0</td>\n",
       "      <td>0.0</td>\n",
       "      <td>0.0</td>\n",
       "      <td>0.0</td>\n",
       "      <td>0.0</td>\n",
       "      <td>0</td>\n",
       "    </tr>\n",
       "  </tbody>\n",
       "</table>\n",
       "<p>9891 rows × 4002 columns</p>\n",
       "</div>"
      ],
      "text/plain": [
       "       label    0    1   2   3    4    5    6   7    8  ...  3991  3992  3993  \\\n",
       "16803  38041  0.0  0.0 NaN NaN  0.0  0.0  0.0 NaN  0.0  ...   0.0   0.0   0.0   \n",
       "19249  38603  0.0  0.0 NaN NaN  0.0  0.0  0.0 NaN  0.0  ...   0.0   0.0   0.0   \n",
       "23250  33841  0.0  0.0 NaN NaN  0.0  0.0  0.0 NaN  0.0  ...   0.0   0.0   0.0   \n",
       "22063  35504  0.0  0.0 NaN NaN  0.0  0.0  0.0 NaN  0.0  ...   0.0   0.0   0.0   \n",
       "1224   38440  0.0  0.0 NaN NaN  0.0  0.0  0.0 NaN  0.0  ...   0.0   0.0   0.0   \n",
       "...      ...  ...  ...  ..  ..  ...  ...  ...  ..  ...  ...   ...   ...   ...   \n",
       "5240   37417  0.0  0.0 NaN NaN  0.0  0.0  0.0 NaN  0.0  ...   0.0   0.0   0.0   \n",
       "3060   38421  0.0  0.0 NaN NaN  0.0  0.0  0.0 NaN  0.0  ...   0.0   0.0   0.0   \n",
       "19482  39800  0.0  0.0 NaN NaN  0.0  0.0  0.0 NaN  0.0  ...   0.0   0.0   0.0   \n",
       "30106  32425  0.0  0.0 NaN NaN  0.0  0.0  0.0 NaN  0.0  ...   0.0   0.0   0.0   \n",
       "24035  38620  0.0  0.0 NaN NaN  0.0  0.0  0.0 NaN  0.0  ...   0.0   0.0   0.0   \n",
       "\n",
       "       3994  3995  3996  3997  3998  3999  uf  \n",
       "16803   NaN   0.0   0.0   0.0   0.0   0.0   0  \n",
       "19249   NaN   0.0   0.0   0.0   0.0   0.0   0  \n",
       "23250   NaN   0.0   0.0   0.0   0.0   0.0   0  \n",
       "22063   NaN   0.0   0.0   0.0   0.0   0.0   0  \n",
       "1224    NaN   0.0   0.0   0.0   0.0   0.0   0  \n",
       "...     ...   ...   ...   ...   ...   ...  ..  \n",
       "5240    NaN   0.0   0.0   0.0   0.0   0.0   0  \n",
       "3060    NaN   0.0   0.0   0.0   0.0   0.0   0  \n",
       "19482   NaN   0.0   0.0   0.0   0.0   0.0   0  \n",
       "30106   NaN   0.0   0.0   0.0   0.0   0.0   0  \n",
       "24035   NaN   0.0   0.0   0.0   0.0   0.0   0  \n",
       "\n",
       "[9891 rows x 4002 columns]"
      ]
     },
     "execution_count": 27,
     "metadata": {},
     "output_type": "execute_result"
    }
   ],
   "source": [
    "#teste = tfidf_df[tfidf_df['label']==[x for x in lista_exclui_cep]]\n",
    "tfidf_df = tfidf_df[tfidf_df['label'].isin(lista_exclui_cep)]\n",
    "tfidf_df"
   ]
  },
  {
   "cell_type": "code",
   "execution_count": 28,
   "metadata": {},
   "outputs": [
    {
     "data": {
      "text/plain": [
       "(9891, 4002)"
      ]
     },
     "execution_count": 28,
     "metadata": {},
     "output_type": "execute_result"
    }
   ],
   "source": [
    "# Trocando NaN por 0.0\n",
    "tfidf_df = tfidf_df.fillna(value=0.0)\n",
    "tfidf_df.shape"
   ]
  },
  {
   "cell_type": "code",
   "execution_count": 29,
   "metadata": {},
   "outputs": [
    {
     "data": {
      "text/html": [
       "<div>\n",
       "<style scoped>\n",
       "    .dataframe tbody tr th:only-of-type {\n",
       "        vertical-align: middle;\n",
       "    }\n",
       "\n",
       "    .dataframe tbody tr th {\n",
       "        vertical-align: top;\n",
       "    }\n",
       "\n",
       "    .dataframe thead th {\n",
       "        text-align: right;\n",
       "    }\n",
       "</style>\n",
       "<table border=\"1\" class=\"dataframe\">\n",
       "  <thead>\n",
       "    <tr style=\"text-align: right;\">\n",
       "      <th></th>\n",
       "      <th>label</th>\n",
       "      <th>0</th>\n",
       "      <th>1</th>\n",
       "      <th>2</th>\n",
       "      <th>3</th>\n",
       "      <th>4</th>\n",
       "      <th>5</th>\n",
       "      <th>6</th>\n",
       "      <th>7</th>\n",
       "      <th>8</th>\n",
       "      <th>...</th>\n",
       "      <th>3991</th>\n",
       "      <th>3992</th>\n",
       "      <th>3993</th>\n",
       "      <th>3994</th>\n",
       "      <th>3995</th>\n",
       "      <th>3996</th>\n",
       "      <th>3997</th>\n",
       "      <th>3998</th>\n",
       "      <th>3999</th>\n",
       "      <th>uf</th>\n",
       "    </tr>\n",
       "  </thead>\n",
       "  <tbody>\n",
       "    <tr>\n",
       "      <th>16803</th>\n",
       "      <td>38041</td>\n",
       "      <td>0.0</td>\n",
       "      <td>0.0</td>\n",
       "      <td>0.0</td>\n",
       "      <td>0.0</td>\n",
       "      <td>0.0</td>\n",
       "      <td>0.0</td>\n",
       "      <td>0.0</td>\n",
       "      <td>0.0</td>\n",
       "      <td>0.0</td>\n",
       "      <td>...</td>\n",
       "      <td>0.0</td>\n",
       "      <td>0.0</td>\n",
       "      <td>0.0</td>\n",
       "      <td>0.0</td>\n",
       "      <td>0.0</td>\n",
       "      <td>0.0</td>\n",
       "      <td>0.0</td>\n",
       "      <td>0.0</td>\n",
       "      <td>0.0</td>\n",
       "      <td>0</td>\n",
       "    </tr>\n",
       "  </tbody>\n",
       "</table>\n",
       "<p>1 rows × 4002 columns</p>\n",
       "</div>"
      ],
      "text/plain": [
       "       label    0    1    2    3    4    5    6    7    8  ...  3991  3992  \\\n",
       "16803  38041  0.0  0.0  0.0  0.0  0.0  0.0  0.0  0.0  0.0  ...   0.0   0.0   \n",
       "\n",
       "       3993  3994  3995  3996  3997  3998  3999  uf  \n",
       "16803   0.0   0.0   0.0   0.0   0.0   0.0   0.0   0  \n",
       "\n",
       "[1 rows x 4002 columns]"
      ]
     },
     "execution_count": 29,
     "metadata": {},
     "output_type": "execute_result"
    }
   ],
   "source": [
    "y_train = tfidf_df.label\n",
    "X_train = tfidf_df\n",
    "\n",
    "X_train.head(1)"
   ]
  },
  {
   "cell_type": "code",
   "execution_count": 30,
   "metadata": {},
   "outputs": [
    {
     "data": {
      "text/plain": [
       "(9891, 4002)"
      ]
     },
     "execution_count": 30,
     "metadata": {},
     "output_type": "execute_result"
    }
   ],
   "source": [
    "X_train.shape"
   ]
  },
  {
   "cell_type": "markdown",
   "metadata": {},
   "source": [
    "### NeighbourhoodCleaningRule `resample`"
   ]
  },
  {
   "cell_type": "code",
   "execution_count": 31,
   "metadata": {},
   "outputs": [
    {
     "name": "stderr",
     "output_type": "stream",
     "text": [
      "/home/marcello/anaconda3/envs/av/lib/python3.6/site-packages/sklearn/utils/validation.py:510: UserWarning: pandas.DataFrame with sparse columns found.It will be converted to a dense numpy array.\n",
      "  \"pandas.DataFrame with sparse columns found.\"\n"
     ]
    }
   ],
   "source": [
    "from imblearn.under_sampling import NeighbourhoodCleaningRule\n",
    "ncr = NeighbourhoodCleaningRule(n_neighbors=1, n_jobs=4)\n",
    "X_ncr, y_ncr = ncr.fit_resample(X_train,y_train)"
   ]
  },
  {
   "cell_type": "code",
   "execution_count": 32,
   "metadata": {},
   "outputs": [
    {
     "data": {
      "text/plain": [
       "(9788, 4002)"
      ]
     },
     "execution_count": 32,
     "metadata": {},
     "output_type": "execute_result"
    }
   ],
   "source": [
    "X_ncr.shape"
   ]
  },
  {
   "cell_type": "code",
   "execution_count": null,
   "metadata": {},
   "outputs": [],
   "source": [
    "num_class = len(y_train_ncr.unique())\n",
    "num_class"
   ]
  },
  {
   "cell_type": "markdown",
   "metadata": {},
   "source": [
    "### NeighbourhoodCleaningRule `model`"
   ]
  },
  {
   "cell_type": "markdown",
   "metadata": {},
   "source": [
    "### Treina e avalia o modelo usando `train_test_split`"
   ]
  },
  {
   "cell_type": "code",
   "execution_count": 38,
   "metadata": {},
   "outputs": [
    {
     "name": "stdout",
     "output_type": "stream",
     "text": [
      "[0]\tvalidation_0-merror:0.79591\tvalidation_0-mlogloss:4.64513\tvalidation_1-merror:0.81461\tvalidation_1-mlogloss:4.75302\n",
      "[1]\tvalidation_0-merror:0.72861\tvalidation_0-mlogloss:3.96826\tvalidation_1-merror:0.73340\tvalidation_1-mlogloss:3.93330\n",
      "[2]\tvalidation_0-merror:0.54163\tvalidation_0-mlogloss:3.68904\tvalidation_1-merror:0.54392\tvalidation_1-mlogloss:3.65543\n",
      "[3]\tvalidation_0-merror:0.44483\tvalidation_0-mlogloss:2.28376\tvalidation_1-merror:0.45659\tvalidation_1-mlogloss:2.23551\n",
      "[4]\tvalidation_0-merror:0.38838\tvalidation_0-mlogloss:1.80329\tvalidation_1-merror:0.39428\tvalidation_1-mlogloss:1.75049\n",
      "[5]\tvalidation_0-merror:0.33614\tvalidation_0-mlogloss:1.52148\tvalidation_1-merror:0.32329\tvalidation_1-mlogloss:1.47299\n",
      "[6]\tvalidation_0-merror:0.30907\tvalidation_0-mlogloss:1.32517\tvalidation_1-merror:0.29520\tvalidation_1-mlogloss:1.28167\n",
      "[7]\tvalidation_0-merror:0.28084\tvalidation_0-mlogloss:1.18304\tvalidation_1-merror:0.26558\tvalidation_1-mlogloss:1.14312\n",
      "[8]\tvalidation_0-merror:0.26399\tvalidation_0-mlogloss:1.07285\tvalidation_1-merror:0.25741\tvalidation_1-mlogloss:1.03550\n",
      "[9]\tvalidation_0-merror:0.25607\tvalidation_0-mlogloss:0.98540\tvalidation_1-merror:0.24923\tvalidation_1-mlogloss:0.95234\n",
      "[10]\tvalidation_0-merror:0.24981\tvalidation_0-mlogloss:0.91450\tvalidation_1-merror:0.23902\tvalidation_1-mlogloss:0.88544\n",
      "[11]\tvalidation_0-merror:0.24496\tvalidation_0-mlogloss:0.85706\tvalidation_1-merror:0.23595\tvalidation_1-mlogloss:0.83103\n",
      "[12]\tvalidation_0-merror:0.24049\tvalidation_0-mlogloss:0.81068\tvalidation_1-merror:0.22881\tvalidation_1-mlogloss:0.78792\n",
      "[13]\tvalidation_0-merror:0.23384\tvalidation_0-mlogloss:0.77231\tvalidation_1-merror:0.22319\tvalidation_1-mlogloss:0.75257\n",
      "[14]\tvalidation_0-merror:0.22912\tvalidation_0-mlogloss:0.73979\tvalidation_1-merror:0.21757\tvalidation_1-mlogloss:0.72262\n",
      "[15]\tvalidation_0-merror:0.22465\tvalidation_0-mlogloss:0.71250\tvalidation_1-merror:0.21399\tvalidation_1-mlogloss:0.69802\n",
      "[16]\tvalidation_0-merror:0.22299\tvalidation_0-mlogloss:0.68874\tvalidation_1-merror:0.21297\tvalidation_1-mlogloss:0.67720\n",
      "[17]\tvalidation_0-merror:0.22043\tvalidation_0-mlogloss:0.66841\tvalidation_1-merror:0.21195\tvalidation_1-mlogloss:0.65978\n",
      "[18]\tvalidation_0-merror:0.21801\tvalidation_0-mlogloss:0.65093\tvalidation_1-merror:0.20838\tvalidation_1-mlogloss:0.64487\n",
      "[19]\tvalidation_0-merror:0.21660\tvalidation_0-mlogloss:0.63572\tvalidation_1-merror:0.20786\tvalidation_1-mlogloss:0.63187\n",
      "[20]\tvalidation_0-merror:0.21622\tvalidation_0-mlogloss:0.62284\tvalidation_1-merror:0.20480\tvalidation_1-mlogloss:0.62054\n",
      "[21]\tvalidation_0-merror:0.21469\tvalidation_0-mlogloss:0.61179\tvalidation_1-merror:0.20276\tvalidation_1-mlogloss:0.61111\n",
      "[22]\tvalidation_0-merror:0.21443\tvalidation_0-mlogloss:0.60246\tvalidation_1-merror:0.20276\tvalidation_1-mlogloss:0.60256\n",
      "[23]\tvalidation_0-merror:0.21316\tvalidation_0-mlogloss:0.59451\tvalidation_1-merror:0.20174\tvalidation_1-mlogloss:0.59545\n",
      "[24]\tvalidation_0-merror:0.21252\tvalidation_0-mlogloss:0.58766\tvalidation_1-merror:0.20123\tvalidation_1-mlogloss:0.58897\n",
      "[25]\tvalidation_0-merror:0.21188\tvalidation_0-mlogloss:0.58159\tvalidation_1-merror:0.20123\tvalidation_1-mlogloss:0.58276\n",
      "[26]\tvalidation_0-merror:0.21086\tvalidation_0-mlogloss:0.57627\tvalidation_1-merror:0.20020\tvalidation_1-mlogloss:0.57745\n",
      "[27]\tvalidation_0-merror:0.21047\tvalidation_0-mlogloss:0.57158\tvalidation_1-merror:0.19969\tvalidation_1-mlogloss:0.57238\n",
      "[28]\tvalidation_0-merror:0.20869\tvalidation_0-mlogloss:0.56708\tvalidation_1-merror:0.19765\tvalidation_1-mlogloss:0.56797\n",
      "[29]\tvalidation_0-merror:0.20881\tvalidation_0-mlogloss:0.56322\tvalidation_1-merror:0.19765\tvalidation_1-mlogloss:0.56329\n",
      "[30]\tvalidation_0-merror:0.20856\tvalidation_0-mlogloss:0.55962\tvalidation_1-merror:0.19612\tvalidation_1-mlogloss:0.55897\n",
      "[31]\tvalidation_0-merror:0.20830\tvalidation_0-mlogloss:0.55615\tvalidation_1-merror:0.19561\tvalidation_1-mlogloss:0.55490\n",
      "[32]\tvalidation_0-merror:0.20779\tvalidation_0-mlogloss:0.55308\tvalidation_1-merror:0.19459\tvalidation_1-mlogloss:0.55105\n",
      "[33]\tvalidation_0-merror:0.20677\tvalidation_0-mlogloss:0.55016\tvalidation_1-merror:0.19356\tvalidation_1-mlogloss:0.54755\n",
      "[34]\tvalidation_0-merror:0.20588\tvalidation_0-mlogloss:0.54746\tvalidation_1-merror:0.19356\tvalidation_1-mlogloss:0.54408\n",
      "[35]\tvalidation_0-merror:0.20613\tvalidation_0-mlogloss:0.54502\tvalidation_1-merror:0.19203\tvalidation_1-mlogloss:0.54094\n",
      "[36]\tvalidation_0-merror:0.20524\tvalidation_0-mlogloss:0.54252\tvalidation_1-merror:0.19152\tvalidation_1-mlogloss:0.53803\n",
      "[37]\tvalidation_0-merror:0.20536\tvalidation_0-mlogloss:0.54026\tvalidation_1-merror:0.19203\tvalidation_1-mlogloss:0.53537\n",
      "[38]\tvalidation_0-merror:0.20511\tvalidation_0-mlogloss:0.53806\tvalidation_1-merror:0.19152\tvalidation_1-mlogloss:0.53296\n",
      "[39]\tvalidation_0-merror:0.20422\tvalidation_0-mlogloss:0.53604\tvalidation_1-merror:0.19101\tvalidation_1-mlogloss:0.53073\n",
      "[40]\tvalidation_0-merror:0.20396\tvalidation_0-mlogloss:0.53431\tvalidation_1-merror:0.19101\tvalidation_1-mlogloss:0.52848\n",
      "[41]\tvalidation_0-merror:0.20409\tvalidation_0-mlogloss:0.53271\tvalidation_1-merror:0.19050\tvalidation_1-mlogloss:0.52653\n",
      "[42]\tvalidation_0-merror:0.20358\tvalidation_0-mlogloss:0.53117\tvalidation_1-merror:0.18948\tvalidation_1-mlogloss:0.52478\n",
      "[43]\tvalidation_0-merror:0.20370\tvalidation_0-mlogloss:0.52987\tvalidation_1-merror:0.18999\tvalidation_1-mlogloss:0.52341\n",
      "[44]\tvalidation_0-merror:0.20332\tvalidation_0-mlogloss:0.52870\tvalidation_1-merror:0.18846\tvalidation_1-mlogloss:0.52188\n",
      "[45]\tvalidation_0-merror:0.20319\tvalidation_0-mlogloss:0.52777\tvalidation_1-merror:0.18897\tvalidation_1-mlogloss:0.52073\n",
      "[46]\tvalidation_0-merror:0.20268\tvalidation_0-mlogloss:0.52677\tvalidation_1-merror:0.18897\tvalidation_1-mlogloss:0.51950\n",
      "[47]\tvalidation_0-merror:0.20268\tvalidation_0-mlogloss:0.52595\tvalidation_1-merror:0.18846\tvalidation_1-mlogloss:0.51843\n",
      "[48]\tvalidation_0-merror:0.20243\tvalidation_0-mlogloss:0.52520\tvalidation_1-merror:0.18795\tvalidation_1-mlogloss:0.51746\n",
      "[49]\tvalidation_0-merror:0.20204\tvalidation_0-mlogloss:0.52447\tvalidation_1-merror:0.18795\tvalidation_1-mlogloss:0.51656\n",
      "[50]\tvalidation_0-merror:0.20204\tvalidation_0-mlogloss:0.52373\tvalidation_1-merror:0.18744\tvalidation_1-mlogloss:0.51537\n",
      "[51]\tvalidation_0-merror:0.20153\tvalidation_0-mlogloss:0.52310\tvalidation_1-merror:0.18744\tvalidation_1-mlogloss:0.51457\n",
      "[52]\tvalidation_0-merror:0.20141\tvalidation_0-mlogloss:0.52245\tvalidation_1-merror:0.18795\tvalidation_1-mlogloss:0.51379\n",
      "[53]\tvalidation_0-merror:0.20128\tvalidation_0-mlogloss:0.52186\tvalidation_1-merror:0.18641\tvalidation_1-mlogloss:0.51296\n",
      "[54]\tvalidation_0-merror:0.20141\tvalidation_0-mlogloss:0.52130\tvalidation_1-merror:0.18641\tvalidation_1-mlogloss:0.51216\n",
      "[55]\tvalidation_0-merror:0.20128\tvalidation_0-mlogloss:0.52077\tvalidation_1-merror:0.18590\tvalidation_1-mlogloss:0.51148\n",
      "[56]\tvalidation_0-merror:0.20115\tvalidation_0-mlogloss:0.52022\tvalidation_1-merror:0.18539\tvalidation_1-mlogloss:0.51094\n",
      "[57]\tvalidation_0-merror:0.20089\tvalidation_0-mlogloss:0.51971\tvalidation_1-merror:0.18539\tvalidation_1-mlogloss:0.51030\n",
      "[58]\tvalidation_0-merror:0.20115\tvalidation_0-mlogloss:0.51926\tvalidation_1-merror:0.18488\tvalidation_1-mlogloss:0.50951\n",
      "[59]\tvalidation_0-merror:0.20089\tvalidation_0-mlogloss:0.51883\tvalidation_1-merror:0.18488\tvalidation_1-mlogloss:0.50893\n",
      "[60]\tvalidation_0-merror:0.20064\tvalidation_0-mlogloss:0.51843\tvalidation_1-merror:0.18488\tvalidation_1-mlogloss:0.50835\n",
      "[61]\tvalidation_0-merror:0.20077\tvalidation_0-mlogloss:0.51802\tvalidation_1-merror:0.18437\tvalidation_1-mlogloss:0.50779\n",
      "[62]\tvalidation_0-merror:0.20025\tvalidation_0-mlogloss:0.51762\tvalidation_1-merror:0.18488\tvalidation_1-mlogloss:0.50742\n",
      "[63]\tvalidation_0-merror:0.20051\tvalidation_0-mlogloss:0.51727\tvalidation_1-merror:0.18437\tvalidation_1-mlogloss:0.50694\n",
      "[64]\tvalidation_0-merror:0.20025\tvalidation_0-mlogloss:0.51695\tvalidation_1-merror:0.18437\tvalidation_1-mlogloss:0.50649\n",
      "[65]\tvalidation_0-merror:0.20000\tvalidation_0-mlogloss:0.51659\tvalidation_1-merror:0.18488\tvalidation_1-mlogloss:0.50614\n",
      "[66]\tvalidation_0-merror:0.20025\tvalidation_0-mlogloss:0.51625\tvalidation_1-merror:0.18386\tvalidation_1-mlogloss:0.50585\n",
      "[67]\tvalidation_0-merror:0.19987\tvalidation_0-mlogloss:0.51594\tvalidation_1-merror:0.18437\tvalidation_1-mlogloss:0.50540\n"
     ]
    },
    {
     "name": "stdout",
     "output_type": "stream",
     "text": [
      "[68]\tvalidation_0-merror:0.20000\tvalidation_0-mlogloss:0.51564\tvalidation_1-merror:0.18386\tvalidation_1-mlogloss:0.50521\n",
      "[69]\tvalidation_0-merror:0.19975\tvalidation_0-mlogloss:0.51537\tvalidation_1-merror:0.18386\tvalidation_1-mlogloss:0.50481\n",
      "[70]\tvalidation_0-merror:0.19949\tvalidation_0-mlogloss:0.51508\tvalidation_1-merror:0.18386\tvalidation_1-mlogloss:0.50450\n",
      "[71]\tvalidation_0-merror:0.19936\tvalidation_0-mlogloss:0.51486\tvalidation_1-merror:0.18386\tvalidation_1-mlogloss:0.50421\n",
      "[72]\tvalidation_0-merror:0.19936\tvalidation_0-mlogloss:0.51454\tvalidation_1-merror:0.18437\tvalidation_1-mlogloss:0.50391\n",
      "[73]\tvalidation_0-merror:0.19923\tvalidation_0-mlogloss:0.51425\tvalidation_1-merror:0.18437\tvalidation_1-mlogloss:0.50370\n",
      "[74]\tvalidation_0-merror:0.19923\tvalidation_0-mlogloss:0.51401\tvalidation_1-merror:0.18437\tvalidation_1-mlogloss:0.50352\n",
      "[75]\tvalidation_0-merror:0.19923\tvalidation_0-mlogloss:0.51379\tvalidation_1-merror:0.18437\tvalidation_1-mlogloss:0.50319\n",
      "[76]\tvalidation_0-merror:0.19923\tvalidation_0-mlogloss:0.51354\tvalidation_1-merror:0.18437\tvalidation_1-mlogloss:0.50295\n",
      "[77]\tvalidation_0-merror:0.19911\tvalidation_0-mlogloss:0.51330\tvalidation_1-merror:0.18488\tvalidation_1-mlogloss:0.50272\n",
      "[78]\tvalidation_0-merror:0.19923\tvalidation_0-mlogloss:0.51305\tvalidation_1-merror:0.18437\tvalidation_1-mlogloss:0.50247\n",
      "[79]\tvalidation_0-merror:0.19885\tvalidation_0-mlogloss:0.51282\tvalidation_1-merror:0.18437\tvalidation_1-mlogloss:0.50230\n",
      "[80]\tvalidation_0-merror:0.19872\tvalidation_0-mlogloss:0.51257\tvalidation_1-merror:0.18386\tvalidation_1-mlogloss:0.50212\n",
      "[81]\tvalidation_0-merror:0.19885\tvalidation_0-mlogloss:0.51237\tvalidation_1-merror:0.18437\tvalidation_1-mlogloss:0.50189\n",
      "[82]\tvalidation_0-merror:0.19885\tvalidation_0-mlogloss:0.51215\tvalidation_1-merror:0.18335\tvalidation_1-mlogloss:0.50159\n",
      "[83]\tvalidation_0-merror:0.19885\tvalidation_0-mlogloss:0.51191\tvalidation_1-merror:0.18335\tvalidation_1-mlogloss:0.50142\n",
      "[84]\tvalidation_0-merror:0.19847\tvalidation_0-mlogloss:0.51171\tvalidation_1-merror:0.18335\tvalidation_1-mlogloss:0.50122\n",
      "[85]\tvalidation_0-merror:0.19847\tvalidation_0-mlogloss:0.51150\tvalidation_1-merror:0.18335\tvalidation_1-mlogloss:0.50102\n",
      "[86]\tvalidation_0-merror:0.19808\tvalidation_0-mlogloss:0.51129\tvalidation_1-merror:0.18386\tvalidation_1-mlogloss:0.50085\n",
      "[87]\tvalidation_0-merror:0.19834\tvalidation_0-mlogloss:0.51114\tvalidation_1-merror:0.18335\tvalidation_1-mlogloss:0.50058\n",
      "[88]\tvalidation_0-merror:0.19859\tvalidation_0-mlogloss:0.51094\tvalidation_1-merror:0.18233\tvalidation_1-mlogloss:0.50043\n",
      "[89]\tvalidation_0-merror:0.19859\tvalidation_0-mlogloss:0.51078\tvalidation_1-merror:0.18284\tvalidation_1-mlogloss:0.50025\n",
      "[90]\tvalidation_0-merror:0.19847\tvalidation_0-mlogloss:0.51061\tvalidation_1-merror:0.18233\tvalidation_1-mlogloss:0.50010\n",
      "[91]\tvalidation_0-merror:0.19859\tvalidation_0-mlogloss:0.51042\tvalidation_1-merror:0.18284\tvalidation_1-mlogloss:0.49994\n",
      "[92]\tvalidation_0-merror:0.19834\tvalidation_0-mlogloss:0.51025\tvalidation_1-merror:0.18284\tvalidation_1-mlogloss:0.49979\n",
      "[93]\tvalidation_0-merror:0.19834\tvalidation_0-mlogloss:0.51007\tvalidation_1-merror:0.18284\tvalidation_1-mlogloss:0.49968\n",
      "[94]\tvalidation_0-merror:0.19808\tvalidation_0-mlogloss:0.50992\tvalidation_1-merror:0.18284\tvalidation_1-mlogloss:0.49949\n",
      "[95]\tvalidation_0-merror:0.19796\tvalidation_0-mlogloss:0.50973\tvalidation_1-merror:0.18284\tvalidation_1-mlogloss:0.49937\n",
      "[96]\tvalidation_0-merror:0.19757\tvalidation_0-mlogloss:0.50959\tvalidation_1-merror:0.18284\tvalidation_1-mlogloss:0.49924\n",
      "[97]\tvalidation_0-merror:0.19783\tvalidation_0-mlogloss:0.50943\tvalidation_1-merror:0.18335\tvalidation_1-mlogloss:0.49906\n",
      "[98]\tvalidation_0-merror:0.19732\tvalidation_0-mlogloss:0.50926\tvalidation_1-merror:0.18284\tvalidation_1-mlogloss:0.49886\n",
      "[99]\tvalidation_0-merror:0.19770\tvalidation_0-mlogloss:0.50909\tvalidation_1-merror:0.18233\tvalidation_1-mlogloss:0.49868\n",
      "Acurácia model_ncr: 81.77%\n",
      "GPU Training Time: 8404.782523155212 seconds\n"
     ]
    }
   ],
   "source": [
    "# separa o conjunto de teste\n",
    "X_train_ncr, X_test_ncr, y_train_ncr, y_test_ncr = train_test_split(X_ncr, \n",
    "                                                                    y_ncr, \n",
    "                                                                    test_size=0.2, \n",
    "                                                                    random_state=21)\n",
    "\n",
    "# utilizado para gerar os logs dos erros: merror e mlogloss\n",
    "eval_set = [(X_train_ncr, y_train_ncr), (X_test_ncr, y_test_ncr)]\n",
    "\n",
    "# métricas de avaliação\n",
    "eval_metric = ['merror', 'mlogloss']\n",
    "\n",
    "# Informa a quantidade de classes que serão usadas no treinamento\n",
    "num_class = len(y_train_ncr.unique())\n",
    "\n",
    "start = time.time() # inicia o tempo de execução\n",
    "\n",
    "model_ncr_TTS = XGBClassifier(num_class=num_class, \n",
    "                              objective='multi:softmax', \n",
    "                              n_jobs=-1, \n",
    "                              nthread=-1, \n",
    "                              tree_method='gpu_hist', \n",
    "                              gpu_id=-1)\n",
    "\n",
    "model_ncr_TTS = model_ncr_TTS.fit(X_ncr, \n",
    "                                  y_ncr, \n",
    "                                  eval_metric=eval_metric, \n",
    "                                  eval_set=eval_set, \n",
    "                                  verbose=True)\n",
    "\n",
    "elapsed = time.time() - start # informa o tempo de execução\n",
    "\n",
    "# cria predições no dataset de teste e\n",
    "## avalia a acurácia da classificação\n",
    "acuracia = accuracy_score(y_test_ncr, model_ncr_TTS.predict(X_test_ncr))\n",
    "print(\"Acurácia model_ncr_TTS: %.2f%%\" % (acuracia * 100.0))\n",
    "\n",
    "#print(\"Tempo de execução: %f\" % (elapsed))\n",
    "print(\"GPU Training Time: %s seconds\" % (elapsed))"
   ]
  },
  {
   "cell_type": "markdown",
   "metadata": {},
   "source": [
    "### Métricas de performance recuperadas"
   ]
  },
  {
   "cell_type": "code",
   "execution_count": 39,
   "metadata": {},
   "outputs": [
    {
     "data": {
      "image/png": "[encoded data removed]",
      "text/plain": [
       "<Figure size 432x288 with 1 Axes>"
      ]
     },
     "metadata": {
      "needs_background": "light"
     },
     "output_type": "display_data"
    },
    {
     "data": {
      "image/png": "[encoded data removed]",
      "text/plain": [
       "<Figure size 432x288 with 1 Axes>"
      ]
     },
     "metadata": {
      "needs_background": "light"
     },
     "output_type": "display_data"
    }
   ],
   "source": [
    "# recupera a performance \n",
    "#results = model_ncr_StratifiedKFold.evals_result()\n",
    "results = model_ncr_TTS.evals_result()\n",
    "epochs = len(results['validation_0']['merror'])\n",
    "x_axis = range(0, epochs)\n",
    "\n",
    "# gera gráfico mlogloss\n",
    "fig, ax = plt.subplots()\n",
    "ax.plot(x_axis, results['validation_0']['mlogloss'], label='Train')\n",
    "ax.plot(x_axis, results['validation_1']['mlogloss'], label='Test')\n",
    "ax.legend()\n",
    "plt.ylabel('mlogloss')\n",
    "plt.title('XGBoost Multiclass logloss')\n",
    "plt.show()\n",
    "\n",
    "# gera gráfico classification merror\n",
    "fig, ax = plt.subplots()\n",
    "ax.plot(x_axis, results['validation_0']['merror'], label='Train')\n",
    "ax.plot(x_axis, results['validation_1']['merror'], label='Test')\n",
    "ax.legend()\n",
    "plt.ylabel('Erro de classificação')\n",
    "plt.title('XGBoost Classification Multiclass error')\n",
    "plt.show()"
   ]
  },
  {
   "cell_type": "markdown",
   "metadata": {},
   "source": [
    "Acurácia: 95.46% (0.42%)  \n",
    "Tempo de execução: 1644.235230\n",
    "\n",
    "Acurácia: 97.43% (0.33%)  \n",
    "Tempo de execução: 9567.627274\n",
    "\n",
    "15/07/2020 - 23h  \n",
    "Acurácia: 97.40% (0.38%)  \n",
    "Tempo de execução: 8641.909433\n",
    "\n",
    "16/07/2020 - 3h  \n",
    "Acurácia: 97.53% (0.72%)  \n",
    "Tempo de execução: 15885.853368  \n",
    "\n",
    "21/07/2020 - 1h  \n",
    "Acurácia model_ncr: 85.28%  \n",
    "GPU Training Time: 2577.2702264785767 seconds  \n",
    "\n",
    "21/07/2020 - 2h25  \n",
    "Acurácia model_ncr: 85.28%  \n",
    "GPU Training Time: 2524.836276292801 seconds  \n",
    "\n",
    "21/07/2020 - 19h45  \n",
    "Acurácia model_ncr: 81.77%  \n",
    "GPU Training Time: 8404.782523155212 seconds  "
   ]
  },
  {
   "cell_type": "code",
   "execution_count": 40,
   "metadata": {},
   "outputs": [
    {
     "data": {
      "text/plain": [
       "['cep_model_ncr_TESTE-1-GPU.dat']"
      ]
     },
     "execution_count": 40,
     "metadata": {},
     "output_type": "execute_result"
    }
   ],
   "source": [
    "# Grava em disco o modelo treinado e avaliado por train_test_split\n",
    "#dump(model_ncr, 'cep_model_ncr_TESTE-1-train-test-split.dat')\n",
    "dump(model_ncr_TTS, 'cep_model_ncr_TESTE-1-GPU.dat')"
   ]
  },
  {
   "cell_type": "code",
   "execution_count": null,
   "metadata": {},
   "outputs": [],
   "source": [
    "STOP"
   ]
  },
  {
   "cell_type": "markdown",
   "metadata": {},
   "source": [
    "### Treina e avalia o modelo usando `StratifiedKFold`"
   ]
  },
  {
   "cell_type": "code",
   "execution_count": null,
   "metadata": {},
   "outputs": [],
   "source": [
    "# Informa a quantidade de classes que serão usadas no treinamento\n",
    "num_class = len(y_ncr.unique())\n",
    "\n",
    "model_ncr_SKF = XGBClassifier(num_class=num_class, \n",
    "                              objective='multi:softmax', \n",
    "                              n_jobs=3, \n",
    "                              tree_method='gpu_hist', \n",
    "                              gpu_id=-1)\n",
    "\n",
    "start = time.time() # inicia o tempo de execução\n",
    "\n",
    "# prepara cross validation\n",
    "kfold = StratifiedKFold(n_splits=10, shuffle=True, random_state=14)\n",
    "results = cross_val_score(model_ncr_SKF, X_ncr, y_ncr, cv=kfold, n_jobs=3)\n",
    "\n",
    "elapsed = time.time() - start # informa o tempo de execução\n",
    "\n",
    "# cria predições no dataset de teste e\n",
    "## avalia a acurácia da classificação\n",
    "print(\"Acurácia: %.2f%% (%.2f%%)\" % (results.mean()*100, results.std()*100))\n",
    "\n",
    "#print(\"Tempo de execução: %f\" % (elapsed))\n",
    "print(\"GPU Training Time: %s seconds\" % (elapsed))"
   ]
  },
  {
   "cell_type": "code",
   "execution_count": null,
   "metadata": {},
   "outputs": [],
   "source": [
    "# Grava em disco o modelo treinado e avaliado por StratifiedKFold e cross_val_score\n",
    "#dump(model_ncr, 'cep_model_ncr_TESTE-1-StratifiedKFold.dat')\n",
    "dump(model_ncr_SKF, 'cep_model_ncr_TESTE-1-StratifiedKFold.dat')"
   ]
  },
  {
   "cell_type": "markdown",
   "metadata": {},
   "source": [
    "### TomekLinks `resample`"
   ]
  },
  {
   "cell_type": "code",
   "execution_count": null,
   "metadata": {},
   "outputs": [],
   "source": [
    "from imblearn.under_sampling import TomekLinks\n",
    "undersample = TomekLinks()\n",
    "X_tml, y_tml = undersample.fit_resample(X_train,y_train)"
   ]
  },
  {
   "cell_type": "code",
   "execution_count": null,
   "metadata": {},
   "outputs": [],
   "source": [
    "X_tml.shape"
   ]
  },
  {
   "cell_type": "markdown",
   "metadata": {},
   "source": [
    "### TomekLinks `model`"
   ]
  },
  {
   "cell_type": "code",
   "execution_count": null,
   "metadata": {},
   "outputs": [],
   "source": [
    "model_tml = XGBClassifier(num_class=len(y_train.unique()), \n",
    "                          objective='multi:softmax', \n",
    "                          n_jobs=4,\n",
    "                          nthread=16)\n",
    "\n",
    "start = time.time() # inicia o tempo de execução\n",
    "\n",
    "# prepara cross validation\n",
    "#kfold = StratifiedKFold(n_splits=5, shuffle=True, random_state=42)\n",
    "kfold = StratifiedKFold(n_splits=10, shuffle=True, random_state=42)\n",
    "results = cross_val_score(model_tml, X_tml, y_tml, cv=kfold, n_jobs=4)\n",
    "\n",
    "elapsed = time.time() - start # informa o tempo de execução\n",
    "\n",
    "print(\"Accuracy: %.2f%% (%.2f%%)\" % (results.mean()*100, results.std()*100))\n",
    "print(\"Tempo de execução: %f\" % (elapsed))"
   ]
  },
  {
   "cell_type": "markdown",
   "metadata": {},
   "source": [
    "16/07/2020 - 17h20  \n",
    "Accuracy: 97.63% (0.57%)  \n",
    "Tempo de execução: 16230.281697"
   ]
  },
  {
   "cell_type": "code",
   "execution_count": null,
   "metadata": {},
   "outputs": [],
   "source": [
    "params_tml = model_tml\n",
    "params_tml"
   ]
  },
  {
   "cell_type": "code",
   "execution_count": null,
   "metadata": {},
   "outputs": [],
   "source": [
    "# Grava em disco o modelo treinado e avaliado por train_test_split\n",
    "dump(model_tml, 'cep_model_tml_TESTE-1-StratifiedKFold.dat')"
   ]
  },
  {
   "cell_type": "code",
   "execution_count": null,
   "metadata": {},
   "outputs": [],
   "source": [
    "# separa o conjunto de treinamento e o de teste\n",
    "X_train_tml, X_test_tml, y_train_tml, y_test_tml = train_test_split(X_tml, \n",
    "                                                                    y_tml, \n",
    "                                                                    test_size=0.2, \n",
    "                                                                    random_state=84)\n",
    "\n",
    "# criar o modelo de classificação\n",
    "model_tml = XGBClassifier(num_class=len(y_train.unique()), \n",
    "                          objective='multi:softmax', \n",
    "                          n_jobs=4,\n",
    "                          nthread=16)\n",
    "#model_ncr = XGBClassifier(params_tml)\n",
    "\n",
    "# utilizado para gerar os logs dos erros: error e logloss\n",
    "eval_set = [(X_train_tml, y_train_tml), (X_test_tml, y_test_tml)]\n",
    "\n",
    "# métricas de avaliação\n",
    "eval_metric = ['merror', 'mlogloss']\n",
    "\n",
    "start = time.time() # inicia o tempo de execução\n",
    "\n",
    "# inicia o treinamento\n",
    "model_tml = model_tml.fit(X_train_tml, \n",
    "                          y_train_tml, \n",
    "                          eval_metric=eval_metric, \n",
    "                          eval_set=eval_set, \n",
    "                          verbose=True)\n",
    "\n",
    "elapsed = time.time() - start # informa o tempo de execução\n",
    "\n",
    "## calcula a acurácia\n",
    "acuracia = accuracy_score(y_test_tml, model_tml.predict(X_test_tml))\n",
    "print(\"Acurácia model_tml: %.2f%%\" % (acuracia * 100.0))"
   ]
  },
  {
   "cell_type": "code",
   "execution_count": null,
   "metadata": {},
   "outputs": [],
   "source": [
    "# Grava em disco o modelo treinado e avaliado por train_test_split\n",
    "dump(model_tml, 'cep_model_tml_TESTE-1-train-test-split.dat')"
   ]
  },
  {
   "cell_type": "code",
   "execution_count": null,
   "metadata": {},
   "outputs": [],
   "source": [
    "results = model_tml.evals_result()\n",
    "epochs = len(results['validation_0']['merror'])\n",
    "x_axis = range(0, epochs)\n",
    "\n",
    "# gera gráfico mlogloss\n",
    "fig, ax = plt.subplots()\n",
    "ax.plot(x_axis, results['validation_0']['mlogloss'], label='Train')\n",
    "ax.plot(x_axis, results['validation_1']['mlogloss'], label='Test')\n",
    "ax.legend()\n",
    "plt.ylabel('mlogloss')\n",
    "plt.title('XGBoost mlogloss')\n",
    "plt.show()\n",
    "\n",
    "# gera gráfico classification merror\n",
    "fig, ax = plt.subplots()\n",
    "ax.plot(x_axis, results['validation_0']['merror'], label='Train')\n",
    "ax.plot(x_axis, results['validation_1']['merror'], label='Test')\n",
    "ax.legend()\n",
    "plt.ylabel('Erro de classificação')\n",
    "plt.title('XGBoost Classification merror')\n",
    "plt.show()"
   ]
  },
  {
   "cell_type": "markdown",
   "metadata": {},
   "source": [
    "### BOW = 4000\n",
    "- Prevendo os **5 dígitos do CEP**\n",
    "    - Incluindo como features os CEPs com `2`, `3` e `4` dígitos\n",
    "        - **Acurácia: 74.33%**\n",
    "        - Incluindo dígitos separados do CEP: **74.49%**\n",
    "        - Sem os campos numéricos dos endereços: **76.69%**\n",
    "        - Somente campos de endereço em comum no SICLI e nos Correios ['log_no','bai_no','log_no_abrev','ufe_sg']\n",
    "            - **`76.54%`**\n",
    "    - **Retirados os dígitos do CEP**\n",
    "        - **Resampling: TomekLinks**\n",
    "            - **`84.03%`**\n",
    "            - Somente as variáveis ['log_no','bai_no','log_no_abrev'] + uf (codificado com LabelEncoder)\n",
    "                - **`88.52%`**   \n",
    "\n",
    "### Melhor resultado  \n",
    "\n",
    "- **Resampling: NeighbourhoodCleaningRule**\n",
    "    - Somente as variáveis ['log_no','bai_no','log_no_abrev'] + uf (codificado com LabelEncoder)\n",
    "        - **`90.95%`**"
   ]
  },
  {
   "cell_type": "markdown",
   "metadata": {},
   "source": [
    "### Gera um gráfico de árvore de decisão para cada modelo treinado"
   ]
  },
  {
   "cell_type": "code",
   "execution_count": null,
   "metadata": {},
   "outputs": [],
   "source": [
    "from xgboost import plot_tree\n",
    "from matplotlib import pyplot"
   ]
  },
  {
   "cell_type": "code",
   "execution_count": null,
   "metadata": {},
   "outputs": [],
   "source": [
    "plot_tree(model_ncr, num_trees=0, rankdir='LR')\n",
    "fig = plt.gcf()\n",
    "fig.set_size_inches(12.5, 4.5)\n",
    "plt.show()"
   ]
  },
  {
   "cell_type": "code",
   "execution_count": null,
   "metadata": {},
   "outputs": [],
   "source": [
    "plot_tree(model_tml, num_trees=0, rankdir='LR')\n",
    "fig = plt.gcf()\n",
    "fig.set_size_inches(12.5, 4.5)\n",
    "plt.show()"
   ]
  },
  {
   "cell_type": "code",
   "execution_count": null,
   "metadata": {},
   "outputs": [],
   "source": [
    "print(model_ncr.feature_importances_)\n",
    "\n",
    "#pyplot.bar(len(model_ncr.feature_importances_), model_ncr.feature_importances_)\n",
    "plot_importance(model_ncr)\n",
    "pyplot.show()"
   ]
  },
  {
   "cell_type": "code",
   "execution_count": null,
   "metadata": {},
   "outputs": [],
   "source": [
    "print(model_tml.feature_importances_)\n",
    "\n",
    "#pyplot.bar(len(model_tml.feature_importances_), model_tml.feature_importances_)\n",
    "plot_importance(model_tml)\n",
    "pyplot.show()"
   ]
  },
  {
   "cell_type": "markdown",
   "metadata": {},
   "source": [
    "### Tunning\n",
    "- Melhor acurácia: 90.95%\n",
    "    - model_ncr\n",
    "- Resampling: NeighbourhoodCleaningRule"
   ]
  },
  {
   "cell_type": "code",
   "execution_count": null,
   "metadata": {},
   "outputs": [],
   "source": []
  },
  {
   "cell_type": "code",
   "execution_count": null,
   "metadata": {},
   "outputs": [],
   "source": []
  },
  {
   "cell_type": "code",
   "execution_count": null,
   "metadata": {},
   "outputs": [],
   "source": []
  }
 ],
 "metadata": {
  "kernelspec": {
   "display_name": "Python 3",
   "language": "python",
   "name": "python3"
  },
  "language_info": {
   "codemirror_mode": {
    "name": "ipython",
    "version": 3
   },
   "file_extension": ".py",
   "mimetype": "text/x-python",
   "name": "python",
   "nbconvert_exporter": "python",
   "pygments_lexer": "ipython3",
   "version": "3.6.10"
  }
 },
 "nbformat": 4,
 "nbformat_minor": 4
}
