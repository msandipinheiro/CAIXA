{
 "cells": [
  {
   "cell_type": "markdown",
   "metadata": {},
   "source": [
    "# Análise para input de dados  \n",
    "\n",
    "- Construção..."
   ]
  },
  {
   "cell_type": "code",
   "execution_count": 1,
   "metadata": {},
   "outputs": [],
   "source": [
    "# Importação das bibliotecas\n",
    "import pandas as pd\n",
    "import numpy as np\n",
    "import matplotlib.pyplot as plt\n",
    "import seaborn as sns\n",
    "import scipy.stats as stats"
   ]
  },
  {
   "cell_type": "code",
   "execution_count": 2,
   "metadata": {},
   "outputs": [],
   "source": [
    "from IPython.display import Image\n",
    "%matplotlib inline\n",
    "pd.set_option('display.max_columns', None)"
   ]
  },
  {
   "cell_type": "code",
   "execution_count": 3,
   "metadata": {},
   "outputs": [
    {
     "data": {
      "text/plain": [
       "(2382027, 13)"
      ]
     },
     "execution_count": 3,
     "metadata": {},
     "output_type": "execute_result"
    }
   ],
   "source": [
    "# Ler o arquivo\n",
    "# Resultado do 01.1_tratamento_filtros_dados_renda.ipynb\n",
    "df_renda = pd.read_csv(\"../../../dados/amostra_sicli_tratada/cli_renda_amostra_regras_tratamento.csv\", sep=';')\n",
    "df_renda.shape"
   ]
  },
  {
   "cell_type": "code",
   "execution_count": 4,
   "metadata": {},
   "outputs": [
    {
     "data": {
      "text/plain": [
       "Index(['nu_pessoa', 'dt_nascimento', 'ic_tipo_renda', 'vr_renda_bruta',\n",
       "       'vr_renda_liquida', 'ic_infmo_renda', 'dt_apuracao_renda', 'ic_sexo',\n",
       "       'ic_situacao', 'ic_inconsistencia', 'nu_estdo_civil_p27', 'idade',\n",
       "       'valido'],\n",
       "      dtype='object')"
      ]
     },
     "execution_count": 4,
     "metadata": {},
     "output_type": "execute_result"
    }
   ],
   "source": [
    "df_renda.columns"
   ]
  },
  {
   "cell_type": "code",
   "execution_count": 8,
   "metadata": {},
   "outputs": [
    {
     "ename": "ValueError",
     "evalue": "list.remove(x): x not in list",
     "output_type": "error",
     "traceback": [
      "\u001b[0;31m---------------------------------------------------------------------------\u001b[0m",
      "\u001b[0;31mValueError\u001b[0m                                Traceback (most recent call last)",
      "\u001b[0;32m<ipython-input-8-a2eb6d7afac1>\u001b[0m in \u001b[0;36m<module>\u001b[0;34m\u001b[0m\n\u001b[0;32m----> 1\u001b[0;31m \u001b[0mfeatures\u001b[0m\u001b[0;34m.\u001b[0m\u001b[0mremove\u001b[0m\u001b[0;34m(\u001b[0m\u001b[0;34m\"ic_infmo_renda\"\u001b[0m\u001b[0;34m)\u001b[0m\u001b[0;34m\u001b[0m\u001b[0;34m\u001b[0m\u001b[0m\n\u001b[0m",
      "\u001b[0;31mValueError\u001b[0m: list.remove(x): x not in list"
     ]
    }
   ],
   "source": [
    "features.remove(\"ic_infmo_renda\")"
   ]
  },
  {
   "cell_type": "code",
   "execution_count": 9,
   "metadata": {},
   "outputs": [
    {
     "data": {
      "text/plain": [
       "['dt_apuracao_renda',\n",
       " 'ic_sexo',\n",
       " 'ic_tipo_renda',\n",
       " 'ic_situacao',\n",
       " 'nu_estdo_civil_p27',\n",
       " 'idade',\n",
       " 'valido']"
      ]
     },
     "execution_count": 9,
     "metadata": {},
     "output_type": "execute_result"
    }
   ],
   "source": [
    "features"
   ]
  },
  {
   "cell_type": "code",
   "execution_count": 5,
   "metadata": {},
   "outputs": [],
   "source": [
    "# Definição das features (inputs) e label (target)\n",
    "# Todas as features\n",
    "features = [#'dt_nascimento', 'vr_renda_bruta', 'vr_renda_liquida', \n",
    "            'ic_infmo_renda', 'dt_apuracao_renda', 'ic_sexo', 'ic_tipo_renda',\n",
    "            'ic_situacao', 'nu_estdo_civil_p27', 'idade', 'valido']\n",
    "\n",
    "# features e label ic_sexo\n",
    "feat=\"ic_sexo\"\n",
    "features_sexo = features.copy().remove(feat).remove(\"valido\")\n",
    "label_ic_sexo     = [feat]\n",
    "\n",
    "# features e label ic_tipo_renda\n",
    "feat=\"ic_tipo_renda\"\n",
    "features_tp_renda = features.copy().remove(feat).remove(\"valido\")\n",
    "label_tp_renda    = [feat]\n",
    "\n",
    "# features e label ic_infmo_renda\n",
    "feat=\"ic_infmo_renda\"\n",
    "features_infmo_renda = features.copy().remove(feat).remove(\"valido\")\n",
    "label_infmo_renda = [feat]\n",
    "\n",
    "# features e label dt_apuracao_renda\n",
    "feat='dt_apuracao_renda'\n",
    "features_dt_apuracao = features.copy().remove(feat).remove(\"valido\")\n",
    "label_dt_apuracao = [feat]"
   ]
  },
  {
   "cell_type": "code",
   "execution_count": 6,
   "metadata": {},
   "outputs": [
    {
     "name": "stdout",
     "output_type": "stream",
     "text": [
      "Válidos:    (1221998, 13)\n",
      "Inválidos:  (1160029, 13)\n"
     ]
    }
   ],
   "source": [
    "df_validos   = df_renda[df_renda['valido'] == True]\n",
    "df_invalidos = df_renda[df_renda['valido'] == False]\n",
    "\n",
    "print('Válidos:   ', df_validos.shape)\n",
    "print('Inválidos: ', df_invalidos.shape)"
   ]
  },
  {
   "cell_type": "markdown",
   "metadata": {},
   "source": [
    "# ic_sexo"
   ]
  },
  {
   "cell_type": "code",
   "execution_count": 7,
   "metadata": {},
   "outputs": [
    {
     "name": "stdout",
     "output_type": "stream",
     "text": [
      "Válidos:\n",
      "M    617715\n",
      "F    603686\n",
      "?       597\n",
      "Name: ic_sexo, dtype: int64\n",
      "Inválidos:\n",
      "M    629606\n",
      "F    526174\n",
      "?      4249\n",
      "Name: ic_sexo, dtype: int64\n"
     ]
    }
   ],
   "source": [
    "print('Válidos:')\n",
    "print(df_validos['ic_sexo'].value_counts())\n",
    "print('Inválidos:')\n",
    "print(df_invalidos['ic_sexo'].value_counts())"
   ]
  },
  {
   "cell_type": "markdown",
   "metadata": {},
   "source": [
    "### Inconsistências em ic_sexo\n",
    "- `? = 597` nos registros válidos\n",
    "- `? = 4249` nos registros inválidos\n",
    "- Total: `4846` inválidos\n",
    "- Serão separados os registros em dois conjuntos de dados\n",
    "    - df_ic_sexo_treino contendo os `M` e `F` válidos que serão usados para treino e validação.\n",
    "    - df_ic_sexo_inferir contendo os `4846` registros que serão inferidos pelo modelo treinado."
   ]
  },
  {
   "cell_type": "code",
   "execution_count": 8,
   "metadata": {},
   "outputs": [
    {
     "name": "stdout",
     "output_type": "stream",
     "text": [
      "Treino:   (1221401, 13)\n",
      "Inferir:  (4846, 13)\n"
     ]
    }
   ],
   "source": [
    "# registros consistentes\n",
    "df_ic_sexo_treino  = df_validos[df_validos['ic_sexo'] != '?']\n",
    "\n",
    "# df_renda será usado porque existem registros INCONSISTENTES de\n",
    "# ic_sexo em ambos datasets (válidos e inválidos)\n",
    "df_ic_sexo_inferir = df_renda[df_renda['ic_sexo'] == '?']\n",
    "print('Treino:  ', df_ic_sexo_treino.shape)\n",
    "print('Inferir: ', df_ic_sexo_inferir.shape)"
   ]
  },
  {
   "cell_type": "markdown",
   "metadata": {},
   "source": [
    "# ic_tipo_renda"
   ]
  },
  {
   "cell_type": "code",
   "execution_count": 9,
   "metadata": {
    "scrolled": true
   },
   "outputs": [
    {
     "name": "stdout",
     "output_type": "stream",
     "text": [
      "Válidos:\n",
      "F    729319\n",
      "I    492679\n",
      "Name: ic_tipo_renda, dtype: int64\n",
      "Inválidos:\n",
      "?    658335\n",
      "F    398215\n",
      "I    103479\n",
      "Name: ic_tipo_renda, dtype: int64\n"
     ]
    }
   ],
   "source": [
    "print('Válidos:')\n",
    "print(df_validos['ic_tipo_renda'].value_counts())\n",
    "print('Inválidos:')\n",
    "print(df_invalidos['ic_tipo_renda'].value_counts())"
   ]
  },
  {
   "cell_type": "markdown",
   "metadata": {},
   "source": [
    "### Inconsistências em ic_tipo_renda\n",
    "- `? = 658335` registros inválidos\n",
    "- Serão separados os registros em dois conjuntos de dados\n",
    "    - df_ic_tipo_renda_treino contendo os `F` e `I` válidos que serão usados para treino e validação.\n",
    "    - df_ic_tipo_renda_inferir contendo os `658335` registros que serão inferidos pelo modelo treinado."
   ]
  },
  {
   "cell_type": "code",
   "execution_count": 10,
   "metadata": {},
   "outputs": [
    {
     "name": "stdout",
     "output_type": "stream",
     "text": [
      "Treino:   (1221998, 13)\n",
      "Inferir:  (658335, 13)\n"
     ]
    }
   ],
   "source": [
    "# registros consistentes\n",
    "df_ic_tipo_renda_treino  = df_validos\n",
    "\n",
    "# registros INCONSISTENTES\n",
    "df_ic_tipo_renda_inferir = df_invalidos[df_invalidos['ic_tipo_renda'] == '?']\n",
    "print('Treino:  ', df_ic_tipo_renda_treino.shape)\n",
    "print('Inferir: ', df_ic_tipo_renda_inferir.shape)"
   ]
  },
  {
   "cell_type": "markdown",
   "metadata": {},
   "source": [
    "# ic_infmo_renda"
   ]
  },
  {
   "cell_type": "code",
   "execution_count": 11,
   "metadata": {},
   "outputs": [
    {
     "name": "stdout",
     "output_type": "stream",
     "text": [
      "Válidos:\n",
      "2.0    538634\n",
      "6.0    344764\n",
      "3.0    292274\n",
      "5.0     46326\n",
      "Name: ic_infmo_renda, dtype: int64\n",
      "Inválidos:\n",
      "0.0    658335\n",
      "5.0    221813\n",
      "3.0    106344\n",
      "6.0     92123\n",
      "2.0     81414\n",
      "Name: ic_infmo_renda, dtype: int64\n"
     ]
    }
   ],
   "source": [
    "print('Válidos:')\n",
    "print(df_validos['ic_infmo_renda'].value_counts())\n",
    "print('Inválidos:')\n",
    "print(df_invalidos['ic_infmo_renda'].value_counts())"
   ]
  },
  {
   "cell_type": "markdown",
   "metadata": {},
   "source": [
    "### Inconsistências em ic_infmo_renda\n",
    "- `0.0 = 658335` registros inválidos\n",
    "- Serão separados os registros em dois conjuntos de dados\n",
    "    - df_ic_infmo_renda_treino contendo os registros válidos que serão usados para treino e validação.\n",
    "    - df_ic_infmo_renda_inferir contendo os `658335` registros que serão inferidos pelo modelo treinado."
   ]
  },
  {
   "cell_type": "code",
   "execution_count": 12,
   "metadata": {},
   "outputs": [
    {
     "name": "stdout",
     "output_type": "stream",
     "text": [
      "Treino:   (1221998, 13)\n",
      "Inferir:  (658335, 13)\n"
     ]
    }
   ],
   "source": [
    "# registros consistentes\n",
    "df_ic_infmo_renda_treino  = df_validos\n",
    "\n",
    "# registros INCONSISTENTES\n",
    "df_ic_infmo_renda_inferir = df_invalidos[df_invalidos['ic_infmo_renda'] == 0]\n",
    "print('Treino:  ', df_ic_infmo_renda_treino.shape)\n",
    "print('Inferir: ', df_ic_infmo_renda_inferir.shape)"
   ]
  },
  {
   "cell_type": "markdown",
   "metadata": {},
   "source": [
    "# dt_apuracao_renda"
   ]
  },
  {
   "cell_type": "code",
   "execution_count": 13,
   "metadata": {},
   "outputs": [
    {
     "name": "stdout",
     "output_type": "stream",
     "text": [
      "Válidos:\n",
      "False    1221998\n",
      "Name: dt_apuracao_renda, dtype: int64\n",
      "Inválidos:\n",
      "True     767164\n",
      "False    392865\n",
      "Name: dt_apuracao_renda, dtype: int64\n"
     ]
    }
   ],
   "source": [
    "print('Válidos:')\n",
    "print((df_validos['dt_apuracao_renda'] == 0).value_counts())\n",
    "print('Inválidos:')\n",
    "print((df_invalidos['dt_apuracao_renda'] == 0).value_counts())"
   ]
  },
  {
   "cell_type": "markdown",
   "metadata": {},
   "source": [
    "### Inconsistências em dt_apuracao_renda\n",
    "- Em **Inválidos** `True = 767164` são registros **inconsistentes**, no caso sem dt_apuracao_renda\n",
    "- Serão separados os registros em dois conjuntos de dados\n",
    "    - df_dt_apuracao_renda_treino contendo os registros válidos que serão usados para treino e validação.\n",
    "    - df_dt_apuracao_renda_inferir contendo os `767164` registros que serão inferidos pelo modelo treinado."
   ]
  },
  {
   "cell_type": "markdown",
   "metadata": {},
   "source": [
    "# Modelo de classificação"
   ]
  },
  {
   "cell_type": "markdown",
   "metadata": {},
   "source": [
    "## Gera amostragem conforme a calculadora:  \n",
    "https://www.solvis.com.br/calculos-de-amostragem/  \n",
    "\n",
    "- **Calculadora 2**\n",
    "    - População: 1.741.828\n",
    "    - Margem de erro (%): 1\n",
    "    - Confiabilidade (%): 99\n",
    "    - Tamanho da Amostra: 16419"
   ]
  },
  {
   "cell_type": "code",
   "execution_count": 14,
   "metadata": {},
   "outputs": [
    {
     "name": "stdout",
     "output_type": "stream",
     "text": [
      "(1221401, 6)\n",
      "(1221401, 1)\n"
     ]
    }
   ],
   "source": [
    "df_features = df_ic_sexo_treino[features_sexo]\n",
    "df_label    = df_ic_sexo_treino[label_ic_sexo]\n",
    "\n",
    "print(df_features.shape)\n",
    "print(df_label.shape)"
   ]
  },
  {
   "cell_type": "code",
   "execution_count": 15,
   "metadata": {},
   "outputs": [
    {
     "data": {
      "text/html": [
       "<div>\n",
       "<style scoped>\n",
       "    .dataframe tbody tr th:only-of-type {\n",
       "        vertical-align: middle;\n",
       "    }\n",
       "\n",
       "    .dataframe tbody tr th {\n",
       "        vertical-align: top;\n",
       "    }\n",
       "\n",
       "    .dataframe thead th {\n",
       "        text-align: right;\n",
       "    }\n",
       "</style>\n",
       "<table border=\"1\" class=\"dataframe\">\n",
       "  <thead>\n",
       "    <tr style=\"text-align: right;\">\n",
       "      <th></th>\n",
       "      <th>ic_infmo_renda</th>\n",
       "      <th>dt_apuracao_renda</th>\n",
       "      <th>ic_tipo_renda</th>\n",
       "      <th>ic_situacao</th>\n",
       "      <th>nu_estdo_civil_p27</th>\n",
       "      <th>idade</th>\n",
       "    </tr>\n",
       "  </thead>\n",
       "  <tbody>\n",
       "    <tr>\n",
       "      <th>0</th>\n",
       "      <td>2.0</td>\n",
       "      <td>201710</td>\n",
       "      <td>I</td>\n",
       "      <td>1</td>\n",
       "      <td>9</td>\n",
       "      <td>66</td>\n",
       "    </tr>\n",
       "    <tr>\n",
       "      <th>1</th>\n",
       "      <td>6.0</td>\n",
       "      <td>201709</td>\n",
       "      <td>F</td>\n",
       "      <td>1</td>\n",
       "      <td>9</td>\n",
       "      <td>34</td>\n",
       "    </tr>\n",
       "    <tr>\n",
       "      <th>2</th>\n",
       "      <td>6.0</td>\n",
       "      <td>201709</td>\n",
       "      <td>F</td>\n",
       "      <td>1</td>\n",
       "      <td>9</td>\n",
       "      <td>34</td>\n",
       "    </tr>\n",
       "    <tr>\n",
       "      <th>3</th>\n",
       "      <td>2.0</td>\n",
       "      <td>201511</td>\n",
       "      <td>I</td>\n",
       "      <td>1</td>\n",
       "      <td>9</td>\n",
       "      <td>52</td>\n",
       "    </tr>\n",
       "    <tr>\n",
       "      <th>4</th>\n",
       "      <td>2.0</td>\n",
       "      <td>201702</td>\n",
       "      <td>I</td>\n",
       "      <td>1</td>\n",
       "      <td>1</td>\n",
       "      <td>47</td>\n",
       "    </tr>\n",
       "    <tr>\n",
       "      <th>...</th>\n",
       "      <td>...</td>\n",
       "      <td>...</td>\n",
       "      <td>...</td>\n",
       "      <td>...</td>\n",
       "      <td>...</td>\n",
       "      <td>...</td>\n",
       "    </tr>\n",
       "    <tr>\n",
       "      <th>1221993</th>\n",
       "      <td>2.0</td>\n",
       "      <td>201412</td>\n",
       "      <td>I</td>\n",
       "      <td>1</td>\n",
       "      <td>1</td>\n",
       "      <td>24</td>\n",
       "    </tr>\n",
       "    <tr>\n",
       "      <th>1221994</th>\n",
       "      <td>2.0</td>\n",
       "      <td>201603</td>\n",
       "      <td>I</td>\n",
       "      <td>1</td>\n",
       "      <td>9</td>\n",
       "      <td>53</td>\n",
       "    </tr>\n",
       "    <tr>\n",
       "      <th>1221995</th>\n",
       "      <td>6.0</td>\n",
       "      <td>201509</td>\n",
       "      <td>F</td>\n",
       "      <td>1</td>\n",
       "      <td>9</td>\n",
       "      <td>55</td>\n",
       "    </tr>\n",
       "    <tr>\n",
       "      <th>1221996</th>\n",
       "      <td>3.0</td>\n",
       "      <td>201510</td>\n",
       "      <td>F</td>\n",
       "      <td>1</td>\n",
       "      <td>1</td>\n",
       "      <td>29</td>\n",
       "    </tr>\n",
       "    <tr>\n",
       "      <th>1221997</th>\n",
       "      <td>2.0</td>\n",
       "      <td>201703</td>\n",
       "      <td>I</td>\n",
       "      <td>1</td>\n",
       "      <td>9</td>\n",
       "      <td>59</td>\n",
       "    </tr>\n",
       "  </tbody>\n",
       "</table>\n",
       "<p>1221401 rows × 6 columns</p>\n",
       "</div>"
      ],
      "text/plain": [
       "         ic_infmo_renda  dt_apuracao_renda ic_tipo_renda  ic_situacao  \\\n",
       "0                   2.0             201710             I            1   \n",
       "1                   6.0             201709             F            1   \n",
       "2                   6.0             201709             F            1   \n",
       "3                   2.0             201511             I            1   \n",
       "4                   2.0             201702             I            1   \n",
       "...                 ...                ...           ...          ...   \n",
       "1221993             2.0             201412             I            1   \n",
       "1221994             2.0             201603             I            1   \n",
       "1221995             6.0             201509             F            1   \n",
       "1221996             3.0             201510             F            1   \n",
       "1221997             2.0             201703             I            1   \n",
       "\n",
       "         nu_estdo_civil_p27  idade  \n",
       "0                         9     66  \n",
       "1                         9     34  \n",
       "2                         9     34  \n",
       "3                         9     52  \n",
       "4                         1     47  \n",
       "...                     ...    ...  \n",
       "1221993                   1     24  \n",
       "1221994                   9     53  \n",
       "1221995                   9     55  \n",
       "1221996                   1     29  \n",
       "1221997                   9     59  \n",
       "\n",
       "[1221401 rows x 6 columns]"
      ]
     },
     "execution_count": 15,
     "metadata": {},
     "output_type": "execute_result"
    }
   ],
   "source": [
    "df_features"
   ]
  },
  {
   "cell_type": "code",
   "execution_count": 16,
   "metadata": {},
   "outputs": [
    {
     "name": "stdout",
     "output_type": "stream",
     "text": [
      "(3665, 6) (3665, 1)\n"
     ]
    }
   ],
   "source": [
    "# Amostra extratificada pela faixa de renda líquida.\n",
    "from sklearn.model_selection import train_test_split\n",
    "\n",
    "X, y = df_features[features_sexo], df_label[label_ic_sexo]\n",
    "X_train, X_test, y_train, y_test =\\\n",
    "     train_test_split(X, y,\n",
    "                      test_size=0.003, #0.013441941,\n",
    "                      random_state=42,\n",
    "                      stratify=y)\n",
    "\n",
    "del X_train\n",
    "del y_train\n",
    "\n",
    "#print (X_train.shape, y_train.shape)\n",
    "print (X_test.shape, y_test.shape)"
   ]
  },
  {
   "cell_type": "markdown",
   "metadata": {},
   "source": [
    "#### `X` e `y` correspondem as variáveis independentes e dependente, respectivamente.\n",
    "#### Estudo de qual dos modelos será o que melhor se aplica ao problema."
   ]
  },
  {
   "cell_type": "code",
   "execution_count": 17,
   "metadata": {},
   "outputs": [
    {
     "name": "stdout",
     "output_type": "stream",
     "text": [
      "(3665, 6) (3665, 1)\n"
     ]
    }
   ],
   "source": [
    "X = X_test\n",
    "y = y_test\n",
    "\n",
    "del X_test, y_test\n",
    "\n",
    "print(X.shape,y.shape)"
   ]
  },
  {
   "cell_type": "markdown",
   "metadata": {},
   "source": [
    "A amostra contém 16419 resgistros. Essa amostra será dividida no conjunto de dados para o `treino` e `teste`"
   ]
  },
  {
   "cell_type": "markdown",
   "metadata": {},
   "source": [
    "### Quantidade de registros por ic_sexo"
   ]
  },
  {
   "cell_type": "code",
   "execution_count": 18,
   "metadata": {},
   "outputs": [
    {
     "data": {
      "text/plain": [
       "M    1854\n",
       "F    1811\n",
       "Name: ic_sexo, dtype: int64"
      ]
     },
     "execution_count": 18,
     "metadata": {},
     "output_type": "execute_result"
    }
   ],
   "source": [
    "y['ic_sexo'].value_counts()"
   ]
  },
  {
   "cell_type": "code",
   "execution_count": 19,
   "metadata": {},
   "outputs": [
    {
     "name": "stdout",
     "output_type": "stream",
     "text": [
      "(2455, 6) (2455, 1)\n",
      "(1210, 6) (1210, 1)\n"
     ]
    }
   ],
   "source": [
    "# Divisão do dataset em porções train e test.\n",
    "X_train, X_test, y_train, y_test =\\\n",
    "     train_test_split(X, y,\n",
    "                      test_size=0.33,\n",
    "                      shuffle=True,\n",
    "                      random_state=42,\n",
    "                      stratify=y)\n",
    "\n",
    "print (X_train.shape, y_train.shape)\n",
    "print (X_test.shape, y_test.shape)"
   ]
  },
  {
   "cell_type": "markdown",
   "metadata": {},
   "source": [
    "- 11000 amostras para o treinamento dos modelos\n",
    "- 5419 amostras para a validação da acurácia dos modelos"
   ]
  },
  {
   "cell_type": "markdown",
   "metadata": {},
   "source": [
    "# Transforma em números (encoding) as variáveis categóricas"
   ]
  },
  {
   "cell_type": "code",
   "execution_count": 20,
   "metadata": {},
   "outputs": [
    {
     "name": "stderr",
     "output_type": "stream",
     "text": [
      "/home/marcello/anaconda3/envs/av/lib/python3.6/site-packages/ipykernel_launcher.py:10: SettingWithCopyWarning: \n",
      "A value is trying to be set on a copy of a slice from a DataFrame.\n",
      "Try using .loc[row_indexer,col_indexer] = value instead\n",
      "\n",
      "See the caveats in the documentation: https://pandas.pydata.org/pandas-docs/stable/user_guide/indexing.html#returning-a-view-versus-a-copy\n",
      "  # Remove the CWD from sys.path while we load stuff.\n",
      "/home/marcello/anaconda3/envs/av/lib/python3.6/site-packages/ipykernel_launcher.py:14: SettingWithCopyWarning: \n",
      "A value is trying to be set on a copy of a slice from a DataFrame.\n",
      "Try using .loc[row_indexer,col_indexer] = value instead\n",
      "\n",
      "See the caveats in the documentation: https://pandas.pydata.org/pandas-docs/stable/user_guide/indexing.html#returning-a-view-versus-a-copy\n",
      "  \n",
      "/home/marcello/anaconda3/envs/av/lib/python3.6/site-packages/ipykernel_launcher.py:22: SettingWithCopyWarning: \n",
      "A value is trying to be set on a copy of a slice from a DataFrame.\n",
      "Try using .loc[row_indexer,col_indexer] = value instead\n",
      "\n",
      "See the caveats in the documentation: https://pandas.pydata.org/pandas-docs/stable/user_guide/indexing.html#returning-a-view-versus-a-copy\n",
      "/home/marcello/anaconda3/envs/av/lib/python3.6/site-packages/ipykernel_launcher.py:26: SettingWithCopyWarning: \n",
      "A value is trying to be set on a copy of a slice from a DataFrame.\n",
      "Try using .loc[row_indexer,col_indexer] = value instead\n",
      "\n",
      "See the caveats in the documentation: https://pandas.pydata.org/pandas-docs/stable/user_guide/indexing.html#returning-a-view-versus-a-copy\n"
     ]
    }
   ],
   "source": [
    "from sklearn.preprocessing import LabelEncoder\n",
    "le = LabelEncoder()\n",
    "\n",
    "# aplica no y_train\n",
    "### label = ic_sexo ###\n",
    "###################################\n",
    "### ic_sexo 1 = M e 0 = F ###\n",
    "###################################\n",
    "le = le.fit(y_train['ic_sexo'])\n",
    "y_train['ic_sexo'] = le.transform(y_train['ic_sexo'])\n",
    "\n",
    "# aplica no y_test\n",
    "le = le.fit(y_test['ic_sexo'])\n",
    "y_test['ic_sexo'] = le.transform(y_test['ic_sexo'])\n",
    "\n",
    "### encoding das variáveis categóricas ###\n",
    "###################################\n",
    "### ic_tipo_renda 0 = F e 1 = I ###\n",
    "###################################\n",
    "# aplica no X_train\n",
    "le = le.fit(X_train['ic_tipo_renda'])\n",
    "X_train['ic_tipo_renda'] = le.transform(X_train['ic_tipo_renda'])\n",
    "\n",
    "# aplica no X_test\n",
    "le = le.fit(X_test['ic_tipo_renda'])\n",
    "X_test['ic_tipo_renda'] = le.transform(X_test['ic_tipo_renda'])\n",
    "###################################\n",
    "\n",
    "#print(y_train.ic_sexo.value_counts())"
   ]
  },
  {
   "cell_type": "markdown",
   "metadata": {},
   "source": [
    "## Conjunto de bibliotecas usadas na preparação, treinamento e na validação dos modelos de classificação"
   ]
  },
  {
   "cell_type": "code",
   "execution_count": 21,
   "metadata": {},
   "outputs": [],
   "source": [
    "from matplotlib import pyplot\n",
    "from pandas import set_option\n",
    "from pandas.plotting import scatter_matrix\n",
    "from sklearn.preprocessing import StandardScaler\n",
    "from sklearn.model_selection import train_test_split\n",
    "from sklearn.model_selection import KFold\n",
    "from sklearn.model_selection import cross_val_score\n",
    "from sklearn.model_selection import GridSearchCV\n",
    "from sklearn.metrics import classification_report\n",
    "from sklearn.metrics import confusion_matrix\n",
    "from sklearn.metrics import accuracy_score\n",
    "from sklearn.pipeline import Pipeline"
   ]
  },
  {
   "cell_type": "markdown",
   "metadata": {},
   "source": [
    "## Algoritmos de classificação que serão utilizados"
   ]
  },
  {
   "cell_type": "code",
   "execution_count": 1,
   "metadata": {},
   "outputs": [],
   "source": [
    "from sklearn.linear_model import LogisticRegression\n",
    "from sklearn.tree import DecisionTreeClassifier\n",
    "from sklearn.ensemble import RandomForestClassifier\n",
    "from sklearn.neighbors import KNeighborsClassifier\n",
    "from sklearn.discriminant_analysis import LinearDiscriminantAnalysis\n",
    "from sklearn.naive_bayes import GaussianNB\n",
    "#from sklearn.svm import LinearSVC\n",
    "from sklearn.svm import SVC\n",
    "from sklearn.ensemble import AdaBoostClassifier\n",
    "from xgboost import XGBClassifier"
   ]
  },
  {
   "cell_type": "markdown",
   "metadata": {},
   "source": [
    "Definição de quantidade de folds, definição da seed a ser utilizada, e definição da métrica de avaliação. K-fold é um método de treinamento a ser usado em conjuntos de dados de tamanho moderado devido ao seu treinamento consumir bastante tempo.  \n",
    "Referência: https://scikit-learn.org/stable/modules/generated/sklearn.model_selection.cross_val_score.html, https://scikit-learn.org/stable/modules/generated/sklearn.model_selection.KFold.html"
   ]
  },
  {
   "cell_type": "code",
   "execution_count": 23,
   "metadata": {},
   "outputs": [
    {
     "name": "stdout",
     "output_type": "stream",
     "text": [
      "(2455, 6)\n",
      "(2455, 1)\n"
     ]
    }
   ],
   "source": [
    "print(X_train.shape)\n",
    "print(y_train.shape)"
   ]
  },
  {
   "cell_type": "code",
   "execution_count": 24,
   "metadata": {},
   "outputs": [
    {
     "data": {
      "text/html": [
       "<div>\n",
       "<style scoped>\n",
       "    .dataframe tbody tr th:only-of-type {\n",
       "        vertical-align: middle;\n",
       "    }\n",
       "\n",
       "    .dataframe tbody tr th {\n",
       "        vertical-align: top;\n",
       "    }\n",
       "\n",
       "    .dataframe thead th {\n",
       "        text-align: right;\n",
       "    }\n",
       "</style>\n",
       "<table border=\"1\" class=\"dataframe\">\n",
       "  <thead>\n",
       "    <tr style=\"text-align: right;\">\n",
       "      <th></th>\n",
       "      <th>ic_infmo_renda</th>\n",
       "      <th>dt_apuracao_renda</th>\n",
       "      <th>ic_tipo_renda</th>\n",
       "      <th>ic_situacao</th>\n",
       "      <th>nu_estdo_civil_p27</th>\n",
       "      <th>idade</th>\n",
       "    </tr>\n",
       "  </thead>\n",
       "  <tbody>\n",
       "    <tr>\n",
       "      <th>756383</th>\n",
       "      <td>3.0</td>\n",
       "      <td>200606</td>\n",
       "      <td>1</td>\n",
       "      <td>1</td>\n",
       "      <td>6</td>\n",
       "      <td>64</td>\n",
       "    </tr>\n",
       "    <tr>\n",
       "      <th>882771</th>\n",
       "      <td>3.0</td>\n",
       "      <td>202001</td>\n",
       "      <td>1</td>\n",
       "      <td>1</td>\n",
       "      <td>0</td>\n",
       "      <td>21</td>\n",
       "    </tr>\n",
       "    <tr>\n",
       "      <th>262293</th>\n",
       "      <td>6.0</td>\n",
       "      <td>201901</td>\n",
       "      <td>0</td>\n",
       "      <td>1</td>\n",
       "      <td>1</td>\n",
       "      <td>64</td>\n",
       "    </tr>\n",
       "    <tr>\n",
       "      <th>863929</th>\n",
       "      <td>6.0</td>\n",
       "      <td>201709</td>\n",
       "      <td>0</td>\n",
       "      <td>1</td>\n",
       "      <td>8</td>\n",
       "      <td>56</td>\n",
       "    </tr>\n",
       "    <tr>\n",
       "      <th>1032697</th>\n",
       "      <td>6.0</td>\n",
       "      <td>201706</td>\n",
       "      <td>0</td>\n",
       "      <td>1</td>\n",
       "      <td>9</td>\n",
       "      <td>59</td>\n",
       "    </tr>\n",
       "    <tr>\n",
       "      <th>...</th>\n",
       "      <td>...</td>\n",
       "      <td>...</td>\n",
       "      <td>...</td>\n",
       "      <td>...</td>\n",
       "      <td>...</td>\n",
       "      <td>...</td>\n",
       "    </tr>\n",
       "    <tr>\n",
       "      <th>930947</th>\n",
       "      <td>2.0</td>\n",
       "      <td>201902</td>\n",
       "      <td>0</td>\n",
       "      <td>1</td>\n",
       "      <td>1</td>\n",
       "      <td>38</td>\n",
       "    </tr>\n",
       "    <tr>\n",
       "      <th>385399</th>\n",
       "      <td>3.0</td>\n",
       "      <td>200408</td>\n",
       "      <td>0</td>\n",
       "      <td>1</td>\n",
       "      <td>1</td>\n",
       "      <td>40</td>\n",
       "    </tr>\n",
       "    <tr>\n",
       "      <th>13218</th>\n",
       "      <td>3.0</td>\n",
       "      <td>201808</td>\n",
       "      <td>1</td>\n",
       "      <td>1</td>\n",
       "      <td>3</td>\n",
       "      <td>40</td>\n",
       "    </tr>\n",
       "    <tr>\n",
       "      <th>482646</th>\n",
       "      <td>6.0</td>\n",
       "      <td>201802</td>\n",
       "      <td>0</td>\n",
       "      <td>1</td>\n",
       "      <td>1</td>\n",
       "      <td>30</td>\n",
       "    </tr>\n",
       "    <tr>\n",
       "      <th>65292</th>\n",
       "      <td>2.0</td>\n",
       "      <td>201809</td>\n",
       "      <td>0</td>\n",
       "      <td>1</td>\n",
       "      <td>9</td>\n",
       "      <td>54</td>\n",
       "    </tr>\n",
       "  </tbody>\n",
       "</table>\n",
       "<p>2455 rows × 6 columns</p>\n",
       "</div>"
      ],
      "text/plain": [
       "         ic_infmo_renda  dt_apuracao_renda  ic_tipo_renda  ic_situacao  \\\n",
       "756383              3.0             200606              1            1   \n",
       "882771              3.0             202001              1            1   \n",
       "262293              6.0             201901              0            1   \n",
       "863929              6.0             201709              0            1   \n",
       "1032697             6.0             201706              0            1   \n",
       "...                 ...                ...            ...          ...   \n",
       "930947              2.0             201902              0            1   \n",
       "385399              3.0             200408              0            1   \n",
       "13218               3.0             201808              1            1   \n",
       "482646              6.0             201802              0            1   \n",
       "65292               2.0             201809              0            1   \n",
       "\n",
       "         nu_estdo_civil_p27  idade  \n",
       "756383                    6     64  \n",
       "882771                    0     21  \n",
       "262293                    1     64  \n",
       "863929                    8     56  \n",
       "1032697                   9     59  \n",
       "...                     ...    ...  \n",
       "930947                    1     38  \n",
       "385399                    1     40  \n",
       "13218                     3     40  \n",
       "482646                    1     30  \n",
       "65292                     9     54  \n",
       "\n",
       "[2455 rows x 6 columns]"
      ]
     },
     "execution_count": 24,
     "metadata": {},
     "output_type": "execute_result"
    }
   ],
   "source": [
    "X_train"
   ]
  },
  {
   "cell_type": "code",
   "execution_count": 25,
   "metadata": {},
   "outputs": [
    {
     "data": {
      "text/html": [
       "<div>\n",
       "<style scoped>\n",
       "    .dataframe tbody tr th:only-of-type {\n",
       "        vertical-align: middle;\n",
       "    }\n",
       "\n",
       "    .dataframe tbody tr th {\n",
       "        vertical-align: top;\n",
       "    }\n",
       "\n",
       "    .dataframe thead th {\n",
       "        text-align: right;\n",
       "    }\n",
       "</style>\n",
       "<table border=\"1\" class=\"dataframe\">\n",
       "  <thead>\n",
       "    <tr style=\"text-align: right;\">\n",
       "      <th></th>\n",
       "      <th>ic_sexo</th>\n",
       "    </tr>\n",
       "  </thead>\n",
       "  <tbody>\n",
       "    <tr>\n",
       "      <th>756383</th>\n",
       "      <td>1</td>\n",
       "    </tr>\n",
       "    <tr>\n",
       "      <th>882771</th>\n",
       "      <td>0</td>\n",
       "    </tr>\n",
       "    <tr>\n",
       "      <th>262293</th>\n",
       "      <td>0</td>\n",
       "    </tr>\n",
       "    <tr>\n",
       "      <th>863929</th>\n",
       "      <td>1</td>\n",
       "    </tr>\n",
       "    <tr>\n",
       "      <th>1032697</th>\n",
       "      <td>0</td>\n",
       "    </tr>\n",
       "    <tr>\n",
       "      <th>...</th>\n",
       "      <td>...</td>\n",
       "    </tr>\n",
       "    <tr>\n",
       "      <th>930947</th>\n",
       "      <td>0</td>\n",
       "    </tr>\n",
       "    <tr>\n",
       "      <th>385399</th>\n",
       "      <td>1</td>\n",
       "    </tr>\n",
       "    <tr>\n",
       "      <th>13218</th>\n",
       "      <td>0</td>\n",
       "    </tr>\n",
       "    <tr>\n",
       "      <th>482646</th>\n",
       "      <td>1</td>\n",
       "    </tr>\n",
       "    <tr>\n",
       "      <th>65292</th>\n",
       "      <td>0</td>\n",
       "    </tr>\n",
       "  </tbody>\n",
       "</table>\n",
       "<p>2455 rows × 1 columns</p>\n",
       "</div>"
      ],
      "text/plain": [
       "         ic_sexo\n",
       "756383         1\n",
       "882771         0\n",
       "262293         0\n",
       "863929         1\n",
       "1032697        0\n",
       "...          ...\n",
       "930947         0\n",
       "385399         1\n",
       "13218          0\n",
       "482646         1\n",
       "65292          0\n",
       "\n",
       "[2455 rows x 1 columns]"
      ]
     },
     "execution_count": 25,
     "metadata": {},
     "output_type": "execute_result"
    }
   ],
   "source": [
    "y_train"
   ]
  },
  {
   "cell_type": "markdown",
   "metadata": {},
   "source": [
    "# Parâmetros de configuração da validação por KFold"
   ]
  },
  {
   "cell_type": "code",
   "execution_count": 26,
   "metadata": {},
   "outputs": [],
   "source": [
    "num_folds = 10\n",
    "seed = 42\n",
    "scoring = 'accuracy'"
   ]
  },
  {
   "cell_type": "markdown",
   "metadata": {},
   "source": [
    "# Pipeline de avaliação de desempenho de técnicas/algoritmos para classificação supervisionada"
   ]
  },
  {
   "cell_type": "code",
   "execution_count": 27,
   "metadata": {},
   "outputs": [
    {
     "name": "stdout",
     "output_type": "stream",
     "text": [
      "LR: 0.524251 (0.021003)\n",
      "LDA: 0.519355 (0.029446)\n",
      "KNN: 0.522628 (0.025671)\n",
      "CART: 0.528347 (0.028789)\n",
      "NB: 0.528722 (0.036621)\n",
      "RF: 0.556851 (0.040970)\n",
      "SVM: 0.494135 (0.033378)\n",
      "ADT: 0.544199 (0.038014)\n"
     ]
    }
   ],
   "source": [
    "# Verificação do score de cada algoritmo. Avaliação de desempenho de cada modelo.\n",
    "models = []\n",
    "models.append(('LR', LogisticRegression(solver='liblinear')))\n",
    "models.append(('LDA', LinearDiscriminantAnalysis()))\n",
    "models.append(('KNN', KNeighborsClassifier(n_jobs=-1)))\n",
    "models.append(('CART', DecisionTreeClassifier()))\n",
    "models.append(('NB', GaussianNB()))\n",
    "models.append(('RF', RandomForestClassifier(max_depth=2, random_state=0, n_jobs=-1)))\n",
    "#models.append(('SVM', LinearSVC()))\n",
    "models.append(('SVM', SVC(kernel='rbf', gamma=0.7, C=0.2)))\n",
    "models.append(('ADT', AdaBoostClassifier(DecisionTreeClassifier(max_depth=1),\n",
    "                                         algorithm=\"SAMME\",\n",
    "                                         n_estimators=200)))\n",
    "models.append(('XGB', XGBClassifier(DecisionTreeClassifier(max_depth=1),\n",
    "                                         algorithm=\"SAMME\",\n",
    "                                         n_estimators=200)))\n",
    "\n",
    "results = []\n",
    "names = []\n",
    "for name, model in models:\n",
    "\tkfold = KFold(n_splits=num_folds, random_state=seed, shuffle=True)\n",
    "\tcv_results = cross_val_score(model, X_train, y_train, cv=kfold, scoring=scoring, n_jobs=-1)\n",
    "\tresults.append(cv_results)\n",
    "\tnames.append(name)\n",
    "\tmsg = \"%s: %f (%f)\" % (name, cv_results.mean(), cv_results.std())\n",
    "\tprint(msg)"
   ]
  },
  {
   "cell_type": "code",
   "execution_count": 28,
   "metadata": {},
   "outputs": [
    {
     "data": {
      "image/png": "[encoded data removed]",
      "text/plain": [
       "<Figure size 432x288 with 1 Axes>"
      ]
     },
     "metadata": {
      "needs_background": "light"
     },
     "output_type": "display_data"
    }
   ],
   "source": [
    "# Visualização das acurácias dos diferentes modelos.\n",
    "fig = pyplot.figure()\n",
    "fig.suptitle('Comparação entre as acurácias')\n",
    "ax = fig.add_subplot(111)\n",
    "pyplot.boxplot(results)\n",
    "ax.set_xticklabels(names)\n",
    "pyplot.show()"
   ]
  },
  {
   "cell_type": "code",
   "execution_count": 29,
   "metadata": {},
   "outputs": [
    {
     "name": "stdout",
     "output_type": "stream",
     "text": [
      "LR: 0.519763 (0.029907)\n",
      "LDA: 0.519355 (0.029446)\n",
      "KNN: 0.508362 (0.027822)\n",
      "CART: 0.523459 (0.032707)\n",
      "NB: 0.528722 (0.037468)\n",
      "RF: 0.556851 (0.040970)\n",
      "SVM: 0.546647 (0.032609)\n",
      "ADT: 0.544199 (0.038014)\n"
     ]
    }
   ],
   "source": [
    "# Padronização do dataset, utilizando StandardScaler\n",
    "# Aplica normalização por z-score\n",
    "pipelines = []\n",
    "pipelines.append(('LR', Pipeline([('Scaler', StandardScaler()),('LR', LogisticRegression(solver='liblinear'))])))\n",
    "pipelines.append(('LDA', Pipeline([('Scaler', StandardScaler()),('LDA', LinearDiscriminantAnalysis())])))\n",
    "pipelines.append(('KNN', Pipeline([('Scaler', StandardScaler()),('KNN', KNeighborsClassifier(n_jobs=-1))])))\n",
    "pipelines.append(('CART', Pipeline([('Scaler', StandardScaler()),('CART', DecisionTreeClassifier())])))\n",
    "pipelines.append(('NB', Pipeline([('Scaler', StandardScaler()),('NB', GaussianNB())])))\n",
    "pipelines.append(('RF', Pipeline([('Scaler', StandardScaler()),('RF', RandomForestClassifier(max_depth=2, \n",
    "                                                                                             random_state=0, \n",
    "                                                                                             n_jobs=-1))])))\n",
    "#pipelines.append(('SVM', Pipeline([('Scaler', StandardScaler()),('SVM', LinearSVC())])))\n",
    "pipelines.append(('SVM', Pipeline([('Scaler', StandardScaler()),('SVM', SVC(kernel='rbf', \n",
    "                                                                            gamma=0.7, \n",
    "                                                                            C=0.2))])))\n",
    "pipelines.append(('ADT', Pipeline([('Scaler', StandardScaler()),('ADT', AdaBoostClassifier(DecisionTreeClassifier(max_depth=1),\n",
    "                                                                                           algorithm=\"SAMME\",\n",
    "                                                                                           n_estimators=200))])))\n",
    "results = []\n",
    "names = []\n",
    "for name, model in pipelines:\n",
    "\tkfold = KFold(n_splits=num_folds, random_state=seed, shuffle=True)\n",
    "\tcv_results = cross_val_score(model, X_train, y_train, cv=kfold, scoring=scoring, n_jobs=-1)\n",
    "\tresults.append(cv_results)\n",
    "\tnames.append(name)\n",
    "\tmsg = \"%s: %f (%f)\" % (name, cv_results.mean(), cv_results.std())\n",
    "\tprint(msg)"
   ]
  },
  {
   "cell_type": "code",
   "execution_count": 30,
   "metadata": {},
   "outputs": [
    {
     "data": {
      "image/png": "[encoded data removed]",
      "text/plain": [
       "<Figure size 432x288 with 1 Axes>"
      ]
     },
     "metadata": {
      "needs_background": "light"
     },
     "output_type": "display_data"
    }
   ],
   "source": [
    "# Visualização das acurácias dos diferentes modelos pós-normalização do dataset.\n",
    "fig = pyplot.figure()\n",
    "fig.suptitle('Escala de Algoritmos - Nomalizado - Comparação')\n",
    "ax = fig.add_subplot(111)\n",
    "pyplot.boxplot(results)\n",
    "ax.set_xticklabels(names)\n",
    "pyplot.show()"
   ]
  },
  {
   "cell_type": "code",
   "execution_count": 31,
   "metadata": {},
   "outputs": [
    {
     "name": "stdout",
     "output_type": "stream",
     "text": [
      "Best: 0.516514 using {'n_neighbors': 10}\n",
      "0.506755 (0.033820) with: {'n_neighbors': 1}\n",
      "0.507953 (0.033177) with: {'n_neighbors': 2}\n",
      "0.501047 (0.028445) with: {'n_neighbors': 3}\n",
      "0.492086 (0.030938) with: {'n_neighbors': 4}\n",
      "0.509582 (0.027207) with: {'n_neighbors': 5}\n",
      "0.507558 (0.034524) with: {'n_neighbors': 6}\n",
      "0.506323 (0.019757) with: {'n_neighbors': 7}\n",
      "0.509185 (0.025691) with: {'n_neighbors': 8}\n",
      "0.511220 (0.021207) with: {'n_neighbors': 9}\n",
      "0.516514 (0.022885) with: {'n_neighbors': 10}\n",
      "0.515683 (0.014674) with: {'n_neighbors': 11}\n",
      "0.508359 (0.016693) with: {'n_neighbors': 12}\n",
      "0.508357 (0.018028) with: {'n_neighbors': 13}\n"
     ]
    },
    {
     "name": "stderr",
     "output_type": "stream",
     "text": [
      "/home/marcello/anaconda3/envs/av/lib/python3.6/site-packages/sklearn/model_selection/_search.py:765: DataConversionWarning: A column-vector y was passed when a 1d array was expected. Please change the shape of y to (n_samples, ), for example using ravel().\n",
      "  self.best_estimator_.fit(X, y, **fit_params)\n"
     ]
    }
   ],
   "source": [
    "# Ajuste de parâmetros do modelo KNN. Tuning\n",
    "scaler = StandardScaler().fit(X_train)\n",
    "rescaledX = scaler.transform(X_train)\n",
    "\n",
    "neighbors = [1,2,3,4,5,6,7,8,9,10,11,12,13]\n",
    "param_grid = dict(n_neighbors=neighbors)\n",
    "\n",
    "model = KNeighborsClassifier(n_jobs=-1)\n",
    "\n",
    "kfold = KFold(n_splits=num_folds, random_state=seed, shuffle=True)\n",
    "\n",
    "grid = GridSearchCV(estimator=model, param_grid=param_grid, scoring=scoring, cv=kfold, n_jobs=-1)\n",
    "\n",
    "grid_result = grid.fit(rescaledX, y_train)\n",
    "#grid_result = grid.fit(X_train, y_train)\n",
    "\n",
    "print(\"Best: %f using %s\" % (grid_result.best_score_, grid_result.best_params_))\n",
    "means = grid_result.cv_results_['mean_test_score']\n",
    "stds = grid_result.cv_results_['std_test_score']\n",
    "params = grid_result.cv_results_['params']\n",
    "for mean, stdev, param in zip(means, stds, params):\n",
    "    print(\"%f (%f) with: %r\" % (mean, stdev, param))"
   ]
  },
  {
   "cell_type": "code",
   "execution_count": null,
   "metadata": {},
   "outputs": [],
   "source": [
    "# Ajuste de parâmetros do modelo svm.SVC Kernel Tuning\n",
    "scaler = StandardScaler().fit(X_train)\n",
    "rescaledX = scaler.transform(X_train)\n",
    "\n",
    "C_range = np.logspace(-2, 2)\n",
    "gamma_range = np.logspace(-3, 3)\n",
    "param_grid = dict(gamma=gamma_range, C=C_range)\n",
    "\n",
    "model = SVC(kernel='rbf')\n",
    "\n",
    "kfold = KFold(n_splits=num_folds, random_state=seed, shuffle=True)\n",
    "\n",
    "grid = GridSearchCV(estimator=model, param_grid=param_grid, scoring=scoring, cv=kfold, n_jobs=-1)\n",
    "\n",
    "grid_result = grid.fit(rescaledX, y_train)\n",
    "\n",
    "print(\"Best: %f using %s\" % (grid_result.best_score_, grid_result.best_params_))\n",
    "means = grid_result.cv_results_['mean_test_score']\n",
    "stds = grid_result.cv_results_['std_test_score']\n",
    "params = grid_result.cv_results_['params']\n",
    "for mean, stdev, param in zip(means, stds, params):\n",
    "    print(\"%f (%f) with: %r\" % (mean, stdev, param))"
   ]
  },
  {
   "cell_type": "code",
   "execution_count": null,
   "metadata": {},
   "outputs": [],
   "source": [
    "# Ajuste de parâmetros do modelo ADT - AdaBoost Decison Tree Tuning\n",
    "scaler = StandardScaler().fit(X_train)\n",
    "rescaledX = scaler.transform(X_train)\n",
    "\n",
    "n_estimators = [50,100,150,200,250]\n",
    "learning_rate = [0.1, 0.5, 1.0]\n",
    "algorithm = ['SAMME', 'SAMME.R']\n",
    "param_grid = dict(n_estimators=n_estimators, learning_rate=learning_rate, algorithm=algorithm)\n",
    "\n",
    "model = AdaBoostClassifier(DecisionTreeClassifier(max_depth=1)\n",
    "\n",
    "kfold = KFold(n_splits=num_folds, random_state=seed, shuffle=True)\n",
    "\n",
    "grid = GridSearchCV(estimator=model, param_grid=param_grid, scoring=scoring, cv=kfold, n_jobs=-1)\n",
    "\n",
    "grid_result = grid.fit(rescaledX, y_train)\n",
    "\n",
    "print(\"Best: %f using %s\" % (grid_result.best_score_, grid_result.best_params_))\n",
    "means = grid_result.cv_results_['mean_test_score']\n",
    "stds = grid_result.cv_results_['std_test_score']\n",
    "params = grid_result.cv_results_['params']\n",
    "for mean, stdev, param in zip(means, stds, params):\n",
    "    print(\"%f (%f) with: %r\" % (mean, stdev, param))"
   ]
  },
  {
   "cell_type": "code",
   "execution_count": null,
   "metadata": {},
   "outputs": [],
   "source": [
    "STOP"
   ]
  },
  {
   "cell_type": "markdown",
   "metadata": {},
   "source": [
    "### Gera nova amostragem com 30% do dataset"
   ]
  },
  {
   "cell_type": "code",
   "execution_count": null,
   "metadata": {},
   "outputs": [],
   "source": [
    "df_features = df_ic_sexo_treino[features_sexo]\n",
    "df_label    = df_ic_sexo_treino[label_ic_sexo]\n",
    "\n",
    "print(df_features.shape)\n",
    "print(df_label.shape)"
   ]
  },
  {
   "cell_type": "code",
   "execution_count": null,
   "metadata": {},
   "outputs": [],
   "source": [
    "df_label"
   ]
  },
  {
   "cell_type": "code",
   "execution_count": null,
   "metadata": {},
   "outputs": [],
   "source": [
    "from sklearn.model_selection import train_test_split\n",
    "\n",
    "X, y = df_features[features_sexo], df_label['ic_sexo']\n",
    "X_train, X_test, y_train, y_test =\\\n",
    "     train_test_split(X, y,\n",
    "                      test_size=0.3, ## -> 30% será usado para treinar e avaliar\n",
    "                      random_state=42,\n",
    "                      stratify=y)\n",
    "\n",
    "X = X_test\n",
    "y = y_test\n",
    "\n",
    "del X_train, y_train, X_test, y_test\n",
    "\n",
    "print (X.shape, y.shape)"
   ]
  },
  {
   "cell_type": "code",
   "execution_count": null,
   "metadata": {},
   "outputs": [],
   "source": [
    "y"
   ]
  },
  {
   "cell_type": "code",
   "execution_count": null,
   "metadata": {},
   "outputs": [],
   "source": [
    "from sklearn.model_selection import train_test_split\n",
    "X_train, X_test, y_train, y_test =\\\n",
    "     train_test_split(X, y,\n",
    "                      #test_size=0.15, # 15% de 522.549 será usado para avaliar\n",
    "                      test_size=0.3, # 30% de 522.549 será usado para avaliar\n",
    "                      random_state=42, \n",
    "                      stratify=y)\n",
    "\n",
    "print(X_train.shape, y_train.shape)\n",
    "print(X_test.shape, y_test.shape)"
   ]
  },
  {
   "cell_type": "code",
   "execution_count": null,
   "metadata": {},
   "outputs": [],
   "source": [
    "from sklearn.preprocessing import LabelEncoder\n",
    "le = LabelEncoder()\n",
    "\n",
    "# aplica no y_train\n",
    "### label = ic_sexo ###\n",
    "###################################\n",
    "###    ic_sexo 1 = M e 0 = F    ###\n",
    "###################################\n",
    "#le = le.fit(y_train['ic_sexo'])\n",
    "#y_train['ic_sexo'] = le.transform(y_train['ic_sexo'])\n",
    "le = le.fit(y_train)\n",
    "y_train = le.transform(y_train)\n",
    "\n",
    "# aplica no y_test\n",
    "#le = le.fit(y_test['ic_sexo'])\n",
    "#y_test['ic_sexo'] = le.transform(y_test['ic_sexo'])\n",
    "le = le.fit(y_test)\n",
    "y_test = le.transform(y_test)\n",
    "\n",
    "# encoding das variáveis categóricas\n",
    "###################################\n",
    "### ic_tipo_renda 0 = F e 1 = I ###\n",
    "###################################\n",
    "# aplica no X_train\n",
    "le = le.fit(X_train['ic_tipo_renda'])\n",
    "X_train['ic_tipo_renda'] = le.transform(X_train['ic_tipo_renda'])\n",
    "\n",
    "# aplica no X_test\n",
    "le = le.fit(X_test['ic_tipo_renda'])\n",
    "X_test['ic_tipo_renda'] = le.transform(X_test['ic_tipo_renda'])\n",
    "###################################\n",
    "\n",
    "#print(y_train.ic_sexo.value_counts())"
   ]
  },
  {
   "cell_type": "code",
   "execution_count": null,
   "metadata": {},
   "outputs": [],
   "source": [
    "# Modelo final KNN - Best: 0.537727 using {'n_neighbors': 11}\n",
    "#scaler = StandardScaler().fit(X_train)\n",
    "#rescaledX = scaler.transform(X_train)\n",
    "\n",
    "model_KNN = KNeighborsClassifier(n_neighbors=11, n_jobs=-1)\n",
    "\n",
    "#model_KNN.fit(rescaledX, y_train)\n",
    "model_KNN.fit(X_train, y_train)\n",
    "\n",
    "# Estima a acurácia no dataset de validação\n",
    "#rescaledValidationX = scaler.transform(X_test)\n",
    "\n",
    "#predictions = model_KNN.predict(rescaledValidationX)\n",
    "predictions = model_KNN.predict(X_test)\n",
    "\n",
    "print(accuracy_score(y_test, predictions))\n",
    "print(confusion_matrix(y_test, predictions))\n",
    "print(classification_report(y_test, predictions))"
   ]
  },
  {
   "cell_type": "code",
   "execution_count": null,
   "metadata": {
    "scrolled": true
   },
   "outputs": [],
   "source": [
    "# Modelo final - SVM Kernel Classifier \n",
    "# Best: ??\n",
    "scaler = StandardScaler().fit(X_train)\n",
    "rescaledX = scaler.transform(X_train)\n",
    "\n",
    "model_SVC = SVC(kernel='rbf', gamma=?, C=?)\n",
    "\n",
    "model_SVC.fit(rescaledX, y_train)\n",
    "\n",
    "# Estima a acurácia no dataset de validação\n",
    "rescaledValidationX = scaler.transform(X_test)\n",
    "\n",
    "#predictions = model_DT.predict(rescaledValidationX)\n",
    "predictions = model_SVC.predict(X_test)\n",
    "\n",
    "print(accuracy_score(y_test, predictions))\n",
    "print(confusion_matrix(y_test, predictions))\n",
    "print(classification_report(y_test, predictions))"
   ]
  },
  {
   "cell_type": "code",
   "execution_count": null,
   "metadata": {},
   "outputs": [],
   "source": [
    "# Modelo final AdaBoost Decision Tree Classifier\n",
    "# Best: ??\n",
    "scaler = StandardScaler().fit(X_train)\n",
    "rescaledX = scaler.transform(X_train)\n",
    "\n",
    "model_ADT =  AdaBoostClassifier(DecisionTreeClassifier(max_depth=1),\n",
    "                               algorithm=\"SAMME\",\n",
    "                               n_estimators=200)\n",
    "\n",
    "model_ADT.fit(rescaledX, y_train)\n",
    "\n",
    "# Estima a acurácia no dataset de validação\n",
    "rescaledValidationX = scaler.transform(X_test)\n",
    "\n",
    "predictions = model_ADT.predict(rescaledValidationX)\n",
    "#predictions = model_RF.predict(X_test)\n",
    "\n",
    "print(accuracy_score(y_test, predictions))\n",
    "print(confusion_matrix(y_test, predictions))\n",
    "print(classification_report(y_test, predictions))"
   ]
  },
  {
   "cell_type": "code",
   "execution_count": null,
   "metadata": {},
   "outputs": [],
   "source": [
    "# Modelo final Naïve Bayes Gaussian Classifier\n",
    "# Best: ??\n",
    "scaler = StandardScaler().fit(X_train)\n",
    "rescaledX = scaler.transform(X_train)\n",
    "\n",
    "model_NBG =  GaussianNB()\n",
    "\n",
    "model_NBG.fit(rescaledX, y_train)\n",
    "\n",
    "# Estima a acurácia no dataset de validação\n",
    "rescaledValidationX = scaler.transform(X_test)\n",
    "\n",
    "predictions = model_NBG.predict(rescaledValidationX)\n",
    "#predictions = model_RF.predict(X_test)\n",
    "\n",
    "print(accuracy_score(y_test, predictions))\n",
    "print(confusion_matrix(y_test, predictions))\n",
    "print(classification_report(y_test, predictions))"
   ]
  },
  {
   "cell_type": "code",
   "execution_count": null,
   "metadata": {},
   "outputs": [],
   "source": [
    "STOP"
   ]
  },
  {
   "cell_type": "markdown",
   "metadata": {},
   "source": [
    "# Execução do modelo KNN sobre todo o conjunto de dados\n",
    "Observou-se uma forte capacidade de generalização do modelo, este apresentando resultados ainda melhores quando aplicado sobre o dataset completo."
   ]
  },
  {
   "cell_type": "code",
   "execution_count": null,
   "metadata": {},
   "outputs": [],
   "source": [
    "# Ler o arquivo\n",
    "dataset = pd.read_csv(\"/home/marcello/Documentos/git/ibge-indicadores-censitarios/dados/notebook/pre_processing_cliente_renda_ibge/pre_processing_cliente_renda_ibge.csv\", sep=';')\n",
    "dataset.shape"
   ]
  },
  {
   "cell_type": "code",
   "execution_count": null,
   "metadata": {},
   "outputs": [],
   "source": [
    "# conjunto de dados SEM renda\n",
    "# será usado para inferir/estimar a faixa de renda\n",
    "dataset_sem_renda = dataset[dataset['vr_renda_bruta'] == 0]\n",
    "\n",
    "# conjunto de dados COM renda\n",
    "# será usando para treinar os modelos a inferir/estimar a renda\n",
    "dataset = dataset[dataset['vr_renda_bruta'] != 0]"
   ]
  },
  {
   "cell_type": "code",
   "execution_count": null,
   "metadata": {},
   "outputs": [],
   "source": [
    "dataset_sem_renda.shape"
   ]
  },
  {
   "cell_type": "markdown",
   "metadata": {},
   "source": [
    "### Com renda"
   ]
  },
  {
   "cell_type": "code",
   "execution_count": null,
   "metadata": {},
   "outputs": [],
   "source": [
    "X, y = dataset[features], dataset['faixa_renda_bruta']\n",
    "X.shape"
   ]
  },
  {
   "cell_type": "markdown",
   "metadata": {},
   "source": [
    "### Sem renda"
   ]
  },
  {
   "cell_type": "code",
   "execution_count": null,
   "metadata": {},
   "outputs": [],
   "source": [
    "X_sem_renda, y_sem_renda = dataset_sem_renda[features], dataset_sem_renda['faixa_renda_bruta']\n",
    "X_sem_renda.shape"
   ]
  },
  {
   "cell_type": "code",
   "execution_count": null,
   "metadata": {},
   "outputs": [],
   "source": [
    "# Encoding, com 2 = M, 1 = F, 0 = ?.\n",
    "#Transformando campos tipo object em campos numéricos para aplicação dos modelos de classificação\n",
    "from sklearn.preprocessing import LabelEncoder\n",
    "le = LabelEncoder()\n",
    "\n",
    "# aplica no X['ic_sexo']\n",
    "le = le.fit(X['ic_sexo'])\n",
    "X['ic_sexo'] = le.transform(X['ic_sexo'])\n",
    "\n",
    "# aplica no X_sem_renda['ic_sexo']\n",
    "le = le.fit(X_sem_renda['ic_sexo'])\n",
    "X_sem_renda['ic_sexo'] = le.transform(X_sem_renda['ic_sexo'])"
   ]
  },
  {
   "cell_type": "code",
   "execution_count": null,
   "metadata": {},
   "outputs": [],
   "source": [
    "# Quantidade de clientes por faixas COM renda\n",
    "y.value_counts()"
   ]
  },
  {
   "cell_type": "code",
   "execution_count": null,
   "metadata": {},
   "outputs": [],
   "source": [
    "# Quantidade de clientes por faixas SEM renda\n",
    "y_sem_renda.value_counts()"
   ]
  },
  {
   "cell_type": "markdown",
   "metadata": {},
   "source": [
    "Estima faixa de renda IBGE no conjunto que possui alguma renda no SICLI"
   ]
  },
  {
   "cell_type": "code",
   "execution_count": null,
   "metadata": {},
   "outputs": [],
   "source": [
    "faixa_renda_estimada = model_KNN.predict(X)\n",
    "\n",
    "print(accuracy_score(y, faixa_renda_estimada))\n",
    "print(confusion_matrix(y, faixa_renda_estimada))\n",
    "print(classification_report(y, faixa_renda_estimada))\n",
    "                            \n",
    "dataset['faixa_renda_estimada'] = faixa_renda_estimada\n",
    "dataset[features_comparar]"
   ]
  },
  {
   "cell_type": "markdown",
   "metadata": {},
   "source": [
    "- Para provar que o modelo KNN original (acima) está adequado, foram aplicadas duas técnicas de otimização por Resampling. O intuito é identificar a possibilidade de melhoria e se de fato o modelo está generalizando e produzindo os melhores resultados.\n",
    "\n",
    "- Após aplicar as técnicas de resampling (abaixo) foi constatado que o modelo KNN original de fato produziu os melhores resultados, pois após comparar as métricas `precision`, `recall` e `f1-score` constatou-se que o modelo KNN original **sem resampling** melhorou os scores aṕos ser aplicado sobre todo o conjunto de dados.\n"
   ]
  },
  {
   "cell_type": "markdown",
   "metadata": {},
   "source": [
    "Estima faixa de renda IBGE no conjunto **SEM renda** no SICLI"
   ]
  },
  {
   "cell_type": "code",
   "execution_count": null,
   "metadata": {},
   "outputs": [],
   "source": [
    "faixa_renda_estimada = model_KNN.predict(X_sem_renda)\n",
    "\n",
    "print(accuracy_score(y_sem_renda, faixa_renda_estimada))\n",
    "print(confusion_matrix(y_sem_renda, faixa_renda_estimada))\n",
    "print(classification_report(y_sem_renda, faixa_renda_estimada))\n",
    "                            \n",
    "dataset_sem_renda['faixa_renda_estimada'] = faixa_renda_estimada\n",
    "dataset_sem_renda[features_comparar]"
   ]
  },
  {
   "cell_type": "markdown",
   "metadata": {},
   "source": [
    "## Otimização por Resampling"
   ]
  },
  {
   "cell_type": "markdown",
   "metadata": {},
   "source": [
    "Técnicas de resampling podem ser utilizadas quando existe um desbalanço entre classes. No caso da classe faixa de renda, existem muito mais registros da classe 0 do que das classes 6 e 7. Para compensar esta disparidade no dataset de forma a não prejudicar o modelo, podem ser utilizadas técnicas de resampling. Abaixo foi utilizado undersampling por Tomek Links e Neighborhood Cleaning Rows. \n",
    "Referência: https://machinelearningmastery.com/combine-oversampling-and-undersampling-for-imbalanced-classification/"
   ]
  },
  {
   "cell_type": "code",
   "execution_count": null,
   "metadata": {},
   "outputs": [],
   "source": [
    "from sklearn.model_selection import train_test_split\n",
    "\n",
    "X, y = dataset[features], dataset['faixa_renda_bruta']\n",
    "X_train, X_test, y_train, y_test =\\\n",
    "     train_test_split(X, y,\n",
    "                      test_size=0.3, ## -> 30% será usado para treinar e avaliar o modelo KNN\n",
    "                      random_state=42,\n",
    "                      stratify=y)\n",
    "\n",
    "X = X_test\n",
    "y = y_test\n",
    "\n",
    "del X_train, y_train, X_test, y_test\n",
    "\n",
    "print (X.shape, y.shape)"
   ]
  },
  {
   "cell_type": "code",
   "execution_count": null,
   "metadata": {},
   "outputs": [],
   "source": [
    "#encoding, com 2 = M, 1 = F, 0 = ?\n",
    "from sklearn.preprocessing import LabelEncoder\n",
    "le = LabelEncoder()\n",
    "\n",
    "# aplica no X_train\n",
    "le = le.fit(X['ic_sexo'])\n",
    "X['ic_sexo'] = le.transform(X['ic_sexo'])\n",
    "\n",
    "X.ic_sexo.value_counts()"
   ]
  },
  {
   "cell_type": "markdown",
   "metadata": {},
   "source": [
    "## Aplica undersampling usando heurística TomekLinks\n",
    "- https://imbalanced-learn.readthedocs.io/en/stable/auto_examples/under-sampling/plot_illustration_tomek_links.html"
   ]
  },
  {
   "cell_type": "code",
   "execution_count": null,
   "metadata": {},
   "outputs": [],
   "source": [
    "from imblearn.under_sampling import TomekLinks\n",
    "undersample = TomekLinks(n_jobs=-1)\n",
    "X_train_tml, y_train_tml = undersample.fit_resample(X, y)\n",
    "\n",
    "X_train_tml.shape"
   ]
  },
  {
   "cell_type": "code",
   "execution_count": null,
   "metadata": {},
   "outputs": [],
   "source": [
    "from sklearn.model_selection import train_test_split\n",
    "X_train, X_test, y_train, y_test =\\\n",
    "     train_test_split(X_train_tml, y_train_tml,\n",
    "                      test_size=0.3, # 30% de 518.834 será usado para avaliar o modelo\n",
    "                      random_state=42, \n",
    "                      stratify=y_train_tml)\n",
    "\n",
    "print(X_train.shape, y_train.shape)\n",
    "print(X_test.shape, y_test.shape)"
   ]
  },
  {
   "cell_type": "code",
   "execution_count": null,
   "metadata": {},
   "outputs": [],
   "source": [
    "#scaler = StandardScaler().fit(X_train)\n",
    "#rescaledX = scaler.transform(X_train)\n",
    "\n",
    "model_KNN_tml = KNeighborsClassifier(n_neighbors=1)\n",
    "\n",
    "#model_KNN_tml.fit(rescaledX, y_train)\n",
    "model_KNN_tml.fit(X_train, y_train)\n",
    "\n",
    "# Estima a acurácia no dataset de validação\n",
    "#rescaledValidationX = scaler.transform(X_test)\n",
    "\n",
    "#predictions = model_KNN_tml.predict(rescaledValidationX)\n",
    "predictions = model_KNN_tml.predict(X_test)\n",
    "\n",
    "print(accuracy_score(y_test, predictions))\n",
    "print(confusion_matrix(y_test, predictions))\n",
    "print(classification_report(y_test, predictions))"
   ]
  },
  {
   "cell_type": "markdown",
   "metadata": {},
   "source": [
    "## Estimar faixa de renda sobre todo o conjunto de dados  \n",
    "- Utilizado o dataset sobre o qual foi aplicado undersampling por Tomek Links"
   ]
  },
  {
   "cell_type": "code",
   "execution_count": null,
   "metadata": {},
   "outputs": [],
   "source": [
    "X, y = dataset[features], dataset['faixa_renda_bruta']"
   ]
  },
  {
   "cell_type": "code",
   "execution_count": null,
   "metadata": {},
   "outputs": [],
   "source": [
    "#encoding, com 2 = M, 1 = F, 0 = ?\n",
    "from sklearn.preprocessing import LabelEncoder\n",
    "le = LabelEncoder()\n",
    "\n",
    "# aplica no X['ic_sexo']\n",
    "le = le.fit(X['ic_sexo'])\n",
    "X['ic_sexo'] = le.transform(X['ic_sexo'])"
   ]
  },
  {
   "cell_type": "code",
   "execution_count": null,
   "metadata": {},
   "outputs": [],
   "source": [
    "faixa_renda_estimada = model_KNN_tml.predict(X)\n",
    "\n",
    "print(accuracy_score(y, faixa_renda_estimada))\n",
    "print(confusion_matrix(y, faixa_renda_estimada))\n",
    "print(classification_report(y, faixa_renda_estimada))\n",
    "\n",
    "dataset['faixa_renda_estimada'] = faixa_renda_estimada\n",
    "dataset[features_comparar]"
   ]
  },
  {
   "cell_type": "markdown",
   "metadata": {},
   "source": [
    "**sem renda**"
   ]
  },
  {
   "cell_type": "code",
   "execution_count": null,
   "metadata": {},
   "outputs": [],
   "source": [
    "faixa_renda_estimada = model_KNN_tml.predict(X_sem_renda)\n",
    "\n",
    "print(accuracy_score(y_sem_renda, faixa_renda_estimada))\n",
    "print(confusion_matrix(y_sem_renda, faixa_renda_estimada))\n",
    "print(classification_report(y_sem_renda, faixa_renda_estimada))\n",
    "\n",
    "dataset_sem_renda['faixa_renda_estimada'] = faixa_renda_estimada\n",
    "dataset_sem_renda[features_comparar]"
   ]
  },
  {
   "cell_type": "markdown",
   "metadata": {},
   "source": [
    "## Aplica undersampling usando heurística NeighbourhoodCleaningRule  \n",
    "- https://imbalanced-learn.readthedocs.io/en/stable/generated/imblearn.under_sampling.NeighbourhoodCleaningRule.html  "
   ]
  },
  {
   "cell_type": "code",
   "execution_count": null,
   "metadata": {},
   "outputs": [],
   "source": [
    "from imblearn.under_sampling import NeighbourhoodCleaningRule\n",
    "ncr = NeighbourhoodCleaningRule(n_jobs=-1)\n",
    "X_train_ncr, y_train_ncr = ncr.fit_resample(X,y)\n",
    "\n",
    "X_train_ncr.shape"
   ]
  },
  {
   "cell_type": "code",
   "execution_count": null,
   "metadata": {},
   "outputs": [],
   "source": [
    "from sklearn.model_selection import train_test_split\n",
    "X_train, X_test, y_train, y_test =\\\n",
    "     train_test_split(X_train_ncr, y_train_ncr,\n",
    "                      #test_size=0.15, # 15% \n",
    "                      test_size=0.30, # 30% \n",
    "                      random_state=42, \n",
    "                      stratify=y_train_ncr)\n",
    "\n",
    "print(X_train.shape, y_train.shape)\n",
    "print(X_test.shape, y_test.shape)"
   ]
  },
  {
   "cell_type": "code",
   "execution_count": null,
   "metadata": {},
   "outputs": [],
   "source": [
    "#scaler = StandardScaler().fit(X_train)\n",
    "#rescaledX = scaler.transform(X_train)\n",
    "\n",
    "model_KNN_ncr = KNeighborsClassifier(n_neighbors=1)\n",
    "\n",
    "#model_KNN_ncr.fit(rescaledX, y_train)\n",
    "model_KNN_ncr.fit(X_train, y_train)\n",
    "\n",
    "# Estima a acurácia no dataset de validação\n",
    "#rescaledValidationX = scaler.transform(X_test)\n",
    "\n",
    "#predictions = model_KNN_ncr.predict(rescaledValidationX)\n",
    "predictions = model_KNN_ncr.predict(X_test)\n",
    "\n",
    "print(accuracy_score(y_test, predictions))\n",
    "print(confusion_matrix(y_test, predictions))\n",
    "print(classification_report(y_test, predictions))"
   ]
  },
  {
   "cell_type": "markdown",
   "metadata": {},
   "source": [
    "## Estimar faixa de renda sobre todo o conjunto de dados\n",
    "- Utilizado o dataset sobre o qual foi aplicado undersampling por NeighbourhoodCleaningRule"
   ]
  },
  {
   "cell_type": "code",
   "execution_count": null,
   "metadata": {},
   "outputs": [],
   "source": [
    "X, y = dataset[features], dataset['faixa_renda_bruta']"
   ]
  },
  {
   "cell_type": "code",
   "execution_count": null,
   "metadata": {},
   "outputs": [],
   "source": [
    "#encoding, com 2 = M, 1 = F, 0 = ?\n",
    "from sklearn.preprocessing import LabelEncoder\n",
    "le = LabelEncoder()\n",
    "\n",
    "# aplica no X['ic_sexo']\n",
    "le = le.fit(X['ic_sexo'])\n",
    "X['ic_sexo'] = le.transform(X['ic_sexo'])"
   ]
  },
  {
   "cell_type": "code",
   "execution_count": null,
   "metadata": {},
   "outputs": [],
   "source": [
    "faixa_renda_estimada = model_KNN_ncr.predict(X)\n",
    "\n",
    "print(accuracy_score(y, faixa_renda_estimada))\n",
    "print(confusion_matrix(y, faixa_renda_estimada))\n",
    "print(classification_report(y, faixa_renda_estimada))\n",
    "\n",
    "dataset['faixa_renda_estimada'] = faixa_renda_estimada\n",
    "dataset[features_comparar]"
   ]
  },
  {
   "cell_type": "markdown",
   "metadata": {},
   "source": [
    "**sem renda**"
   ]
  },
  {
   "cell_type": "code",
   "execution_count": null,
   "metadata": {},
   "outputs": [],
   "source": [
    "faixa_renda_estimada = model_KNN_ncr.predict(X_sem_renda)\n",
    "\n",
    "print(accuracy_score(y_sem_renda, faixa_renda_estimada))\n",
    "print(confusion_matrix(y_sem_renda, faixa_renda_estimada))\n",
    "print(classification_report(y_sem_renda, faixa_renda_estimada))\n",
    "\n",
    "dataset_sem_renda['faixa_renda_estimada'] = faixa_renda_estimada\n",
    "dataset_sem_renda[features_comparar]"
   ]
  },
  {
   "cell_type": "markdown",
   "metadata": {},
   "source": [
    "### Aplica under e over sampling usando heurística SMOTETomek\n",
    "- https://imbalanced-learn.readthedocs.io/en/stable/generated/imblearn.combine.SMOTETomek.html#imblearn.combine.SMOTETomek"
   ]
  },
  {
   "cell_type": "code",
   "execution_count": null,
   "metadata": {},
   "outputs": [],
   "source": [
    "from imblearn.combine import SMOTETomek\n",
    "\n",
    "stn = SMOTETomek(n_jobs=-1)\n",
    "X_train_stn, y_train_stn = stn.fit_resample(X,y)\n",
    "\n",
    "X_train_stn.shape"
   ]
  },
  {
   "cell_type": "code",
   "execution_count": null,
   "metadata": {},
   "outputs": [],
   "source": [
    "from sklearn.model_selection import train_test_split\n",
    "X_train, X_test, y_train, y_test =\\\n",
    "     train_test_split(X_train_stn, y_train_stn,\n",
    "                      #test_size=0.15, # 15% de 507.854 será usado para avaliar o modelo eleito\n",
    "                      test_size=0.30, # 30% de 507.854 será usado para avaliar o modelo eleito\n",
    "                      random_state=42, \n",
    "                      stratify=y_train_stn)\n",
    "\n",
    "print(X_train.shape, y_train.shape)\n",
    "print(X_test.shape, y_test.shape)"
   ]
  },
  {
   "cell_type": "code",
   "execution_count": null,
   "metadata": {},
   "outputs": [],
   "source": [
    "model_KNN_stn = KNeighborsClassifier(n_neighbors=1)\n",
    "\n",
    "model_KNN_stn.fit(X_train, y_train)\n",
    "\n",
    "# Estima a acurácia no dataset de validação\n",
    "#rescaledValidationX = scaler.transform(X_test)\n",
    "\n",
    "predictions = model_KNN_stn.predict(X_test)\n",
    "\n",
    "print(accuracy_score(y_test, predictions))\n",
    "print(confusion_matrix(y_test, predictions))\n",
    "print(classification_report(y_test, predictions))"
   ]
  },
  {
   "cell_type": "markdown",
   "metadata": {},
   "source": [
    "## Estimar faixa de renda sobre todo o conjunto de dados\n",
    "- Utilizado o dataset sobre o qual foi aplicado under e over sampling usando heurística SMOTEENN"
   ]
  },
  {
   "cell_type": "code",
   "execution_count": null,
   "metadata": {},
   "outputs": [],
   "source": [
    "X, y = dataset[features], dataset['faixa_renda_bruta']"
   ]
  },
  {
   "cell_type": "code",
   "execution_count": null,
   "metadata": {},
   "outputs": [],
   "source": [
    "#encoding, com 2 = M, 1 = F, 0 = ?\n",
    "from sklearn.preprocessing import LabelEncoder\n",
    "le = LabelEncoder()\n",
    "\n",
    "# aplica no X['ic_sexo']\n",
    "le = le.fit(X['ic_sexo'])\n",
    "X['ic_sexo'] = le.transform(X['ic_sexo'])"
   ]
  },
  {
   "cell_type": "code",
   "execution_count": null,
   "metadata": {},
   "outputs": [],
   "source": [
    "faixa_renda_estimada = model_KNN_stn.predict(X)\n",
    "\n",
    "print(accuracy_score(y, faixa_renda_estimada))\n",
    "print(confusion_matrix(y, faixa_renda_estimada))\n",
    "print(classification_report(y, faixa_renda_estimada))\n",
    "\n",
    "dataset['faixa_renda_estimada'] = faixa_renda_estimada\n",
    "dataset[features_comparar]"
   ]
  },
  {
   "cell_type": "markdown",
   "metadata": {},
   "source": [
    "#### sem renda"
   ]
  },
  {
   "cell_type": "code",
   "execution_count": null,
   "metadata": {},
   "outputs": [],
   "source": [
    "faixa_renda_estimada = model_KNN_stn.predict(X_sem_renda)\n",
    "\n",
    "print(accuracy_score(y_sem_renda, faixa_renda_estimada))\n",
    "print(confusion_matrix(y_sem_renda, faixa_renda_estimada))\n",
    "print(classification_report(y_sem_renda, faixa_renda_estimada))\n",
    "\n",
    "dataset_sem_renda['faixa_renda_estimada'] = faixa_renda_estimada\n",
    "dataset_sem_renda[features_comparar]"
   ]
  },
  {
   "cell_type": "markdown",
   "metadata": {},
   "source": [
    "Foi verificada uma leve perda de precisão aplicadas as técnicas de resampling, desta forma será utilizado o modelo sem a utilização destas técnicas"
   ]
  }
 ],
 "metadata": {
  "kernelspec": {
   "display_name": "Python 3",
   "language": "python",
   "name": "python3"
  },
  "language_info": {
   "codemirror_mode": {
    "name": "ipython",
    "version": 3
   },
   "file_extension": ".py",
   "mimetype": "text/x-python",
   "name": "python",
   "nbconvert_exporter": "python",
   "pygments_lexer": "ipython3",
   "version": "3.7.7"
  },
  "toc": {
   "base_numbering": 1,
   "nav_menu": {},
   "number_sections": true,
   "sideBar": true,
   "skip_h1_title": false,
   "title_cell": "Table of Contents",
   "title_sidebar": "Contents",
   "toc_cell": false,
   "toc_position": {},
   "toc_section_display": "block",
   "toc_window_display": true
  }
 },
 "nbformat": 4,
 "nbformat_minor": 1
}
