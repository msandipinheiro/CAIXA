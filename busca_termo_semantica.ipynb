{
 "cells": [
  {
   "cell_type": "markdown",
   "metadata": {},
   "source": [
    "## Busca Semântica\n",
    "### Word Embedding com Word2Vec\n",
    "- Word Embedding ou incorporações de palavras é uma maneira útil de converter texto em um formato interpretável para o modelo, mantendo intacto o significado semântico entre as palavras.\n",
    "\n",
    "**Nota:** Mais informações sobre Word2Vec [Wikipedia](https://en.wikipedia.org/wiki/Word2vec) e  [Gensim Word2Vec Model](https://towardsdatascience.com/a-beginners-guide-to-word-embedding-with-gensim-word2vec-model-5970fa56cc92)\n",
    "\n",
    "### Sobre o dataset\n",
    "- O dataset sicli_sidratab.csv criado foi construido utilizando:\n",
    "    - As descrições das tabelas e atributos do SICLI pertinentes ao projeto RTC-13741827 e demanda STE13854982;\n",
    "    - As descrições das tabelas agregadas contidas no IBGE-SIDRA.\n",
    "- O dataset sicli_sidra_tab_var.csv contém as informações do dataset anterior mais:\n",
    "    - As descrições das variáveis agregadas contidas no IBGE-SIDRA.\n",
    "- Cada uma dessas descrições viraram uma linha nos datasets, os quais possuem somente, a priori, a coluna/atributo DESCRICAO.\n",
    "- O objetivo desses datasets é o de propiciar, no modelo abaixo descrito, um vocabulário de palavras adequado e inerentes ao contexto SICLI vs IBGE no intuito de relacionar um termo de interesse, por exemplo `renda`, com os termos contidos no dicionário que possuem relação semântica com a palavra `renda`."
   ]
  },
  {
   "cell_type": "code",
   "execution_count": 1,
   "metadata": {},
   "outputs": [],
   "source": [
    "# Bibliotecas utilizadas na manipulação do dataset\n",
    "import pandas as pd\n",
    "import numpy as np"
   ]
  },
  {
   "cell_type": "code",
   "execution_count": null,
   "metadata": {},
   "outputs": [],
   "source": [
    "# Função que identifica o charset de qualquer dataset.\n",
    "'''\n",
    "import chardet\n",
    "def find_encoding(fname):\n",
    "    r_file = open(fname, 'rb').read()\n",
    "    result = chardet.detect(r_file)\n",
    "    charenc = result['encoding']    \n",
    "    return charenc\n",
    "\n",
    "#encoding_termo = find_encoding('sicli_sidratab.csv')\n",
    "encoding_termo = find_encoding('sicli_sidra_tab_var.csv')\n",
    "encoding_termo\n",
    "'''"
   ]
  },
  {
   "cell_type": "code",
   "execution_count": 2,
   "metadata": {},
   "outputs": [],
   "source": [
    "# Carregando o dataset em uma estrutura DataFrame do Pandas\n",
    "# Corpus é um termo utilizado na NLP que exprime uma representação textual\n",
    "\n",
    "#corpus = pd.read_csv(r'sicli_sidratab.csv', encoding=encoding_termo)\n",
    "\n",
    "#corpus = pd.read_csv(r'sicli_sidratab.csv', encoding='utf-8')\n",
    "corpus = pd.read_csv(r'sicli_sidra_tab_var.csv', encoding='utf-8')"
   ]
  },
  {
   "cell_type": "code",
   "execution_count": 3,
   "metadata": {},
   "outputs": [
    {
     "data": {
      "text/html": [
       "<div>\n",
       "<style scoped>\n",
       "    .dataframe tbody tr th:only-of-type {\n",
       "        vertical-align: middle;\n",
       "    }\n",
       "\n",
       "    .dataframe tbody tr th {\n",
       "        vertical-align: top;\n",
       "    }\n",
       "\n",
       "    .dataframe thead th {\n",
       "        text-align: right;\n",
       "    }\n",
       "</style>\n",
       "<table border=\"1\" class=\"dataframe\">\n",
       "  <thead>\n",
       "    <tr style=\"text-align: right;\">\n",
       "      <th></th>\n",
       "      <th>DESCRICAO</th>\n",
       "    </tr>\n",
       "  </thead>\n",
       "  <tbody>\n",
       "    <tr>\n",
       "      <th>0</th>\n",
       "      <td>Número seqüencial que identifica o agrupamento...</td>\n",
       "    </tr>\n",
       "    <tr>\n",
       "      <th>1</th>\n",
       "      <td>(Esta entidade será criada proprietária aqui n...</td>\n",
       "    </tr>\n",
       "    <tr>\n",
       "      <th>2</th>\n",
       "      <td>Denominação do agrupamento de tipo de público ...</td>\n",
       "    </tr>\n",
       "    <tr>\n",
       "      <th>3</th>\n",
       "      <td>(Esta entidade será criada proprietária aqui n...</td>\n",
       "    </tr>\n",
       "    <tr>\n",
       "      <th>4</th>\n",
       "      <td>Indica se um determinado nicho está disponível...</td>\n",
       "    </tr>\n",
       "  </tbody>\n",
       "</table>\n",
       "</div>"
      ],
      "text/plain": [
       "                                           DESCRICAO\n",
       "0  Número seqüencial que identifica o agrupamento...\n",
       "1  (Esta entidade será criada proprietária aqui n...\n",
       "2  Denominação do agrupamento de tipo de público ...\n",
       "3  (Esta entidade será criada proprietária aqui n...\n",
       "4  Indica se um determinado nicho está disponível..."
      ]
     },
     "execution_count": 3,
     "metadata": {},
     "output_type": "execute_result"
    }
   ],
   "source": [
    "# Mostra as cinco primeiras linhas do dataset\n",
    "termo  = pd.DataFrame(data=corpus,copy=True)\n",
    "termo.head()"
   ]
  },
  {
   "cell_type": "code",
   "execution_count": null,
   "metadata": {},
   "outputs": [],
   "source": [
    "# retira stopwords \n",
    "# conda install -c anaconda nltk\n",
    "# nltk.download('stopwords')\n",
    "'''\n",
    "import nltk\n",
    "stopwords = nltk.corpus.stopwords.words('portuguese')\n",
    "\n",
    "def clean_stopwords(text):\n",
    "    text = str(text)\n",
    "    text_cleaned = \"\"\n",
    "    for word in text.split():\n",
    "        if word in stopwords:\n",
    "            pass\n",
    "        else:\n",
    "            text_cleaned += \" \"\n",
    "            text_cleaned += word\n",
    "\n",
    "    return text_cleaned\n",
    "\n",
    "termo.DESCRICAO = clean_stopwords(termo.DESCRICAO)\n",
    "termo.DESCRICAO.head()\n",
    "'''"
   ]
  },
  {
   "cell_type": "markdown",
   "metadata": {},
   "source": [
    "### Tutorial sobre Gensim\n",
    "- [Gensim](https://radimrehurek.com/gensim/index.html) é uma biblioteca para NLP (Natural Language Process), a qual fornece uma maneira mais fácil de trabalhar com o Word2Vec, dentre outras importantes técnicas para NLP.\n",
    " \n",
    "#### Install gensim\n",
    "\n",
    "A instalação do gensim é simples:\n",
    "\n",
    "1. No terminal coloque:\n",
    "\n",
    "  `pip install --upgrade gensim`\n",
    "  \n",
    "**Nota:** Mais informações sobre Gensim no [Wikipedia](https://en.wikipedia.org/wiki/Gensim)"
   ]
  },
  {
   "cell_type": "code",
   "execution_count": 4,
   "metadata": {
    "scrolled": false
   },
   "outputs": [
    {
     "data": {
      "text/plain": [
       "0    [número, seqüencial, que, identifica, agrupame...\n",
       "1    [esta, entidade, será, criada, proprietária, a...\n",
       "2    [denominação, do, agrupamento, de, tipo, de, p...\n",
       "3    [esta, entidade, será, criada, proprietária, a...\n",
       "4    [indica, se, um, determinado, nicho, está, dis...\n",
       "5    [esta, entidade, será, criada, proprietária, a...\n",
       "6    [dia, mês, ano, de, início, da, validade, do, ...\n",
       "7    [esta, entidade, será, criada, proprietária, a...\n",
       "8    [dia, mês, ano, do, término, da, validade, do,...\n",
       "9    [esta, entidade, será, criada, proprietária, a...\n",
       "Name: DESCRICAO, dtype: object"
      ]
     },
     "execution_count": 4,
     "metadata": {},
     "output_type": "execute_result"
    }
   ],
   "source": [
    "# realiza o pré-processamento dos textos do dataset \n",
    "# \"quebrando\" cada palavra de uma linha em tokens \n",
    "from gensim.utils import simple_preprocess\n",
    "\n",
    "preproc_termo = termo.DESCRICAO.apply(lambda x: simple_preprocess(str(x)))\n",
    "preproc_termo[:10]"
   ]
  },
  {
   "cell_type": "code",
   "execution_count": 5,
   "metadata": {},
   "outputs": [],
   "source": [
    "# Carrega Word2Vec do Gensim\n",
    "from gensim.models import Word2Vec\n",
    "\n",
    "''' Treinamento da word2vec sobre o dataset de termos, tendo como resultado um acréscimo de\n",
    "das palavras/termos de negócio com as do modelo Word2Vec pré-treinado ''' \n",
    "w2v_model = Word2Vec(preproc_termo, size=300, min_count=2, sg=1)"
   ]
  },
  {
   "cell_type": "code",
   "execution_count": 6,
   "metadata": {},
   "outputs": [
    {
     "name": "stdout",
     "output_type": "stream",
     "text": [
      "tamanho do vocabulário: 3871\n"
     ]
    }
   ],
   "source": [
    "# tamanho do vocabulário\n",
    "print('Tamanho do vocabulário:', len(w2v_model.wv.vocab))"
   ]
  },
  {
   "cell_type": "code",
   "execution_count": 7,
   "metadata": {},
   "outputs": [
    {
     "name": "stdout",
     "output_type": "stream",
     "text": [
      "Dimensão do termo 'renda' no vetor: (300,)\n"
     ]
    }
   ],
   "source": [
    "# recupera a palavra 'renda' no w2v treinado\n",
    "print('Dimensão do termo \\'renda\\' no vetor:', w2v_model.wv.get_vector('renda').shape)"
   ]
  },
  {
   "cell_type": "code",
   "execution_count": 8,
   "metadata": {},
   "outputs": [
    {
     "data": {
      "text/plain": [
       "[('informal', 0.8874289989471436),\n",
       " ('formal', 0.8857548832893372),\n",
       " ('subtipos', 0.8522298336029053),\n",
       " ('patrimônio', 0.8236279487609863),\n",
       " ('comprometimento', 0.8200185894966125),\n",
       " ('aquela', 0.8073082566261292),\n",
       " ('clienteobs', 0.8032090067863464),\n",
       " ('gerado', 0.7888623476028442),\n",
       " ('não', 0.7823094129562378),\n",
       " ('maneira', 0.7728161215782166)]"
      ]
     },
     "execution_count": 8,
     "metadata": {},
     "output_type": "execute_result"
    }
   ],
   "source": [
    "# procura a palavra que mais se assemelha a 'renda'\n",
    "words_renda = w2v_model.wv.most_similar('renda')\n",
    "words_renda"
   ]
  },
  {
   "cell_type": "code",
   "execution_count": 9,
   "metadata": {},
   "outputs": [
    {
     "data": {
      "text/plain": [
       "[('caixa', 0.8728929758071899),\n",
       " ('segmentação', 0.8243274688720703),\n",
       " ('grc', 0.8232751488685608),\n",
       " ('exemplo', 0.7998248338699341),\n",
       " ('vários', 0.7932327389717102),\n",
       " ('conjunta', 0.7930757999420166),\n",
       " ('realiza', 0.7900331616401672),\n",
       " ('negócios', 0.7877436876296997),\n",
       " ('relacionamenrto', 0.7865472435951233),\n",
       " ('pode', 0.7857394814491272)]"
      ]
     },
     "execution_count": 9,
     "metadata": {},
     "output_type": "execute_result"
    }
   ],
   "source": [
    "# procura o termo que mais se assemelha a 'cliente'\n",
    "words_cliente = w2v_model.wv.most_similar('cliente')\n",
    "words_cliente"
   ]
  },
  {
   "cell_type": "code",
   "execution_count": 10,
   "metadata": {},
   "outputs": [
    {
     "data": {
      "text/plain": [
       "['desocupaçaþo',\n",
       " 'combinada',\n",
       " 'composta',\n",
       " 'subocupaçaþo',\n",
       " 'subutilizaçaþo',\n",
       " 'mortalidade',\n",
       " 'desocupacao',\n",
       " 'subocupacao',\n",
       " 'força',\n",
       " 'escolarizacao',\n",
       " 'caixa',\n",
       " 'segmentação',\n",
       " 'grc',\n",
       " 'exemplo',\n",
       " 'vários',\n",
       " 'conjunta',\n",
       " 'realiza',\n",
       " 'negócios',\n",
       " 'relacionamenrto',\n",
       " 'pode',\n",
       " 'informal',\n",
       " 'formal',\n",
       " 'subtipos',\n",
       " 'patrimônio',\n",
       " 'comprometimento',\n",
       " 'aquela',\n",
       " 'clienteobs',\n",
       " 'gerado',\n",
       " 'não',\n",
       " 'maneira']"
      ]
     },
     "execution_count": 10,
     "metadata": {},
     "output_type": "execute_result"
    }
   ],
   "source": [
    "# gera uma lista de termos similares\n",
    "words_taxa = w2v_model.wv.most_similar('taxa')\n",
    "words_cliente = w2v_model.wv.most_similar('cliente')\n",
    "words_renda = w2v_model.wv.most_similar('renda')\n",
    "\n",
    "# combina a lista de termos\n",
    "words = words_taxa + words_cliente + words_renda\n",
    "\n",
    "# extrai somente os termos e não a pontuação de similaridade\n",
    "words = list(map(lambda x: x[0], words))\n",
    "words"
   ]
  },
  {
   "cell_type": "code",
   "execution_count": 12,
   "metadata": {},
   "outputs": [
    {
     "name": "stderr",
     "output_type": "stream",
     "text": [
      "/home/marcello/anaconda3/envs/av/lib/python3.7/site-packages/ipykernel_launcher.py:10: DeprecationWarning: Call to deprecated `__getitem__` (Method will be removed in 4.0.0, use self.wv.__getitem__() instead).\n",
      "  # Remove the CWD from sys.path while we load stuff.\n"
     ]
    },
    {
     "data": {
      "image/png": "[encoded data removed]",
      "text/plain": [
       "<Figure size 432x288 with 1 Axes>"
      ]
     },
     "metadata": {
      "needs_background": "light"
     },
     "output_type": "display_data"
    },
    {
     "data": {
      "text/plain": [
       "<Figure size 1440x2232 with 0 Axes>"
      ]
     },
     "metadata": {},
     "output_type": "display_data"
    }
   ],
   "source": [
    "'''# Função que utiliza PCA para reduzir o Corpus em duas dimensões,\n",
    "# no intuito de plotar no plano carteziano X,Y as distâncias entre\n",
    "# os termos pesquisados no vocabulário. '''\n",
    "\n",
    "from matplotlib import pyplot\n",
    "from sklearn.decomposition import PCA \n",
    "\n",
    "# plots w2v embeddings (incoporação) de uma determinada lista de termos\n",
    "def plot_w2v(word_list):\n",
    "    X = w2v_model[word_list]\n",
    "    \n",
    "    # reduz para 2 dimensões \n",
    "    pca = PCA(n_components=2)\n",
    "    result = pca.fit_transform(X)\n",
    "    \n",
    "    # cria o scatter plot da projeção\n",
    "    pyplot.scatter(result[:, 0], result[:, 1])\n",
    "    for i, word in enumerate(word_list):\n",
    "        pyplot.annotate(word, xy=(result[i, 0], result[i, 1]))\n",
    "        \n",
    "    pyplot.figure(figsize=(20,31))\n",
    "    pyplot.show()\n",
    "    \n",
    "# plot w2v embeddings\n",
    "plot_w2v(words)"
   ]
  },
  {
   "cell_type": "code",
   "execution_count": 13,
   "metadata": {},
   "outputs": [
    {
     "name": "stdout",
     "output_type": "stream",
     "text": [
      "('tipos', -0.23093250393867493)\n",
      "('dados', -0.2454097867012024)\n",
      "('receita', -0.2463723123073578)\n",
      "('produto', -0.28631192445755005)\n",
      "('indice', -0.2927267849445343)\n",
      "('uso', -0.293368399143219)\n",
      "('entidades', -0.2950853109359741)\n",
      "('produtos', -0.2966740131378174)\n",
      "('sistema', -0.3059273362159729)\n",
      "('material', -0.3116729259490967)\n"
     ]
    },
    {
     "name": "stderr",
     "output_type": "stream",
     "text": [
      "/home/marcello/anaconda3/envs/av/lib/python3.7/site-packages/ipykernel_launcher.py:5: DeprecationWarning: Call to deprecated `most_similar` (Method will be removed in 4.0.0, use self.wv.most_similar() instead).\n",
      "  \"\"\"\n"
     ]
    }
   ],
   "source": [
    "# positive=['renda','cliente','banco']\n",
    "# negative=['tenha','um','não','sim','nao','dos','se','qual','das','para','da','no']\n",
    "try:\n",
    "    result = w2v_model.most_similar(positive=['renda','cliente','banco'], \n",
    "                                    negative=['tenha','um','não','sim','nao','dos','se','qual', \n",
    "                                             'das','para','da','no'], topn=10)\n",
    "    for r in result:\n",
    "        print(r)\n",
    "except Exception as inst:\n",
    "    print(inst)"
   ]
  },
  {
   "cell_type": "code",
   "execution_count": 15,
   "metadata": {},
   "outputs": [
    {
     "name": "stdout",
     "output_type": "stream",
     "text": [
      "('agencia', 0.628463864326477)\n",
      "('caracterização', 0.6258342862129211)\n",
      "('classificados', 0.6233385801315308)\n",
      "('informal', 0.6209497451782227)\n",
      "('subtipos', 0.6192984580993652)\n",
      "('afazeres', 0.6154070496559143)\n",
      "('sazonal', 0.6152575016021729)\n",
      "('líquida', 0.6152316331863403)\n",
      "('profissão', 0.6152225136756897)\n",
      "('liquida', 0.6129709482192993)\n"
     ]
    },
    {
     "name": "stderr",
     "output_type": "stream",
     "text": [
      "/home/marcello/anaconda3/envs/av/lib/python3.7/site-packages/ipykernel_launcher.py:4: DeprecationWarning: Call to deprecated `most_similar` (Method will be removed in 4.0.0, use self.wv.most_similar() instead).\n",
      "  after removing the cwd from sys.path.\n"
     ]
    }
   ],
   "source": [
    "# positive=['cliente', 'taxa', 'receita', 'renda', 'banco']\n",
    "# negative=['outro', 'feita','adicionado']\n",
    "try:\n",
    "    result = w2v_model.most_similar(positive=['cliente', 'taxa', 'receita', 'renda', 'banco'], \n",
    "                                    negative=['outro', 'feita','adicionado'], topn=10)\n",
    "    for r in result:\n",
    "        print(r)\n",
    "except Exception as inst:\n",
    "    print(inst)"
   ]
  },
  {
   "cell_type": "code",
   "execution_count": 16,
   "metadata": {},
   "outputs": [
    {
     "name": "stdout",
     "output_type": "stream",
     "text": [
      "\"word 'juros' not in vocabulary\"\n"
     ]
    },
    {
     "name": "stderr",
     "output_type": "stream",
     "text": [
      "/home/marcello/anaconda3/envs/av/lib/python3.7/site-packages/ipykernel_launcher.py:4: DeprecationWarning: Call to deprecated `most_similar` (Method will be removed in 4.0.0, use self.wv.most_similar() instead).\n",
      "  after removing the cwd from sys.path.\n"
     ]
    }
   ],
   "source": [
    "# positive=['taxa', 'renda','cliente', 'juros']\n",
    "# negative=['hora','aquela','um']\n",
    "try:\n",
    "    result = w2v_model.most_similar(positive=['taxa', 'renda','cliente', 'juros'], \n",
    "                                    negative=['hora','aquela','um'], topn=10)\n",
    "    for r in result:\n",
    "        print(r)\n",
    "except Exception as inst:\n",
    "    print(inst)"
   ]
  }
 ],
 "metadata": {
  "kernelspec": {
   "display_name": "Python 3",
   "language": "python",
   "name": "python3"
  },
  "language_info": {
   "codemirror_mode": {
    "name": "ipython",
    "version": 3
   },
   "file_extension": ".py",
   "mimetype": "text/x-python",
   "name": "python",
   "nbconvert_exporter": "python",
   "pygments_lexer": "ipython3",
   "version": "3.7.7"
  }
 },
 "nbformat": 4,
 "nbformat_minor": 4
}
