{
 "cells": [
  {
   "cell_type": "markdown",
   "metadata": {},
   "source": [
    "# Tratamento de telefones\n",
    "\n",
    "Este notebook tem como objetivo fazer a validação das estrutura de DDD e telefone.\n",
    "\n",
    "Importação da biblioteca Pandas para a manipulação dos dados de forma tabular."
   ]
  },
  {
   "cell_type": "code",
   "execution_count": 1,
   "metadata": {},
   "outputs": [],
   "source": [
    "import pandas as pd"
   ]
  },
  {
   "cell_type": "markdown",
   "metadata": {},
   "source": [
    "Leitura do arquivo de telefones."
   ]
  },
  {
   "cell_type": "code",
   "execution_count": 2,
   "metadata": {},
   "outputs": [
    {
     "name": "stderr",
     "output_type": "stream",
     "text": [
      "/home/administrador/anaconda3/lib/python3.7/site-packages/ipykernel_launcher.py:2: ParserWarning: Falling back to the 'python' engine because the 'c' engine does not support regex separators (separators > 1 char and different from '\\s+' are interpreted as regex); you can avoid this warning by specifying engine='python'.\n",
      "  \n"
     ]
    }
   ],
   "source": [
    "df = pd.read_csv('../dados/amostra_sicli/tbl_clitbp66_meicompes_202007161559.csv', delimiter='\\|\\|', \n",
    "                 header=None)"
   ]
  },
  {
   "cell_type": "markdown",
   "metadata": {},
   "source": [
    "Visualização do DataFrame."
   ]
  },
  {
   "cell_type": "code",
   "execution_count": 3,
   "metadata": {},
   "outputs": [
    {
     "data": {
      "text/html": [
       "<div>\n",
       "<style scoped>\n",
       "    .dataframe tbody tr th:only-of-type {\n",
       "        vertical-align: middle;\n",
       "    }\n",
       "\n",
       "    .dataframe tbody tr th {\n",
       "        vertical-align: top;\n",
       "    }\n",
       "\n",
       "    .dataframe thead th {\n",
       "        text-align: right;\n",
       "    }\n",
       "</style>\n",
       "<table border=\"1\" class=\"dataframe\">\n",
       "  <thead>\n",
       "    <tr style=\"text-align: right;\">\n",
       "      <th></th>\n",
       "      <th>0</th>\n",
       "      <th>1</th>\n",
       "    </tr>\n",
       "  </thead>\n",
       "  <tbody>\n",
       "    <tr>\n",
       "      <th>0</th>\n",
       "      <td>\"63        \"</td>\n",
       "      <td>\"32181635\"</td>\n",
       "    </tr>\n",
       "    <tr>\n",
       "      <th>1</th>\n",
       "      <td>\"12        \"</td>\n",
       "      <td>\"38839065\"</td>\n",
       "    </tr>\n",
       "    <tr>\n",
       "      <th>2</th>\n",
       "      <td>\"016       \"</td>\n",
       "      <td>\"92379945\"</td>\n",
       "    </tr>\n",
       "    <tr>\n",
       "      <th>3</th>\n",
       "      <td>\"62        \"</td>\n",
       "      <td>\"39880003\"</td>\n",
       "    </tr>\n",
       "    <tr>\n",
       "      <th>4</th>\n",
       "      <td>\"62        \"</td>\n",
       "      <td>\"41418424\"</td>\n",
       "    </tr>\n",
       "    <tr>\n",
       "      <th>...</th>\n",
       "      <td>...</td>\n",
       "      <td>...</td>\n",
       "    </tr>\n",
       "    <tr>\n",
       "      <th>45096</th>\n",
       "      <td>\"48        \"</td>\n",
       "      <td>\"98814697 2\"</td>\n",
       "    </tr>\n",
       "    <tr>\n",
       "      <th>45097</th>\n",
       "      <td>\"021       \"</td>\n",
       "      <td>\"97005148\"</td>\n",
       "    </tr>\n",
       "    <tr>\n",
       "      <th>45098</th>\n",
       "      <td>\"31        \"</td>\n",
       "      <td>\"35751300\"</td>\n",
       "    </tr>\n",
       "    <tr>\n",
       "      <th>45099</th>\n",
       "      <td>\"73        \"</td>\n",
       "      <td>\"99249445\"</td>\n",
       "    </tr>\n",
       "    <tr>\n",
       "      <th>45100</th>\n",
       "      <td>\"021       \"</td>\n",
       "      <td>\"976707237\"</td>\n",
       "    </tr>\n",
       "  </tbody>\n",
       "</table>\n",
       "<p>45101 rows × 2 columns</p>\n",
       "</div>"
      ],
      "text/plain": [
       "                  0             1\n",
       "0      \"63        \"    \"32181635\"\n",
       "1      \"12        \"    \"38839065\"\n",
       "2      \"016       \"    \"92379945\"\n",
       "3      \"62        \"    \"39880003\"\n",
       "4      \"62        \"    \"41418424\"\n",
       "...             ...           ...\n",
       "45096  \"48        \"  \"98814697 2\"\n",
       "45097  \"021       \"    \"97005148\"\n",
       "45098  \"31        \"    \"35751300\"\n",
       "45099  \"73        \"    \"99249445\"\n",
       "45100  \"021       \"   \"976707237\"\n",
       "\n",
       "[45101 rows x 2 columns]"
      ]
     },
     "execution_count": 3,
     "metadata": {},
     "output_type": "execute_result"
    }
   ],
   "source": [
    "df"
   ]
  },
  {
   "cell_type": "markdown",
   "metadata": {},
   "source": [
    "Renomação das colunas do DataFrame."
   ]
  },
  {
   "cell_type": "code",
   "execution_count": 4,
   "metadata": {},
   "outputs": [],
   "source": [
    "df = df.rename(columns={0:\"nu_ddd\", 1:\"nu_telefone\"})"
   ]
  },
  {
   "cell_type": "markdown",
   "metadata": {},
   "source": [
    "Foi identificado espaços sobrando nos dados, com isso foi realizado uma substituição destes espaços por nada."
   ]
  },
  {
   "cell_type": "code",
   "execution_count": 5,
   "metadata": {},
   "outputs": [],
   "source": [
    "df = df.replace(to_replace=r'\\s\\s+', value='', regex=True)"
   ]
  },
  {
   "cell_type": "markdown",
   "metadata": {},
   "source": [
    "Como este notebook está lendo os dados de um csv foi necessário remover as áspas duplas."
   ]
  },
  {
   "cell_type": "code",
   "execution_count": 6,
   "metadata": {},
   "outputs": [],
   "source": [
    "df = df.replace(to_replace=r'\\\"', value='', regex=True)"
   ]
  },
  {
   "cell_type": "markdown",
   "metadata": {},
   "source": [
    "Inclusão de zero (0) nos valores nulos."
   ]
  },
  {
   "cell_type": "code",
   "execution_count": 7,
   "metadata": {},
   "outputs": [],
   "source": [
    "df = df.fillna(0)"
   ]
  },
  {
   "cell_type": "markdown",
   "metadata": {},
   "source": [
    "Criação da rotina de validação da estrutura de DDD."
   ]
  },
  {
   "cell_type": "code",
   "execution_count": 8,
   "metadata": {},
   "outputs": [],
   "source": [
    "ddd = (11,12,13,14,15,16,17,18,19,21,22,24,27,28,31,32,33,34,35,37,38,41,42,43,44,45,46,47,48,49,51,53,54,55,61,62,63,64,65,66,67,68,69,71,73,74,75,77,79,81,82,83,84,85,86,87,88,89,91,92,93,94,95,96,97,98,99)\n",
    "valida_ddd=[]\n",
    "for i in df['nu_ddd']:\n",
    "    if int(i) in ddd:\n",
    "        valida_ddd.append(\"OK\")\n",
    "    else:\n",
    "        valida_ddd.append(\"NO\")"
   ]
  },
  {
   "cell_type": "markdown",
   "metadata": {},
   "source": [
    "Criaçao da coluna 'nu_ddd_valido' com a verificação do DDD."
   ]
  },
  {
   "cell_type": "code",
   "execution_count": 9,
   "metadata": {},
   "outputs": [],
   "source": [
    "df['nu_ddd_valido'] = valida_ddd"
   ]
  },
  {
   "cell_type": "markdown",
   "metadata": {},
   "source": [
    "Criação da rotina de validação da estrutura de telefones."
   ]
  },
  {
   "cell_type": "code",
   "execution_count": 10,
   "metadata": {},
   "outputs": [],
   "source": [
    "valida_telefone=[]\n",
    "for i in df['nu_telefone']:\n",
    "    if type(i) == str:\n",
    "        if len(i) in (8,9):\n",
    "            valida_telefone.append(\"OK\")\n",
    "        else:\n",
    "            valida_telefone.append(\"NO\")\n",
    "    else:\n",
    "        valida_telefone.append(\"NO\")"
   ]
  },
  {
   "cell_type": "markdown",
   "metadata": {},
   "source": [
    "Criaçao da coluna 'nu_ddd_valido' com a verificação do telefones."
   ]
  },
  {
   "cell_type": "code",
   "execution_count": 11,
   "metadata": {},
   "outputs": [],
   "source": [
    "df['nu_telefone_valido'] = valida_telefone"
   ]
  },
  {
   "cell_type": "markdown",
   "metadata": {},
   "source": [
    "Visualização do DataFrame final."
   ]
  },
  {
   "cell_type": "code",
   "execution_count": 12,
   "metadata": {
    "scrolled": false
   },
   "outputs": [
    {
     "data": {
      "text/html": [
       "<div>\n",
       "<style scoped>\n",
       "    .dataframe tbody tr th:only-of-type {\n",
       "        vertical-align: middle;\n",
       "    }\n",
       "\n",
       "    .dataframe tbody tr th {\n",
       "        vertical-align: top;\n",
       "    }\n",
       "\n",
       "    .dataframe thead th {\n",
       "        text-align: right;\n",
       "    }\n",
       "</style>\n",
       "<table border=\"1\" class=\"dataframe\">\n",
       "  <thead>\n",
       "    <tr style=\"text-align: right;\">\n",
       "      <th></th>\n",
       "      <th>nu_ddd</th>\n",
       "      <th>nu_telefone</th>\n",
       "      <th>nu_ddd_valido</th>\n",
       "      <th>nu_telefone_valido</th>\n",
       "    </tr>\n",
       "  </thead>\n",
       "  <tbody>\n",
       "    <tr>\n",
       "      <th>0</th>\n",
       "      <td>63</td>\n",
       "      <td>32181635</td>\n",
       "      <td>OK</td>\n",
       "      <td>OK</td>\n",
       "    </tr>\n",
       "    <tr>\n",
       "      <th>1</th>\n",
       "      <td>12</td>\n",
       "      <td>38839065</td>\n",
       "      <td>OK</td>\n",
       "      <td>OK</td>\n",
       "    </tr>\n",
       "    <tr>\n",
       "      <th>2</th>\n",
       "      <td>016</td>\n",
       "      <td>92379945</td>\n",
       "      <td>OK</td>\n",
       "      <td>OK</td>\n",
       "    </tr>\n",
       "    <tr>\n",
       "      <th>3</th>\n",
       "      <td>62</td>\n",
       "      <td>39880003</td>\n",
       "      <td>OK</td>\n",
       "      <td>OK</td>\n",
       "    </tr>\n",
       "    <tr>\n",
       "      <th>4</th>\n",
       "      <td>62</td>\n",
       "      <td>41418424</td>\n",
       "      <td>OK</td>\n",
       "      <td>OK</td>\n",
       "    </tr>\n",
       "    <tr>\n",
       "      <th>...</th>\n",
       "      <td>...</td>\n",
       "      <td>...</td>\n",
       "      <td>...</td>\n",
       "      <td>...</td>\n",
       "    </tr>\n",
       "    <tr>\n",
       "      <th>45096</th>\n",
       "      <td>48</td>\n",
       "      <td>98814697 2</td>\n",
       "      <td>OK</td>\n",
       "      <td>NO</td>\n",
       "    </tr>\n",
       "    <tr>\n",
       "      <th>45097</th>\n",
       "      <td>021</td>\n",
       "      <td>97005148</td>\n",
       "      <td>OK</td>\n",
       "      <td>OK</td>\n",
       "    </tr>\n",
       "    <tr>\n",
       "      <th>45098</th>\n",
       "      <td>31</td>\n",
       "      <td>35751300</td>\n",
       "      <td>OK</td>\n",
       "      <td>OK</td>\n",
       "    </tr>\n",
       "    <tr>\n",
       "      <th>45099</th>\n",
       "      <td>73</td>\n",
       "      <td>99249445</td>\n",
       "      <td>OK</td>\n",
       "      <td>OK</td>\n",
       "    </tr>\n",
       "    <tr>\n",
       "      <th>45100</th>\n",
       "      <td>021</td>\n",
       "      <td>976707237</td>\n",
       "      <td>OK</td>\n",
       "      <td>OK</td>\n",
       "    </tr>\n",
       "  </tbody>\n",
       "</table>\n",
       "<p>45101 rows × 4 columns</p>\n",
       "</div>"
      ],
      "text/plain": [
       "      nu_ddd nu_telefone nu_ddd_valido nu_telefone_valido\n",
       "0         63    32181635            OK                 OK\n",
       "1         12    38839065            OK                 OK\n",
       "2        016    92379945            OK                 OK\n",
       "3         62    39880003            OK                 OK\n",
       "4         62    41418424            OK                 OK\n",
       "...      ...         ...           ...                ...\n",
       "45096     48  98814697 2            OK                 NO\n",
       "45097    021    97005148            OK                 OK\n",
       "45098     31    35751300            OK                 OK\n",
       "45099     73    99249445            OK                 OK\n",
       "45100    021   976707237            OK                 OK\n",
       "\n",
       "[45101 rows x 4 columns]"
      ]
     },
     "execution_count": 12,
     "metadata": {},
     "output_type": "execute_result"
    }
   ],
   "source": [
    "df"
   ]
  },
  {
   "cell_type": "markdown",
   "metadata": {},
   "source": [
    "Filtro de para identificação dos números de telefones não válidos."
   ]
  },
  {
   "cell_type": "code",
   "execution_count": 13,
   "metadata": {
    "scrolled": false
   },
   "outputs": [
    {
     "data": {
      "text/html": [
       "<div>\n",
       "<style scoped>\n",
       "    .dataframe tbody tr th:only-of-type {\n",
       "        vertical-align: middle;\n",
       "    }\n",
       "\n",
       "    .dataframe tbody tr th {\n",
       "        vertical-align: top;\n",
       "    }\n",
       "\n",
       "    .dataframe thead th {\n",
       "        text-align: right;\n",
       "    }\n",
       "</style>\n",
       "<table border=\"1\" class=\"dataframe\">\n",
       "  <thead>\n",
       "    <tr style=\"text-align: right;\">\n",
       "      <th></th>\n",
       "      <th>nu_ddd</th>\n",
       "      <th>nu_telefone</th>\n",
       "      <th>nu_ddd_valido</th>\n",
       "      <th>nu_telefone_valido</th>\n",
       "    </tr>\n",
       "  </thead>\n",
       "  <tbody>\n",
       "    <tr>\n",
       "      <th>20</th>\n",
       "      <td>0310</td>\n",
       "      <td>92553607 0000</td>\n",
       "      <td>NO</td>\n",
       "      <td>NO</td>\n",
       "    </tr>\n",
       "    <tr>\n",
       "      <th>37</th>\n",
       "      <td>659</td>\n",
       "      <td>9168379</td>\n",
       "      <td>NO</td>\n",
       "      <td>NO</td>\n",
       "    </tr>\n",
       "    <tr>\n",
       "      <th>49</th>\n",
       "      <td>0067</td>\n",
       "      <td>8458939</td>\n",
       "      <td>OK</td>\n",
       "      <td>NO</td>\n",
       "    </tr>\n",
       "    <tr>\n",
       "      <th>53</th>\n",
       "      <td>0081</td>\n",
       "      <td>98613471 0</td>\n",
       "      <td>OK</td>\n",
       "      <td>NO</td>\n",
       "    </tr>\n",
       "    <tr>\n",
       "      <th>65</th>\n",
       "      <td>110</td>\n",
       "      <td>58210970 0</td>\n",
       "      <td>NO</td>\n",
       "      <td>NO</td>\n",
       "    </tr>\n",
       "    <tr>\n",
       "      <th>...</th>\n",
       "      <td>...</td>\n",
       "      <td>...</td>\n",
       "      <td>...</td>\n",
       "      <td>...</td>\n",
       "    </tr>\n",
       "    <tr>\n",
       "      <th>45052</th>\n",
       "      <td>0</td>\n",
       "      <td>2981921</td>\n",
       "      <td>NO</td>\n",
       "      <td>NO</td>\n",
       "    </tr>\n",
       "    <tr>\n",
       "      <th>45055</th>\n",
       "      <td>0021</td>\n",
       "      <td>98017243 6</td>\n",
       "      <td>OK</td>\n",
       "      <td>NO</td>\n",
       "    </tr>\n",
       "    <tr>\n",
       "      <th>45059</th>\n",
       "      <td>0</td>\n",
       "      <td>4215205</td>\n",
       "      <td>NO</td>\n",
       "      <td>NO</td>\n",
       "    </tr>\n",
       "    <tr>\n",
       "      <th>45085</th>\n",
       "      <td>0000</td>\n",
       "      <td>94988312 0</td>\n",
       "      <td>NO</td>\n",
       "      <td>NO</td>\n",
       "    </tr>\n",
       "    <tr>\n",
       "      <th>45096</th>\n",
       "      <td>48</td>\n",
       "      <td>98814697 2</td>\n",
       "      <td>OK</td>\n",
       "      <td>NO</td>\n",
       "    </tr>\n",
       "  </tbody>\n",
       "</table>\n",
       "<p>3261 rows × 4 columns</p>\n",
       "</div>"
      ],
      "text/plain": [
       "      nu_ddd    nu_telefone nu_ddd_valido nu_telefone_valido\n",
       "20      0310  92553607 0000            NO                 NO\n",
       "37       659        9168379            NO                 NO\n",
       "49      0067        8458939            OK                 NO\n",
       "53      0081     98613471 0            OK                 NO\n",
       "65       110     58210970 0            NO                 NO\n",
       "...      ...            ...           ...                ...\n",
       "45052      0        2981921            NO                 NO\n",
       "45055   0021     98017243 6            OK                 NO\n",
       "45059      0        4215205            NO                 NO\n",
       "45085   0000     94988312 0            NO                 NO\n",
       "45096     48     98814697 2            OK                 NO\n",
       "\n",
       "[3261 rows x 4 columns]"
      ]
     },
     "execution_count": 13,
     "metadata": {},
     "output_type": "execute_result"
    }
   ],
   "source": [
    "df[df['nu_telefone_valido'] == \"NO\"]"
   ]
  },
  {
   "cell_type": "markdown",
   "metadata": {},
   "source": [
    "Filtro de para identificação dos números de DDD não válidos."
   ]
  },
  {
   "cell_type": "code",
   "execution_count": 14,
   "metadata": {},
   "outputs": [
    {
     "data": {
      "text/html": [
       "<div>\n",
       "<style scoped>\n",
       "    .dataframe tbody tr th:only-of-type {\n",
       "        vertical-align: middle;\n",
       "    }\n",
       "\n",
       "    .dataframe tbody tr th {\n",
       "        vertical-align: top;\n",
       "    }\n",
       "\n",
       "    .dataframe thead th {\n",
       "        text-align: right;\n",
       "    }\n",
       "</style>\n",
       "<table border=\"1\" class=\"dataframe\">\n",
       "  <thead>\n",
       "    <tr style=\"text-align: right;\">\n",
       "      <th></th>\n",
       "      <th>nu_ddd</th>\n",
       "      <th>nu_telefone</th>\n",
       "      <th>nu_ddd_valido</th>\n",
       "      <th>nu_telefone_valido</th>\n",
       "    </tr>\n",
       "  </thead>\n",
       "  <tbody>\n",
       "    <tr>\n",
       "      <th>20</th>\n",
       "      <td>0310</td>\n",
       "      <td>92553607 0000</td>\n",
       "      <td>NO</td>\n",
       "      <td>NO</td>\n",
       "    </tr>\n",
       "    <tr>\n",
       "      <th>37</th>\n",
       "      <td>659</td>\n",
       "      <td>9168379</td>\n",
       "      <td>NO</td>\n",
       "      <td>NO</td>\n",
       "    </tr>\n",
       "    <tr>\n",
       "      <th>54</th>\n",
       "      <td>0000</td>\n",
       "      <td>988096867</td>\n",
       "      <td>NO</td>\n",
       "      <td>OK</td>\n",
       "    </tr>\n",
       "    <tr>\n",
       "      <th>65</th>\n",
       "      <td>110</td>\n",
       "      <td>58210970 0</td>\n",
       "      <td>NO</td>\n",
       "      <td>NO</td>\n",
       "    </tr>\n",
       "    <tr>\n",
       "      <th>115</th>\n",
       "      <td>0180</td>\n",
       "      <td>33243352 0000</td>\n",
       "      <td>NO</td>\n",
       "      <td>NO</td>\n",
       "    </tr>\n",
       "    <tr>\n",
       "      <th>...</th>\n",
       "      <td>...</td>\n",
       "      <td>...</td>\n",
       "      <td>...</td>\n",
       "      <td>...</td>\n",
       "    </tr>\n",
       "    <tr>\n",
       "      <th>45052</th>\n",
       "      <td>0</td>\n",
       "      <td>2981921</td>\n",
       "      <td>NO</td>\n",
       "      <td>NO</td>\n",
       "    </tr>\n",
       "    <tr>\n",
       "      <th>45059</th>\n",
       "      <td>0</td>\n",
       "      <td>4215205</td>\n",
       "      <td>NO</td>\n",
       "      <td>NO</td>\n",
       "    </tr>\n",
       "    <tr>\n",
       "      <th>45065</th>\n",
       "      <td>5103</td>\n",
       "      <td>22443930</td>\n",
       "      <td>NO</td>\n",
       "      <td>OK</td>\n",
       "    </tr>\n",
       "    <tr>\n",
       "      <th>45085</th>\n",
       "      <td>0000</td>\n",
       "      <td>94988312 0</td>\n",
       "      <td>NO</td>\n",
       "      <td>NO</td>\n",
       "    </tr>\n",
       "    <tr>\n",
       "      <th>45087</th>\n",
       "      <td>0219</td>\n",
       "      <td>93709155</td>\n",
       "      <td>NO</td>\n",
       "      <td>OK</td>\n",
       "    </tr>\n",
       "  </tbody>\n",
       "</table>\n",
       "<p>1592 rows × 4 columns</p>\n",
       "</div>"
      ],
      "text/plain": [
       "      nu_ddd    nu_telefone nu_ddd_valido nu_telefone_valido\n",
       "20      0310  92553607 0000            NO                 NO\n",
       "37       659        9168379            NO                 NO\n",
       "54      0000      988096867            NO                 OK\n",
       "65       110     58210970 0            NO                 NO\n",
       "115     0180  33243352 0000            NO                 NO\n",
       "...      ...            ...           ...                ...\n",
       "45052      0        2981921            NO                 NO\n",
       "45059      0        4215205            NO                 NO\n",
       "45065   5103       22443930            NO                 OK\n",
       "45085   0000     94988312 0            NO                 NO\n",
       "45087   0219       93709155            NO                 OK\n",
       "\n",
       "[1592 rows x 4 columns]"
      ]
     },
     "execution_count": 14,
     "metadata": {},
     "output_type": "execute_result"
    }
   ],
   "source": [
    "df[df['nu_ddd_valido'] == \"NO\"]"
   ]
  }
 ],
 "metadata": {
  "kernelspec": {
   "display_name": "Python 3",
   "language": "python",
   "name": "python3"
  },
  "language_info": {
   "codemirror_mode": {
    "name": "ipython",
    "version": 3
   },
   "file_extension": ".py",
   "mimetype": "text/x-python",
   "name": "python",
   "nbconvert_exporter": "python",
   "pygments_lexer": "ipython3",
   "version": "3.7.6"
  }
 },
 "nbformat": 4,
 "nbformat_minor": 4
}
