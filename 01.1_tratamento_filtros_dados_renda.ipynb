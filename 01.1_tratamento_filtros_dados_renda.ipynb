{
 "cells": [
  {
   "cell_type": "markdown",
   "metadata": {},
   "source": [
    "# Tratamento de Dados de Renda - SICLI\n",
    "--- \n",
    "Importar a biblioteca Pandas para manipulação dos dados em formato tabular."
   ]
  },
  {
   "cell_type": "code",
   "execution_count": 1,
   "metadata": {},
   "outputs": [],
   "source": [
    "import pandas as pd\n",
    "import numpy as np\n",
    "import datetime "
   ]
  },
  {
   "cell_type": "code",
   "execution_count": 2,
   "metadata": {},
   "outputs": [],
   "source": [
    "pd.set_option('float_format', '{:0.2f}'.format)"
   ]
  },
  {
   "cell_type": "markdown",
   "metadata": {},
   "source": [
    "Leitura do arquivo `cli_amostra_minas_gerais_202006051503.csv` contendo informações de renda dos clientes de Minas Gerais.  \n",
    "Para a geração deste arquivo, foi executado o [script sql](http://fontes.des.caixa/GESIR/gesir-solucoes-analiticas/ibge-indicadores-censitarios/blob/master/selecao-amostra-sicli/amostra_minas_gerais.sql#L103) utilizando os filtros de \"**sg_uf = 'MG'**\", \"**aa_fim isnull**\" e \"**ic_comprovacao = 'S'**\"."
   ]
  },
  {
   "cell_type": "code",
   "execution_count": 3,
   "metadata": {},
   "outputs": [],
   "source": [
    "arquivo = '../../../dados/amostra_sicli/cli_amostra_minas_gerais_202006051503.csv'\n",
    "sep = ';'"
   ]
  },
  {
   "cell_type": "code",
   "execution_count": 4,
   "metadata": {},
   "outputs": [],
   "source": [
    "df_renda = pd.read_csv(arquivo, sep=sep)"
   ]
  },
  {
   "cell_type": "code",
   "execution_count": 5,
   "metadata": {},
   "outputs": [
    {
     "name": "stdout",
     "output_type": "stream",
     "text": [
      "<class 'pandas.core.frame.DataFrame'>\n",
      "RangeIndex: 4251240 entries, 0 to 4251239\n",
      "Data columns (total 20 columns):\n",
      " #   Column              Dtype  \n",
      "---  ------              -----  \n",
      " 0   nu_pessoa           int64  \n",
      " 1   dt_nascimento       object \n",
      " 2   ic_tipo_renda       object \n",
      " 3   vr_renda_bruta      float64\n",
      " 4   vr_renda_liquida    float64\n",
      " 5   dt_inicio           object \n",
      " 6   dt_fim              float64\n",
      " 7   ic_principal        float64\n",
      " 8   nu_tipo_renda_p76   float64\n",
      " 9   no_atividade        object \n",
      " 10  de_local_trabalho   object \n",
      " 11  ic_infmo_renda      float64\n",
      " 12  dt_apuracao_renda   object \n",
      " 13  ic_sexo             object \n",
      " 14  ic_situacao         int64  \n",
      " 15  ic_inconsistencia   object \n",
      " 16  nu_estdo_civil_p27  int64  \n",
      " 17  de_estado_civil     int64  \n",
      " 18  nu_nivel_insto_p14  float64\n",
      " 19  de_nivel_instrucao  float64\n",
      "dtypes: float64(8), int64(4), object(8)\n",
      "memory usage: 648.7+ MB\n"
     ]
    }
   ],
   "source": [
    "df_renda.info()"
   ]
  },
  {
   "cell_type": "markdown",
   "metadata": {},
   "source": [
    "### Lista de colunas que serão desconsideradas em conformidade com:  \n",
    "http://fontes.des.caixa/GESIR/gesir-solucoes-analiticas/ibge-indicadores-censitarios/wikis/3.2.1.-qualidade-de-dados"
   ]
  },
  {
   "cell_type": "code",
   "execution_count": 6,
   "metadata": {},
   "outputs": [],
   "source": [
    "features = ['nu_pessoa', 'dt_nascimento', 'ic_tipo_renda', 'vr_renda_bruta', \n",
    "            'vr_renda_liquida', 'ic_infmo_renda', 'dt_apuracao_renda', \n",
    "            'ic_sexo', 'ic_situacao', 'ic_inconsistencia', 'nu_estdo_civil_p27']"
   ]
  },
  {
   "cell_type": "code",
   "execution_count": 7,
   "metadata": {},
   "outputs": [],
   "source": [
    "df_renda = df_renda[features]"
   ]
  },
  {
   "cell_type": "code",
   "execution_count": 8,
   "metadata": {},
   "outputs": [
    {
     "data": {
      "text/plain": [
       "Index(['nu_pessoa', 'dt_nascimento', 'ic_tipo_renda', 'vr_renda_bruta',\n",
       "       'vr_renda_liquida', 'ic_infmo_renda', 'dt_apuracao_renda', 'ic_sexo',\n",
       "       'ic_situacao', 'ic_inconsistencia', 'nu_estdo_civil_p27'],\n",
       "      dtype='object')"
      ]
     },
     "execution_count": 8,
     "metadata": {},
     "output_type": "execute_result"
    }
   ],
   "source": [
    "df_renda.columns"
   ]
  },
  {
   "cell_type": "markdown",
   "metadata": {},
   "source": [
    "### Relatório antes de tratar missing values"
   ]
  },
  {
   "cell_type": "code",
   "execution_count": 9,
<<<<<<< HEAD
=======
   "metadata": {},
   "outputs": [],
   "source": [
    "#pandas_profiling.ProfileReport(df_renda[features])"
   ]
  },
  {
   "cell_type": "code",
   "execution_count": 10,
>>>>>>> 34fed8e3dc2324a638412b657e90d466ed7b4f81
   "metadata": {},
   "outputs": [],
   "source": [
    "df_renda = df_renda[df_renda['ic_situacao'] == 1]"
   ]
  },
  {
   "cell_type": "code",
<<<<<<< HEAD
   "execution_count": 10,
=======
   "execution_count": 11,
>>>>>>> 34fed8e3dc2324a638412b657e90d466ed7b4f81
   "metadata": {},
   "outputs": [],
   "source": [
    "df_renda = df_renda.drop_duplicates()"
   ]
  },
  {
   "cell_type": "code",
<<<<<<< HEAD
   "execution_count": 11,
=======
   "execution_count": 12,
>>>>>>> 34fed8e3dc2324a638412b657e90d466ed7b4f81
   "metadata": {},
   "outputs": [],
   "source": [
    "df_renda['dt_apuracao_renda'] = df_renda['dt_apuracao_renda'].fillna('0')\n",
    "df_renda['dt_apuracao_renda'] = df_renda['dt_apuracao_renda'].replace(regex=r'\\-', value='')\n",
    "df_renda['dt_apuracao_renda'] = (df_renda['dt_apuracao_renda'].astype(int) / 100).astype(int)"
   ]
  },
  {
   "cell_type": "code",
<<<<<<< HEAD
   "execution_count": 12,
=======
   "execution_count": 13,
>>>>>>> 34fed8e3dc2324a638412b657e90d466ed7b4f81
   "metadata": {},
   "outputs": [],
   "source": [
    "df_renda = df_renda[(df_renda['dt_apuracao_renda'] >= 199407) | (df_renda['dt_apuracao_renda'] == 0)]"
   ]
  },
  {
   "cell_type": "markdown",
   "metadata": {},
   "source": [
    "### Tratar dt_nascimento e criar idade\n",
    "1. Parse de validação e formatação de data    \n",
    "   - Sobre `format='%Y-%m-%d'` e `errors='coerce'` em https://pandas.pydata.org/pandas-docs/stable/reference/api/pandas.to_datetime.html  \n",
    "2. Eliminar os casos nulos em data de nascimento  \n",
    "3. Criar a idade  \n",
    "   - Sobre `<m8[Y]` em https://stackoverflow.com/questions/29206612/difference-between-data-type-datetime64ns-and-m8ns\n",
    "4. Considerar idades onde 18 <= idade <= 110  "
   ]
  },
  {
   "cell_type": "code",
<<<<<<< HEAD
   "execution_count": 13,
=======
   "execution_count": 14,
>>>>>>> 34fed8e3dc2324a638412b657e90d466ed7b4f81
   "metadata": {},
   "outputs": [],
   "source": [
    "now = pd.Timestamp('now') # gera data atual\n",
    "# etapa 1\n",
    "df_renda['dt_nascimento'] = pd.to_datetime(df_renda['dt_nascimento'], format='%Y-%m-%d', errors='coerce')\n",
    "# etapa 2\n",
    "df_renda.dropna(subset=['dt_nascimento'], inplace=True)\n",
    "# etapa 3\n",
    "df_renda['idade'] = (now - df_renda['dt_nascimento']).astype('<m8[Y]').astype('int')\n",
    "# etapa 4\n",
    "df_renda = df_renda[(df_renda['idade']>=18) & (df_renda['idade']<=110)].reset_index(drop=True)"
   ]
  },
  {
   "cell_type": "markdown",
   "metadata": {},
   "source": [
    "#### ic_tipo_renda\n",
    "- Susbtituir NaN por `?`"
   ]
  },
  {
   "cell_type": "code",
<<<<<<< HEAD
   "execution_count": 14,
=======
   "execution_count": 15,
>>>>>>> 34fed8e3dc2324a638412b657e90d466ed7b4f81
   "metadata": {},
   "outputs": [],
   "source": [
    "df_renda[\"ic_tipo_renda\"].fillna('?',inplace=True)"
   ]
  },
  {
   "cell_type": "markdown",
   "metadata": {},
   "source": [
    "#### ic_infmo_renda\n",
    "- Susbtituir `NaN` por `0`"
   ]
  },
  {
   "cell_type": "code",
<<<<<<< HEAD
   "execution_count": 15,
=======
   "execution_count": 16,
>>>>>>> 34fed8e3dc2324a638412b657e90d466ed7b4f81
   "metadata": {},
   "outputs": [],
   "source": [
    "df_renda[\"ic_infmo_renda\"].fillna(0,inplace=True)"
   ]
  },
  {
   "cell_type": "markdown",
   "metadata": {},
   "source": [
    "#### ic_sexo\n",
    "- Susbtituir `NaN` por `?`"
   ]
  },
  {
   "cell_type": "code",
<<<<<<< HEAD
   "execution_count": 16,
=======
   "execution_count": 17,
>>>>>>> 34fed8e3dc2324a638412b657e90d466ed7b4f81
   "metadata": {},
   "outputs": [],
   "source": [
    "df_renda[\"ic_sexo\"].fillna('?',inplace=True)"
   ]
  },
  {
   "cell_type": "code",
<<<<<<< HEAD
   "execution_count": 17,
=======
   "execution_count": 18,
>>>>>>> 34fed8e3dc2324a638412b657e90d466ed7b4f81
   "metadata": {},
   "outputs": [
    {
     "name": "stdout",
     "output_type": "stream",
     "text": [
      "<class 'pandas.core.frame.DataFrame'>\n",
<<<<<<< HEAD
      "RangeIndex: 2382432 entries, 0 to 2382431\n",
=======
      "RangeIndex: 2382434 entries, 0 to 2382433\n",
>>>>>>> 34fed8e3dc2324a638412b657e90d466ed7b4f81
      "Data columns (total 12 columns):\n",
      " #   Column              Dtype         \n",
      "---  ------              -----         \n",
      " 0   nu_pessoa           int64         \n",
      " 1   dt_nascimento       datetime64[ns]\n",
      " 2   ic_tipo_renda       object        \n",
      " 3   vr_renda_bruta      float64       \n",
      " 4   vr_renda_liquida    float64       \n",
      " 5   ic_infmo_renda      float64       \n",
      " 6   dt_apuracao_renda   int64         \n",
      " 7   ic_sexo             object        \n",
      " 8   ic_situacao         int64         \n",
      " 9   ic_inconsistencia   object        \n",
      " 10  nu_estdo_civil_p27  int64         \n",
      " 11  idade               int64         \n",
      "dtypes: datetime64[ns](1), float64(3), int64(5), object(3)\n",
      "memory usage: 218.1+ MB\n"
     ]
    }
   ],
   "source": [
    "df_renda.info()"
   ]
  },
  {
   "cell_type": "code",
<<<<<<< HEAD
   "execution_count": 18,
=======
   "execution_count": 19,
>>>>>>> 34fed8e3dc2324a638412b657e90d466ed7b4f81
   "metadata": {},
   "outputs": [],
   "source": [
    "df_valido   = df_renda[(df_renda['ic_inconsistencia']  == \"N\") & (df_renda['dt_apuracao_renda'] != 0)]\n",
    "df_invalido = df_renda[((df_renda['ic_inconsistencia'] == \"N\") & (df_renda['dt_apuracao_renda'] == 0)) |\n",
    "                      ((df_renda['ic_inconsistencia']  != \"N\") & (df_renda['dt_apuracao_renda'] == 0)) |\n",
    "                      ((df_renda['ic_inconsistencia']  != \"N\") & (df_renda['dt_apuracao_renda'] != 0))]"
   ]
  },
  {
   "cell_type": "code",
<<<<<<< HEAD
   "execution_count": 19,
   "metadata": {},
   "outputs": [
    {
     "name": "stderr",
     "output_type": "stream",
     "text": [
      "/home/marcello/anaconda3/envs/av/lib/python3.6/site-packages/ipykernel_launcher.py:1: SettingWithCopyWarning: \n",
      "A value is trying to be set on a copy of a slice from a DataFrame.\n",
      "Try using .loc[row_indexer,col_indexer] = value instead\n",
      "\n",
      "See the caveats in the documentation: https://pandas.pydata.org/pandas-docs/stable/user_guide/indexing.html#returning-a-view-versus-a-copy\n",
      "  \"\"\"Entry point for launching an IPython kernel.\n",
      "/home/marcello/anaconda3/envs/av/lib/python3.6/site-packages/ipykernel_launcher.py:2: SettingWithCopyWarning: \n",
      "A value is trying to be set on a copy of a slice from a DataFrame.\n",
      "Try using .loc[row_indexer,col_indexer] = value instead\n",
      "\n",
      "See the caveats in the documentation: https://pandas.pydata.org/pandas-docs/stable/user_guide/indexing.html#returning-a-view-versus-a-copy\n",
      "  \n"
=======
   "execution_count": 20,
   "metadata": {},
   "outputs": [
    {
     "ename": "SyntaxError",
     "evalue": "positional argument follows keyword argument (<ipython-input-20-5b9563195aa4>, line 4)",
     "output_type": "error",
     "traceback": [
      "\u001b[0;36m  File \u001b[0;32m\"<ipython-input-20-5b9563195aa4>\"\u001b[0;36m, line \u001b[0;32m4\u001b[0m\n\u001b[0;31m    df_renda.drop_duplicates(subset=[\"nu_pessoa\"],keep=False,inpla)\u001b[0m\n\u001b[0m                                                            ^\u001b[0m\n\u001b[0;31mSyntaxError\u001b[0m\u001b[0;31m:\u001b[0m positional argument follows keyword argument\n"
>>>>>>> 34fed8e3dc2324a638412b657e90d466ed7b4f81
     ]
    }
   ],
   "source": [
    "df_valido['valido']   = True\n",
    "df_invalido['valido'] = False\n",
    "df_renda = pd.concat([df_valido, df_invalido], ignore_index=False)"
   ]
  },
  {
   "cell_type": "code",
<<<<<<< HEAD
   "execution_count": 20,
=======
   "execution_count": 22,
   "metadata": {},
   "outputs": [
    {
     "data": {
      "text/plain": [
       "2382434"
      ]
     },
     "execution_count": 22,
     "metadata": {},
     "output_type": "execute_result"
    }
   ],
   "source": [
    "len(df_renda)"
   ]
  },
  {
   "cell_type": "code",
   "execution_count": 23,
   "metadata": {},
   "outputs": [
    {
     "data": {
      "text/plain": [
       "2223845"
      ]
     },
     "execution_count": 23,
     "metadata": {},
     "output_type": "execute_result"
    }
   ],
   "source": [
    "df_renda.drop_duplicates(subset=[\"nu_pessoa\"],keep=False,inplace=True)\n",
    "len(df_renda)"
   ]
  },
  {
   "cell_type": "code",
   "execution_count": 24,
>>>>>>> 34fed8e3dc2324a638412b657e90d466ed7b4f81
   "metadata": {},
   "outputs": [
    {
     "data": {
      "text/html": [
       "<div>\n",
       "<style scoped>\n",
       "    .dataframe tbody tr th:only-of-type {\n",
       "        vertical-align: middle;\n",
       "    }\n",
       "\n",
       "    .dataframe tbody tr th {\n",
       "        vertical-align: top;\n",
       "    }\n",
       "\n",
       "    .dataframe thead th {\n",
       "        text-align: right;\n",
       "    }\n",
       "</style>\n",
       "<table border=\"1\" class=\"dataframe\">\n",
       "  <thead>\n",
       "    <tr style=\"text-align: right;\">\n",
       "      <th></th>\n",
       "      <th>nu_pessoa</th>\n",
       "      <th>dt_nascimento</th>\n",
       "      <th>ic_tipo_renda</th>\n",
       "      <th>vr_renda_bruta</th>\n",
       "      <th>vr_renda_liquida</th>\n",
       "      <th>ic_infmo_renda</th>\n",
       "      <th>dt_apuracao_renda</th>\n",
       "      <th>ic_sexo</th>\n",
       "      <th>ic_situacao</th>\n",
       "      <th>ic_inconsistencia</th>\n",
       "      <th>nu_estdo_civil_p27</th>\n",
       "      <th>idade</th>\n",
       "    </tr>\n",
       "  </thead>\n",
       "  <tbody>\n",
       "    <tr>\n",
       "      <th>1</th>\n",
       "      <td>5240070234524</td>\n",
       "      <td>1966-06-09</td>\n",
       "      <td>F</td>\n",
       "      <td>300.00</td>\n",
       "      <td>300.00</td>\n",
       "      <td>3.00</td>\n",
       "      <td>200603</td>\n",
       "      <td>M</td>\n",
       "      <td>1</td>\n",
       "      <td>S</td>\n",
       "      <td>7</td>\n",
       "      <td>54</td>\n",
       "    </tr>\n",
       "    <tr>\n",
       "      <th>4</th>\n",
       "      <td>5700054454570</td>\n",
       "      <td>1981-04-01</td>\n",
       "      <td>F</td>\n",
       "      <td>1900.00</td>\n",
       "      <td>1900.00</td>\n",
       "      <td>5.00</td>\n",
       "      <td>0</td>\n",
       "      <td>M</td>\n",
       "      <td>1</td>\n",
       "      <td>N</td>\n",
       "      <td>1</td>\n",
       "      <td>39</td>\n",
       "    </tr>\n",
       "    <tr>\n",
       "      <th>5</th>\n",
       "      <td>9840013122984</td>\n",
       "      <td>1948-01-26</td>\n",
       "      <td>?</td>\n",
       "      <td>nan</td>\n",
       "      <td>nan</td>\n",
       "      <td>0.00</td>\n",
       "      <td>0</td>\n",
       "      <td>F</td>\n",
       "      <td>1</td>\n",
       "      <td>S</td>\n",
       "      <td>0</td>\n",
       "      <td>72</td>\n",
       "    </tr>\n",
       "    <tr>\n",
       "      <th>6</th>\n",
       "      <td>3570066695357</td>\n",
       "      <td>1984-06-23</td>\n",
       "      <td>F</td>\n",
       "      <td>750.00</td>\n",
       "      <td>750.00</td>\n",
       "      <td>5.00</td>\n",
       "      <td>0</td>\n",
       "      <td>F</td>\n",
       "      <td>1</td>\n",
       "      <td>N</td>\n",
       "      <td>7</td>\n",
       "      <td>36</td>\n",
       "    </tr>\n",
       "    <tr>\n",
       "      <th>7</th>\n",
       "      <td>9170137812917</td>\n",
       "      <td>1991-11-25</td>\n",
       "      <td>?</td>\n",
       "      <td>nan</td>\n",
       "      <td>nan</td>\n",
       "      <td>0.00</td>\n",
       "      <td>0</td>\n",
       "      <td>M</td>\n",
       "      <td>1</td>\n",
       "      <td>N</td>\n",
       "      <td>1</td>\n",
       "      <td>28</td>\n",
       "    </tr>\n",
       "    <tr>\n",
       "      <th>...</th>\n",
       "      <td>...</td>\n",
       "      <td>...</td>\n",
       "      <td>...</td>\n",
       "      <td>...</td>\n",
       "      <td>...</td>\n",
       "      <td>...</td>\n",
       "      <td>...</td>\n",
       "      <td>...</td>\n",
       "      <td>...</td>\n",
       "      <td>...</td>\n",
       "      <td>...</td>\n",
       "      <td>...</td>\n",
       "    </tr>\n",
       "    <tr>\n",
<<<<<<< HEAD
       "      <th>2382422</th>\n",
=======
       "      <th>2382424</th>\n",
>>>>>>> 34fed8e3dc2324a638412b657e90d466ed7b4f81
       "      <td>9440015442944</td>\n",
       "      <td>1983-05-05</td>\n",
       "      <td>?</td>\n",
       "      <td>nan</td>\n",
       "      <td>nan</td>\n",
       "      <td>0.00</td>\n",
       "      <td>0</td>\n",
       "      <td>F</td>\n",
       "      <td>1</td>\n",
       "      <td>S</td>\n",
       "      <td>9</td>\n",
       "      <td>37</td>\n",
       "    </tr>\n",
       "    <tr>\n",
<<<<<<< HEAD
       "      <th>2382427</th>\n",
=======
       "      <th>2382429</th>\n",
>>>>>>> 34fed8e3dc2324a638412b657e90d466ed7b4f81
       "      <td>7570098273757</td>\n",
       "      <td>1945-12-19</td>\n",
       "      <td>?</td>\n",
       "      <td>nan</td>\n",
       "      <td>nan</td>\n",
       "      <td>0.00</td>\n",
       "      <td>0</td>\n",
       "      <td>M</td>\n",
       "      <td>1</td>\n",
       "      <td>S</td>\n",
       "      <td>2</td>\n",
       "      <td>74</td>\n",
       "    </tr>\n",
       "    <tr>\n",
<<<<<<< HEAD
       "      <th>2382429</th>\n",
=======
       "      <th>2382431</th>\n",
>>>>>>> 34fed8e3dc2324a638412b657e90d466ed7b4f81
       "      <td>1080022088108</td>\n",
       "      <td>1961-03-19</td>\n",
       "      <td>F</td>\n",
       "      <td>900.00</td>\n",
       "      <td>900.00</td>\n",
       "      <td>5.00</td>\n",
       "      <td>0</td>\n",
       "      <td>M</td>\n",
       "      <td>1</td>\n",
       "      <td>S</td>\n",
       "      <td>9</td>\n",
       "      <td>59</td>\n",
       "    </tr>\n",
       "    <tr>\n",
<<<<<<< HEAD
       "      <th>2382430</th>\n",
=======
       "      <th>2382432</th>\n",
>>>>>>> 34fed8e3dc2324a638412b657e90d466ed7b4f81
       "      <td>920009590092</td>\n",
       "      <td>1965-09-19</td>\n",
       "      <td>I</td>\n",
       "      <td>0.00</td>\n",
       "      <td>0.00</td>\n",
       "      <td>2.00</td>\n",
       "      <td>201607</td>\n",
       "      <td>M</td>\n",
       "      <td>1</td>\n",
       "      <td>S</td>\n",
       "      <td>9</td>\n",
       "      <td>54</td>\n",
       "    </tr>\n",
       "    <tr>\n",
<<<<<<< HEAD
       "      <th>2382431</th>\n",
=======
       "      <th>2382433</th>\n",
>>>>>>> 34fed8e3dc2324a638412b657e90d466ed7b4f81
       "      <td>2870048829287</td>\n",
       "      <td>1959-11-07</td>\n",
       "      <td>?</td>\n",
       "      <td>nan</td>\n",
       "      <td>nan</td>\n",
       "      <td>0.00</td>\n",
       "      <td>0</td>\n",
       "      <td>F</td>\n",
       "      <td>1</td>\n",
       "      <td>S</td>\n",
       "      <td>0</td>\n",
       "      <td>60</td>\n",
       "    </tr>\n",
       "  </tbody>\n",
       "</table>\n",
<<<<<<< HEAD
       "<p>1160053 rows × 13 columns</p>\n",
=======
       "<p>1160055 rows × 12 columns</p>\n",
>>>>>>> 34fed8e3dc2324a638412b657e90d466ed7b4f81
       "</div>"
      ],
      "text/plain": [
       "             nu_pessoa dt_nascimento ic_tipo_renda  vr_renda_bruta  \\\n",
       "1        5240070234524    1966-06-09             F          300.00   \n",
       "4        5700054454570    1981-04-01             F         1900.00   \n",
       "5        9840013122984    1948-01-26             ?             nan   \n",
       "6        3570066695357    1984-06-23             F          750.00   \n",
       "7        9170137812917    1991-11-25             ?             nan   \n",
       "...                ...           ...           ...             ...   \n",
<<<<<<< HEAD
       "2382422  9440015442944    1983-05-05             ?             nan   \n",
       "2382427  7570098273757    1945-12-19             ?             nan   \n",
       "2382429  1080022088108    1961-03-19             F          900.00   \n",
       "2382430   920009590092    1965-09-19             I            0.00   \n",
       "2382431  2870048829287    1959-11-07             ?             nan   \n",
=======
       "2382424  9440015442944    1983-05-05             ?             nan   \n",
       "2382429  7570098273757    1945-12-19             ?             nan   \n",
       "2382431  1080022088108    1961-03-19             F          900.00   \n",
       "2382432   920009590092    1965-09-19             I            0.00   \n",
       "2382433  2870048829287    1959-11-07             ?             nan   \n",
>>>>>>> 34fed8e3dc2324a638412b657e90d466ed7b4f81
       "\n",
       "         vr_renda_liquida  ic_infmo_renda  dt_apuracao_renda ic_sexo  \\\n",
       "1                  300.00            3.00             200603       M   \n",
       "4                 1900.00            5.00                  0       M   \n",
       "5                     nan            0.00                  0       F   \n",
       "6                  750.00            5.00                  0       F   \n",
       "7                     nan            0.00                  0       M   \n",
       "...                   ...             ...                ...     ...   \n",
<<<<<<< HEAD
       "2382422               nan            0.00                  0       F   \n",
       "2382427               nan            0.00                  0       M   \n",
       "2382429            900.00            5.00                  0       M   \n",
       "2382430              0.00            2.00             201607       M   \n",
       "2382431               nan            0.00                  0       F   \n",
       "\n",
       "         ic_situacao ic_inconsistencia  nu_estdo_civil_p27  idade  valido  \n",
       "1                  1                 S                   7     54   False  \n",
       "4                  1                 N                   1     39   False  \n",
       "5                  1                 S                   0     72   False  \n",
       "6                  1                 N                   7     36   False  \n",
       "7                  1                 N                   1     28   False  \n",
       "...              ...               ...                 ...    ...     ...  \n",
       "2382422            1                 S                   9     37   False  \n",
       "2382427            1                 S                   2     74   False  \n",
       "2382429            1                 S                   9     59   False  \n",
       "2382430            1                 S                   9     54   False  \n",
       "2382431            1                 S                   0     60   False  \n",
       "\n",
       "[1160053 rows x 13 columns]"
=======
       "2382424               nan            0.00                  0       F   \n",
       "2382429               nan            0.00                  0       M   \n",
       "2382431            900.00            5.00                  0       M   \n",
       "2382432              0.00            2.00             201607       M   \n",
       "2382433               nan            0.00                  0       F   \n",
       "\n",
       "         ic_situacao ic_inconsistencia  nu_estdo_civil_p27  idade  \n",
       "1                  1                 S                   7     54  \n",
       "4                  1                 N                   1     39  \n",
       "5                  1                 S                   0     72  \n",
       "6                  1                 N                   7     36  \n",
       "7                  1                 N                   1     28  \n",
       "...              ...               ...                 ...    ...  \n",
       "2382424            1                 S                   9     37  \n",
       "2382429            1                 S                   2     74  \n",
       "2382431            1                 S                   9     59  \n",
       "2382432            1                 S                   9     54  \n",
       "2382433            1                 S                   0     60  \n",
       "\n",
       "[1160055 rows x 12 columns]"
>>>>>>> 34fed8e3dc2324a638412b657e90d466ed7b4f81
      ]
     },
     "execution_count": 20,
     "metadata": {},
     "output_type": "execute_result"
    }
   ],
   "source": [
    "df_invalido"
   ]
  },
  {
   "cell_type": "code",
<<<<<<< HEAD
   "execution_count": 21,
=======
   "execution_count": 25,
>>>>>>> 34fed8e3dc2324a638412b657e90d466ed7b4f81
   "metadata": {},
   "outputs": [
    {
     "data": {
      "text/html": [
       "<div>\n",
       "<style scoped>\n",
       "    .dataframe tbody tr th:only-of-type {\n",
       "        vertical-align: middle;\n",
       "    }\n",
       "\n",
       "    .dataframe tbody tr th {\n",
       "        vertical-align: top;\n",
       "    }\n",
       "\n",
       "    .dataframe thead th {\n",
       "        text-align: right;\n",
       "    }\n",
       "</style>\n",
       "<table border=\"1\" class=\"dataframe\">\n",
       "  <thead>\n",
       "    <tr style=\"text-align: right;\">\n",
       "      <th></th>\n",
       "      <th>nu_pessoa</th>\n",
       "      <th>dt_nascimento</th>\n",
       "      <th>ic_tipo_renda</th>\n",
       "      <th>vr_renda_bruta</th>\n",
       "      <th>vr_renda_liquida</th>\n",
       "      <th>ic_infmo_renda</th>\n",
       "      <th>dt_apuracao_renda</th>\n",
       "      <th>ic_sexo</th>\n",
       "      <th>ic_situacao</th>\n",
       "      <th>ic_inconsistencia</th>\n",
       "      <th>nu_estdo_civil_p27</th>\n",
       "      <th>idade</th>\n",
       "    </tr>\n",
       "  </thead>\n",
       "  <tbody>\n",
       "    <tr>\n",
       "      <th>0</th>\n",
       "      <td>3500111071350</td>\n",
       "      <td>1954-05-21</td>\n",
       "      <td>I</td>\n",
       "      <td>0.00</td>\n",
       "      <td>0.00</td>\n",
       "      <td>2.00</td>\n",
       "      <td>201710</td>\n",
       "      <td>F</td>\n",
       "      <td>1</td>\n",
       "      <td>N</td>\n",
       "      <td>9</td>\n",
       "      <td>66</td>\n",
       "    </tr>\n",
       "    <tr>\n",
       "      <th>2</th>\n",
       "      <td>6270170584627</td>\n",
       "      <td>1986-08-11</td>\n",
       "      <td>F</td>\n",
       "      <td>975.00</td>\n",
       "      <td>897.00</td>\n",
       "      <td>6.00</td>\n",
       "      <td>201709</td>\n",
       "      <td>M</td>\n",
       "      <td>1</td>\n",
       "      <td>N</td>\n",
       "      <td>9</td>\n",
       "      <td>34</td>\n",
       "    </tr>\n",
       "    <tr>\n",
       "      <th>3</th>\n",
       "      <td>6270170584627</td>\n",
       "      <td>1986-08-11</td>\n",
       "      <td>F</td>\n",
       "      <td>1530.00</td>\n",
       "      <td>1407.60</td>\n",
       "      <td>6.00</td>\n",
       "      <td>201709</td>\n",
       "      <td>M</td>\n",
       "      <td>1</td>\n",
       "      <td>N</td>\n",
       "      <td>9</td>\n",
       "      <td>34</td>\n",
       "    </tr>\n",
       "    <tr>\n",
       "      <th>10</th>\n",
       "      <td>2960058009296</td>\n",
       "      <td>1967-08-24</td>\n",
       "      <td>I</td>\n",
       "      <td>0.00</td>\n",
       "      <td>0.00</td>\n",
       "      <td>2.00</td>\n",
       "      <td>201511</td>\n",
       "      <td>M</td>\n",
       "      <td>1</td>\n",
       "      <td>N</td>\n",
       "      <td>9</td>\n",
       "      <td>52</td>\n",
       "    </tr>\n",
       "    <tr>\n",
       "      <th>11</th>\n",
       "      <td>9310059808931</td>\n",
       "      <td>1972-09-10</td>\n",
       "      <td>I</td>\n",
       "      <td>0.00</td>\n",
       "      <td>0.00</td>\n",
       "      <td>2.00</td>\n",
       "      <td>201702</td>\n",
       "      <td>F</td>\n",
       "      <td>1</td>\n",
       "      <td>N</td>\n",
       "      <td>1</td>\n",
       "      <td>47</td>\n",
       "    </tr>\n",
       "    <tr>\n",
       "      <th>...</th>\n",
       "      <td>...</td>\n",
       "      <td>...</td>\n",
       "      <td>...</td>\n",
       "      <td>...</td>\n",
       "      <td>...</td>\n",
       "      <td>...</td>\n",
       "      <td>...</td>\n",
       "      <td>...</td>\n",
       "      <td>...</td>\n",
       "      <td>...</td>\n",
       "      <td>...</td>\n",
       "      <td>...</td>\n",
       "    </tr>\n",
       "    <tr>\n",
<<<<<<< HEAD
       "      <th>2382423</th>\n",
=======
       "      <th>2382425</th>\n",
>>>>>>> 34fed8e3dc2324a638412b657e90d466ed7b4f81
       "      <td>6200141250620</td>\n",
       "      <td>1996-03-20</td>\n",
       "      <td>I</td>\n",
       "      <td>0.00</td>\n",
       "      <td>0.00</td>\n",
       "      <td>2.00</td>\n",
       "      <td>201412</td>\n",
       "      <td>M</td>\n",
       "      <td>1</td>\n",
       "      <td>N</td>\n",
       "      <td>1</td>\n",
       "      <td>24</td>\n",
       "    </tr>\n",
       "    <tr>\n",
<<<<<<< HEAD
       "      <th>2382424</th>\n",
=======
       "      <th>2382426</th>\n",
>>>>>>> 34fed8e3dc2324a638412b657e90d466ed7b4f81
       "      <td>6590098649659</td>\n",
       "      <td>1967-01-07</td>\n",
       "      <td>I</td>\n",
       "      <td>0.00</td>\n",
       "      <td>0.00</td>\n",
       "      <td>2.00</td>\n",
       "      <td>201603</td>\n",
       "      <td>F</td>\n",
       "      <td>1</td>\n",
       "      <td>N</td>\n",
       "      <td>9</td>\n",
       "      <td>53</td>\n",
       "    </tr>\n",
       "    <tr>\n",
<<<<<<< HEAD
       "      <th>2382425</th>\n",
=======
       "      <th>2382427</th>\n",
>>>>>>> 34fed8e3dc2324a638412b657e90d466ed7b4f81
       "      <td>1680122715168</td>\n",
       "      <td>1965-06-10</td>\n",
       "      <td>F</td>\n",
       "      <td>978.58</td>\n",
       "      <td>978.58</td>\n",
       "      <td>6.00</td>\n",
       "      <td>201509</td>\n",
       "      <td>F</td>\n",
       "      <td>1</td>\n",
       "      <td>N</td>\n",
       "      <td>9</td>\n",
       "      <td>55</td>\n",
       "    </tr>\n",
       "    <tr>\n",
<<<<<<< HEAD
       "      <th>2382426</th>\n",
=======
       "      <th>2382428</th>\n",
>>>>>>> 34fed8e3dc2324a638412b657e90d466ed7b4f81
       "      <td>2610219146261</td>\n",
       "      <td>1991-08-04</td>\n",
       "      <td>F</td>\n",
       "      <td>788.00</td>\n",
       "      <td>788.00</td>\n",
       "      <td>3.00</td>\n",
       "      <td>201510</td>\n",
       "      <td>M</td>\n",
       "      <td>1</td>\n",
       "      <td>N</td>\n",
       "      <td>1</td>\n",
       "      <td>29</td>\n",
       "    </tr>\n",
       "    <tr>\n",
<<<<<<< HEAD
       "      <th>2382428</th>\n",
=======
       "      <th>2382430</th>\n",
>>>>>>> 34fed8e3dc2324a638412b657e90d466ed7b4f81
       "      <td>6790187108679</td>\n",
       "      <td>1960-10-29</td>\n",
       "      <td>I</td>\n",
       "      <td>0.00</td>\n",
       "      <td>0.00</td>\n",
       "      <td>2.00</td>\n",
       "      <td>201703</td>\n",
       "      <td>F</td>\n",
       "      <td>1</td>\n",
       "      <td>N</td>\n",
       "      <td>9</td>\n",
       "      <td>59</td>\n",
       "    </tr>\n",
       "  </tbody>\n",
       "</table>\n",
<<<<<<< HEAD
       "<p>1222379 rows × 13 columns</p>\n",
=======
       "<p>1222379 rows × 12 columns</p>\n",
>>>>>>> 34fed8e3dc2324a638412b657e90d466ed7b4f81
       "</div>"
      ],
      "text/plain": [
       "             nu_pessoa dt_nascimento ic_tipo_renda  vr_renda_bruta  \\\n",
       "0        3500111071350    1954-05-21             I            0.00   \n",
       "2        6270170584627    1986-08-11             F          975.00   \n",
       "3        6270170584627    1986-08-11             F         1530.00   \n",
       "10       2960058009296    1967-08-24             I            0.00   \n",
       "11       9310059808931    1972-09-10             I            0.00   \n",
       "...                ...           ...           ...             ...   \n",
<<<<<<< HEAD
       "2382423  6200141250620    1996-03-20             I            0.00   \n",
       "2382424  6590098649659    1967-01-07             I            0.00   \n",
       "2382425  1680122715168    1965-06-10             F          978.58   \n",
       "2382426  2610219146261    1991-08-04             F          788.00   \n",
       "2382428  6790187108679    1960-10-29             I            0.00   \n",
=======
       "2382425  6200141250620    1996-03-20             I            0.00   \n",
       "2382426  6590098649659    1967-01-07             I            0.00   \n",
       "2382427  1680122715168    1965-06-10             F          978.58   \n",
       "2382428  2610219146261    1991-08-04             F          788.00   \n",
       "2382430  6790187108679    1960-10-29             I            0.00   \n",
>>>>>>> 34fed8e3dc2324a638412b657e90d466ed7b4f81
       "\n",
       "         vr_renda_liquida  ic_infmo_renda  dt_apuracao_renda ic_sexo  \\\n",
       "0                    0.00            2.00             201710       F   \n",
       "2                  897.00            6.00             201709       M   \n",
       "3                 1407.60            6.00             201709       M   \n",
       "10                   0.00            2.00             201511       M   \n",
       "11                   0.00            2.00             201702       F   \n",
       "...                   ...             ...                ...     ...   \n",
<<<<<<< HEAD
       "2382423              0.00            2.00             201412       M   \n",
       "2382424              0.00            2.00             201603       F   \n",
       "2382425            978.58            6.00             201509       F   \n",
       "2382426            788.00            3.00             201510       M   \n",
       "2382428              0.00            2.00             201703       F   \n",
       "\n",
       "         ic_situacao ic_inconsistencia  nu_estdo_civil_p27  idade  valido  \n",
       "0                  1                 N                   9     66    True  \n",
       "2                  1                 N                   9     34    True  \n",
       "3                  1                 N                   9     34    True  \n",
       "10                 1                 N                   9     52    True  \n",
       "11                 1                 N                   1     47    True  \n",
       "...              ...               ...                 ...    ...     ...  \n",
       "2382423            1                 N                   1     24    True  \n",
       "2382424            1                 N                   9     53    True  \n",
       "2382425            1                 N                   9     55    True  \n",
       "2382426            1                 N                   1     29    True  \n",
       "2382428            1                 N                   9     59    True  \n",
       "\n",
       "[1222379 rows x 13 columns]"
      ]
     },
     "execution_count": 21,
=======
       "2382425              0.00            2.00             201412       M   \n",
       "2382426              0.00            2.00             201603       F   \n",
       "2382427            978.58            6.00             201509       F   \n",
       "2382428            788.00            3.00             201510       M   \n",
       "2382430              0.00            2.00             201703       F   \n",
       "\n",
       "         ic_situacao ic_inconsistencia  nu_estdo_civil_p27  idade  \n",
       "0                  1                 N                   9     66  \n",
       "2                  1                 N                   9     34  \n",
       "3                  1                 N                   9     34  \n",
       "10                 1                 N                   9     52  \n",
       "11                 1                 N                   1     47  \n",
       "...              ...               ...                 ...    ...  \n",
       "2382425            1                 N                   1     24  \n",
       "2382426            1                 N                   9     53  \n",
       "2382427            1                 N                   9     55  \n",
       "2382428            1                 N                   1     29  \n",
       "2382430            1                 N                   9     59  \n",
       "\n",
       "[1222379 rows x 12 columns]"
      ]
     },
     "execution_count": 25,
>>>>>>> 34fed8e3dc2324a638412b657e90d466ed7b4f81
     "metadata": {},
     "output_type": "execute_result"
    }
   ],
   "source": [
    "df_valido"
   ]
  },
  {
   "cell_type": "code",
<<<<<<< HEAD
   "execution_count": 22,
=======
   "execution_count": 26,
>>>>>>> 34fed8e3dc2324a638412b657e90d466ed7b4f81
   "metadata": {},
   "outputs": [
    {
     "data": {
      "text/plain": [
<<<<<<< HEAD
       "(1160053, 13)"
      ]
     },
     "execution_count": 22,
=======
       "(1160055, 12)"
      ]
     },
     "execution_count": 26,
>>>>>>> 34fed8e3dc2324a638412b657e90d466ed7b4f81
     "metadata": {},
     "output_type": "execute_result"
    }
   ],
   "source": [
    "df_invalido.shape"
   ]
  },
  {
   "cell_type": "code",
<<<<<<< HEAD
   "execution_count": 23,
=======
   "execution_count": 27,
>>>>>>> 34fed8e3dc2324a638412b657e90d466ed7b4f81
   "metadata": {},
   "outputs": [
    {
     "data": {
      "text/plain": [
<<<<<<< HEAD
       "(1222379, 13)"
      ]
     },
     "execution_count": 23,
=======
       "(1222379, 12)"
      ]
     },
     "execution_count": 27,
>>>>>>> 34fed8e3dc2324a638412b657e90d466ed7b4f81
     "metadata": {},
     "output_type": "execute_result"
    }
   ],
   "source": [
    "df_valido.shape"
   ]
  },
  {
   "cell_type": "code",
<<<<<<< HEAD
   "execution_count": null,
   "metadata": {},
   "outputs": [],
   "source": []
  },
  {
   "cell_type": "code",
   "execution_count": 24,
   "metadata": {},
   "outputs": [],
   "source": [
    "arquivo = '/home/marcello/Documentos/git/ibge-indicadores-censitarios/dados/indices_de_correcao/IPCA.csv'\n",
    "sep = ';'"
   ]
  },
  {
   "cell_type": "code",
   "execution_count": 25,
   "metadata": {},
   "outputs": [],
   "source": [
    "df_ipca = pd.read_csv(arquivo, sep=sep, decimal=',')"
   ]
  },
  {
   "cell_type": "code",
   "execution_count": 26,
   "metadata": {},
   "outputs": [],
   "source": [
    "#df_sicli = pd.read_csv(\"../dados/notebook/cliente_area_de_ponderacao/cliente_area_de_ponderacao.csv\", delimiter=';')"
   ]
  },
  {
   "cell_type": "code",
   "execution_count": 27,
   "metadata": {},
   "outputs": [
    {
     "name": "stderr",
     "output_type": "stream",
     "text": [
      "/home/marcello/anaconda3/envs/av/lib/python3.6/site-packages/pandas/core/ops/array_ops.py:253: FutureWarning: elementwise comparison failed; returning scalar instead, but in the future will perform elementwise comparison\n",
      "  res_values = method(rvalues)\n"
     ]
    }
   ],
   "source": [
    "df_valido = df_valido[(df_valido['vr_renda_bruta'] != 0) & (df_valido['dt_apuracao_renda'] != \"0\")]"
   ]
  },
  {
   "cell_type": "code",
   "execution_count": 28,
   "metadata": {},
   "outputs": [],
   "source": [
    "df_valido = df_valido[['nu_pessoa', 'vr_renda_bruta','dt_apuracao_renda']]"
   ]
  },
  {
   "cell_type": "code",
   "execution_count": 29,
   "metadata": {},
   "outputs": [
    {
     "name": "stdout",
     "output_type": "stream",
     "text": [
      "2          201709\n",
      "3          201709\n",
      "14         201812\n",
      "20         201603\n",
      "21         200508\n",
      "            ...  \n",
      "2382412    201712\n",
      "2382416    201912\n",
      "2382420    201706\n",
      "2382425    201509\n",
      "2382426    201510\n",
      "Name: dt_apuracao_renda, Length: 513660, dtype: int64\n"
     ]
    }
   ],
   "source": [
    "df_valido['dt_apuracao_renda'] = df_valido['dt_apuracao_renda'].replace(regex=r'\\-', value='')\n",
    "print(df_valido['dt_apuracao_renda'])\n",
    "#df_valido['dt_apuracao_renda'] = (df_valido['dt_apuracao_renda'].astype(int) / 100).astype(int)\n",
    "#print(df_valido['dt_apuracao_renda'])"
   ]
  },
  {
   "cell_type": "code",
   "execution_count": 30,
   "metadata": {},
   "outputs": [
    {
     "ename": "NameError",
     "evalue": "name 'stop' is not defined",
     "output_type": "error",
     "traceback": [
      "\u001b[0;31m---------------------------------------------------------------------------\u001b[0m",
      "\u001b[0;31mNameError\u001b[0m                                 Traceback (most recent call last)",
      "\u001b[0;32m<ipython-input-30-4f76a9dad686>\u001b[0m in \u001b[0;36m<module>\u001b[0;34m\u001b[0m\n\u001b[0;32m----> 1\u001b[0;31m \u001b[0mstop\u001b[0m\u001b[0;34m\u001b[0m\u001b[0;34m\u001b[0m\u001b[0m\n\u001b[0m",
      "\u001b[0;31mNameError\u001b[0m: name 'stop' is not defined"
     ]
    }
   ],
   "source": [
    "stop"
   ]
  },
  {
   "cell_type": "code",
   "execution_count": 31,
   "metadata": {},
   "outputs": [],
   "source": [
    "array_full = []\n",
    "for i in df_valido.values:\n",
    "    array = 1\n",
    "    for j in df_ipca.values:\n",
    "        if int(j[0]) >= int(i[2]):\n",
    "            if j[1] != 0.0:\n",
    "                array = array*(1+j[1]/100)\n",
    "    array_full.append(array)"
   ]
  },
  {
   "cell_type": "code",
   "execution_count": 32,
   "metadata": {},
   "outputs": [],
   "source": [
    "df_valido['pc_correcao_salario_ipca'] = array_full"
   ]
  },
  {
   "cell_type": "code",
   "execution_count": 33,
   "metadata": {},
   "outputs": [],
   "source": [
    "df_valido['vr_salario_corrigido_ipca'] = round(df_valido['vr_renda_bruta'] * \n",
    "                                               df_valido['pc_correcao_salario_ipca'], 2)"
   ]
  },
  {
   "cell_type": "code",
   "execution_count": 34,
   "metadata": {},
   "outputs": [
    {
     "data": {
      "text/html": [
       "<div>\n",
       "<style scoped>\n",
       "    .dataframe tbody tr th:only-of-type {\n",
       "        vertical-align: middle;\n",
       "    }\n",
       "\n",
       "    .dataframe tbody tr th {\n",
       "        vertical-align: top;\n",
       "    }\n",
       "\n",
       "    .dataframe thead th {\n",
       "        text-align: right;\n",
       "    }\n",
       "</style>\n",
       "<table border=\"1\" class=\"dataframe\">\n",
       "  <thead>\n",
       "    <tr style=\"text-align: right;\">\n",
       "      <th></th>\n",
       "      <th>nu_pessoa</th>\n",
       "      <th>vr_renda_bruta</th>\n",
       "      <th>dt_apuracao_renda</th>\n",
       "      <th>pc_correcao_salario_ipca</th>\n",
       "      <th>vr_salario_corrigido_ipca</th>\n",
       "    </tr>\n",
       "  </thead>\n",
       "  <tbody>\n",
       "    <tr>\n",
       "      <th>2</th>\n",
       "      <td>6270170584627</td>\n",
       "      <td>975.00</td>\n",
       "      <td>201709</td>\n",
       "      <td>1.10</td>\n",
       "      <td>1069.90</td>\n",
       "    </tr>\n",
       "    <tr>\n",
       "      <th>3</th>\n",
       "      <td>6270170584627</td>\n",
       "      <td>1530.00</td>\n",
       "      <td>201709</td>\n",
       "      <td>1.10</td>\n",
       "      <td>1678.92</td>\n",
       "    </tr>\n",
       "    <tr>\n",
       "      <th>14</th>\n",
       "      <td>8190044828819</td>\n",
       "      <td>954.00</td>\n",
       "      <td>201812</td>\n",
       "      <td>1.05</td>\n",
       "      <td>997.55</td>\n",
       "    </tr>\n",
       "    <tr>\n",
       "      <th>20</th>\n",
       "      <td>4160121147416</td>\n",
       "      <td>2366.67</td>\n",
       "      <td>201603</td>\n",
       "      <td>1.16</td>\n",
       "      <td>2745.17</td>\n",
       "    </tr>\n",
       "    <tr>\n",
       "      <th>21</th>\n",
       "      <td>7340092196734</td>\n",
       "      <td>900.00</td>\n",
       "      <td>200508</td>\n",
       "      <td>2.15</td>\n",
       "      <td>1931.96</td>\n",
       "    </tr>\n",
       "    <tr>\n",
       "      <th>...</th>\n",
       "      <td>...</td>\n",
       "      <td>...</td>\n",
       "      <td>...</td>\n",
       "      <td>...</td>\n",
       "      <td>...</td>\n",
       "    </tr>\n",
       "    <tr>\n",
       "      <th>2382412</th>\n",
       "      <td>4150151125415</td>\n",
       "      <td>724.00</td>\n",
       "      <td>201712</td>\n",
       "      <td>1.09</td>\n",
       "      <td>787.68</td>\n",
       "    </tr>\n",
       "    <tr>\n",
       "      <th>2382416</th>\n",
       "      <td>2620085342262</td>\n",
       "      <td>11253.34</td>\n",
       "      <td>201912</td>\n",
       "      <td>1.01</td>\n",
       "      <td>11393.90</td>\n",
       "    </tr>\n",
       "    <tr>\n",
       "      <th>2382420</th>\n",
       "      <td>4690127704469</td>\n",
       "      <td>937.00</td>\n",
       "      <td>201706</td>\n",
       "      <td>1.10</td>\n",
       "      <td>1030.25</td>\n",
       "    </tr>\n",
       "    <tr>\n",
       "      <th>2382425</th>\n",
       "      <td>1680122715168</td>\n",
       "      <td>978.58</td>\n",
       "      <td>201509</td>\n",
       "      <td>1.23</td>\n",
       "      <td>1198.94</td>\n",
       "    </tr>\n",
       "    <tr>\n",
       "      <th>2382426</th>\n",
       "      <td>2610219146261</td>\n",
       "      <td>788.00</td>\n",
       "      <td>201510</td>\n",
       "      <td>1.22</td>\n",
       "      <td>960.26</td>\n",
       "    </tr>\n",
       "  </tbody>\n",
       "</table>\n",
       "<p>513660 rows × 5 columns</p>\n",
       "</div>"
      ],
      "text/plain": [
       "             nu_pessoa  vr_renda_bruta  dt_apuracao_renda  \\\n",
       "2        6270170584627          975.00             201709   \n",
       "3        6270170584627         1530.00             201709   \n",
       "14       8190044828819          954.00             201812   \n",
       "20       4160121147416         2366.67             201603   \n",
       "21       7340092196734          900.00             200508   \n",
       "...                ...             ...                ...   \n",
       "2382412  4150151125415          724.00             201712   \n",
       "2382416  2620085342262        11253.34             201912   \n",
       "2382420  4690127704469          937.00             201706   \n",
       "2382425  1680122715168          978.58             201509   \n",
       "2382426  2610219146261          788.00             201510   \n",
       "\n",
       "         pc_correcao_salario_ipca  vr_salario_corrigido_ipca  \n",
       "2                            1.10                    1069.90  \n",
       "3                            1.10                    1678.92  \n",
       "14                           1.05                     997.55  \n",
       "20                           1.16                    2745.17  \n",
       "21                           2.15                    1931.96  \n",
       "...                           ...                        ...  \n",
       "2382412                      1.09                     787.68  \n",
       "2382416                      1.01                   11393.90  \n",
       "2382420                      1.10                    1030.25  \n",
       "2382425                      1.23                    1198.94  \n",
       "2382426                      1.22                     960.26  \n",
       "\n",
       "[513660 rows x 5 columns]"
      ]
     },
     "execution_count": 34,
     "metadata": {},
     "output_type": "execute_result"
    }
   ],
   "source": [
    "df_valido"
   ]
  },
  {
   "cell_type": "code",
   "execution_count": null,
   "metadata": {},
   "outputs": [],
   "source": [
    "stop"
   ]
  },
  {
   "cell_type": "code",
   "execution_count": null,
   "metadata": {},
   "outputs": [],
   "source": [
    "df_valido.to_csv('../../../dados/amostra_sicli_tratada/cli_renda_amostra_regras_tratamento.csv', \n",
=======
   "execution_count": 28,
   "metadata": {},
   "outputs": [],
   "source": [
    "df_renda.to_csv('../../../dados/amostra_sicli_tratada/Dedup_Renda_Corrigida/cli_renda_amostra_regras_tratamento.csv', \n",
>>>>>>> 34fed8e3dc2324a638412b657e90d466ed7b4f81
    "                index=False, encoding='utf-8', sep=';')"
   ]
  },
  {
   "cell_type": "code",
   "execution_count": null,
   "metadata": {},
   "outputs": [],
   "source": []
  }
 ],
 "metadata": {
  "kernelspec": {
   "display_name": "Python 3",
   "language": "python",
   "name": "python3"
  },
  "language_info": {
   "codemirror_mode": {
    "name": "ipython",
    "version": 3
   },
   "file_extension": ".py",
   "mimetype": "text/x-python",
   "name": "python",
   "nbconvert_exporter": "python",
   "pygments_lexer": "ipython3",
<<<<<<< HEAD
   "version": "3.6.10"
=======
   "version": "3.7.7"
>>>>>>> 34fed8e3dc2324a638412b657e90d466ed7b4f81
  }
 },
 "nbformat": 4,
 "nbformat_minor": 4
}
