{
 "cells": [
  {
   "cell_type": "markdown",
   "metadata": {},
   "source": [
    "# Input de dados - ic_tipo_renda  \n",
    "### Desenvolvimento de modelos visando a inferência de valores em variáveis contendo `NaN` (nulo)\n",
    "- Variáveis:\n",
    "    - ic_sexo\n",
    "    - ic_tipo_renda\n",
    "    - ic_infmo_renda\n",
    "    - dt_apuracao_renda"
   ]
  },
  {
   "cell_type": "code",
   "execution_count": 1,
   "metadata": {},
   "outputs": [],
   "source": [
    "# Importação das bibliotecas\n",
    "import pandas as pd\n",
    "import numpy as np\n",
    "import matplotlib.pyplot as plt\n",
    "import seaborn as sns\n",
    "import scipy.stats as stats"
   ]
  },
  {
   "cell_type": "code",
   "execution_count": 2,
   "metadata": {},
   "outputs": [],
   "source": [
    "from IPython.display import Image\n",
    "%matplotlib inline\n",
    "pd.set_option('display.max_columns', None)"
   ]
  },
  {
   "cell_type": "code",
   "execution_count": 3,
   "metadata": {},
   "outputs": [
    {
     "data": {
      "text/plain": [
       "(2382027, 13)"
      ]
     },
     "execution_count": 3,
     "metadata": {},
     "output_type": "execute_result"
    }
   ],
   "source": [
    "# Ler o arquivo\n",
    "# Resultado do 01.1_tratamento_filtros_dados_renda.ipynb\n",
    "df_renda = pd.read_csv(\"../../../dados/amostra_sicli_tratada/cli_renda_amostra_regras_tratamento.csv\", sep=';')\n",
    "df_renda.shape"
   ]
  },
  {
   "cell_type": "code",
   "execution_count": 4,
   "metadata": {},
   "outputs": [
    {
     "data": {
      "text/plain": [
       "Index(['nu_pessoa', 'dt_nascimento', 'ic_tipo_renda', 'vr_renda_bruta',\n",
       "       'vr_renda_liquida', 'ic_infmo_renda', 'dt_apuracao_renda', 'ic_sexo',\n",
       "       'ic_situacao', 'ic_inconsistencia', 'nu_estdo_civil_p27', 'idade',\n",
       "       'valido'],\n",
       "      dtype='object')"
      ]
     },
     "execution_count": 4,
     "metadata": {},
     "output_type": "execute_result"
    }
   ],
   "source": [
    "df_renda.columns"
   ]
  },
  {
   "cell_type": "code",
   "execution_count": 5,
   "metadata": {},
   "outputs": [],
   "source": [
    "# Definição das features (inputs) e label (target)\n",
    "# features e label ic_tipo_renda\n",
    "features_tp_renda = ['vr_renda_bruta', 'vr_renda_liquida', #'dt_nascimento', \n",
    "            'ic_infmo_renda', 'dt_apuracao_renda', 'ic_sexo',\n",
    "            'ic_situacao', 'nu_estdo_civil_p27', 'idade']\n",
    "label_tp_renda    = ['ic_tipo_renda']"
   ]
  },
  {
   "cell_type": "markdown",
   "metadata": {},
   "source": [
    " ### Quantitativo de dados válidos e inválidos"
   ]
  },
  {
   "cell_type": "code",
   "execution_count": 6,
   "metadata": {},
   "outputs": [
    {
     "name": "stdout",
     "output_type": "stream",
     "text": [
      "Válidos:    (1221998, 13)\n",
      "Inválidos:  (1160029, 13)\n"
     ]
    }
   ],
   "source": [
    "df_validos   = df_renda[df_renda['valido'] == True]\n",
    "df_invalidos = df_renda[df_renda['valido'] == False]\n",
    "\n",
    "print('Válidos:   ', df_validos.shape)\n",
    "print('Inválidos: ', df_invalidos.shape)"
   ]
  },
  {
   "cell_type": "markdown",
   "metadata": {},
   "source": [
    "# ic_sexo"
   ]
  },
  {
   "cell_type": "code",
   "execution_count": 7,
   "metadata": {},
   "outputs": [
    {
     "name": "stdout",
     "output_type": "stream",
     "text": [
      "Válidos:\n",
      "M    617715\n",
      "F    603686\n",
      "?       597\n",
      "Name: ic_sexo, dtype: int64\n",
      "Inválidos:\n",
      "M    629606\n",
      "F    526174\n",
      "?      4249\n",
      "Name: ic_sexo, dtype: int64\n"
     ]
    }
   ],
   "source": [
    "print('Válidos:')\n",
    "print(df_validos['ic_sexo'].value_counts())\n",
    "print('Inválidos:')\n",
    "print(df_invalidos['ic_sexo'].value_counts())"
   ]
  },
  {
   "cell_type": "markdown",
   "metadata": {},
   "source": [
    "### Inconsistências em ic_sexo\n",
    "- `? = 597` nos registros válidos\n",
    "- `? = 4249` nos registros inválidos\n",
    "- Total: `4846` inválidos\n",
    "- Serão separados os registros em dois conjuntos de dados\n",
    "    - df_ic_sexo_treino contendo os `M` e `F` válidos que serão usados para treino e validação.\n",
    "    - df_ic_sexo_inferir contendo os `4846` registros que serão inferidos pelo modelo treinado."
   ]
  },
  {
   "cell_type": "code",
   "execution_count": 8,
   "metadata": {},
   "outputs": [
    {
     "name": "stdout",
     "output_type": "stream",
     "text": [
      "Treino:   (1221401, 13)\n",
      "Inferir:  (4846, 13)\n"
     ]
    }
   ],
   "source": [
    "# registros consistentes\n",
    "df_ic_sexo_treino  = df_validos[df_validos['ic_sexo'] != '?']\n",
    "\n",
    "# df_renda será usado porque existem registros INCONSISTENTES de\n",
    "# ic_sexo em ambos datasets (válidos e inválidos)\n",
    "df_ic_sexo_inferir = df_renda[df_renda['ic_sexo'] == '?']\n",
    "print('Treino:  ', df_ic_sexo_treino.shape)\n",
    "print('Inferir: ', df_ic_sexo_inferir.shape)"
   ]
  },
  {
   "cell_type": "markdown",
   "metadata": {},
   "source": [
    "# ic_tipo_renda"
   ]
  },
  {
   "cell_type": "code",
   "execution_count": 9,
   "metadata": {
    "scrolled": true
   },
   "outputs": [
    {
     "name": "stdout",
     "output_type": "stream",
     "text": [
      "Válidos:\n",
      "F    729319\n",
      "I    492679\n",
      "Name: ic_tipo_renda, dtype: int64\n",
      "Inválidos:\n",
      "?    658335\n",
      "F    398215\n",
      "I    103479\n",
      "Name: ic_tipo_renda, dtype: int64\n"
     ]
    }
   ],
   "source": [
    "print('Válidos:')\n",
    "print(df_validos['ic_tipo_renda'].value_counts())\n",
    "print('Inválidos:')\n",
    "print(df_invalidos['ic_tipo_renda'].value_counts())"
   ]
  },
  {
   "cell_type": "markdown",
   "metadata": {},
   "source": [
    "### Inconsistências em ic_tipo_renda\n",
    "- `? = 658335` registros inválidos\n",
    "- Serão separados os registros em dois conjuntos de dados\n",
    "    - df_ic_tipo_renda_treino contendo os `F` e `I` válidos que serão usados para treino e validação.\n",
    "    - df_ic_tipo_renda_inferir contendo os `658335` registros que serão inferidos pelo modelo treinado."
   ]
  },
  {
   "cell_type": "code",
   "execution_count": 10,
   "metadata": {},
   "outputs": [
    {
     "name": "stdout",
     "output_type": "stream",
     "text": [
      "Treino:   (1221998, 13)\n",
      "Inferir:  (658335, 13)\n"
     ]
    }
   ],
   "source": [
    "# registros consistentes\n",
    "df_ic_tipo_renda_treino  = df_validos\n",
    "\n",
    "# registros INCONSISTENTES\n",
    "df_ic_tipo_renda_inferir = df_invalidos[df_invalidos['ic_tipo_renda'] == '?']\n",
    "print('Treino:  ', df_ic_tipo_renda_treino.shape)\n",
    "print('Inferir: ', df_ic_tipo_renda_inferir.shape)"
   ]
  },
  {
   "cell_type": "markdown",
   "metadata": {},
   "source": [
    "# ic_infmo_renda"
   ]
  },
  {
   "cell_type": "code",
   "execution_count": 11,
   "metadata": {},
   "outputs": [
    {
     "name": "stdout",
     "output_type": "stream",
     "text": [
      "Válidos:\n",
      "2.0    538634\n",
      "6.0    344764\n",
      "3.0    292274\n",
      "5.0     46326\n",
      "Name: ic_infmo_renda, dtype: int64\n",
      "Inválidos:\n",
      "0.0    658335\n",
      "5.0    221813\n",
      "3.0    106344\n",
      "6.0     92123\n",
      "2.0     81414\n",
      "Name: ic_infmo_renda, dtype: int64\n"
     ]
    }
   ],
   "source": [
    "print('Válidos:')\n",
    "print(df_validos['ic_infmo_renda'].value_counts())\n",
    "print('Inválidos:')\n",
    "print(df_invalidos['ic_infmo_renda'].value_counts())"
   ]
  },
  {
   "cell_type": "markdown",
   "metadata": {},
   "source": [
    "### Inconsistências em ic_infmo_renda\n",
    "- `0.0 = 658335` registros inválidos\n",
    "- Serão separados os registros em dois conjuntos de dados\n",
    "    - df_ic_infmo_renda_treino contendo os registros válidos que serão usados para treino e validação.\n",
    "    - df_ic_infmo_renda_inferir contendo os `658335` registros que serão inferidos pelo modelo treinado."
   ]
  },
  {
   "cell_type": "code",
   "execution_count": 12,
   "metadata": {},
   "outputs": [
    {
     "name": "stdout",
     "output_type": "stream",
     "text": [
      "Treino:   (1221998, 13)\n",
      "Inferir:  (658335, 13)\n"
     ]
    }
   ],
   "source": [
    "# registros consistentes\n",
    "df_ic_infmo_renda_treino  = df_validos\n",
    "\n",
    "# registros INCONSISTENTES\n",
    "df_ic_infmo_renda_inferir = df_invalidos[df_invalidos['ic_infmo_renda'] == 0]\n",
    "print('Treino:  ', df_ic_infmo_renda_treino.shape)\n",
    "print('Inferir: ', df_ic_infmo_renda_inferir.shape)"
   ]
  },
  {
   "cell_type": "markdown",
   "metadata": {},
   "source": [
    "# dt_apuracao_renda"
   ]
  },
  {
   "cell_type": "code",
   "execution_count": 13,
   "metadata": {},
   "outputs": [
    {
     "name": "stdout",
     "output_type": "stream",
     "text": [
      "Válidos:\n",
      "False    1221998\n",
      "Name: dt_apuracao_renda, dtype: int64\n",
      "Inválidos:\n",
      "True     767164\n",
      "False    392865\n",
      "Name: dt_apuracao_renda, dtype: int64\n"
     ]
    }
   ],
   "source": [
    "print('Válidos:')\n",
    "print((df_validos['dt_apuracao_renda'] == 0).value_counts())\n",
    "print('Inválidos:')\n",
    "print((df_invalidos['dt_apuracao_renda'] == 0).value_counts())"
   ]
  },
  {
   "cell_type": "markdown",
   "metadata": {},
   "source": [
    "### Inconsistências em dt_apuracao_renda\n",
    "- Em **Inválidos** `True = 767164` são registros **inconsistentes**, no caso sem dt_apuracao_renda\n",
    "- Serão separados os registros em dois conjuntos de dados\n",
    "    - df_dt_apuracao_renda_treino contendo os registros válidos que serão usados para treino e validação.\n",
    "    - df_dt_apuracao_renda_inferir contendo os `767164` registros que serão inferidos pelo modelo treinado."
   ]
  },
  {
   "cell_type": "code",
   "execution_count": 14,
   "metadata": {},
   "outputs": [
    {
     "name": "stdout",
     "output_type": "stream",
     "text": [
      "(1221998, 8)\n",
      "(1221998, 1)\n"
     ]
    }
   ],
   "source": [
    "df_features = df_dt_apuracao_renda[features_dt_apuracao]\n",
    "df_label    = df_dt_apuracao_renda[label_dt_apuracao]\n",
    "\n",
    "print(df_features.shape)\n",
    "print(df_label.shape)"
   ]
  },
  {
   "cell_type": "code",
   "execution_count": 15,
   "metadata": {},
   "outputs": [
    {
     "data": {
      "text/html": [
       "<div>\n",
       "<style scoped>\n",
       "    .dataframe tbody tr th:only-of-type {\n",
       "        vertical-align: middle;\n",
       "    }\n",
       "\n",
       "    .dataframe tbody tr th {\n",
       "        vertical-align: top;\n",
       "    }\n",
       "\n",
       "    .dataframe thead th {\n",
       "        text-align: right;\n",
       "    }\n",
       "</style>\n",
       "<table border=\"1\" class=\"dataframe\">\n",
       "  <thead>\n",
       "    <tr style=\"text-align: right;\">\n",
       "      <th></th>\n",
       "      <th>vr_renda_bruta</th>\n",
       "      <th>vr_renda_liquida</th>\n",
       "      <th>ic_infmo_renda</th>\n",
       "      <th>dt_apuracao_renda</th>\n",
       "      <th>ic_sexo</th>\n",
       "      <th>ic_situacao</th>\n",
       "      <th>nu_estdo_civil_p27</th>\n",
       "      <th>idade</th>\n",
       "    </tr>\n",
       "  </thead>\n",
       "  <tbody>\n",
       "    <tr>\n",
       "      <th>0</th>\n",
       "      <td>0.00</td>\n",
       "      <td>0.00</td>\n",
       "      <td>2.0</td>\n",
       "      <td>201710</td>\n",
       "      <td>F</td>\n",
       "      <td>1</td>\n",
       "      <td>9</td>\n",
       "      <td>66</td>\n",
       "    </tr>\n",
       "    <tr>\n",
       "      <th>1</th>\n",
       "      <td>975.00</td>\n",
       "      <td>897.00</td>\n",
       "      <td>6.0</td>\n",
       "      <td>201709</td>\n",
       "      <td>M</td>\n",
       "      <td>1</td>\n",
       "      <td>9</td>\n",
       "      <td>34</td>\n",
       "    </tr>\n",
       "    <tr>\n",
       "      <th>2</th>\n",
       "      <td>1530.00</td>\n",
       "      <td>1407.60</td>\n",
       "      <td>6.0</td>\n",
       "      <td>201709</td>\n",
       "      <td>M</td>\n",
       "      <td>1</td>\n",
       "      <td>9</td>\n",
       "      <td>34</td>\n",
       "    </tr>\n",
       "    <tr>\n",
       "      <th>3</th>\n",
       "      <td>0.00</td>\n",
       "      <td>0.00</td>\n",
       "      <td>2.0</td>\n",
       "      <td>201511</td>\n",
       "      <td>M</td>\n",
       "      <td>1</td>\n",
       "      <td>9</td>\n",
       "      <td>52</td>\n",
       "    </tr>\n",
       "    <tr>\n",
       "      <th>4</th>\n",
       "      <td>0.00</td>\n",
       "      <td>0.00</td>\n",
       "      <td>2.0</td>\n",
       "      <td>201702</td>\n",
       "      <td>F</td>\n",
       "      <td>1</td>\n",
       "      <td>1</td>\n",
       "      <td>47</td>\n",
       "    </tr>\n",
       "    <tr>\n",
       "      <th>...</th>\n",
       "      <td>...</td>\n",
       "      <td>...</td>\n",
       "      <td>...</td>\n",
       "      <td>...</td>\n",
       "      <td>...</td>\n",
       "      <td>...</td>\n",
       "      <td>...</td>\n",
       "      <td>...</td>\n",
       "    </tr>\n",
       "    <tr>\n",
       "      <th>1221993</th>\n",
       "      <td>0.00</td>\n",
       "      <td>0.00</td>\n",
       "      <td>2.0</td>\n",
       "      <td>201412</td>\n",
       "      <td>M</td>\n",
       "      <td>1</td>\n",
       "      <td>1</td>\n",
       "      <td>24</td>\n",
       "    </tr>\n",
       "    <tr>\n",
       "      <th>1221994</th>\n",
       "      <td>0.00</td>\n",
       "      <td>0.00</td>\n",
       "      <td>2.0</td>\n",
       "      <td>201603</td>\n",
       "      <td>F</td>\n",
       "      <td>1</td>\n",
       "      <td>9</td>\n",
       "      <td>53</td>\n",
       "    </tr>\n",
       "    <tr>\n",
       "      <th>1221995</th>\n",
       "      <td>978.58</td>\n",
       "      <td>978.58</td>\n",
       "      <td>6.0</td>\n",
       "      <td>201509</td>\n",
       "      <td>F</td>\n",
       "      <td>1</td>\n",
       "      <td>9</td>\n",
       "      <td>55</td>\n",
       "    </tr>\n",
       "    <tr>\n",
       "      <th>1221996</th>\n",
       "      <td>788.00</td>\n",
       "      <td>788.00</td>\n",
       "      <td>3.0</td>\n",
       "      <td>201510</td>\n",
       "      <td>M</td>\n",
       "      <td>1</td>\n",
       "      <td>1</td>\n",
       "      <td>29</td>\n",
       "    </tr>\n",
       "    <tr>\n",
       "      <th>1221997</th>\n",
       "      <td>0.00</td>\n",
       "      <td>0.00</td>\n",
       "      <td>2.0</td>\n",
       "      <td>201703</td>\n",
       "      <td>F</td>\n",
       "      <td>1</td>\n",
       "      <td>9</td>\n",
       "      <td>59</td>\n",
       "    </tr>\n",
       "  </tbody>\n",
       "</table>\n",
       "<p>1221998 rows × 8 columns</p>\n",
       "</div>"
      ],
      "text/plain": [
       "         vr_renda_bruta  vr_renda_liquida  ic_infmo_renda  dt_apuracao_renda  \\\n",
       "0                  0.00              0.00             2.0             201710   \n",
       "1                975.00            897.00             6.0             201709   \n",
       "2               1530.00           1407.60             6.0             201709   \n",
       "3                  0.00              0.00             2.0             201511   \n",
       "4                  0.00              0.00             2.0             201702   \n",
       "...                 ...               ...             ...                ...   \n",
       "1221993            0.00              0.00             2.0             201412   \n",
       "1221994            0.00              0.00             2.0             201603   \n",
       "1221995          978.58            978.58             6.0             201509   \n",
       "1221996          788.00            788.00             3.0             201510   \n",
       "1221997            0.00              0.00             2.0             201703   \n",
       "\n",
       "        ic_sexo  ic_situacao  nu_estdo_civil_p27  idade  \n",
       "0             F            1                   9     66  \n",
       "1             M            1                   9     34  \n",
       "2             M            1                   9     34  \n",
       "3             M            1                   9     52  \n",
       "4             F            1                   1     47  \n",
       "...         ...          ...                 ...    ...  \n",
       "1221993       M            1                   1     24  \n",
       "1221994       F            1                   9     53  \n",
       "1221995       F            1                   9     55  \n",
       "1221996       M            1                   1     29  \n",
       "1221997       F            1                   9     59  \n",
       "\n",
       "[1221998 rows x 8 columns]"
      ]
     },
     "execution_count": 15,
     "metadata": {},
     "output_type": "execute_result"
    }
   ],
   "source": [
    "df_features"
   ]
  },
  {
   "cell_type": "markdown",
   "metadata": {},
   "source": [
    "# Gera amostragem conforme a calculadora:  \n",
    "- https://www.solvis.com.br/calculos-de-amostragem/  \n",
    "\n",
    "- **Calculadora 2**\n",
    "    - População: 1.741.828\n",
    "    - Margem de erro (%): 1\n",
    "    - Confiabilidade (%): 99\n",
    "    - Tamanho da Amostra: 16419\n",
    "        - Será usada aproximadamente a metade dessa proporção por questões de tempo computacional."
   ]
  },
  {
   "cell_type": "code",
   "execution_count": 16,
   "metadata": {},
   "outputs": [
    {
     "name": "stdout",
     "output_type": "stream",
     "text": [
      "(8554, 8) (8554, 1)\n"
     ]
    }
   ],
   "source": [
    "# Amostra extratificada\n",
    "from sklearn.model_selection import train_test_split\n",
    "\n",
    "X, y = df_features[features_tp_renda], df_label[label_tp_renda]\n",
    "\n",
    "X_train, X_test, y_train, y_test = train_test_split(X, y,\n",
    "                                                    test_size=0.007, #0.013441941, \n",
    "                                                    random_state=84,\n",
    "                                                    shuffle=True) # Faz embaralhamento deixando a aleatoriedade ainda maior\n",
    "                                                    #stratify=y) \n",
    "                                                    # y = df_label[[label_tp_renda]\n",
    "\n",
    "del X_train\n",
    "del y_train\n",
    "\n",
    "#print (X_train.shape, y_train.shape)\n",
    "print (X_test.shape, y_test.shape)"
   ]
  },
  {
   "cell_type": "markdown",
   "metadata": {},
   "source": [
    "#### `X` e `y` correspondem as variáveis independentes e dependente, respectivamente."
   ]
  },
  {
   "cell_type": "code",
   "execution_count": 17,
   "metadata": {},
   "outputs": [
    {
     "name": "stdout",
     "output_type": "stream",
     "text": [
      "(8554, 8) (8554, 1)\n"
     ]
    }
   ],
   "source": [
    "X = X_test\n",
    "y = y_test\n",
    "\n",
    "del X_test, y_test\n",
    "\n",
    "print(X.shape,y.shape)"
   ]
  },
  {
   "cell_type": "markdown",
   "metadata": {},
   "source": [
    "Essa amostra será dividida no conjunto de dados para o `treino` e `teste`"
   ]
  },
  {
   "cell_type": "markdown",
   "metadata": {},
   "source": [
    "## Quantitativo por variáveis categóricas"
   ]
  },
  {
   "cell_type": "code",
   "execution_count": 18,
   "metadata": {},
   "outputs": [
    {
     "name": "stdout",
     "output_type": "stream",
     "text": [
      "ic_tipo_renda:\n",
      "F    5135\n",
      "I    3419\n",
      "Name: ic_tipo_renda, dtype: int64\n",
      "ic_sexo:\n",
      "F    4285\n",
      "M    4264\n",
      "?       5\n",
      "Name: ic_sexo, dtype: int64\n",
      "ic_infmo_renda:\n",
      "2.0    3726\n",
      "6.0    2438\n",
      "3.0    2077\n",
      "5.0     313\n",
      "Name: ic_infmo_renda, dtype: int64\n"
     ]
    }
   ],
   "source": [
    "print('ic_tipo_renda:')\n",
    "print(y['ic_tipo_renda'].value_counts())\n",
    "\n",
    "print('ic_sexo:')\n",
    "print(X['ic_sexo'].value_counts())\n",
    "\n",
    "print('ic_infmo_renda:')\n",
    "print(X['ic_infmo_renda'].value_counts())"
   ]
  },
  {
   "cell_type": "markdown",
   "metadata": {},
   "source": [
    "||Variáveis Usadas na Estratificada||\n",
    "|---|---|---|\n",
    "|**ic_infmo_renda**|**ic_tipo_renda**|**ic_tipo_renda & ic_infmo_renda**|\n",
    "|--------------------------|--------------------------|--------------------------|\n",
    "|**ic_sexo**|**ic_sexo**|**ic_sexo**|\n",
    "|M - 4331 | **F - 4344** | M - 4420|\n",
    "|F - 4219 | **M - 4206** | F - 4130|\n",
    "||||\n",
    "|**ic_tipo_renda**|**ic_tipo_renda**|**ic_tipo_renda**|\n",
    "|F - 5180 | **F - 5102** | F - 5101|\n",
    "|I - 3370 | **I - 3448** | I - 3449|\n",
    "||||\n",
    "|**ic_infmo_renda**|**ic_infmo_renda**|**ic_infmo_renda**|\n",
    "|2.0 - 3769 | **2.0 - 3795** | 2.0 - 3768|\n",
    "|6.0 - 2412 | **6.0 - 2357** | 6.0 - 2413|\n",
    "|3.0 - 2045 | **3.0 - 2089** | 3.0 - 2045| \n",
    "|5.0 - 324 | **5.0 - 309** | 5.0 - 324| "
   ]
  },
  {
   "cell_type": "markdown",
   "metadata": {},
   "source": [
    "- Foi observado que a amostragem estratificada por `ic_tipo_renda` deixou `ic_sexo = F` em maior proporção.\n",
    "    - Originalmente a maioria é do sexo masculino.\n",
    "- Isso é interessante porque o desbalaneamento da variável dependente `ic_sexo` está, então, no fato da renda ser formal ou informal.\n",
    "- Portanto, a estratificação será feita por `ic_tipo_renda`, pois mantem um melhor equilibrio entre `ic_sexo = M` e `ic_sexo = F`."
   ]
  },
  {
   "cell_type": "markdown",
   "metadata": {},
   "source": [
    "### Quantidade de registros por ic_tipo_renda"
   ]
  },
  {
   "cell_type": "code",
   "execution_count": 19,
   "metadata": {},
   "outputs": [
    {
     "data": {
      "text/plain": [
       "F    5135\n",
       "I    3419\n",
       "Name: ic_tipo_renda, dtype: int64"
      ]
     },
     "execution_count": 19,
     "metadata": {},
     "output_type": "execute_result"
    }
   ],
   "source": [
    "y['ic_tipo_renda'].value_counts()"
   ]
  },
  {
   "cell_type": "code",
   "execution_count": 20,
   "metadata": {},
   "outputs": [
    {
     "name": "stdout",
     "output_type": "stream",
     "text": [
      "(5731, 8) (5731, 1)\n",
      "(2823, 8) (2823, 1)\n"
     ]
    }
   ],
   "source": [
    "# Divisão do dataset em porções train e test.\n",
    "X_train, X_test, y_train, y_test =\\\n",
    "     train_test_split(X, y,\n",
    "                      test_size=0.33,\n",
    "                      random_state=42,\n",
    "                      shuffle=True)\n",
    "                      #stratify=y)\n",
    "\n",
    "print (X_train.shape, y_train.shape)\n",
    "print (X_test.shape, y_test.shape)"
   ]
  },
  {
   "cell_type": "markdown",
   "metadata": {},
   "source": [
    "- 11000 amostras para o treinamento dos modelos\n",
    "- 5419 amostras para a validação da acurácia dos modelos"
   ]
  },
  {
   "cell_type": "markdown",
   "metadata": {},
   "source": [
    "# Transforma em números (encoding) as variáveis categóricas"
   ]
  },
  {
   "cell_type": "code",
   "execution_count": 21,
   "metadata": {},
   "outputs": [
    {
     "name": "stderr",
     "output_type": "stream",
     "text": [
      "/home/marcello/anaconda3/envs/av/lib/python3.6/site-packages/ipykernel_launcher.py:10: SettingWithCopyWarning: \n",
      "A value is trying to be set on a copy of a slice from a DataFrame.\n",
      "Try using .loc[row_indexer,col_indexer] = value instead\n",
      "\n",
      "See the caveats in the documentation: https://pandas.pydata.org/pandas-docs/stable/user_guide/indexing.html#returning-a-view-versus-a-copy\n",
      "  # Remove the CWD from sys.path while we load stuff.\n",
      "/home/marcello/anaconda3/envs/av/lib/python3.6/site-packages/ipykernel_launcher.py:14: SettingWithCopyWarning: \n",
      "A value is trying to be set on a copy of a slice from a DataFrame.\n",
      "Try using .loc[row_indexer,col_indexer] = value instead\n",
      "\n",
      "See the caveats in the documentation: https://pandas.pydata.org/pandas-docs/stable/user_guide/indexing.html#returning-a-view-versus-a-copy\n",
      "  \n",
      "/home/marcello/anaconda3/envs/av/lib/python3.6/site-packages/ipykernel_launcher.py:22: SettingWithCopyWarning: \n",
      "A value is trying to be set on a copy of a slice from a DataFrame.\n",
      "Try using .loc[row_indexer,col_indexer] = value instead\n",
      "\n",
      "See the caveats in the documentation: https://pandas.pydata.org/pandas-docs/stable/user_guide/indexing.html#returning-a-view-versus-a-copy\n",
      "/home/marcello/anaconda3/envs/av/lib/python3.6/site-packages/ipykernel_launcher.py:26: SettingWithCopyWarning: \n",
      "A value is trying to be set on a copy of a slice from a DataFrame.\n",
      "Try using .loc[row_indexer,col_indexer] = value instead\n",
      "\n",
      "See the caveats in the documentation: https://pandas.pydata.org/pandas-docs/stable/user_guide/indexing.html#returning-a-view-versus-a-copy\n"
     ]
    }
   ],
   "source": [
    "from sklearn.preprocessing import LabelEncoder\n",
    "le = LabelEncoder()\n",
    "\n",
    "# aplica no y_train\n",
    "### label = ic_sexo ###\n",
    "###################################\n",
    "### ic_sexo 1 = M e 0 = F ###\n",
    "###################################\n",
    "le = le.fit(X_train['ic_sexo'])\n",
    "X_train['ic_sexo'] = le.transform(X_train['ic_sexo'])\n",
    "\n",
    "# aplica no y_test\n",
    "le = le.fit(X_test['ic_sexo'])\n",
    "X_test['ic_sexo'] = le.transform(X_test['ic_sexo'])\n",
    "\n",
    "### encoding das variáveis categóricas ###\n",
    "###################################\n",
    "### ic_tipo_renda 0 = F e 1 = I ###\n",
    "###################################\n",
    "# aplica no X_train\n",
    "le = le.fit(y_train['ic_tipo_renda'])\n",
    "y_train['ic_tipo_renda'] = le.transform(y_train['ic_tipo_renda'])\n",
    "\n",
    "# aplica no X_test\n",
    "le = le.fit(y_test['ic_tipo_renda'])\n",
    "y_test['ic_tipo_renda'] = le.transform(y_test['ic_tipo_renda'])\n",
    "###################################\n",
    "\n",
    "#print(y_train.ic_sexo.value_counts())"
   ]
  },
  {
   "cell_type": "markdown",
   "metadata": {},
   "source": [
    "## Bibliotecas usadas na preparação, treinamento e na validação"
   ]
  },
  {
   "cell_type": "code",
   "execution_count": 22,
   "metadata": {},
   "outputs": [],
   "source": [
    "from matplotlib import pyplot\n",
    "from pandas import set_option\n",
    "from pandas.plotting import scatter_matrix\n",
    "from sklearn.preprocessing import StandardScaler\n",
    "from sklearn.model_selection import train_test_split\n",
    "from sklearn.model_selection import KFold\n",
    "from sklearn.model_selection import cross_val_score\n",
    "from sklearn.model_selection import GridSearchCV\n",
    "from sklearn.metrics import classification_report\n",
    "from sklearn.metrics import confusion_matrix\n",
    "from sklearn.metrics import accuracy_score\n",
    "from sklearn.pipeline import Pipeline"
   ]
  },
  {
   "cell_type": "markdown",
   "metadata": {},
   "source": [
    "# Aprendizado Supervisionado - Classificação"
   ]
  },
  {
   "cell_type": "markdown",
   "metadata": {},
   "source": [
    "### Algoritmos de Classificação"
   ]
  },
  {
   "cell_type": "code",
   "execution_count": 23,
   "metadata": {},
   "outputs": [],
   "source": [
    "from sklearn.linear_model import LogisticRegression\n",
    "from sklearn.tree import DecisionTreeClassifier\n",
    "from sklearn.ensemble import RandomForestClassifier\n",
    "from sklearn.neighbors import KNeighborsClassifier\n",
    "from sklearn.discriminant_analysis import LinearDiscriminantAnalysis\n",
    "from sklearn.naive_bayes import GaussianNB\n",
    "from sklearn.svm import SVC\n",
    "from sklearn.ensemble import AdaBoostClassifier"
   ]
  },
  {
   "cell_type": "markdown",
   "metadata": {},
   "source": [
    "### Parâmetros de configuração da validação por KFold"
   ]
  },
  {
   "cell_type": "markdown",
   "metadata": {},
   "source": [
    "Definição de quantidade de folds, definição da seed a ser utilizada, e definição da métrica de avaliação. K-fold é um método de treinamento a ser usado em conjuntos de dados de tamanho moderado devido ao seu treinamento consumir bastante tempo.  \n",
    "\n",
    "Referência: \n",
    "- https://scikit-learn.org/stable/modules/generated/sklearn.model_selection.cross_val_score.html, https://scikit-learn.org/stable/modules/generated/sklearn.model_selection.KFold.html"
   ]
  },
  {
   "cell_type": "code",
   "execution_count": 24,
   "metadata": {},
   "outputs": [],
   "source": [
    "num_folds = 10\n",
    "seed = 42\n",
    "scoring = 'accuracy'"
   ]
  },
  {
   "cell_type": "markdown",
   "metadata": {},
   "source": [
    "# Pipeline de avaliação de desempenho de algoritmos  \n",
    "### Classificação Supervisionada"
   ]
  },
  {
   "cell_type": "code",
   "execution_count": 25,
   "metadata": {},
   "outputs": [
    {
     "name": "stdout",
     "output_type": "stream",
     "text": [
      "LR: 0.815042 (0.013774)\n",
      "LDA: 0.769849 (0.012438)\n",
      "KNN: 0.988135 (0.004468)\n",
      "CART: 0.997208 (0.001599)\n",
      "NB: 0.811551 (0.013649)\n",
      "RF: 0.953762 (0.008370)\n",
      "SVM: 0.626066 (0.012169)\n",
      "ADT: 0.996510 (0.002589)\n"
     ]
    }
   ],
   "source": [
    "# Verificação do score de cada algoritmo. Avaliação de desempenho de cada modelo.\n",
    "models = []\n",
    "models.append(('LR', LogisticRegression(solver='liblinear')))\n",
    "models.append(('LDA', LinearDiscriminantAnalysis()))\n",
    "models.append(('KNN', KNeighborsClassifier(n_jobs=-1)))\n",
    "models.append(('CART', DecisionTreeClassifier()))\n",
    "models.append(('NB', GaussianNB()))\n",
    "models.append(('RF', RandomForestClassifier(max_depth=2, random_state=0, n_jobs=-1)))\n",
    "#models.append(('SVM', LinearSVC()))\n",
    "models.append(('SVM', SVC(kernel='rbf', gamma=0.7, C=0.2)))\n",
    "models.append(('ADT', AdaBoostClassifier(DecisionTreeClassifier(max_depth=1),\n",
    "                                         algorithm=\"SAMME\",\n",
    "                                         n_estimators=200)))\n",
    "\n",
    "results = []\n",
    "names = []\n",
    "for name, model in models:\n",
    "\tkfold = KFold(n_splits=num_folds, random_state=seed, shuffle=True)\n",
    "\tcv_results = cross_val_score(model, X_train, y_train, cv=kfold, scoring=scoring, n_jobs=-1)\n",
    "\tresults.append(cv_results)\n",
    "\tnames.append(name)\n",
    "\tmsg = \"%s: %f (%f)\" % (name, cv_results.mean(), cv_results.std())\n",
    "\tprint(msg)"
   ]
  },
  {
   "cell_type": "code",
   "execution_count": 26,
   "metadata": {},
   "outputs": [
    {
     "data": {
      "image/png": "[encoded data removed]",
      "text/plain": [
       "<Figure size 432x288 with 1 Axes>"
      ]
     },
     "metadata": {
      "needs_background": "light"
     },
     "output_type": "display_data"
    }
   ],
   "source": [
    "# Visualização das acurácias dos diferentes modelos.\n",
    "fig = pyplot.figure()\n",
    "fig.suptitle('Comparação entre as acurácias')\n",
    "ax = fig.add_subplot(111)\n",
    "pyplot.boxplot(results)\n",
    "ax.set_xticklabels(names)\n",
    "pyplot.show()"
   ]
  },
  {
   "cell_type": "code",
   "execution_count": 27,
   "metadata": {},
   "outputs": [
    {
     "name": "stdout",
     "output_type": "stream",
     "text": [
      "LR: 0.908745 (0.012636)\n",
      "LDA: 0.769849 (0.012438)\n",
      "KNN: 0.950447 (0.006524)\n",
      "CART: 0.996685 (0.001981)\n",
      "NB: 0.811551 (0.013649)\n",
      "RF: 0.953762 (0.008370)\n",
      "SVM: 0.941373 (0.009678)\n",
      "ADT: 0.996510 (0.002589)\n"
     ]
    }
   ],
   "source": [
    "# Padronização do dataset, utilizando StandardScaler\n",
    "# Aplica normalização por z-score\n",
    "pipelines = []\n",
    "pipelines.append(('LR', Pipeline([('Scaler', StandardScaler()),('LR', LogisticRegression(solver='liblinear'))])))\n",
    "pipelines.append(('LDA', Pipeline([('Scaler', StandardScaler()),('LDA', LinearDiscriminantAnalysis())])))\n",
    "pipelines.append(('KNN', Pipeline([('Scaler', StandardScaler()),('KNN', KNeighborsClassifier(n_jobs=-1))])))\n",
    "pipelines.append(('CART', Pipeline([('Scaler', StandardScaler()),('CART', DecisionTreeClassifier())])))\n",
    "pipelines.append(('NB', Pipeline([('Scaler', StandardScaler()),('NB', GaussianNB())])))\n",
    "pipelines.append(('RF', Pipeline([('Scaler', StandardScaler()),('RF', RandomForestClassifier(max_depth=2, \n",
    "                                                                                             random_state=0, \n",
    "                                                                                             n_jobs=-1))])))\n",
    "#pipelines.append(('SVM', Pipeline([('Scaler', StandardScaler()),('SVM', LinearSVC())])))\n",
    "pipelines.append(('SVM', Pipeline([('Scaler', StandardScaler()),('SVM', SVC(kernel='rbf', \n",
    "                                                                            gamma=0.7, \n",
    "                                                                            C=0.2))])))\n",
    "pipelines.append(('ADT', Pipeline([('Scaler', StandardScaler()),('ADT', AdaBoostClassifier(DecisionTreeClassifier(max_depth=1),\n",
    "                                                                                           algorithm=\"SAMME\",\n",
    "                                                                                           n_estimators=200))])))\n",
    "results = []\n",
    "names = []\n",
    "for name, model in pipelines:\n",
    "\tkfold = KFold(n_splits=num_folds, random_state=seed, shuffle=True)\n",
    "\tcv_results = cross_val_score(model, X_train, y_train, cv=kfold, scoring=scoring, n_jobs=-1)\n",
    "\tresults.append(cv_results)\n",
    "\tnames.append(name)\n",
    "\tmsg = \"%s: %f (%f)\" % (name, cv_results.mean(), cv_results.std())\n",
    "\tprint(msg)"
   ]
  },
  {
   "cell_type": "code",
   "execution_count": 28,
   "metadata": {},
   "outputs": [
    {
     "data": {
      "image/png": "[encoded data removed]",
      "text/plain": [
       "<Figure size 432x288 with 1 Axes>"
      ]
     },
     "metadata": {
      "needs_background": "light"
     },
     "output_type": "display_data"
    }
   ],
   "source": [
    "# Visualização das acurácias dos diferentes modelos pós-normalização do dataset.\n",
    "fig = pyplot.figure()\n",
    "fig.suptitle('Escala de Algoritmos - Nomalizado - Comparação')\n",
    "ax = fig.add_subplot(111)\n",
    "pyplot.boxplot(results)\n",
    "ax.set_xticklabels(names)\n",
    "pyplot.show()"
   ]
  },
  {
   "cell_type": "code",
   "execution_count": 29,
   "metadata": {},
   "outputs": [
    {
     "ename": "NameError",
     "evalue": "name 'stop' is not defined",
     "output_type": "error",
     "traceback": [
      "\u001b[0;31m---------------------------------------------------------------------------\u001b[0m",
      "\u001b[0;31mNameError\u001b[0m                                 Traceback (most recent call last)",
      "\u001b[0;32m<ipython-input-29-4f76a9dad686>\u001b[0m in \u001b[0;36m<module>\u001b[0;34m\u001b[0m\n\u001b[0;32m----> 1\u001b[0;31m \u001b[0mstop\u001b[0m\u001b[0;34m\u001b[0m\u001b[0;34m\u001b[0m\u001b[0m\n\u001b[0m",
      "\u001b[0;31mNameError\u001b[0m: name 'stop' is not defined"
     ]
    }
   ],
   "source": [
    "stop"
   ]
  },
  {
   "cell_type": "markdown",
   "metadata": {},
   "source": [
    "# Otimização de parâmetros dos modelos selecionados\n",
    "- KNN\n",
    "- AdaBoost CART\n",
    "- Logistic Regression"
   ]
  },
  {
   "cell_type": "markdown",
   "metadata": {},
   "source": [
    "# KNN"
   ]
  },
  {
   "cell_type": "code",
   "execution_count": 30,
   "metadata": {},
   "outputs": [
    {
     "name": "stdout",
     "output_type": "stream",
     "text": [
      "Best: 0.989707 using {'n_neighbors': 4}\n",
      "0.987264 (0.005459) with: {'n_neighbors': 1}\n",
      "0.986392 (0.005555) with: {'n_neighbors': 2}\n",
      "0.989008 (0.004812) with: {'n_neighbors': 3}\n",
      "0.989707 (0.004770) with: {'n_neighbors': 4}\n",
      "0.988135 (0.004468) with: {'n_neighbors': 5}\n",
      "0.989008 (0.004484) with: {'n_neighbors': 6}\n",
      "0.988484 (0.003992) with: {'n_neighbors': 7}\n",
      "0.988833 (0.004758) with: {'n_neighbors': 8}\n",
      "0.987961 (0.004709) with: {'n_neighbors': 9}\n",
      "0.988833 (0.005127) with: {'n_neighbors': 10}\n",
      "0.986740 (0.004820) with: {'n_neighbors': 11}\n",
      "0.987961 (0.004645) with: {'n_neighbors': 12}\n",
      "0.986216 (0.004643) with: {'n_neighbors': 13}\n",
      "0.987438 (0.004328) with: {'n_neighbors': 14}\n",
      "0.985693 (0.004857) with: {'n_neighbors': 15}\n"
     ]
    },
    {
     "name": "stderr",
     "output_type": "stream",
     "text": [
      "/home/marcello/anaconda3/envs/av/lib/python3.6/site-packages/sklearn/model_selection/_search.py:765: DataConversionWarning: A column-vector y was passed when a 1d array was expected. Please change the shape of y to (n_samples, ), for example using ravel().\n",
      "  self.best_estimator_.fit(X, y, **fit_params)\n"
     ]
    }
   ],
   "source": [
    "# Ajuste de parâmetros do modelo KNN. Tuning\n",
    "#scaler = StandardScaler().fit(X_train)\n",
    "#rescaledX = scaler.transform(X_train)\n",
    "\n",
    "neighbors = [1,2,3,4,5,6,7,8,9,10,11,12,13,14,15]\n",
    "param_grid = dict(n_neighbors=neighbors)\n",
    "\n",
    "model = KNeighborsClassifier(n_jobs=-1)\n",
    "\n",
    "kfold = KFold(n_splits=num_folds, random_state=seed, shuffle=True)\n",
    "\n",
    "grid = GridSearchCV(estimator=model, param_grid=param_grid, scoring=scoring, cv=kfold, n_jobs=-1)\n",
    "\n",
    "#grid_result = grid.fit(rescaledX, y_train)\n",
    "grid_result = grid.fit(X_train, y_train)\n",
    "\n",
    "print(\"Best: %f using %s\" % (grid_result.best_score_, grid_result.best_params_))\n",
    "means = grid_result.cv_results_['mean_test_score']\n",
    "stds = grid_result.cv_results_['std_test_score']\n",
    "params = grid_result.cv_results_['params']\n",
    "for mean, stdev, param in zip(means, stds, params):\n",
    "    print(\"%f (%f) with: %r\" % (mean, stdev, param))"
   ]
  },
  {
   "cell_type": "markdown",
   "metadata": {},
   "source": [
    "# AdaBoost(CART)"
   ]
  },
  {
   "cell_type": "code",
   "execution_count": 31,
   "metadata": {},
   "outputs": [
    {
     "name": "stderr",
     "output_type": "stream",
     "text": [
      "/home/marcello/anaconda3/envs/av/lib/python3.6/site-packages/sklearn/utils/validation.py:73: DataConversionWarning: A column-vector y was passed when a 1d array was expected. Please change the shape of y to (n_samples, ), for example using ravel().\n",
      "  return f(**kwargs)\n"
     ]
    },
    {
     "name": "stdout",
     "output_type": "stream",
     "text": [
      "Best: 0.997557 using {'algorithm': 'SAMME.R', 'learning_rate': 0.53, 'n_estimators': 250}\n",
      "0.996684 (0.002641) with: {'algorithm': 'SAMME', 'learning_rate': 0.5, 'n_estimators': 250}\n",
      "0.996684 (0.002641) with: {'algorithm': 'SAMME', 'learning_rate': 0.5, 'n_estimators': 255}\n",
      "0.996684 (0.002641) with: {'algorithm': 'SAMME', 'learning_rate': 0.5, 'n_estimators': 260}\n",
      "0.996684 (0.002641) with: {'algorithm': 'SAMME', 'learning_rate': 0.5, 'n_estimators': 265}\n",
      "0.996510 (0.002589) with: {'algorithm': 'SAMME', 'learning_rate': 0.5, 'n_estimators': 270}\n",
      "0.996684 (0.002641) with: {'algorithm': 'SAMME', 'learning_rate': 0.51, 'n_estimators': 250}\n",
      "0.996684 (0.002641) with: {'algorithm': 'SAMME', 'learning_rate': 0.51, 'n_estimators': 255}\n",
      "0.996684 (0.002641) with: {'algorithm': 'SAMME', 'learning_rate': 0.51, 'n_estimators': 260}\n",
      "0.996161 (0.002565) with: {'algorithm': 'SAMME', 'learning_rate': 0.51, 'n_estimators': 265}\n",
      "0.996510 (0.002589) with: {'algorithm': 'SAMME', 'learning_rate': 0.51, 'n_estimators': 270}\n",
      "0.996510 (0.002920) with: {'algorithm': 'SAMME', 'learning_rate': 0.52, 'n_estimators': 250}\n",
      "0.996684 (0.002641) with: {'algorithm': 'SAMME', 'learning_rate': 0.52, 'n_estimators': 255}\n",
      "0.996161 (0.002444) with: {'algorithm': 'SAMME', 'learning_rate': 0.52, 'n_estimators': 260}\n",
      "0.995987 (0.002348) with: {'algorithm': 'SAMME', 'learning_rate': 0.52, 'n_estimators': 265}\n",
      "0.996684 (0.002641) with: {'algorithm': 'SAMME', 'learning_rate': 0.52, 'n_estimators': 270}\n",
      "0.996684 (0.002641) with: {'algorithm': 'SAMME', 'learning_rate': 0.53, 'n_estimators': 250}\n",
      "0.996335 (0.002641) with: {'algorithm': 'SAMME', 'learning_rate': 0.53, 'n_estimators': 255}\n",
      "0.996335 (0.002641) with: {'algorithm': 'SAMME', 'learning_rate': 0.53, 'n_estimators': 260}\n",
      "0.996161 (0.002444) with: {'algorithm': 'SAMME', 'learning_rate': 0.53, 'n_estimators': 265}\n",
      "0.996161 (0.002565) with: {'algorithm': 'SAMME', 'learning_rate': 0.53, 'n_estimators': 270}\n",
      "0.996684 (0.002641) with: {'algorithm': 'SAMME', 'learning_rate': 0.54, 'n_estimators': 250}\n",
      "0.996684 (0.002641) with: {'algorithm': 'SAMME', 'learning_rate': 0.54, 'n_estimators': 255}\n",
      "0.996684 (0.002641) with: {'algorithm': 'SAMME', 'learning_rate': 0.54, 'n_estimators': 260}\n",
      "0.996335 (0.002641) with: {'algorithm': 'SAMME', 'learning_rate': 0.54, 'n_estimators': 265}\n",
      "0.996684 (0.002641) with: {'algorithm': 'SAMME', 'learning_rate': 0.54, 'n_estimators': 270}\n",
      "0.996684 (0.002641) with: {'algorithm': 'SAMME', 'learning_rate': 0.55, 'n_estimators': 250}\n",
      "0.996684 (0.002641) with: {'algorithm': 'SAMME', 'learning_rate': 0.55, 'n_estimators': 255}\n",
      "0.996510 (0.002920) with: {'algorithm': 'SAMME', 'learning_rate': 0.55, 'n_estimators': 260}\n",
      "0.996684 (0.002641) with: {'algorithm': 'SAMME', 'learning_rate': 0.55, 'n_estimators': 265}\n",
      "0.996684 (0.002641) with: {'algorithm': 'SAMME', 'learning_rate': 0.55, 'n_estimators': 270}\n",
      "0.996684 (0.002641) with: {'algorithm': 'SAMME', 'learning_rate': 0.56, 'n_estimators': 250}\n",
      "0.996684 (0.002641) with: {'algorithm': 'SAMME', 'learning_rate': 0.56, 'n_estimators': 255}\n",
      "0.996684 (0.002641) with: {'algorithm': 'SAMME', 'learning_rate': 0.56, 'n_estimators': 260}\n",
      "0.996510 (0.002920) with: {'algorithm': 'SAMME', 'learning_rate': 0.56, 'n_estimators': 265}\n",
      "0.996684 (0.002641) with: {'algorithm': 'SAMME', 'learning_rate': 0.56, 'n_estimators': 270}\n",
      "0.996684 (0.002641) with: {'algorithm': 'SAMME', 'learning_rate': 0.57, 'n_estimators': 250}\n",
      "0.996684 (0.002641) with: {'algorithm': 'SAMME', 'learning_rate': 0.57, 'n_estimators': 255}\n",
      "0.996335 (0.002641) with: {'algorithm': 'SAMME', 'learning_rate': 0.57, 'n_estimators': 260}\n",
      "0.995987 (0.002348) with: {'algorithm': 'SAMME', 'learning_rate': 0.57, 'n_estimators': 265}\n",
      "0.995812 (0.002726) with: {'algorithm': 'SAMME', 'learning_rate': 0.57, 'n_estimators': 270}\n",
      "0.996684 (0.002641) with: {'algorithm': 'SAMME', 'learning_rate': 0.58, 'n_estimators': 250}\n",
      "0.996684 (0.002641) with: {'algorithm': 'SAMME', 'learning_rate': 0.58, 'n_estimators': 255}\n",
      "0.996161 (0.002444) with: {'algorithm': 'SAMME', 'learning_rate': 0.58, 'n_estimators': 260}\n",
      "0.996336 (0.002862) with: {'algorithm': 'SAMME', 'learning_rate': 0.58, 'n_estimators': 265}\n",
      "0.996335 (0.002754) with: {'algorithm': 'SAMME', 'learning_rate': 0.58, 'n_estimators': 270}\n",
      "0.996684 (0.002641) with: {'algorithm': 'SAMME', 'learning_rate': 0.59, 'n_estimators': 250}\n",
      "0.996684 (0.002641) with: {'algorithm': 'SAMME', 'learning_rate': 0.59, 'n_estimators': 255}\n",
      "0.996335 (0.002641) with: {'algorithm': 'SAMME', 'learning_rate': 0.59, 'n_estimators': 260}\n",
      "0.996335 (0.002641) with: {'algorithm': 'SAMME', 'learning_rate': 0.59, 'n_estimators': 265}\n",
      "0.996161 (0.002444) with: {'algorithm': 'SAMME', 'learning_rate': 0.59, 'n_estimators': 270}\n",
      "0.996335 (0.002641) with: {'algorithm': 'SAMME', 'learning_rate': 0.6, 'n_estimators': 250}\n",
      "0.996510 (0.002589) with: {'algorithm': 'SAMME', 'learning_rate': 0.6, 'n_estimators': 255}\n",
      "0.996684 (0.002641) with: {'algorithm': 'SAMME', 'learning_rate': 0.6, 'n_estimators': 260}\n",
      "0.996335 (0.002641) with: {'algorithm': 'SAMME', 'learning_rate': 0.6, 'n_estimators': 265}\n",
      "0.996510 (0.002589) with: {'algorithm': 'SAMME', 'learning_rate': 0.6, 'n_estimators': 270}\n",
      "0.997383 (0.001407) with: {'algorithm': 'SAMME.R', 'learning_rate': 0.5, 'n_estimators': 250}\n",
      "0.997208 (0.001599) with: {'algorithm': 'SAMME.R', 'learning_rate': 0.5, 'n_estimators': 255}\n",
      "0.997208 (0.001599) with: {'algorithm': 'SAMME.R', 'learning_rate': 0.5, 'n_estimators': 260}\n",
      "0.997208 (0.001599) with: {'algorithm': 'SAMME.R', 'learning_rate': 0.5, 'n_estimators': 265}\n",
      "0.997208 (0.001599) with: {'algorithm': 'SAMME.R', 'learning_rate': 0.5, 'n_estimators': 270}\n",
      "0.997383 (0.001407) with: {'algorithm': 'SAMME.R', 'learning_rate': 0.51, 'n_estimators': 250}\n",
      "0.997383 (0.001407) with: {'algorithm': 'SAMME.R', 'learning_rate': 0.51, 'n_estimators': 255}\n",
      "0.997208 (0.001599) with: {'algorithm': 'SAMME.R', 'learning_rate': 0.51, 'n_estimators': 260}\n",
      "0.997208 (0.001157) with: {'algorithm': 'SAMME.R', 'learning_rate': 0.51, 'n_estimators': 265}\n",
      "0.997383 (0.001407) with: {'algorithm': 'SAMME.R', 'learning_rate': 0.51, 'n_estimators': 270}\n",
      "0.997383 (0.001407) with: {'algorithm': 'SAMME.R', 'learning_rate': 0.52, 'n_estimators': 250}\n",
      "0.997383 (0.001407) with: {'algorithm': 'SAMME.R', 'learning_rate': 0.52, 'n_estimators': 255}\n",
      "0.997383 (0.001407) with: {'algorithm': 'SAMME.R', 'learning_rate': 0.52, 'n_estimators': 260}\n",
      "0.997383 (0.001407) with: {'algorithm': 'SAMME.R', 'learning_rate': 0.52, 'n_estimators': 265}\n",
      "0.997383 (0.001407) with: {'algorithm': 'SAMME.R', 'learning_rate': 0.52, 'n_estimators': 270}\n",
      "0.997557 (0.001599) with: {'algorithm': 'SAMME.R', 'learning_rate': 0.53, 'n_estimators': 250}\n",
      "0.997383 (0.001407) with: {'algorithm': 'SAMME.R', 'learning_rate': 0.53, 'n_estimators': 255}\n",
      "0.997383 (0.001407) with: {'algorithm': 'SAMME.R', 'learning_rate': 0.53, 'n_estimators': 260}\n",
      "0.997383 (0.001407) with: {'algorithm': 'SAMME.R', 'learning_rate': 0.53, 'n_estimators': 265}\n",
      "0.997208 (0.001599) with: {'algorithm': 'SAMME.R', 'learning_rate': 0.53, 'n_estimators': 270}\n",
      "0.997383 (0.001407) with: {'algorithm': 'SAMME.R', 'learning_rate': 0.54, 'n_estimators': 250}\n",
      "0.997557 (0.001599) with: {'algorithm': 'SAMME.R', 'learning_rate': 0.54, 'n_estimators': 255}\n",
      "0.997557 (0.001599) with: {'algorithm': 'SAMME.R', 'learning_rate': 0.54, 'n_estimators': 260}\n",
      "0.997383 (0.001788) with: {'algorithm': 'SAMME.R', 'learning_rate': 0.54, 'n_estimators': 265}\n",
      "0.997383 (0.001788) with: {'algorithm': 'SAMME.R', 'learning_rate': 0.54, 'n_estimators': 270}\n",
      "0.997383 (0.001407) with: {'algorithm': 'SAMME.R', 'learning_rate': 0.55, 'n_estimators': 250}\n",
      "0.997383 (0.001407) with: {'algorithm': 'SAMME.R', 'learning_rate': 0.55, 'n_estimators': 255}\n",
      "0.997383 (0.001407) with: {'algorithm': 'SAMME.R', 'learning_rate': 0.55, 'n_estimators': 260}\n",
      "0.997383 (0.001407) with: {'algorithm': 'SAMME.R', 'learning_rate': 0.55, 'n_estimators': 265}\n",
      "0.997208 (0.001599) with: {'algorithm': 'SAMME.R', 'learning_rate': 0.55, 'n_estimators': 270}\n",
      "0.997208 (0.001599) with: {'algorithm': 'SAMME.R', 'learning_rate': 0.56, 'n_estimators': 250}\n",
      "0.997383 (0.001407) with: {'algorithm': 'SAMME.R', 'learning_rate': 0.56, 'n_estimators': 255}\n",
      "0.997383 (0.001407) with: {'algorithm': 'SAMME.R', 'learning_rate': 0.56, 'n_estimators': 260}\n",
      "0.997383 (0.001407) with: {'algorithm': 'SAMME.R', 'learning_rate': 0.56, 'n_estimators': 265}\n",
      "0.997208 (0.001599) with: {'algorithm': 'SAMME.R', 'learning_rate': 0.56, 'n_estimators': 270}\n",
      "0.997208 (0.001599) with: {'algorithm': 'SAMME.R', 'learning_rate': 0.57, 'n_estimators': 250}\n",
      "0.997034 (0.001363) with: {'algorithm': 'SAMME.R', 'learning_rate': 0.57, 'n_estimators': 255}\n",
      "0.997383 (0.001407) with: {'algorithm': 'SAMME.R', 'learning_rate': 0.57, 'n_estimators': 260}\n",
      "0.997383 (0.001407) with: {'algorithm': 'SAMME.R', 'learning_rate': 0.57, 'n_estimators': 265}\n",
      "0.997208 (0.001599) with: {'algorithm': 'SAMME.R', 'learning_rate': 0.57, 'n_estimators': 270}\n",
      "0.997208 (0.001599) with: {'algorithm': 'SAMME.R', 'learning_rate': 0.58, 'n_estimators': 250}\n",
      "0.997383 (0.001407) with: {'algorithm': 'SAMME.R', 'learning_rate': 0.58, 'n_estimators': 255}\n",
      "0.997383 (0.001407) with: {'algorithm': 'SAMME.R', 'learning_rate': 0.58, 'n_estimators': 260}\n",
      "0.997208 (0.001599) with: {'algorithm': 'SAMME.R', 'learning_rate': 0.58, 'n_estimators': 265}\n",
      "0.997208 (0.001599) with: {'algorithm': 'SAMME.R', 'learning_rate': 0.58, 'n_estimators': 270}\n",
      "0.997208 (0.001599) with: {'algorithm': 'SAMME.R', 'learning_rate': 0.59, 'n_estimators': 250}\n",
      "0.997208 (0.001599) with: {'algorithm': 'SAMME.R', 'learning_rate': 0.59, 'n_estimators': 255}\n",
      "0.997383 (0.001407) with: {'algorithm': 'SAMME.R', 'learning_rate': 0.59, 'n_estimators': 260}\n",
      "0.997208 (0.001599) with: {'algorithm': 'SAMME.R', 'learning_rate': 0.59, 'n_estimators': 265}\n",
      "0.997208 (0.001599) with: {'algorithm': 'SAMME.R', 'learning_rate': 0.59, 'n_estimators': 270}\n",
      "0.997557 (0.001599) with: {'algorithm': 'SAMME.R', 'learning_rate': 0.6, 'n_estimators': 250}\n",
      "0.997383 (0.001788) with: {'algorithm': 'SAMME.R', 'learning_rate': 0.6, 'n_estimators': 255}\n",
      "0.997557 (0.001599) with: {'algorithm': 'SAMME.R', 'learning_rate': 0.6, 'n_estimators': 260}\n",
      "0.997383 (0.001788) with: {'algorithm': 'SAMME.R', 'learning_rate': 0.6, 'n_estimators': 265}\n",
      "0.997383 (0.001787) with: {'algorithm': 'SAMME.R', 'learning_rate': 0.6, 'n_estimators': 270}\n"
     ]
    }
   ],
   "source": [
    "# Ajuste de parâmetros do modelo ADT - AdaBoost Decison Tree Tuning\n",
    "scaler = StandardScaler().fit(X_train)\n",
    "rescaledX = scaler.transform(X_train)\n",
    "\n",
    "n_estimators = [250, 255, 260, 265, 270]\n",
    "learning_rate = [0.5, 0.51, 0.52, 0.53, 0.54, 0.55, 0.56, 0.57, 0.58, 0.59, 0.6]\n",
    "algorithm = ['SAMME', 'SAMME.R']\n",
    "param_grid = dict(n_estimators=n_estimators, learning_rate=learning_rate, algorithm=algorithm)\n",
    "\n",
    "model = AdaBoostClassifier(DecisionTreeClassifier(max_depth=1))\n",
    "\n",
    "kfold = KFold(n_splits=num_folds, random_state=seed, shuffle=True)\n",
    "\n",
    "grid = GridSearchCV(estimator=model, param_grid=param_grid, scoring=scoring, cv=kfold, n_jobs=-1)\n",
    "\n",
    "grid_result = grid.fit(rescaledX, y_train)\n",
    "\n",
    "print(\"Best: %f using %s\" % (grid_result.best_score_, grid_result.best_params_))\n",
    "means = grid_result.cv_results_['mean_test_score']\n",
    "stds = grid_result.cv_results_['std_test_score']\n",
    "params = grid_result.cv_results_['params']\n",
    "for mean, stdev, param in zip(means, stds, params):\n",
    "    print(\"%f (%f) with: %r\" % (mean, stdev, param))"
   ]
  },
  {
   "cell_type": "markdown",
   "metadata": {},
   "source": [
    "# Logistic Regression"
   ]
  },
  {
   "cell_type": "code",
   "execution_count": 32,
   "metadata": {},
   "outputs": [
    {
     "name": "stdout",
     "output_type": "stream",
     "text": [
      "Best: 0.912060 using {'solver': 'newton-cg'}\n",
      "0.912060 (0.013835) with: {'solver': 'newton-cg'}\n",
      "0.912060 (0.013835) with: {'solver': 'lbfgs'}\n",
      "0.908919 (0.012362) with: {'solver': 'liblinear'}\n",
      "0.895308 (0.017192) with: {'solver': 'sag'}\n",
      "0.870531 (0.019224) with: {'solver': 'saga'}\n"
     ]
    },
    {
     "name": "stderr",
     "output_type": "stream",
     "text": [
      "/home/marcello/anaconda3/envs/av/lib/python3.6/site-packages/sklearn/utils/validation.py:73: DataConversionWarning: A column-vector y was passed when a 1d array was expected. Please change the shape of y to (n_samples, ), for example using ravel().\n",
      "  return f(**kwargs)\n"
     ]
    }
   ],
   "source": [
    "# Ajuste de parâmetros do modelo Logistic Regression Tuning\n",
    "scaler = StandardScaler().fit(X_train)\n",
    "rescaledX = scaler.transform(X_train)\n",
    "\n",
    "solver = ['newton-cg','lbfgs','liblinear','sag','saga']\n",
    "\n",
    "param_grid = dict(solver=solver)\n",
    "\n",
    "model = LogisticRegression()\n",
    "\n",
    "kfold = KFold(n_splits=num_folds, random_state=seed, shuffle=True)\n",
    "\n",
    "grid = GridSearchCV(estimator=model, param_grid=param_grid, scoring=scoring, cv=kfold, n_jobs=-1)\n",
    "\n",
    "#grid_result = grid.fit(X_train, y_train)\n",
    "grid_result = grid.fit(rescaledX, y_train)\n",
    "\n",
    "print(\"Best: %f using %s\" % (grid_result.best_score_, grid_result.best_params_))\n",
    "means = grid_result.cv_results_['mean_test_score']\n",
    "stds = grid_result.cv_results_['std_test_score']\n",
    "params = grid_result.cv_results_['params']\n",
    "for mean, stdev, param in zip(means, stds, params):\n",
    "    print(\"%f (%f) with: %r\" % (mean, stdev, param))"
   ]
  },
  {
   "cell_type": "code",
   "execution_count": null,
   "metadata": {},
   "outputs": [],
   "source": [
    "#STOP"
   ]
  },
  {
   "cell_type": "markdown",
   "metadata": {},
   "source": [
    "# Amostragem de 30%\n",
    "- Essa amostragem será usada nos modelos que apresentam os melhores resultados\n",
    "- Os modelos serão configurados com os melhores parâmetros após otimização"
   ]
  },
  {
   "cell_type": "code",
   "execution_count": 33,
   "metadata": {},
   "outputs": [
    {
     "name": "stdout",
     "output_type": "stream",
     "text": [
      "(1221998, 8)\n",
      "(1221998, 1)\n"
     ]
    }
   ],
   "source": [
    "df_features = df_ic_tipo_renda_treino[features_tp_renda]\n",
    "df_label    = df_ic_tipo_renda_treino[label_tp_renda]\n",
    "\n",
    "print(df_features.shape)\n",
    "print(df_label.shape)"
   ]
  },
  {
   "cell_type": "code",
   "execution_count": 34,
   "metadata": {},
   "outputs": [
    {
     "name": "stdout",
     "output_type": "stream",
     "text": [
      "(366600, 8) (366600,)\n"
     ]
    }
   ],
   "source": [
    "from sklearn.model_selection import train_test_split\n",
    "\n",
    "X, y = df_features[features_tp_renda], df_label['ic_tipo_renda']\n",
    "X_train, X_test, y_train, y_test =\\\n",
    "     train_test_split(X, y,\n",
    "                      test_size=0.3, ## -> 30% será usado para treinar e avaliar\n",
    "                      random_state=16, # valor das sementes diferente para forçar outra aleatoriedade \n",
    "                      shuffle=True) # Faz embaralhamento deixando a aleatoriedade ainda maior\n",
    "                      #random_state=33,\n",
    "                      #stratify=df_label['ic_tipo_renda'])\n",
    "\n",
    "X = X_test\n",
    "y = y_test\n",
    "\n",
    "del X_train, y_train, X_test, y_test\n",
    "\n",
    "print (X.shape, y.shape)"
   ]
  },
  {
   "cell_type": "markdown",
   "metadata": {},
   "source": [
    "# Separar dados de treino e validação"
   ]
  },
  {
   "cell_type": "code",
   "execution_count": 35,
   "metadata": {},
   "outputs": [
    {
     "name": "stdout",
     "output_type": "stream",
     "text": [
      "(256620, 8) (256620,)\n",
      "(109980, 8) (109980,)\n",
      "F    153491\n",
      "I    103129\n",
      "Name: ic_tipo_renda, dtype: int64\n",
      "M    130047\n",
      "F    126453\n",
      "?       120\n",
      "Name: ic_sexo, dtype: int64\n"
     ]
    }
   ],
   "source": [
    "from sklearn.model_selection import train_test_split\n",
    "X_train, X_test, y_train, y_test =\\\n",
    "     train_test_split(X, y,\n",
    "                      #test_size=0.15, # 15% será usado para avaliar\n",
    "                      test_size=0.3, # 30% será usado para avaliar\n",
    "                      random_state=51, # valor das sementes diferente para forçar outra aleatoriedade \n",
    "                      shuffle=True) # Faz embaralhamento deixando a aleatoriedade ainda maior\n",
    "                      #random_state=51, \n",
    "                      #stratify=y)\n",
    "\n",
    "print(X_train.shape, y_train.shape)\n",
    "print(X_test.shape, y_test.shape)\n",
    "\n",
    "print(y_train.value_counts())\n",
    "print(X_train['ic_sexo'].value_counts())"
   ]
  },
  {
   "cell_type": "markdown",
   "metadata": {},
   "source": [
    "# Encoding"
   ]
  },
  {
   "cell_type": "code",
   "execution_count": 36,
   "metadata": {},
   "outputs": [
    {
     "name": "stderr",
     "output_type": "stream",
     "text": [
      "/home/marcello/anaconda3/envs/av/lib/python3.6/site-packages/ipykernel_launcher.py:10: SettingWithCopyWarning: \n",
      "A value is trying to be set on a copy of a slice from a DataFrame.\n",
      "Try using .loc[row_indexer,col_indexer] = value instead\n",
      "\n",
      "See the caveats in the documentation: https://pandas.pydata.org/pandas-docs/stable/user_guide/indexing.html#returning-a-view-versus-a-copy\n",
      "  # Remove the CWD from sys.path while we load stuff.\n",
      "/home/marcello/anaconda3/envs/av/lib/python3.6/site-packages/ipykernel_launcher.py:14: SettingWithCopyWarning: \n",
      "A value is trying to be set on a copy of a slice from a DataFrame.\n",
      "Try using .loc[row_indexer,col_indexer] = value instead\n",
      "\n",
      "See the caveats in the documentation: https://pandas.pydata.org/pandas-docs/stable/user_guide/indexing.html#returning-a-view-versus-a-copy\n",
      "  \n"
     ]
    }
   ],
   "source": [
    "from sklearn.preprocessing import LabelEncoder\n",
    "le = LabelEncoder()\n",
    "\n",
    "# aplica no y_train\n",
    "### label = ic_sexo ###\n",
    "###################################\n",
    "### ic_sexo 1 = M e 0 = F ###\n",
    "###################################\n",
    "le = le.fit(X_train['ic_sexo'])\n",
    "X_train['ic_sexo'] = le.transform(X_train['ic_sexo'])\n",
    "\n",
    "# aplica no y_test\n",
    "le = le.fit(X_test['ic_sexo'])\n",
    "X_test['ic_sexo'] = le.transform(X_test['ic_sexo'])\n",
    "\n",
    "### encoding das variáveis categóricas ###\n",
    "###################################\n",
    "### ic_tipo_renda 0 = F e 1 = I ###\n",
    "###################################\n",
    "# aplica no X_train\n",
    "le = le.fit(y_train)\n",
    "y_train = le.transform(y_train)\n",
    "\n",
    "# aplica no X_test\n",
    "le = le.fit(y_test)\n",
    "y_test = le.transform(y_test)\n",
    "###################################\n",
    "\n",
    "#print(y_train.ic_sexo.value_counts())"
   ]
  },
  {
   "cell_type": "code",
   "execution_count": 37,
   "metadata": {},
   "outputs": [
    {
     "name": "stdout",
     "output_type": "stream",
     "text": [
      "qtd 0 = F:  153491\n",
      "qtd 1 = I:  103129\n"
     ]
    }
   ],
   "source": [
    "print('qtd 0 = F: ',(y_train == 0).sum())\n",
    "print('qtd 1 = I: ',(y_train == 1).sum())"
   ]
  },
  {
   "cell_type": "markdown",
   "metadata": {},
   "source": [
    "# Resample"
   ]
  },
  {
   "cell_type": "code",
   "execution_count": 38,
   "metadata": {},
   "outputs": [
    {
     "data": {
      "text/plain": [
       "'#from imblearn.combine import SMOTEENN\\n#undersample = SMOTEENN(n_jobs=-1)\\n\\nfrom imblearn.combine import SMOTETomek\\nundersample = SMOTETomek(n_jobs=-1)\\n\\nX_train, y_train = undersample.fit_resample(X_train, y_train)\\nX_test, y_test = undersample.fit_resample(X_test, y_test)\\n\\nprint(X_train.shape)\\nprint(y_train.shape)\\n\\nprint(X_test.shape)\\nprint(y_test.shape)'"
      ]
     },
     "execution_count": 38,
     "metadata": {},
     "output_type": "execute_result"
    }
   ],
   "source": [
    "'''#from imblearn.combine import SMOTEENN\n",
    "#undersample = SMOTEENN(n_jobs=-1)\n",
    "\n",
    "from imblearn.combine import SMOTETomek\n",
    "undersample = SMOTETomek(n_jobs=-1)\n",
    "\n",
    "X_train, y_train = undersample.fit_resample(X_train, y_train)\n",
    "X_test, y_test = undersample.fit_resample(X_test, y_test)\n",
    "\n",
    "print(X_train.shape)\n",
    "print(y_train.shape)\n",
    "\n",
    "print(X_test.shape)\n",
    "print(y_test.shape)'''"
   ]
  },
  {
   "cell_type": "markdown",
   "metadata": {},
   "source": [
    "# Modelos\n",
    "- KNN\n",
    "- AdaBoost(CART)\n",
    "- Naïve Bayes Gaussian\n",
    "- Logistic Regression\n",
    "- XGBoost"
   ]
  },
  {
   "cell_type": "markdown",
   "metadata": {},
   "source": [
    "# KNN"
   ]
  },
  {
   "cell_type": "code",
   "execution_count": 39,
   "metadata": {},
   "outputs": [
    {
     "name": "stdout",
     "output_type": "stream",
     "text": [
      "0.9932169485360974\n",
      "[[65222   469]\n",
      " [  277 44012]]\n",
      "              precision    recall  f1-score   support\n",
      "\n",
      "           0       1.00      0.99      0.99     65691\n",
      "           1       0.99      0.99      0.99     44289\n",
      "\n",
      "    accuracy                           0.99    109980\n",
      "   macro avg       0.99      0.99      0.99    109980\n",
      "weighted avg       0.99      0.99      0.99    109980\n",
      "\n"
     ]
    }
   ],
   "source": [
    "# Modelo final KNN\n",
    "# Best: 0.987785 using {'n_neighbors': 6}\n",
    "# Best: 0.986566 using {'n_neighbors': 7}\n",
    "# Best: 0.989707 using {'n_neighbors': 4}\n",
    "\n",
    "#scaler = StandardScaler().fit(X_train)\n",
    "#rescaledX = scaler.transform(X_train)\n",
    "\n",
    "model_KNN = KNeighborsClassifier(n_neighbors=4, n_jobs=-1)\n",
    "\n",
    "#model_KNN.fit(rescaledX, y_train)\n",
    "model_KNN.fit(X_train, y_train)\n",
    "\n",
    "# Estima a acurácia no dataset de validação\n",
    "#rescaledValidationX = scaler.transform(X_test)\n",
    "\n",
    "#predictions = model_KNN.predict(rescaledValidationX)\n",
    "predictions = model_KNN.predict(X_test)\n",
    "\n",
    "print(accuracy_score(y_test, predictions))\n",
    "print(confusion_matrix(y_test, predictions))\n",
    "print(classification_report(y_test, predictions))"
   ]
  },
  {
   "cell_type": "markdown",
   "metadata": {},
   "source": [
    "# AdaBoost(CART)"
   ]
  },
  {
   "cell_type": "code",
   "execution_count": 40,
   "metadata": {},
   "outputs": [
    {
     "name": "stdout",
     "output_type": "stream",
     "text": [
      "0.9960901982178578\n",
      "[[65555   136]\n",
      " [  294 43995]]\n",
      "              precision    recall  f1-score   support\n",
      "\n",
      "           0       1.00      1.00      1.00     65691\n",
      "           1       1.00      0.99      1.00     44289\n",
      "\n",
      "    accuracy                           1.00    109980\n",
      "   macro avg       1.00      1.00      1.00    109980\n",
      "weighted avg       1.00      1.00      1.00    109980\n",
      "\n"
     ]
    }
   ],
   "source": [
    "# Modelo final AdaBoost Decision Tree Classifier\n",
    "# Best: 0.998081 using {'algorithm': 'SAMME.R', 'learning_rate': 0.5, 'n_estimators': 250}\n",
    "# Best: 0.997033 using {'algorithm': 'SAMME', 'learning_rate': 0.5, 'n_estimators': 250}\n",
    "# Best: 0.997557 using {'algorithm': 'SAMME.R', 'learning_rate': 0.53, 'n_estimators': 250}\n",
    "\n",
    "scaler = StandardScaler().fit(X_train)\n",
    "rescaledX = scaler.transform(X_train)\n",
    "\n",
    "model_ADT =  AdaBoostClassifier(DecisionTreeClassifier(max_depth=1),\n",
    "                                algorithm=\"SAMME.R\",\n",
    "                                learning_rate=0.53,\n",
    "                                n_estimators=250)\n",
    "\n",
    "model_ADT.fit(rescaledX, y_train)\n",
    "\n",
    "# Estima a acurácia no dataset de validação\n",
    "rescaledValidationX = scaler.transform(X_test)\n",
    "\n",
    "predictions = model_ADT.predict(rescaledValidationX)\n",
    "#predictions = model_RF.predict(X_test)\n",
    "\n",
    "print(accuracy_score(y_test, predictions))\n",
    "print(confusion_matrix(y_test, predictions))\n",
    "print(classification_report(y_test, predictions))"
   ]
  },
  {
   "cell_type": "markdown",
   "metadata": {},
   "source": [
    "# Naïve Bayes Gaussian"
   ]
  },
  {
   "cell_type": "code",
   "execution_count": 41,
   "metadata": {},
   "outputs": [
    {
     "name": "stdout",
     "output_type": "stream",
     "text": [
      "0.5973086015639207\n",
      "[[65691     0]\n",
      " [44288     1]]\n",
      "              precision    recall  f1-score   support\n",
      "\n",
      "           0       0.60      1.00      0.75     65691\n",
      "           1       1.00      0.00      0.00     44289\n",
      "\n",
      "    accuracy                           0.60    109980\n",
      "   macro avg       0.80      0.50      0.37    109980\n",
      "weighted avg       0.76      0.60      0.45    109980\n",
      "\n"
     ]
    }
   ],
   "source": [
    "# Modelo final Naïve Bayes Gaussian Classifier\n",
    "scaler = StandardScaler().fit(X_train)\n",
    "rescaledX = scaler.transform(X_train)\n",
    "\n",
    "model_NBG =  GaussianNB()\n",
    "\n",
    "model_NBG.fit(rescaledX, y_train)\n",
    "\n",
    "# Estima a acurácia no dataset de validação\n",
    "rescaledValidationX = scaler.transform(X_test)\n",
    "\n",
    "predictions = model_NBG.predict(rescaledValidationX)\n",
    "\n",
    "print(accuracy_score(y_test, predictions))\n",
    "print(confusion_matrix(y_test, predictions))\n",
    "print(classification_report(y_test, predictions))"
   ]
  },
  {
   "cell_type": "markdown",
   "metadata": {},
   "source": [
    "# Logistic Regression"
   ]
  },
  {
   "cell_type": "code",
   "execution_count": 42,
   "metadata": {},
   "outputs": [
    {
     "name": "stdout",
     "output_type": "stream",
     "text": [
      "0.9110747408619749\n",
      "[[57165  8526]\n",
      " [ 1254 43035]]\n",
      "              precision    recall  f1-score   support\n",
      "\n",
      "           0       0.98      0.87      0.92     65691\n",
      "           1       0.83      0.97      0.90     44289\n",
      "\n",
      "    accuracy                           0.91    109980\n",
      "   macro avg       0.91      0.92      0.91    109980\n",
      "weighted avg       0.92      0.91      0.91    109980\n",
      "\n"
     ]
    }
   ],
   "source": [
    "# Modelo final Logistic Regression Classifier\n",
    "# Best: 0.828828 using {'solver': 'newton-cg'}\n",
    "# Best: 0.900021 using {'solver': 'newton-cg'}\n",
    "# Best: 0.912060 using {'solver': 'newton-cg'}\n",
    "\n",
    "scaler = StandardScaler().fit(X_train)\n",
    "rescaledX = scaler.transform(X_train)\n",
    "\n",
    "model_LR =  LogisticRegression(solver='newton-cg')\n",
    "\n",
    "model_LR.fit(rescaledX, y_train)\n",
    "#model_LR.fit(X_train, y_train)\n",
    "\n",
    "# Estima a acurácia no dataset de validação\n",
    "rescaledValidationX = scaler.transform(X_test)\n",
    "\n",
    "predictions = model_LR.predict(rescaledValidationX)\n",
    "#predictions = model_LR.predict(X_test)\n",
    "\n",
    "print(accuracy_score(y_test, predictions))\n",
    "print(confusion_matrix(y_test, predictions))\n",
    "print(classification_report(y_test, predictions)) "
   ]
  },
  {
   "cell_type": "markdown",
   "metadata": {},
   "source": [
    "# XGBoost"
   ]
  },
  {
   "cell_type": "code",
   "execution_count": 43,
   "metadata": {},
   "outputs": [
    {
     "name": "stdout",
     "output_type": "stream",
     "text": [
      "[0]\tvalidation_0-merror:0.00304\tvalidation_0-mlogloss:0.43927\tvalidation_1-merror:0.00315\tvalidation_1-mlogloss:0.43924\n",
      "[1]\tvalidation_0-merror:0.00307\tvalidation_0-mlogloss:0.29905\tvalidation_1-merror:0.00297\tvalidation_1-mlogloss:0.29903\n",
      "[2]\tvalidation_0-merror:0.00304\tvalidation_0-mlogloss:0.21072\tvalidation_1-merror:0.00291\tvalidation_1-mlogloss:0.21070\n",
      "[3]\tvalidation_0-merror:0.00303\tvalidation_0-mlogloss:0.15165\tvalidation_1-merror:0.00291\tvalidation_1-mlogloss:0.15164\n",
      "[4]\tvalidation_0-merror:0.00297\tvalidation_0-mlogloss:0.11078\tvalidation_1-merror:0.00288\tvalidation_1-mlogloss:0.11079\n",
      "[5]\tvalidation_0-merror:0.00297\tvalidation_0-mlogloss:0.08192\tvalidation_1-merror:0.00288\tvalidation_1-mlogloss:0.08195\n",
      "[6]\tvalidation_0-merror:0.00297\tvalidation_0-mlogloss:0.06125\tvalidation_1-merror:0.00288\tvalidation_1-mlogloss:0.06131\n",
      "[7]\tvalidation_0-merror:0.00293\tvalidation_0-mlogloss:0.04632\tvalidation_1-merror:0.00294\tvalidation_1-mlogloss:0.04641\n",
      "[8]\tvalidation_0-merror:0.00293\tvalidation_0-mlogloss:0.03545\tvalidation_1-merror:0.00294\tvalidation_1-mlogloss:0.03557\n",
      "[9]\tvalidation_0-merror:0.00293\tvalidation_0-mlogloss:0.02751\tvalidation_1-merror:0.00294\tvalidation_1-mlogloss:0.02767\n",
      "[10]\tvalidation_0-merror:0.00284\tvalidation_0-mlogloss:0.02170\tvalidation_1-merror:0.00296\tvalidation_1-mlogloss:0.02189\n",
      "[11]\tvalidation_0-merror:0.00283\tvalidation_0-mlogloss:0.01743\tvalidation_1-merror:0.00295\tvalidation_1-mlogloss:0.01766\n",
      "[12]\tvalidation_0-merror:0.00283\tvalidation_0-mlogloss:0.01429\tvalidation_1-merror:0.00295\tvalidation_1-mlogloss:0.01456\n",
      "[13]\tvalidation_0-merror:0.00283\tvalidation_0-mlogloss:0.01199\tvalidation_1-merror:0.00295\tvalidation_1-mlogloss:0.01229\n",
      "[14]\tvalidation_0-merror:0.00283\tvalidation_0-mlogloss:0.01029\tvalidation_1-merror:0.00295\tvalidation_1-mlogloss:0.01063\n",
      "[15]\tvalidation_0-merror:0.00283\tvalidation_0-mlogloss:0.00904\tvalidation_1-merror:0.00295\tvalidation_1-mlogloss:0.00941\n",
      "[16]\tvalidation_0-merror:0.00282\tvalidation_0-mlogloss:0.00812\tvalidation_1-merror:0.00295\tvalidation_1-mlogloss:0.00853\n",
      "[17]\tvalidation_0-merror:0.00281\tvalidation_0-mlogloss:0.00744\tvalidation_1-merror:0.00296\tvalidation_1-mlogloss:0.00790\n",
      "[18]\tvalidation_0-merror:0.00281\tvalidation_0-mlogloss:0.00693\tvalidation_1-merror:0.00296\tvalidation_1-mlogloss:0.00742\n",
      "[19]\tvalidation_0-merror:0.00281\tvalidation_0-mlogloss:0.00655\tvalidation_1-merror:0.00296\tvalidation_1-mlogloss:0.00707\n",
      "[20]\tvalidation_0-merror:0.00282\tvalidation_0-mlogloss:0.00627\tvalidation_1-merror:0.00296\tvalidation_1-mlogloss:0.00682\n",
      "[21]\tvalidation_0-merror:0.00281\tvalidation_0-mlogloss:0.00607\tvalidation_1-merror:0.00295\tvalidation_1-mlogloss:0.00665\n",
      "[22]\tvalidation_0-merror:0.00281\tvalidation_0-mlogloss:0.00590\tvalidation_1-merror:0.00295\tvalidation_1-mlogloss:0.00647\n",
      "[23]\tvalidation_0-merror:0.00281\tvalidation_0-mlogloss:0.00578\tvalidation_1-merror:0.00296\tvalidation_1-mlogloss:0.00635\n",
      "[24]\tvalidation_0-merror:0.00281\tvalidation_0-mlogloss:0.00570\tvalidation_1-merror:0.00296\tvalidation_1-mlogloss:0.00628\n",
      "[25]\tvalidation_0-merror:0.00281\tvalidation_0-mlogloss:0.00563\tvalidation_1-merror:0.00296\tvalidation_1-mlogloss:0.00621\n",
      "[26]\tvalidation_0-merror:0.00280\tvalidation_0-mlogloss:0.00557\tvalidation_1-merror:0.00296\tvalidation_1-mlogloss:0.00618\n",
      "[27]\tvalidation_0-merror:0.00280\tvalidation_0-mlogloss:0.00553\tvalidation_1-merror:0.00296\tvalidation_1-mlogloss:0.00615\n",
      "[28]\tvalidation_0-merror:0.00280\tvalidation_0-mlogloss:0.00550\tvalidation_1-merror:0.00296\tvalidation_1-mlogloss:0.00611\n",
      "[29]\tvalidation_0-merror:0.00280\tvalidation_0-mlogloss:0.00546\tvalidation_1-merror:0.00296\tvalidation_1-mlogloss:0.00611\n",
      "[30]\tvalidation_0-merror:0.00280\tvalidation_0-mlogloss:0.00542\tvalidation_1-merror:0.00297\tvalidation_1-mlogloss:0.00612\n",
      "[31]\tvalidation_0-merror:0.00280\tvalidation_0-mlogloss:0.00540\tvalidation_1-merror:0.00297\tvalidation_1-mlogloss:0.00611\n",
      "[32]\tvalidation_0-merror:0.00280\tvalidation_0-mlogloss:0.00539\tvalidation_1-merror:0.00297\tvalidation_1-mlogloss:0.00610\n",
      "[33]\tvalidation_0-merror:0.00280\tvalidation_0-mlogloss:0.00538\tvalidation_1-merror:0.00297\tvalidation_1-mlogloss:0.00609\n",
      "[34]\tvalidation_0-merror:0.00280\tvalidation_0-mlogloss:0.00536\tvalidation_1-merror:0.00297\tvalidation_1-mlogloss:0.00610\n",
      "[35]\tvalidation_0-merror:0.00280\tvalidation_0-mlogloss:0.00536\tvalidation_1-merror:0.00297\tvalidation_1-mlogloss:0.00610\n",
      "[36]\tvalidation_0-merror:0.00280\tvalidation_0-mlogloss:0.00534\tvalidation_1-merror:0.00297\tvalidation_1-mlogloss:0.00608\n",
      "[37]\tvalidation_0-merror:0.00280\tvalidation_0-mlogloss:0.00534\tvalidation_1-merror:0.00297\tvalidation_1-mlogloss:0.00609\n",
      "[38]\tvalidation_0-merror:0.00280\tvalidation_0-mlogloss:0.00533\tvalidation_1-merror:0.00297\tvalidation_1-mlogloss:0.00609\n",
      "[39]\tvalidation_0-merror:0.00279\tvalidation_0-mlogloss:0.00532\tvalidation_1-merror:0.00297\tvalidation_1-mlogloss:0.00609\n",
      "[40]\tvalidation_0-merror:0.00279\tvalidation_0-mlogloss:0.00531\tvalidation_1-merror:0.00298\tvalidation_1-mlogloss:0.00609\n",
      "[41]\tvalidation_0-merror:0.00279\tvalidation_0-mlogloss:0.00530\tvalidation_1-merror:0.00298\tvalidation_1-mlogloss:0.00608\n",
      "[42]\tvalidation_0-merror:0.00279\tvalidation_0-mlogloss:0.00530\tvalidation_1-merror:0.00298\tvalidation_1-mlogloss:0.00609\n",
      "[43]\tvalidation_0-merror:0.00279\tvalidation_0-mlogloss:0.00529\tvalidation_1-merror:0.00297\tvalidation_1-mlogloss:0.00610\n",
      "[44]\tvalidation_0-merror:0.00279\tvalidation_0-mlogloss:0.00529\tvalidation_1-merror:0.00297\tvalidation_1-mlogloss:0.00610\n",
      "[45]\tvalidation_0-merror:0.00279\tvalidation_0-mlogloss:0.00528\tvalidation_1-merror:0.00297\tvalidation_1-mlogloss:0.00610\n",
      "[46]\tvalidation_0-merror:0.00278\tvalidation_0-mlogloss:0.00527\tvalidation_1-merror:0.00305\tvalidation_1-mlogloss:0.00611\n",
      "[47]\tvalidation_0-merror:0.00277\tvalidation_0-mlogloss:0.00525\tvalidation_1-merror:0.00305\tvalidation_1-mlogloss:0.00610\n",
      "[48]\tvalidation_0-merror:0.00277\tvalidation_0-mlogloss:0.00524\tvalidation_1-merror:0.00305\tvalidation_1-mlogloss:0.00611\n",
      "[49]\tvalidation_0-merror:0.00277\tvalidation_0-mlogloss:0.00523\tvalidation_1-merror:0.00305\tvalidation_1-mlogloss:0.00611\n",
      "[50]\tvalidation_0-merror:0.00275\tvalidation_0-mlogloss:0.00521\tvalidation_1-merror:0.00306\tvalidation_1-mlogloss:0.00611\n",
      "[51]\tvalidation_0-merror:0.00274\tvalidation_0-mlogloss:0.00518\tvalidation_1-merror:0.00306\tvalidation_1-mlogloss:0.00613\n",
      "[52]\tvalidation_0-merror:0.00274\tvalidation_0-mlogloss:0.00517\tvalidation_1-merror:0.00306\tvalidation_1-mlogloss:0.00613\n",
      "[53]\tvalidation_0-merror:0.00274\tvalidation_0-mlogloss:0.00517\tvalidation_1-merror:0.00306\tvalidation_1-mlogloss:0.00613\n",
      "[54]\tvalidation_0-merror:0.00273\tvalidation_0-mlogloss:0.00514\tvalidation_1-merror:0.00305\tvalidation_1-mlogloss:0.00613\n",
      "[55]\tvalidation_0-merror:0.00271\tvalidation_0-mlogloss:0.00511\tvalidation_1-merror:0.00304\tvalidation_1-mlogloss:0.00613\n",
      "[56]\tvalidation_0-merror:0.00271\tvalidation_0-mlogloss:0.00511\tvalidation_1-merror:0.00303\tvalidation_1-mlogloss:0.00614\n",
      "[57]\tvalidation_0-merror:0.00269\tvalidation_0-mlogloss:0.00509\tvalidation_1-merror:0.00302\tvalidation_1-mlogloss:0.00615\n",
      "[58]\tvalidation_0-merror:0.00267\tvalidation_0-mlogloss:0.00507\tvalidation_1-merror:0.00299\tvalidation_1-mlogloss:0.00615\n",
      "[59]\tvalidation_0-merror:0.00267\tvalidation_0-mlogloss:0.00507\tvalidation_1-merror:0.00299\tvalidation_1-mlogloss:0.00614\n",
      "[60]\tvalidation_0-merror:0.00267\tvalidation_0-mlogloss:0.00505\tvalidation_1-merror:0.00301\tvalidation_1-mlogloss:0.00613\n",
      "[61]\tvalidation_0-merror:0.00266\tvalidation_0-mlogloss:0.00504\tvalidation_1-merror:0.00302\tvalidation_1-mlogloss:0.00614\n",
      "[62]\tvalidation_0-merror:0.00267\tvalidation_0-mlogloss:0.00503\tvalidation_1-merror:0.00301\tvalidation_1-mlogloss:0.00613\n",
      "[63]\tvalidation_0-merror:0.00263\tvalidation_0-mlogloss:0.00502\tvalidation_1-merror:0.00303\tvalidation_1-mlogloss:0.00614\n",
      "[64]\tvalidation_0-merror:0.00263\tvalidation_0-mlogloss:0.00501\tvalidation_1-merror:0.00303\tvalidation_1-mlogloss:0.00616\n",
      "[65]\tvalidation_0-merror:0.00263\tvalidation_0-mlogloss:0.00500\tvalidation_1-merror:0.00303\tvalidation_1-mlogloss:0.00615\n",
      "[66]\tvalidation_0-merror:0.00263\tvalidation_0-mlogloss:0.00500\tvalidation_1-merror:0.00303\tvalidation_1-mlogloss:0.00616\n",
      "[67]\tvalidation_0-merror:0.00262\tvalidation_0-mlogloss:0.00499\tvalidation_1-merror:0.00302\tvalidation_1-mlogloss:0.00616\n"
     ]
    },
    {
     "name": "stdout",
     "output_type": "stream",
     "text": [
      "[68]\tvalidation_0-merror:0.00262\tvalidation_0-mlogloss:0.00497\tvalidation_1-merror:0.00301\tvalidation_1-mlogloss:0.00617\n",
      "[69]\tvalidation_0-merror:0.00259\tvalidation_0-mlogloss:0.00495\tvalidation_1-merror:0.00302\tvalidation_1-mlogloss:0.00618\n",
      "[70]\tvalidation_0-merror:0.00256\tvalidation_0-mlogloss:0.00494\tvalidation_1-merror:0.00305\tvalidation_1-mlogloss:0.00619\n",
      "[71]\tvalidation_0-merror:0.00256\tvalidation_0-mlogloss:0.00494\tvalidation_1-merror:0.00305\tvalidation_1-mlogloss:0.00620\n",
      "[72]\tvalidation_0-merror:0.00256\tvalidation_0-mlogloss:0.00493\tvalidation_1-merror:0.00305\tvalidation_1-mlogloss:0.00620\n",
      "[73]\tvalidation_0-merror:0.00256\tvalidation_0-mlogloss:0.00493\tvalidation_1-merror:0.00305\tvalidation_1-mlogloss:0.00620\n",
      "[74]\tvalidation_0-merror:0.00257\tvalidation_0-mlogloss:0.00490\tvalidation_1-merror:0.00303\tvalidation_1-mlogloss:0.00620\n",
      "[75]\tvalidation_0-merror:0.00257\tvalidation_0-mlogloss:0.00490\tvalidation_1-merror:0.00304\tvalidation_1-mlogloss:0.00620\n",
      "[76]\tvalidation_0-merror:0.00257\tvalidation_0-mlogloss:0.00489\tvalidation_1-merror:0.00304\tvalidation_1-mlogloss:0.00621\n",
      "[77]\tvalidation_0-merror:0.00257\tvalidation_0-mlogloss:0.00489\tvalidation_1-merror:0.00304\tvalidation_1-mlogloss:0.00621\n",
      "[78]\tvalidation_0-merror:0.00257\tvalidation_0-mlogloss:0.00488\tvalidation_1-merror:0.00304\tvalidation_1-mlogloss:0.00623\n",
      "[79]\tvalidation_0-merror:0.00257\tvalidation_0-mlogloss:0.00487\tvalidation_1-merror:0.00303\tvalidation_1-mlogloss:0.00624\n",
      "[80]\tvalidation_0-merror:0.00257\tvalidation_0-mlogloss:0.00487\tvalidation_1-merror:0.00304\tvalidation_1-mlogloss:0.00624\n",
      "[81]\tvalidation_0-merror:0.00257\tvalidation_0-mlogloss:0.00486\tvalidation_1-merror:0.00304\tvalidation_1-mlogloss:0.00624\n",
      "[82]\tvalidation_0-merror:0.00257\tvalidation_0-mlogloss:0.00486\tvalidation_1-merror:0.00304\tvalidation_1-mlogloss:0.00624\n",
      "[83]\tvalidation_0-merror:0.00257\tvalidation_0-mlogloss:0.00486\tvalidation_1-merror:0.00304\tvalidation_1-mlogloss:0.00624\n",
      "[84]\tvalidation_0-merror:0.00257\tvalidation_0-mlogloss:0.00485\tvalidation_1-merror:0.00304\tvalidation_1-mlogloss:0.00624\n",
      "[85]\tvalidation_0-merror:0.00256\tvalidation_0-mlogloss:0.00483\tvalidation_1-merror:0.00304\tvalidation_1-mlogloss:0.00626\n",
      "[86]\tvalidation_0-merror:0.00255\tvalidation_0-mlogloss:0.00482\tvalidation_1-merror:0.00302\tvalidation_1-mlogloss:0.00626\n",
      "[87]\tvalidation_0-merror:0.00255\tvalidation_0-mlogloss:0.00482\tvalidation_1-merror:0.00302\tvalidation_1-mlogloss:0.00626\n",
      "[88]\tvalidation_0-merror:0.00254\tvalidation_0-mlogloss:0.00481\tvalidation_1-merror:0.00302\tvalidation_1-mlogloss:0.00626\n",
      "[89]\tvalidation_0-merror:0.00254\tvalidation_0-mlogloss:0.00481\tvalidation_1-merror:0.00302\tvalidation_1-mlogloss:0.00626\n",
      "[90]\tvalidation_0-merror:0.00254\tvalidation_0-mlogloss:0.00481\tvalidation_1-merror:0.00302\tvalidation_1-mlogloss:0.00627\n",
      "[91]\tvalidation_0-merror:0.00254\tvalidation_0-mlogloss:0.00480\tvalidation_1-merror:0.00302\tvalidation_1-mlogloss:0.00627\n",
      "[92]\tvalidation_0-merror:0.00254\tvalidation_0-mlogloss:0.00480\tvalidation_1-merror:0.00302\tvalidation_1-mlogloss:0.00627\n",
      "[93]\tvalidation_0-merror:0.00252\tvalidation_0-mlogloss:0.00478\tvalidation_1-merror:0.00305\tvalidation_1-mlogloss:0.00630\n",
      "[94]\tvalidation_0-merror:0.00252\tvalidation_0-mlogloss:0.00477\tvalidation_1-merror:0.00305\tvalidation_1-mlogloss:0.00630\n",
      "[95]\tvalidation_0-merror:0.00254\tvalidation_0-mlogloss:0.00477\tvalidation_1-merror:0.00304\tvalidation_1-mlogloss:0.00632\n",
      "[96]\tvalidation_0-merror:0.00254\tvalidation_0-mlogloss:0.00477\tvalidation_1-merror:0.00303\tvalidation_1-mlogloss:0.00632\n",
      "[97]\tvalidation_0-merror:0.00254\tvalidation_0-mlogloss:0.00476\tvalidation_1-merror:0.00304\tvalidation_1-mlogloss:0.00632\n",
      "[98]\tvalidation_0-merror:0.00254\tvalidation_0-mlogloss:0.00476\tvalidation_1-merror:0.00304\tvalidation_1-mlogloss:0.00633\n",
      "[99]\tvalidation_0-merror:0.00254\tvalidation_0-mlogloss:0.00476\tvalidation_1-merror:0.00303\tvalidation_1-mlogloss:0.00633\n"
     ]
    }
   ],
   "source": [
    "#######################################\n",
    "# Execução da GPU na linha de comando #\n",
    "#       watch -n 1 nvidia-smi         #\n",
    "#######################################\n",
    "\n",
    "from xgboost import XGBClassifier\n",
    "from xgboost import plot_importance\n",
    "from xgboost import plot_tree\n",
    "import time\n",
    "\n",
    "# utilizado para gerar os logs dos erros: merror e mlogloss\n",
    "eval_set = [(X_train, y_train), (X_test, y_test)]\n",
    "\n",
    "# métricas de avaliação\n",
    "eval_metric = ['merror', 'mlogloss']\n",
    "\n",
    "# Informa a quantidade de classes que serão usadas no treinamento\n",
    "num_class = 2 #len(y_train.unique())\n",
    "\n",
    "start = time.time() # inicia o tempo de execução\n",
    "\n",
    "model_xgb = XGBClassifier(num_class=num_class,\n",
    "                          objective='multi:softmax', \n",
    "                          n_jobs=-1, \n",
    "                          nthread=-1, \n",
    "                          tree_method='gpu_hist', \n",
    "                          gpu_id=-1)\n",
    "\n",
    "model_xgb = model_xgb.fit(X_train, \n",
    "                          y_train, \n",
    "                          eval_metric=eval_metric, \n",
    "                          eval_set=eval_set, \n",
    "                          verbose=True)\n",
    "\n",
    "elapsed = time.time() - start # informa o tempo de execução\n"
   ]
  },
  {
   "cell_type": "code",
   "execution_count": 44,
   "metadata": {},
   "outputs": [
    {
     "name": "stdout",
     "output_type": "stream",
     "text": [
      "GPU tempo de treinamento: 13.405299663543701 seconds\n",
      "Acurácia model_xgb: 99.70%\n",
      "\n",
      "Matriz de confusão:\n",
      "[[65568   123]\n",
      " [  210 44079]]\n",
      "              precision    recall  f1-score   support\n",
      "\n",
      "           0       1.00      1.00      1.00     65691\n",
      "           1       1.00      1.00      1.00     44289\n",
      "\n",
      "    accuracy                           1.00    109980\n",
      "   macro avg       1.00      1.00      1.00    109980\n",
      "weighted avg       1.00      1.00      1.00    109980\n",
      "\n"
     ]
    }
   ],
   "source": [
    "print(\"GPU tempo de treinamento: %s seconds\" % (elapsed))\n",
    "\n",
    "# cria predições no dataset de teste e\n",
    "## avalia a acurácia da classificação\n",
    "acuracia = accuracy_score(y_test, model_xgb.predict(X_test))\n",
    "print(\"Acurácia model_xgb: %.2f%%\" % (acuracia * 100.0))\n",
    "\n",
    "predictions = model_xgb.predict(X_test)\n",
    "\n",
    "#print(accuracy_score(y_test, predictions))\n",
    "print('\\nMatriz de confusão:')\n",
    "print(confusion_matrix(y_test, predictions))\n",
    "print(classification_report(y_test, predictions))"
   ]
  },
  {
   "cell_type": "markdown",
   "metadata": {},
   "source": [
    "# Teste sobre amostra aleatória\n",
    "- A amostragem aleatória permite testar os modelos e avalia-los com dados que não participaram do treinamento."
   ]
  },
  {
   "cell_type": "code",
   "execution_count": 45,
   "metadata": {},
   "outputs": [
    {
     "name": "stdout",
     "output_type": "stream",
     "text": [
      "(1221998, 8)\n",
      "(1221998, 1)\n"
     ]
    }
   ],
   "source": [
    "df_features = df_ic_tipo_renda_treino[features_tp_renda]\n",
    "df_label    = df_ic_tipo_renda_treino[label_tp_renda]\n",
    "\n",
    "print(df_features.shape)\n",
    "print(df_label.shape)"
   ]
  },
  {
   "cell_type": "code",
   "execution_count": 46,
   "metadata": {},
   "outputs": [
    {
     "name": "stdout",
     "output_type": "stream",
     "text": [
      "(366600, 8) (366600,)\n"
     ]
    }
   ],
   "source": [
    "from sklearn.model_selection import train_test_split\n",
    "\n",
    "X, y = df_features[features_tp_renda], df_label['ic_tipo_renda']\n",
    "X_train, X_test, y_train, y_test =\\\n",
    "     train_test_split(X, y,\n",
    "                      test_size=0.3, ## -> 30% será usado para treinar e avaliar\n",
    "                      random_state=69, # valor das sementes diferente para forçar outra aleatoriedade \n",
    "                      shuffle=True) # Faz embaralhamento deixando a aleatoriedade ainda maior\n",
    "\n",
    "X = X_test\n",
    "y = y_test\n",
    "\n",
    "del X_train, y_train, X_test, y_test\n",
    "\n",
    "print (X.shape, y.shape)"
   ]
  },
  {
   "cell_type": "code",
   "execution_count": 47,
   "metadata": {},
   "outputs": [],
   "source": [
    "from sklearn.preprocessing import LabelEncoder\n",
    "le = LabelEncoder()\n",
    "\n",
    "# aplica no y_train\n",
    "### label = ic_sexo ###\n",
    "###################################\n",
    "### ic_sexo 1 = M e 0 = F ###\n",
    "###################################\n",
    "le = le.fit(X['ic_sexo'])\n",
    "X['ic_sexo'] = le.transform(X['ic_sexo'])\n",
    "\n",
    "### encoding das variáveis categóricas ###\n",
    "###################################\n",
    "### ic_tipo_renda 0 = F e 1 = I ###\n",
    "###################################\n",
    "# aplica no X_train\n",
    "le = le.fit(y)\n",
    "y = le.transform(y)\n"
   ]
  },
  {
   "cell_type": "code",
   "execution_count": 48,
   "metadata": {},
   "outputs": [
    {
     "name": "stdout",
     "output_type": "stream",
     "text": [
      "0.9969776322967813\n",
      "\n",
      "Matriz de confusão:\n",
      "[[218379    373]\n",
      " [   735 147113]]\n",
      "              precision    recall  f1-score   support\n",
      "\n",
      "           0       1.00      1.00      1.00    218752\n",
      "           1       1.00      1.00      1.00    147848\n",
      "\n",
      "    accuracy                           1.00    366600\n",
      "   macro avg       1.00      1.00      1.00    366600\n",
      "weighted avg       1.00      1.00      1.00    366600\n",
      "\n"
     ]
    }
   ],
   "source": [
    "# Modelo final XGBoost\n",
    "predictions = model_xgb.predict(X)\n",
    "\n",
    "print(accuracy_score(y, predictions))\n",
    "print('\\nMatriz de confusão:')\n",
    "print(confusion_matrix(y, predictions))\n",
    "print(classification_report(y, predictions))"
   ]
  },
  {
   "cell_type": "code",
   "execution_count": 49,
   "metadata": {},
   "outputs": [
    {
     "name": "stdout",
     "output_type": "stream",
     "text": [
      "0.9961838516093835\n",
      "[[218124    628]\n",
      " [   771 147077]]\n",
      "              precision    recall  f1-score   support\n",
      "\n",
      "           0       1.00      1.00      1.00    218752\n",
      "           1       1.00      0.99      1.00    147848\n",
      "\n",
      "    accuracy                           1.00    366600\n",
      "   macro avg       1.00      1.00      1.00    366600\n",
      "weighted avg       1.00      1.00      1.00    366600\n",
      "\n"
     ]
    }
   ],
   "source": [
    "# Modelo final AdaBoost Decision Tree Classifier\n",
    "\n",
    "scaler = StandardScaler().fit(X)\n",
    "rescaledX = scaler.transform(X)\n",
    "\n",
    "model_ADT.fit(rescaledX, y)\n",
    "\n",
    "predictions = model_ADT.predict(rescaledX)\n",
    "\n",
    "print(accuracy_score(y, predictions))\n",
    "print(confusion_matrix(y, predictions))\n",
    "print(classification_report(y, predictions))"
   ]
  },
  {
   "cell_type": "code",
   "execution_count": 50,
   "metadata": {},
   "outputs": [
    {
     "name": "stdout",
     "output_type": "stream",
     "text": [
      "0.9932842334969995\n",
      "[[217337   1415]\n",
      " [  1047 146801]]\n",
      "              precision    recall  f1-score   support\n",
      "\n",
      "           0       1.00      0.99      0.99    218752\n",
      "           1       0.99      0.99      0.99    147848\n",
      "\n",
      "    accuracy                           0.99    366600\n",
      "   macro avg       0.99      0.99      0.99    366600\n",
      "weighted avg       0.99      0.99      0.99    366600\n",
      "\n"
     ]
    }
   ],
   "source": [
    "# Modelo final KNN\n",
    "predictions = model_KNN.predict(X)\n",
    "\n",
    "print(accuracy_score(y, predictions))\n",
    "print(confusion_matrix(y, predictions))\n",
    "print(classification_report(y, predictions))"
   ]
  },
  {
   "cell_type": "code",
   "execution_count": 51,
   "metadata": {},
   "outputs": [
    {
     "name": "stdout",
     "output_type": "stream",
     "text": [
      "0.5967375886524823\n",
      "[[218752      0]\n",
      " [147836     12]]\n",
      "              precision    recall  f1-score   support\n",
      "\n",
      "           0       0.60      1.00      0.75    218752\n",
      "           1       1.00      0.00      0.00    147848\n",
      "\n",
      "    accuracy                           0.60    366600\n",
      "   macro avg       0.80      0.50      0.37    366600\n",
      "weighted avg       0.76      0.60      0.45    366600\n",
      "\n"
     ]
    }
   ],
   "source": [
    "# Modelo final Naïve Bayes Gaussian Classifier\n",
    "scaler = StandardScaler().fit(X)\n",
    "rescaledX = scaler.transform(X)\n",
    "\n",
    "model_NBG =  GaussianNB()\n",
    "\n",
    "model_NBG.fit(rescaledX, y)\n",
    "\n",
    "predictions = model_NBG.predict(rescaledX)\n",
    "\n",
    "print(accuracy_score(y, predictions))\n",
    "print(confusion_matrix(y, predictions))\n",
    "print(classification_report(y, predictions))"
   ]
  },
  {
   "cell_type": "code",
   "execution_count": 52,
   "metadata": {},
   "outputs": [
    {
     "name": "stdout",
     "output_type": "stream",
     "text": [
      "0.596707583196945\n",
      "[[218752      0]\n",
      " [147847      1]]\n",
      "              precision    recall  f1-score   support\n",
      "\n",
      "           0       0.60      1.00      0.75    218752\n",
      "           1       1.00      0.00      0.00    147848\n",
      "\n",
      "    accuracy                           0.60    366600\n",
      "   macro avg       0.80      0.50      0.37    366600\n",
      "weighted avg       0.76      0.60      0.45    366600\n",
      "\n"
     ]
    }
   ],
   "source": [
    "# Modelo final Logistic Regression Classifier\n",
    "\n",
    "scaler = StandardScaler().fit(X)\n",
    "rescaledX = scaler.transform(X)\n",
    "\n",
    "predictions = model_LR.predict(rescaledX)\n",
    "\n",
    "print(accuracy_score(y, predictions))\n",
    "print(confusion_matrix(y, predictions))\n",
    "print(classification_report(y, predictions)) "
   ]
  },
  {
   "cell_type": "code",
   "execution_count": null,
   "metadata": {},
   "outputs": [],
   "source": []
  },
  {
   "cell_type": "markdown",
   "metadata": {},
   "source": [
    "# Preparação do conjunto de dados a ser inferido"
   ]
  },
  {
   "cell_type": "code",
   "execution_count": 53,
   "metadata": {},
   "outputs": [
    {
     "name": "stdout",
     "output_type": "stream",
     "text": [
      "(658335, 8)\n",
      "(658335, 1)\n"
     ]
    },
    {
     "name": "stderr",
     "output_type": "stream",
     "text": [
      "/home/marcello/anaconda3/envs/av/lib/python3.6/site-packages/pandas/core/generic.py:6245: SettingWithCopyWarning: \n",
      "A value is trying to be set on a copy of a slice from a DataFrame\n",
      "\n",
      "See the caveats in the documentation: https://pandas.pydata.org/pandas-docs/stable/user_guide/indexing.html#returning-a-view-versus-a-copy\n",
      "  self._update_inplace(new_data)\n"
     ]
    }
   ],
   "source": [
    "X = df_ic_tipo_renda_inferir[features_tp_renda]\n",
    "y = df_ic_tipo_renda_inferir[label_tp_renda]\n",
    "\n",
    "X['vr_renda_bruta'].fillna(0, inplace=True)\n",
    "X['vr_renda_liquida'].fillna(0, inplace=True)\n",
    "\n",
    "print(X.shape)\n",
    "print(y.shape)"
   ]
  },
  {
   "cell_type": "code",
   "execution_count": 54,
   "metadata": {},
   "outputs": [
    {
     "name": "stderr",
     "output_type": "stream",
     "text": [
      "/home/marcello/anaconda3/envs/av/lib/python3.6/site-packages/ipykernel_launcher.py:10: SettingWithCopyWarning: \n",
      "A value is trying to be set on a copy of a slice from a DataFrame.\n",
      "Try using .loc[row_indexer,col_indexer] = value instead\n",
      "\n",
      "See the caveats in the documentation: https://pandas.pydata.org/pandas-docs/stable/user_guide/indexing.html#returning-a-view-versus-a-copy\n",
      "  # Remove the CWD from sys.path while we load stuff.\n",
      "/home/marcello/anaconda3/envs/av/lib/python3.6/site-packages/sklearn/utils/validation.py:73: DataConversionWarning: A column-vector y was passed when a 1d array was expected. Please change the shape of y to (n_samples, ), for example using ravel().\n",
      "  return f(**kwargs)\n"
     ]
    }
   ],
   "source": [
    "from sklearn.preprocessing import LabelEncoder\n",
    "le = LabelEncoder()\n",
    "\n",
    "# aplica no y_train\n",
    "### label = ic_sexo ###\n",
    "###################################\n",
    "###    ic_sexo 1 = M e 0 = F    ###\n",
    "###################################\n",
    "le = le.fit(X['ic_sexo'])\n",
    "X['ic_sexo'] = le.transform(X['ic_sexo'])\n",
    "\n",
    "# encoding das variáveis categóricas\n",
    "###################################\n",
    "### ic_tipo_re nda 0 = F e 1 = I ###\n",
    "###################################\n",
    "# aplica no X_train\n",
    "le = le.fit(y)\n",
    "y = le.transform(y)\n",
    "\n",
    "# Quantidade a ser inferida\n",
    "#y.ic_sexo.value_counts()"
   ]
  },
  {
   "cell_type": "markdown",
   "metadata": {},
   "source": [
    "# Aplicar os modelos  \n",
    "## Inferir `0 = F` ou `1 = I` onde ic_tipo_renda = ?  \n",
    "- XGBoost  \n",
    "- AdaBoost(CART)\n",
    "- KNN\n",
    "- Naïve Bayes Gaussian\n",
    "- Logistic Regression"
   ]
  },
  {
   "cell_type": "markdown",
   "metadata": {},
   "source": [
    "# XGBoost"
   ]
  },
  {
   "cell_type": "code",
   "execution_count": 55,
   "metadata": {
    "scrolled": true
   },
   "outputs": [
    {
     "name": "stdout",
     "output_type": "stream",
     "text": [
      "[[     0 658335]\n",
      " [     0      0]]\n"
     ]
    },
    {
     "name": "stderr",
     "output_type": "stream",
     "text": [
      "/home/marcello/anaconda3/envs/av/lib/python3.6/site-packages/ipykernel_launcher.py:5: SettingWithCopyWarning: \n",
      "A value is trying to be set on a copy of a slice from a DataFrame.\n",
      "Try using .loc[row_indexer,col_indexer] = value instead\n",
      "\n",
      "See the caveats in the documentation: https://pandas.pydata.org/pandas-docs/stable/user_guide/indexing.html#returning-a-view-versus-a-copy\n",
      "  \"\"\"\n"
     ]
    }
   ],
   "source": [
    "ic_tipo_renda_estimado = model_xgb.predict(X)\n",
    "\n",
    "print(confusion_matrix(y, ic_tipo_renda_estimado))\n",
    "\n",
    "df_ic_tipo_renda_inferir['ic_tipo_renda_estimado'] = ic_tipo_renda_estimado\n"
   ]
  },
  {
   "cell_type": "code",
   "execution_count": 56,
   "metadata": {},
   "outputs": [
    {
     "data": {
      "text/html": [
       "<div>\n",
       "<style scoped>\n",
       "    .dataframe tbody tr th:only-of-type {\n",
       "        vertical-align: middle;\n",
       "    }\n",
       "\n",
       "    .dataframe tbody tr th {\n",
       "        vertical-align: top;\n",
       "    }\n",
       "\n",
       "    .dataframe thead th {\n",
       "        text-align: right;\n",
       "    }\n",
       "</style>\n",
       "<table border=\"1\" class=\"dataframe\">\n",
       "  <thead>\n",
       "    <tr style=\"text-align: right;\">\n",
       "      <th></th>\n",
       "      <th>nu_pessoa</th>\n",
       "      <th>dt_nascimento</th>\n",
       "      <th>ic_tipo_renda</th>\n",
       "      <th>vr_renda_bruta</th>\n",
       "      <th>vr_renda_liquida</th>\n",
       "      <th>ic_infmo_renda</th>\n",
       "      <th>dt_apuracao_renda</th>\n",
       "      <th>ic_sexo</th>\n",
       "      <th>ic_situacao</th>\n",
       "      <th>ic_inconsistencia</th>\n",
       "      <th>nu_estdo_civil_p27</th>\n",
       "      <th>idade</th>\n",
       "      <th>valido</th>\n",
       "      <th>ic_tipo_renda_estimado</th>\n",
       "    </tr>\n",
       "  </thead>\n",
       "  <tbody>\n",
       "    <tr>\n",
       "      <th>1222000</th>\n",
       "      <td>9840013122984</td>\n",
       "      <td>1948-01-26</td>\n",
       "      <td>?</td>\n",
       "      <td>NaN</td>\n",
       "      <td>NaN</td>\n",
       "      <td>0.0</td>\n",
       "      <td>0</td>\n",
       "      <td>F</td>\n",
       "      <td>1</td>\n",
       "      <td>S</td>\n",
       "      <td>0</td>\n",
       "      <td>72</td>\n",
       "      <td>False</td>\n",
       "      <td>1</td>\n",
       "    </tr>\n",
       "    <tr>\n",
       "      <th>1222002</th>\n",
       "      <td>9170137812917</td>\n",
       "      <td>1991-11-25</td>\n",
       "      <td>?</td>\n",
       "      <td>NaN</td>\n",
       "      <td>NaN</td>\n",
       "      <td>0.0</td>\n",
       "      <td>0</td>\n",
       "      <td>M</td>\n",
       "      <td>1</td>\n",
       "      <td>N</td>\n",
       "      <td>1</td>\n",
       "      <td>28</td>\n",
       "      <td>False</td>\n",
       "      <td>1</td>\n",
       "    </tr>\n",
       "    <tr>\n",
       "      <th>1222003</th>\n",
       "      <td>140007015014</td>\n",
       "      <td>1942-10-29</td>\n",
       "      <td>?</td>\n",
       "      <td>NaN</td>\n",
       "      <td>NaN</td>\n",
       "      <td>0.0</td>\n",
       "      <td>0</td>\n",
       "      <td>F</td>\n",
       "      <td>1</td>\n",
       "      <td>S</td>\n",
       "      <td>0</td>\n",
       "      <td>77</td>\n",
       "      <td>False</td>\n",
       "      <td>1</td>\n",
       "    </tr>\n",
       "    <tr>\n",
       "      <th>1222006</th>\n",
       "      <td>9750071690975</td>\n",
       "      <td>1957-07-20</td>\n",
       "      <td>?</td>\n",
       "      <td>NaN</td>\n",
       "      <td>NaN</td>\n",
       "      <td>0.0</td>\n",
       "      <td>0</td>\n",
       "      <td>F</td>\n",
       "      <td>1</td>\n",
       "      <td>S</td>\n",
       "      <td>0</td>\n",
       "      <td>63</td>\n",
       "      <td>False</td>\n",
       "      <td>1</td>\n",
       "    </tr>\n",
       "    <tr>\n",
       "      <th>1222007</th>\n",
       "      <td>5810001101581</td>\n",
       "      <td>1959-05-05</td>\n",
       "      <td>?</td>\n",
       "      <td>NaN</td>\n",
       "      <td>NaN</td>\n",
       "      <td>0.0</td>\n",
       "      <td>0</td>\n",
       "      <td>F</td>\n",
       "      <td>1</td>\n",
       "      <td>S</td>\n",
       "      <td>7</td>\n",
       "      <td>61</td>\n",
       "      <td>False</td>\n",
       "      <td>1</td>\n",
       "    </tr>\n",
       "    <tr>\n",
       "      <th>...</th>\n",
       "      <td>...</td>\n",
       "      <td>...</td>\n",
       "      <td>...</td>\n",
       "      <td>...</td>\n",
       "      <td>...</td>\n",
       "      <td>...</td>\n",
       "      <td>...</td>\n",
       "      <td>...</td>\n",
       "      <td>...</td>\n",
       "      <td>...</td>\n",
       "      <td>...</td>\n",
       "      <td>...</td>\n",
       "      <td>...</td>\n",
       "      <td>...</td>\n",
       "    </tr>\n",
       "    <tr>\n",
       "      <th>2382020</th>\n",
       "      <td>2340104821234</td>\n",
       "      <td>1988-09-23</td>\n",
       "      <td>?</td>\n",
       "      <td>NaN</td>\n",
       "      <td>NaN</td>\n",
       "      <td>0.0</td>\n",
       "      <td>0</td>\n",
       "      <td>?</td>\n",
       "      <td>1</td>\n",
       "      <td>N</td>\n",
       "      <td>9</td>\n",
       "      <td>31</td>\n",
       "      <td>False</td>\n",
       "      <td>1</td>\n",
       "    </tr>\n",
       "    <tr>\n",
       "      <th>2382021</th>\n",
       "      <td>4060218712406</td>\n",
       "      <td>1994-06-25</td>\n",
       "      <td>?</td>\n",
       "      <td>NaN</td>\n",
       "      <td>NaN</td>\n",
       "      <td>0.0</td>\n",
       "      <td>0</td>\n",
       "      <td>F</td>\n",
       "      <td>1</td>\n",
       "      <td>N</td>\n",
       "      <td>1</td>\n",
       "      <td>26</td>\n",
       "      <td>False</td>\n",
       "      <td>1</td>\n",
       "    </tr>\n",
       "    <tr>\n",
       "      <th>2382022</th>\n",
       "      <td>9440015442944</td>\n",
       "      <td>1983-05-05</td>\n",
       "      <td>?</td>\n",
       "      <td>NaN</td>\n",
       "      <td>NaN</td>\n",
       "      <td>0.0</td>\n",
       "      <td>0</td>\n",
       "      <td>F</td>\n",
       "      <td>1</td>\n",
       "      <td>S</td>\n",
       "      <td>9</td>\n",
       "      <td>37</td>\n",
       "      <td>False</td>\n",
       "      <td>1</td>\n",
       "    </tr>\n",
       "    <tr>\n",
       "      <th>2382023</th>\n",
       "      <td>7570098273757</td>\n",
       "      <td>1945-12-19</td>\n",
       "      <td>?</td>\n",
       "      <td>NaN</td>\n",
       "      <td>NaN</td>\n",
       "      <td>0.0</td>\n",
       "      <td>0</td>\n",
       "      <td>M</td>\n",
       "      <td>1</td>\n",
       "      <td>S</td>\n",
       "      <td>2</td>\n",
       "      <td>74</td>\n",
       "      <td>False</td>\n",
       "      <td>1</td>\n",
       "    </tr>\n",
       "    <tr>\n",
       "      <th>2382026</th>\n",
       "      <td>2870048829287</td>\n",
       "      <td>1959-11-07</td>\n",
       "      <td>?</td>\n",
       "      <td>NaN</td>\n",
       "      <td>NaN</td>\n",
       "      <td>0.0</td>\n",
       "      <td>0</td>\n",
       "      <td>F</td>\n",
       "      <td>1</td>\n",
       "      <td>S</td>\n",
       "      <td>0</td>\n",
       "      <td>60</td>\n",
       "      <td>False</td>\n",
       "      <td>1</td>\n",
       "    </tr>\n",
       "  </tbody>\n",
       "</table>\n",
       "<p>658335 rows × 14 columns</p>\n",
       "</div>"
      ],
      "text/plain": [
       "             nu_pessoa dt_nascimento ic_tipo_renda  vr_renda_bruta  \\\n",
       "1222000  9840013122984    1948-01-26             ?             NaN   \n",
       "1222002  9170137812917    1991-11-25             ?             NaN   \n",
       "1222003   140007015014    1942-10-29             ?             NaN   \n",
       "1222006  9750071690975    1957-07-20             ?             NaN   \n",
       "1222007  5810001101581    1959-05-05             ?             NaN   \n",
       "...                ...           ...           ...             ...   \n",
       "2382020  2340104821234    1988-09-23             ?             NaN   \n",
       "2382021  4060218712406    1994-06-25             ?             NaN   \n",
       "2382022  9440015442944    1983-05-05             ?             NaN   \n",
       "2382023  7570098273757    1945-12-19             ?             NaN   \n",
       "2382026  2870048829287    1959-11-07             ?             NaN   \n",
       "\n",
       "         vr_renda_liquida  ic_infmo_renda  dt_apuracao_renda ic_sexo  \\\n",
       "1222000               NaN             0.0                  0       F   \n",
       "1222002               NaN             0.0                  0       M   \n",
       "1222003               NaN             0.0                  0       F   \n",
       "1222006               NaN             0.0                  0       F   \n",
       "1222007               NaN             0.0                  0       F   \n",
       "...                   ...             ...                ...     ...   \n",
       "2382020               NaN             0.0                  0       ?   \n",
       "2382021               NaN             0.0                  0       F   \n",
       "2382022               NaN             0.0                  0       F   \n",
       "2382023               NaN             0.0                  0       M   \n",
       "2382026               NaN             0.0                  0       F   \n",
       "\n",
       "         ic_situacao ic_inconsistencia  nu_estdo_civil_p27  idade  valido  \\\n",
       "1222000            1                 S                   0     72   False   \n",
       "1222002            1                 N                   1     28   False   \n",
       "1222003            1                 S                   0     77   False   \n",
       "1222006            1                 S                   0     63   False   \n",
       "1222007            1                 S                   7     61   False   \n",
       "...              ...               ...                 ...    ...     ...   \n",
       "2382020            1                 N                   9     31   False   \n",
       "2382021            1                 N                   1     26   False   \n",
       "2382022            1                 S                   9     37   False   \n",
       "2382023            1                 S                   2     74   False   \n",
       "2382026            1                 S                   0     60   False   \n",
       "\n",
       "         ic_tipo_renda_estimado  \n",
       "1222000                       1  \n",
       "1222002                       1  \n",
       "1222003                       1  \n",
       "1222006                       1  \n",
       "1222007                       1  \n",
       "...                         ...  \n",
       "2382020                       1  \n",
       "2382021                       1  \n",
       "2382022                       1  \n",
       "2382023                       1  \n",
       "2382026                       1  \n",
       "\n",
       "[658335 rows x 14 columns]"
      ]
     },
     "execution_count": 56,
     "metadata": {},
     "output_type": "execute_result"
    }
   ],
   "source": [
    "df_ic_tipo_renda_inferir"
   ]
  },
  {
   "cell_type": "markdown",
   "metadata": {},
   "source": [
    "# KNN"
   ]
  },
  {
   "cell_type": "code",
   "execution_count": 57,
   "metadata": {},
   "outputs": [
    {
     "name": "stdout",
     "output_type": "stream",
     "text": [
      "[[     0 658335]\n",
      " [     0      0]]\n"
     ]
    },
    {
     "name": "stderr",
     "output_type": "stream",
     "text": [
      "/home/marcello/anaconda3/envs/av/lib/python3.6/site-packages/ipykernel_launcher.py:5: SettingWithCopyWarning: \n",
      "A value is trying to be set on a copy of a slice from a DataFrame.\n",
      "Try using .loc[row_indexer,col_indexer] = value instead\n",
      "\n",
      "See the caveats in the documentation: https://pandas.pydata.org/pandas-docs/stable/user_guide/indexing.html#returning-a-view-versus-a-copy\n",
      "  \"\"\"\n"
     ]
    },
    {
     "data": {
      "text/html": [
       "<div>\n",
       "<style scoped>\n",
       "    .dataframe tbody tr th:only-of-type {\n",
       "        vertical-align: middle;\n",
       "    }\n",
       "\n",
       "    .dataframe tbody tr th {\n",
       "        vertical-align: top;\n",
       "    }\n",
       "\n",
       "    .dataframe thead th {\n",
       "        text-align: right;\n",
       "    }\n",
       "</style>\n",
       "<table border=\"1\" class=\"dataframe\">\n",
       "  <thead>\n",
       "    <tr style=\"text-align: right;\">\n",
       "      <th></th>\n",
       "      <th>nu_pessoa</th>\n",
       "      <th>dt_nascimento</th>\n",
       "      <th>ic_tipo_renda</th>\n",
       "      <th>vr_renda_bruta</th>\n",
       "      <th>vr_renda_liquida</th>\n",
       "      <th>ic_infmo_renda</th>\n",
       "      <th>dt_apuracao_renda</th>\n",
       "      <th>ic_sexo</th>\n",
       "      <th>ic_situacao</th>\n",
       "      <th>ic_inconsistencia</th>\n",
       "      <th>nu_estdo_civil_p27</th>\n",
       "      <th>idade</th>\n",
       "      <th>valido</th>\n",
       "      <th>ic_tipo_renda_estimado</th>\n",
       "    </tr>\n",
       "  </thead>\n",
       "  <tbody>\n",
       "    <tr>\n",
       "      <th>1222000</th>\n",
       "      <td>9840013122984</td>\n",
       "      <td>1948-01-26</td>\n",
       "      <td>?</td>\n",
       "      <td>NaN</td>\n",
       "      <td>NaN</td>\n",
       "      <td>0.0</td>\n",
       "      <td>0</td>\n",
       "      <td>F</td>\n",
       "      <td>1</td>\n",
       "      <td>S</td>\n",
       "      <td>0</td>\n",
       "      <td>72</td>\n",
       "      <td>False</td>\n",
       "      <td>1</td>\n",
       "    </tr>\n",
       "    <tr>\n",
       "      <th>1222002</th>\n",
       "      <td>9170137812917</td>\n",
       "      <td>1991-11-25</td>\n",
       "      <td>?</td>\n",
       "      <td>NaN</td>\n",
       "      <td>NaN</td>\n",
       "      <td>0.0</td>\n",
       "      <td>0</td>\n",
       "      <td>M</td>\n",
       "      <td>1</td>\n",
       "      <td>N</td>\n",
       "      <td>1</td>\n",
       "      <td>28</td>\n",
       "      <td>False</td>\n",
       "      <td>1</td>\n",
       "    </tr>\n",
       "    <tr>\n",
       "      <th>1222003</th>\n",
       "      <td>140007015014</td>\n",
       "      <td>1942-10-29</td>\n",
       "      <td>?</td>\n",
       "      <td>NaN</td>\n",
       "      <td>NaN</td>\n",
       "      <td>0.0</td>\n",
       "      <td>0</td>\n",
       "      <td>F</td>\n",
       "      <td>1</td>\n",
       "      <td>S</td>\n",
       "      <td>0</td>\n",
       "      <td>77</td>\n",
       "      <td>False</td>\n",
       "      <td>1</td>\n",
       "    </tr>\n",
       "    <tr>\n",
       "      <th>1222006</th>\n",
       "      <td>9750071690975</td>\n",
       "      <td>1957-07-20</td>\n",
       "      <td>?</td>\n",
       "      <td>NaN</td>\n",
       "      <td>NaN</td>\n",
       "      <td>0.0</td>\n",
       "      <td>0</td>\n",
       "      <td>F</td>\n",
       "      <td>1</td>\n",
       "      <td>S</td>\n",
       "      <td>0</td>\n",
       "      <td>63</td>\n",
       "      <td>False</td>\n",
       "      <td>1</td>\n",
       "    </tr>\n",
       "    <tr>\n",
       "      <th>1222007</th>\n",
       "      <td>5810001101581</td>\n",
       "      <td>1959-05-05</td>\n",
       "      <td>?</td>\n",
       "      <td>NaN</td>\n",
       "      <td>NaN</td>\n",
       "      <td>0.0</td>\n",
       "      <td>0</td>\n",
       "      <td>F</td>\n",
       "      <td>1</td>\n",
       "      <td>S</td>\n",
       "      <td>7</td>\n",
       "      <td>61</td>\n",
       "      <td>False</td>\n",
       "      <td>1</td>\n",
       "    </tr>\n",
       "    <tr>\n",
       "      <th>...</th>\n",
       "      <td>...</td>\n",
       "      <td>...</td>\n",
       "      <td>...</td>\n",
       "      <td>...</td>\n",
       "      <td>...</td>\n",
       "      <td>...</td>\n",
       "      <td>...</td>\n",
       "      <td>...</td>\n",
       "      <td>...</td>\n",
       "      <td>...</td>\n",
       "      <td>...</td>\n",
       "      <td>...</td>\n",
       "      <td>...</td>\n",
       "      <td>...</td>\n",
       "    </tr>\n",
       "    <tr>\n",
       "      <th>2382020</th>\n",
       "      <td>2340104821234</td>\n",
       "      <td>1988-09-23</td>\n",
       "      <td>?</td>\n",
       "      <td>NaN</td>\n",
       "      <td>NaN</td>\n",
       "      <td>0.0</td>\n",
       "      <td>0</td>\n",
       "      <td>?</td>\n",
       "      <td>1</td>\n",
       "      <td>N</td>\n",
       "      <td>9</td>\n",
       "      <td>31</td>\n",
       "      <td>False</td>\n",
       "      <td>1</td>\n",
       "    </tr>\n",
       "    <tr>\n",
       "      <th>2382021</th>\n",
       "      <td>4060218712406</td>\n",
       "      <td>1994-06-25</td>\n",
       "      <td>?</td>\n",
       "      <td>NaN</td>\n",
       "      <td>NaN</td>\n",
       "      <td>0.0</td>\n",
       "      <td>0</td>\n",
       "      <td>F</td>\n",
       "      <td>1</td>\n",
       "      <td>N</td>\n",
       "      <td>1</td>\n",
       "      <td>26</td>\n",
       "      <td>False</td>\n",
       "      <td>1</td>\n",
       "    </tr>\n",
       "    <tr>\n",
       "      <th>2382022</th>\n",
       "      <td>9440015442944</td>\n",
       "      <td>1983-05-05</td>\n",
       "      <td>?</td>\n",
       "      <td>NaN</td>\n",
       "      <td>NaN</td>\n",
       "      <td>0.0</td>\n",
       "      <td>0</td>\n",
       "      <td>F</td>\n",
       "      <td>1</td>\n",
       "      <td>S</td>\n",
       "      <td>9</td>\n",
       "      <td>37</td>\n",
       "      <td>False</td>\n",
       "      <td>1</td>\n",
       "    </tr>\n",
       "    <tr>\n",
       "      <th>2382023</th>\n",
       "      <td>7570098273757</td>\n",
       "      <td>1945-12-19</td>\n",
       "      <td>?</td>\n",
       "      <td>NaN</td>\n",
       "      <td>NaN</td>\n",
       "      <td>0.0</td>\n",
       "      <td>0</td>\n",
       "      <td>M</td>\n",
       "      <td>1</td>\n",
       "      <td>S</td>\n",
       "      <td>2</td>\n",
       "      <td>74</td>\n",
       "      <td>False</td>\n",
       "      <td>1</td>\n",
       "    </tr>\n",
       "    <tr>\n",
       "      <th>2382026</th>\n",
       "      <td>2870048829287</td>\n",
       "      <td>1959-11-07</td>\n",
       "      <td>?</td>\n",
       "      <td>NaN</td>\n",
       "      <td>NaN</td>\n",
       "      <td>0.0</td>\n",
       "      <td>0</td>\n",
       "      <td>F</td>\n",
       "      <td>1</td>\n",
       "      <td>S</td>\n",
       "      <td>0</td>\n",
       "      <td>60</td>\n",
       "      <td>False</td>\n",
       "      <td>1</td>\n",
       "    </tr>\n",
       "  </tbody>\n",
       "</table>\n",
       "<p>658335 rows × 14 columns</p>\n",
       "</div>"
      ],
      "text/plain": [
       "             nu_pessoa dt_nascimento ic_tipo_renda  vr_renda_bruta  \\\n",
       "1222000  9840013122984    1948-01-26             ?             NaN   \n",
       "1222002  9170137812917    1991-11-25             ?             NaN   \n",
       "1222003   140007015014    1942-10-29             ?             NaN   \n",
       "1222006  9750071690975    1957-07-20             ?             NaN   \n",
       "1222007  5810001101581    1959-05-05             ?             NaN   \n",
       "...                ...           ...           ...             ...   \n",
       "2382020  2340104821234    1988-09-23             ?             NaN   \n",
       "2382021  4060218712406    1994-06-25             ?             NaN   \n",
       "2382022  9440015442944    1983-05-05             ?             NaN   \n",
       "2382023  7570098273757    1945-12-19             ?             NaN   \n",
       "2382026  2870048829287    1959-11-07             ?             NaN   \n",
       "\n",
       "         vr_renda_liquida  ic_infmo_renda  dt_apuracao_renda ic_sexo  \\\n",
       "1222000               NaN             0.0                  0       F   \n",
       "1222002               NaN             0.0                  0       M   \n",
       "1222003               NaN             0.0                  0       F   \n",
       "1222006               NaN             0.0                  0       F   \n",
       "1222007               NaN             0.0                  0       F   \n",
       "...                   ...             ...                ...     ...   \n",
       "2382020               NaN             0.0                  0       ?   \n",
       "2382021               NaN             0.0                  0       F   \n",
       "2382022               NaN             0.0                  0       F   \n",
       "2382023               NaN             0.0                  0       M   \n",
       "2382026               NaN             0.0                  0       F   \n",
       "\n",
       "         ic_situacao ic_inconsistencia  nu_estdo_civil_p27  idade  valido  \\\n",
       "1222000            1                 S                   0     72   False   \n",
       "1222002            1                 N                   1     28   False   \n",
       "1222003            1                 S                   0     77   False   \n",
       "1222006            1                 S                   0     63   False   \n",
       "1222007            1                 S                   7     61   False   \n",
       "...              ...               ...                 ...    ...     ...   \n",
       "2382020            1                 N                   9     31   False   \n",
       "2382021            1                 N                   1     26   False   \n",
       "2382022            1                 S                   9     37   False   \n",
       "2382023            1                 S                   2     74   False   \n",
       "2382026            1                 S                   0     60   False   \n",
       "\n",
       "         ic_tipo_renda_estimado  \n",
       "1222000                       1  \n",
       "1222002                       1  \n",
       "1222003                       1  \n",
       "1222006                       1  \n",
       "1222007                       1  \n",
       "...                         ...  \n",
       "2382020                       1  \n",
       "2382021                       1  \n",
       "2382022                       1  \n",
       "2382023                       1  \n",
       "2382026                       1  \n",
       "\n",
       "[658335 rows x 14 columns]"
      ]
     },
     "execution_count": 57,
     "metadata": {},
     "output_type": "execute_result"
    }
   ],
   "source": [
    "ic_tipo_renda_estimado = model_KNN.predict(X)\n",
    "\n",
    "print(confusion_matrix(y, ic_tipo_renda_estimado))\n",
    "\n",
    "df_ic_tipo_renda_inferir['ic_tipo_renda_estimado'] = ic_tipo_renda_estimado\n",
    "df_ic_tipo_renda_inferir"
   ]
  },
  {
   "cell_type": "markdown",
   "metadata": {},
   "source": [
    "# AdaBoost(CART)"
   ]
  },
  {
   "cell_type": "code",
   "execution_count": 58,
   "metadata": {},
   "outputs": [
    {
     "name": "stdout",
     "output_type": "stream",
     "text": [
      "[[658335]]\n"
     ]
    },
    {
     "name": "stderr",
     "output_type": "stream",
     "text": [
      "/home/marcello/anaconda3/envs/av/lib/python3.6/site-packages/ipykernel_launcher.py:5: SettingWithCopyWarning: \n",
      "A value is trying to be set on a copy of a slice from a DataFrame.\n",
      "Try using .loc[row_indexer,col_indexer] = value instead\n",
      "\n",
      "See the caveats in the documentation: https://pandas.pydata.org/pandas-docs/stable/user_guide/indexing.html#returning-a-view-versus-a-copy\n",
      "  \"\"\"\n"
     ]
    },
    {
     "data": {
      "text/html": [
       "<div>\n",
       "<style scoped>\n",
       "    .dataframe tbody tr th:only-of-type {\n",
       "        vertical-align: middle;\n",
       "    }\n",
       "\n",
       "    .dataframe tbody tr th {\n",
       "        vertical-align: top;\n",
       "    }\n",
       "\n",
       "    .dataframe thead th {\n",
       "        text-align: right;\n",
       "    }\n",
       "</style>\n",
       "<table border=\"1\" class=\"dataframe\">\n",
       "  <thead>\n",
       "    <tr style=\"text-align: right;\">\n",
       "      <th></th>\n",
       "      <th>nu_pessoa</th>\n",
       "      <th>dt_nascimento</th>\n",
       "      <th>ic_tipo_renda</th>\n",
       "      <th>vr_renda_bruta</th>\n",
       "      <th>vr_renda_liquida</th>\n",
       "      <th>ic_infmo_renda</th>\n",
       "      <th>dt_apuracao_renda</th>\n",
       "      <th>ic_sexo</th>\n",
       "      <th>ic_situacao</th>\n",
       "      <th>ic_inconsistencia</th>\n",
       "      <th>nu_estdo_civil_p27</th>\n",
       "      <th>idade</th>\n",
       "      <th>valido</th>\n",
       "      <th>ic_tipo_renda_estimado</th>\n",
       "    </tr>\n",
       "  </thead>\n",
       "  <tbody>\n",
       "    <tr>\n",
       "      <th>1222000</th>\n",
       "      <td>9840013122984</td>\n",
       "      <td>1948-01-26</td>\n",
       "      <td>?</td>\n",
       "      <td>NaN</td>\n",
       "      <td>NaN</td>\n",
       "      <td>0.0</td>\n",
       "      <td>0</td>\n",
       "      <td>F</td>\n",
       "      <td>1</td>\n",
       "      <td>S</td>\n",
       "      <td>0</td>\n",
       "      <td>72</td>\n",
       "      <td>False</td>\n",
       "      <td>0</td>\n",
       "    </tr>\n",
       "    <tr>\n",
       "      <th>1222002</th>\n",
       "      <td>9170137812917</td>\n",
       "      <td>1991-11-25</td>\n",
       "      <td>?</td>\n",
       "      <td>NaN</td>\n",
       "      <td>NaN</td>\n",
       "      <td>0.0</td>\n",
       "      <td>0</td>\n",
       "      <td>M</td>\n",
       "      <td>1</td>\n",
       "      <td>N</td>\n",
       "      <td>1</td>\n",
       "      <td>28</td>\n",
       "      <td>False</td>\n",
       "      <td>0</td>\n",
       "    </tr>\n",
       "    <tr>\n",
       "      <th>1222003</th>\n",
       "      <td>140007015014</td>\n",
       "      <td>1942-10-29</td>\n",
       "      <td>?</td>\n",
       "      <td>NaN</td>\n",
       "      <td>NaN</td>\n",
       "      <td>0.0</td>\n",
       "      <td>0</td>\n",
       "      <td>F</td>\n",
       "      <td>1</td>\n",
       "      <td>S</td>\n",
       "      <td>0</td>\n",
       "      <td>77</td>\n",
       "      <td>False</td>\n",
       "      <td>0</td>\n",
       "    </tr>\n",
       "    <tr>\n",
       "      <th>1222006</th>\n",
       "      <td>9750071690975</td>\n",
       "      <td>1957-07-20</td>\n",
       "      <td>?</td>\n",
       "      <td>NaN</td>\n",
       "      <td>NaN</td>\n",
       "      <td>0.0</td>\n",
       "      <td>0</td>\n",
       "      <td>F</td>\n",
       "      <td>1</td>\n",
       "      <td>S</td>\n",
       "      <td>0</td>\n",
       "      <td>63</td>\n",
       "      <td>False</td>\n",
       "      <td>0</td>\n",
       "    </tr>\n",
       "    <tr>\n",
       "      <th>1222007</th>\n",
       "      <td>5810001101581</td>\n",
       "      <td>1959-05-05</td>\n",
       "      <td>?</td>\n",
       "      <td>NaN</td>\n",
       "      <td>NaN</td>\n",
       "      <td>0.0</td>\n",
       "      <td>0</td>\n",
       "      <td>F</td>\n",
       "      <td>1</td>\n",
       "      <td>S</td>\n",
       "      <td>7</td>\n",
       "      <td>61</td>\n",
       "      <td>False</td>\n",
       "      <td>0</td>\n",
       "    </tr>\n",
       "    <tr>\n",
       "      <th>...</th>\n",
       "      <td>...</td>\n",
       "      <td>...</td>\n",
       "      <td>...</td>\n",
       "      <td>...</td>\n",
       "      <td>...</td>\n",
       "      <td>...</td>\n",
       "      <td>...</td>\n",
       "      <td>...</td>\n",
       "      <td>...</td>\n",
       "      <td>...</td>\n",
       "      <td>...</td>\n",
       "      <td>...</td>\n",
       "      <td>...</td>\n",
       "      <td>...</td>\n",
       "    </tr>\n",
       "    <tr>\n",
       "      <th>2382020</th>\n",
       "      <td>2340104821234</td>\n",
       "      <td>1988-09-23</td>\n",
       "      <td>?</td>\n",
       "      <td>NaN</td>\n",
       "      <td>NaN</td>\n",
       "      <td>0.0</td>\n",
       "      <td>0</td>\n",
       "      <td>?</td>\n",
       "      <td>1</td>\n",
       "      <td>N</td>\n",
       "      <td>9</td>\n",
       "      <td>31</td>\n",
       "      <td>False</td>\n",
       "      <td>0</td>\n",
       "    </tr>\n",
       "    <tr>\n",
       "      <th>2382021</th>\n",
       "      <td>4060218712406</td>\n",
       "      <td>1994-06-25</td>\n",
       "      <td>?</td>\n",
       "      <td>NaN</td>\n",
       "      <td>NaN</td>\n",
       "      <td>0.0</td>\n",
       "      <td>0</td>\n",
       "      <td>F</td>\n",
       "      <td>1</td>\n",
       "      <td>N</td>\n",
       "      <td>1</td>\n",
       "      <td>26</td>\n",
       "      <td>False</td>\n",
       "      <td>0</td>\n",
       "    </tr>\n",
       "    <tr>\n",
       "      <th>2382022</th>\n",
       "      <td>9440015442944</td>\n",
       "      <td>1983-05-05</td>\n",
       "      <td>?</td>\n",
       "      <td>NaN</td>\n",
       "      <td>NaN</td>\n",
       "      <td>0.0</td>\n",
       "      <td>0</td>\n",
       "      <td>F</td>\n",
       "      <td>1</td>\n",
       "      <td>S</td>\n",
       "      <td>9</td>\n",
       "      <td>37</td>\n",
       "      <td>False</td>\n",
       "      <td>0</td>\n",
       "    </tr>\n",
       "    <tr>\n",
       "      <th>2382023</th>\n",
       "      <td>7570098273757</td>\n",
       "      <td>1945-12-19</td>\n",
       "      <td>?</td>\n",
       "      <td>NaN</td>\n",
       "      <td>NaN</td>\n",
       "      <td>0.0</td>\n",
       "      <td>0</td>\n",
       "      <td>M</td>\n",
       "      <td>1</td>\n",
       "      <td>S</td>\n",
       "      <td>2</td>\n",
       "      <td>74</td>\n",
       "      <td>False</td>\n",
       "      <td>0</td>\n",
       "    </tr>\n",
       "    <tr>\n",
       "      <th>2382026</th>\n",
       "      <td>2870048829287</td>\n",
       "      <td>1959-11-07</td>\n",
       "      <td>?</td>\n",
       "      <td>NaN</td>\n",
       "      <td>NaN</td>\n",
       "      <td>0.0</td>\n",
       "      <td>0</td>\n",
       "      <td>F</td>\n",
       "      <td>1</td>\n",
       "      <td>S</td>\n",
       "      <td>0</td>\n",
       "      <td>60</td>\n",
       "      <td>False</td>\n",
       "      <td>0</td>\n",
       "    </tr>\n",
       "  </tbody>\n",
       "</table>\n",
       "<p>658335 rows × 14 columns</p>\n",
       "</div>"
      ],
      "text/plain": [
       "             nu_pessoa dt_nascimento ic_tipo_renda  vr_renda_bruta  \\\n",
       "1222000  9840013122984    1948-01-26             ?             NaN   \n",
       "1222002  9170137812917    1991-11-25             ?             NaN   \n",
       "1222003   140007015014    1942-10-29             ?             NaN   \n",
       "1222006  9750071690975    1957-07-20             ?             NaN   \n",
       "1222007  5810001101581    1959-05-05             ?             NaN   \n",
       "...                ...           ...           ...             ...   \n",
       "2382020  2340104821234    1988-09-23             ?             NaN   \n",
       "2382021  4060218712406    1994-06-25             ?             NaN   \n",
       "2382022  9440015442944    1983-05-05             ?             NaN   \n",
       "2382023  7570098273757    1945-12-19             ?             NaN   \n",
       "2382026  2870048829287    1959-11-07             ?             NaN   \n",
       "\n",
       "         vr_renda_liquida  ic_infmo_renda  dt_apuracao_renda ic_sexo  \\\n",
       "1222000               NaN             0.0                  0       F   \n",
       "1222002               NaN             0.0                  0       M   \n",
       "1222003               NaN             0.0                  0       F   \n",
       "1222006               NaN             0.0                  0       F   \n",
       "1222007               NaN             0.0                  0       F   \n",
       "...                   ...             ...                ...     ...   \n",
       "2382020               NaN             0.0                  0       ?   \n",
       "2382021               NaN             0.0                  0       F   \n",
       "2382022               NaN             0.0                  0       F   \n",
       "2382023               NaN             0.0                  0       M   \n",
       "2382026               NaN             0.0                  0       F   \n",
       "\n",
       "         ic_situacao ic_inconsistencia  nu_estdo_civil_p27  idade  valido  \\\n",
       "1222000            1                 S                   0     72   False   \n",
       "1222002            1                 N                   1     28   False   \n",
       "1222003            1                 S                   0     77   False   \n",
       "1222006            1                 S                   0     63   False   \n",
       "1222007            1                 S                   7     61   False   \n",
       "...              ...               ...                 ...    ...     ...   \n",
       "2382020            1                 N                   9     31   False   \n",
       "2382021            1                 N                   1     26   False   \n",
       "2382022            1                 S                   9     37   False   \n",
       "2382023            1                 S                   2     74   False   \n",
       "2382026            1                 S                   0     60   False   \n",
       "\n",
       "         ic_tipo_renda_estimado  \n",
       "1222000                       0  \n",
       "1222002                       0  \n",
       "1222003                       0  \n",
       "1222006                       0  \n",
       "1222007                       0  \n",
       "...                         ...  \n",
       "2382020                       0  \n",
       "2382021                       0  \n",
       "2382022                       0  \n",
       "2382023                       0  \n",
       "2382026                       0  \n",
       "\n",
       "[658335 rows x 14 columns]"
      ]
     },
     "execution_count": 58,
     "metadata": {},
     "output_type": "execute_result"
    }
   ],
   "source": [
    "ic_tipo_renda_estimado = model_ADT.predict(X)\n",
    "\n",
    "print(confusion_matrix(y, ic_tipo_renda_estimado))\n",
    "\n",
    "df_ic_tipo_renda_inferir['ic_tipo_renda_estimado'] = ic_tipo_renda_estimado\n",
    "df_ic_tipo_renda_inferir"
   ]
  },
  {
   "cell_type": "markdown",
   "metadata": {},
   "source": [
    "# Logistic Regression"
   ]
  },
  {
   "cell_type": "code",
   "execution_count": 59,
   "metadata": {},
   "outputs": [
    {
     "name": "stdout",
     "output_type": "stream",
     "text": [
      "[[658335]]\n"
     ]
    },
    {
     "name": "stderr",
     "output_type": "stream",
     "text": [
      "/home/marcello/anaconda3/envs/av/lib/python3.6/site-packages/ipykernel_launcher.py:5: SettingWithCopyWarning: \n",
      "A value is trying to be set on a copy of a slice from a DataFrame.\n",
      "Try using .loc[row_indexer,col_indexer] = value instead\n",
      "\n",
      "See the caveats in the documentation: https://pandas.pydata.org/pandas-docs/stable/user_guide/indexing.html#returning-a-view-versus-a-copy\n",
      "  \"\"\"\n"
     ]
    },
    {
     "data": {
      "text/html": [
       "<div>\n",
       "<style scoped>\n",
       "    .dataframe tbody tr th:only-of-type {\n",
       "        vertical-align: middle;\n",
       "    }\n",
       "\n",
       "    .dataframe tbody tr th {\n",
       "        vertical-align: top;\n",
       "    }\n",
       "\n",
       "    .dataframe thead th {\n",
       "        text-align: right;\n",
       "    }\n",
       "</style>\n",
       "<table border=\"1\" class=\"dataframe\">\n",
       "  <thead>\n",
       "    <tr style=\"text-align: right;\">\n",
       "      <th></th>\n",
       "      <th>nu_pessoa</th>\n",
       "      <th>dt_nascimento</th>\n",
       "      <th>ic_tipo_renda</th>\n",
       "      <th>vr_renda_bruta</th>\n",
       "      <th>vr_renda_liquida</th>\n",
       "      <th>ic_infmo_renda</th>\n",
       "      <th>dt_apuracao_renda</th>\n",
       "      <th>ic_sexo</th>\n",
       "      <th>ic_situacao</th>\n",
       "      <th>ic_inconsistencia</th>\n",
       "      <th>nu_estdo_civil_p27</th>\n",
       "      <th>idade</th>\n",
       "      <th>valido</th>\n",
       "      <th>ic_tipo_renda_estimado</th>\n",
       "    </tr>\n",
       "  </thead>\n",
       "  <tbody>\n",
       "    <tr>\n",
       "      <th>1222000</th>\n",
       "      <td>9840013122984</td>\n",
       "      <td>1948-01-26</td>\n",
       "      <td>?</td>\n",
       "      <td>NaN</td>\n",
       "      <td>NaN</td>\n",
       "      <td>0.0</td>\n",
       "      <td>0</td>\n",
       "      <td>F</td>\n",
       "      <td>1</td>\n",
       "      <td>S</td>\n",
       "      <td>0</td>\n",
       "      <td>72</td>\n",
       "      <td>False</td>\n",
       "      <td>0</td>\n",
       "    </tr>\n",
       "    <tr>\n",
       "      <th>1222002</th>\n",
       "      <td>9170137812917</td>\n",
       "      <td>1991-11-25</td>\n",
       "      <td>?</td>\n",
       "      <td>NaN</td>\n",
       "      <td>NaN</td>\n",
       "      <td>0.0</td>\n",
       "      <td>0</td>\n",
       "      <td>M</td>\n",
       "      <td>1</td>\n",
       "      <td>N</td>\n",
       "      <td>1</td>\n",
       "      <td>28</td>\n",
       "      <td>False</td>\n",
       "      <td>0</td>\n",
       "    </tr>\n",
       "    <tr>\n",
       "      <th>1222003</th>\n",
       "      <td>140007015014</td>\n",
       "      <td>1942-10-29</td>\n",
       "      <td>?</td>\n",
       "      <td>NaN</td>\n",
       "      <td>NaN</td>\n",
       "      <td>0.0</td>\n",
       "      <td>0</td>\n",
       "      <td>F</td>\n",
       "      <td>1</td>\n",
       "      <td>S</td>\n",
       "      <td>0</td>\n",
       "      <td>77</td>\n",
       "      <td>False</td>\n",
       "      <td>0</td>\n",
       "    </tr>\n",
       "    <tr>\n",
       "      <th>1222006</th>\n",
       "      <td>9750071690975</td>\n",
       "      <td>1957-07-20</td>\n",
       "      <td>?</td>\n",
       "      <td>NaN</td>\n",
       "      <td>NaN</td>\n",
       "      <td>0.0</td>\n",
       "      <td>0</td>\n",
       "      <td>F</td>\n",
       "      <td>1</td>\n",
       "      <td>S</td>\n",
       "      <td>0</td>\n",
       "      <td>63</td>\n",
       "      <td>False</td>\n",
       "      <td>0</td>\n",
       "    </tr>\n",
       "    <tr>\n",
       "      <th>1222007</th>\n",
       "      <td>5810001101581</td>\n",
       "      <td>1959-05-05</td>\n",
       "      <td>?</td>\n",
       "      <td>NaN</td>\n",
       "      <td>NaN</td>\n",
       "      <td>0.0</td>\n",
       "      <td>0</td>\n",
       "      <td>F</td>\n",
       "      <td>1</td>\n",
       "      <td>S</td>\n",
       "      <td>7</td>\n",
       "      <td>61</td>\n",
       "      <td>False</td>\n",
       "      <td>0</td>\n",
       "    </tr>\n",
       "    <tr>\n",
       "      <th>...</th>\n",
       "      <td>...</td>\n",
       "      <td>...</td>\n",
       "      <td>...</td>\n",
       "      <td>...</td>\n",
       "      <td>...</td>\n",
       "      <td>...</td>\n",
       "      <td>...</td>\n",
       "      <td>...</td>\n",
       "      <td>...</td>\n",
       "      <td>...</td>\n",
       "      <td>...</td>\n",
       "      <td>...</td>\n",
       "      <td>...</td>\n",
       "      <td>...</td>\n",
       "    </tr>\n",
       "    <tr>\n",
       "      <th>2382020</th>\n",
       "      <td>2340104821234</td>\n",
       "      <td>1988-09-23</td>\n",
       "      <td>?</td>\n",
       "      <td>NaN</td>\n",
       "      <td>NaN</td>\n",
       "      <td>0.0</td>\n",
       "      <td>0</td>\n",
       "      <td>?</td>\n",
       "      <td>1</td>\n",
       "      <td>N</td>\n",
       "      <td>9</td>\n",
       "      <td>31</td>\n",
       "      <td>False</td>\n",
       "      <td>0</td>\n",
       "    </tr>\n",
       "    <tr>\n",
       "      <th>2382021</th>\n",
       "      <td>4060218712406</td>\n",
       "      <td>1994-06-25</td>\n",
       "      <td>?</td>\n",
       "      <td>NaN</td>\n",
       "      <td>NaN</td>\n",
       "      <td>0.0</td>\n",
       "      <td>0</td>\n",
       "      <td>F</td>\n",
       "      <td>1</td>\n",
       "      <td>N</td>\n",
       "      <td>1</td>\n",
       "      <td>26</td>\n",
       "      <td>False</td>\n",
       "      <td>0</td>\n",
       "    </tr>\n",
       "    <tr>\n",
       "      <th>2382022</th>\n",
       "      <td>9440015442944</td>\n",
       "      <td>1983-05-05</td>\n",
       "      <td>?</td>\n",
       "      <td>NaN</td>\n",
       "      <td>NaN</td>\n",
       "      <td>0.0</td>\n",
       "      <td>0</td>\n",
       "      <td>F</td>\n",
       "      <td>1</td>\n",
       "      <td>S</td>\n",
       "      <td>9</td>\n",
       "      <td>37</td>\n",
       "      <td>False</td>\n",
       "      <td>0</td>\n",
       "    </tr>\n",
       "    <tr>\n",
       "      <th>2382023</th>\n",
       "      <td>7570098273757</td>\n",
       "      <td>1945-12-19</td>\n",
       "      <td>?</td>\n",
       "      <td>NaN</td>\n",
       "      <td>NaN</td>\n",
       "      <td>0.0</td>\n",
       "      <td>0</td>\n",
       "      <td>M</td>\n",
       "      <td>1</td>\n",
       "      <td>S</td>\n",
       "      <td>2</td>\n",
       "      <td>74</td>\n",
       "      <td>False</td>\n",
       "      <td>0</td>\n",
       "    </tr>\n",
       "    <tr>\n",
       "      <th>2382026</th>\n",
       "      <td>2870048829287</td>\n",
       "      <td>1959-11-07</td>\n",
       "      <td>?</td>\n",
       "      <td>NaN</td>\n",
       "      <td>NaN</td>\n",
       "      <td>0.0</td>\n",
       "      <td>0</td>\n",
       "      <td>F</td>\n",
       "      <td>1</td>\n",
       "      <td>S</td>\n",
       "      <td>0</td>\n",
       "      <td>60</td>\n",
       "      <td>False</td>\n",
       "      <td>0</td>\n",
       "    </tr>\n",
       "  </tbody>\n",
       "</table>\n",
       "<p>658335 rows × 14 columns</p>\n",
       "</div>"
      ],
      "text/plain": [
       "             nu_pessoa dt_nascimento ic_tipo_renda  vr_renda_bruta  \\\n",
       "1222000  9840013122984    1948-01-26             ?             NaN   \n",
       "1222002  9170137812917    1991-11-25             ?             NaN   \n",
       "1222003   140007015014    1942-10-29             ?             NaN   \n",
       "1222006  9750071690975    1957-07-20             ?             NaN   \n",
       "1222007  5810001101581    1959-05-05             ?             NaN   \n",
       "...                ...           ...           ...             ...   \n",
       "2382020  2340104821234    1988-09-23             ?             NaN   \n",
       "2382021  4060218712406    1994-06-25             ?             NaN   \n",
       "2382022  9440015442944    1983-05-05             ?             NaN   \n",
       "2382023  7570098273757    1945-12-19             ?             NaN   \n",
       "2382026  2870048829287    1959-11-07             ?             NaN   \n",
       "\n",
       "         vr_renda_liquida  ic_infmo_renda  dt_apuracao_renda ic_sexo  \\\n",
       "1222000               NaN             0.0                  0       F   \n",
       "1222002               NaN             0.0                  0       M   \n",
       "1222003               NaN             0.0                  0       F   \n",
       "1222006               NaN             0.0                  0       F   \n",
       "1222007               NaN             0.0                  0       F   \n",
       "...                   ...             ...                ...     ...   \n",
       "2382020               NaN             0.0                  0       ?   \n",
       "2382021               NaN             0.0                  0       F   \n",
       "2382022               NaN             0.0                  0       F   \n",
       "2382023               NaN             0.0                  0       M   \n",
       "2382026               NaN             0.0                  0       F   \n",
       "\n",
       "         ic_situacao ic_inconsistencia  nu_estdo_civil_p27  idade  valido  \\\n",
       "1222000            1                 S                   0     72   False   \n",
       "1222002            1                 N                   1     28   False   \n",
       "1222003            1                 S                   0     77   False   \n",
       "1222006            1                 S                   0     63   False   \n",
       "1222007            1                 S                   7     61   False   \n",
       "...              ...               ...                 ...    ...     ...   \n",
       "2382020            1                 N                   9     31   False   \n",
       "2382021            1                 N                   1     26   False   \n",
       "2382022            1                 S                   9     37   False   \n",
       "2382023            1                 S                   2     74   False   \n",
       "2382026            1                 S                   0     60   False   \n",
       "\n",
       "         ic_tipo_renda_estimado  \n",
       "1222000                       0  \n",
       "1222002                       0  \n",
       "1222003                       0  \n",
       "1222006                       0  \n",
       "1222007                       0  \n",
       "...                         ...  \n",
       "2382020                       0  \n",
       "2382021                       0  \n",
       "2382022                       0  \n",
       "2382023                       0  \n",
       "2382026                       0  \n",
       "\n",
       "[658335 rows x 14 columns]"
      ]
     },
     "execution_count": 59,
     "metadata": {},
     "output_type": "execute_result"
    }
   ],
   "source": [
    "ic_tipo_renda_estimado = model_LR.predict(X)\n",
    "\n",
    "print(confusion_matrix(y, ic_tipo_renda_estimado))\n",
    "\n",
    "df_ic_tipo_renda_inferir['ic_tipo_renda_estimado'] = ic_tipo_renda_estimado\n",
    "df_ic_tipo_renda_inferir"
   ]
  },
  {
   "cell_type": "markdown",
   "metadata": {},
   "source": [
    "# Naïve Bayes Gaussian"
   ]
  },
  {
   "cell_type": "code",
   "execution_count": 60,
   "metadata": {},
   "outputs": [
    {
     "name": "stdout",
     "output_type": "stream",
     "text": [
      "[[658335]]\n"
     ]
    },
    {
     "name": "stderr",
     "output_type": "stream",
     "text": [
      "/home/marcello/anaconda3/envs/av/lib/python3.6/site-packages/ipykernel_launcher.py:5: SettingWithCopyWarning: \n",
      "A value is trying to be set on a copy of a slice from a DataFrame.\n",
      "Try using .loc[row_indexer,col_indexer] = value instead\n",
      "\n",
      "See the caveats in the documentation: https://pandas.pydata.org/pandas-docs/stable/user_guide/indexing.html#returning-a-view-versus-a-copy\n",
      "  \"\"\"\n"
     ]
    },
    {
     "data": {
      "text/html": [
       "<div>\n",
       "<style scoped>\n",
       "    .dataframe tbody tr th:only-of-type {\n",
       "        vertical-align: middle;\n",
       "    }\n",
       "\n",
       "    .dataframe tbody tr th {\n",
       "        vertical-align: top;\n",
       "    }\n",
       "\n",
       "    .dataframe thead th {\n",
       "        text-align: right;\n",
       "    }\n",
       "</style>\n",
       "<table border=\"1\" class=\"dataframe\">\n",
       "  <thead>\n",
       "    <tr style=\"text-align: right;\">\n",
       "      <th></th>\n",
       "      <th>nu_pessoa</th>\n",
       "      <th>dt_nascimento</th>\n",
       "      <th>ic_tipo_renda</th>\n",
       "      <th>vr_renda_bruta</th>\n",
       "      <th>vr_renda_liquida</th>\n",
       "      <th>ic_infmo_renda</th>\n",
       "      <th>dt_apuracao_renda</th>\n",
       "      <th>ic_sexo</th>\n",
       "      <th>ic_situacao</th>\n",
       "      <th>ic_inconsistencia</th>\n",
       "      <th>nu_estdo_civil_p27</th>\n",
       "      <th>idade</th>\n",
       "      <th>valido</th>\n",
       "      <th>ic_tipo_renda_estimado</th>\n",
       "    </tr>\n",
       "  </thead>\n",
       "  <tbody>\n",
       "    <tr>\n",
       "      <th>1222000</th>\n",
       "      <td>9840013122984</td>\n",
       "      <td>1948-01-26</td>\n",
       "      <td>?</td>\n",
       "      <td>NaN</td>\n",
       "      <td>NaN</td>\n",
       "      <td>0.0</td>\n",
       "      <td>0</td>\n",
       "      <td>F</td>\n",
       "      <td>1</td>\n",
       "      <td>S</td>\n",
       "      <td>0</td>\n",
       "      <td>72</td>\n",
       "      <td>False</td>\n",
       "      <td>0</td>\n",
       "    </tr>\n",
       "    <tr>\n",
       "      <th>1222002</th>\n",
       "      <td>9170137812917</td>\n",
       "      <td>1991-11-25</td>\n",
       "      <td>?</td>\n",
       "      <td>NaN</td>\n",
       "      <td>NaN</td>\n",
       "      <td>0.0</td>\n",
       "      <td>0</td>\n",
       "      <td>M</td>\n",
       "      <td>1</td>\n",
       "      <td>N</td>\n",
       "      <td>1</td>\n",
       "      <td>28</td>\n",
       "      <td>False</td>\n",
       "      <td>0</td>\n",
       "    </tr>\n",
       "    <tr>\n",
       "      <th>1222003</th>\n",
       "      <td>140007015014</td>\n",
       "      <td>1942-10-29</td>\n",
       "      <td>?</td>\n",
       "      <td>NaN</td>\n",
       "      <td>NaN</td>\n",
       "      <td>0.0</td>\n",
       "      <td>0</td>\n",
       "      <td>F</td>\n",
       "      <td>1</td>\n",
       "      <td>S</td>\n",
       "      <td>0</td>\n",
       "      <td>77</td>\n",
       "      <td>False</td>\n",
       "      <td>0</td>\n",
       "    </tr>\n",
       "    <tr>\n",
       "      <th>1222006</th>\n",
       "      <td>9750071690975</td>\n",
       "      <td>1957-07-20</td>\n",
       "      <td>?</td>\n",
       "      <td>NaN</td>\n",
       "      <td>NaN</td>\n",
       "      <td>0.0</td>\n",
       "      <td>0</td>\n",
       "      <td>F</td>\n",
       "      <td>1</td>\n",
       "      <td>S</td>\n",
       "      <td>0</td>\n",
       "      <td>63</td>\n",
       "      <td>False</td>\n",
       "      <td>0</td>\n",
       "    </tr>\n",
       "    <tr>\n",
       "      <th>1222007</th>\n",
       "      <td>5810001101581</td>\n",
       "      <td>1959-05-05</td>\n",
       "      <td>?</td>\n",
       "      <td>NaN</td>\n",
       "      <td>NaN</td>\n",
       "      <td>0.0</td>\n",
       "      <td>0</td>\n",
       "      <td>F</td>\n",
       "      <td>1</td>\n",
       "      <td>S</td>\n",
       "      <td>7</td>\n",
       "      <td>61</td>\n",
       "      <td>False</td>\n",
       "      <td>0</td>\n",
       "    </tr>\n",
       "    <tr>\n",
       "      <th>...</th>\n",
       "      <td>...</td>\n",
       "      <td>...</td>\n",
       "      <td>...</td>\n",
       "      <td>...</td>\n",
       "      <td>...</td>\n",
       "      <td>...</td>\n",
       "      <td>...</td>\n",
       "      <td>...</td>\n",
       "      <td>...</td>\n",
       "      <td>...</td>\n",
       "      <td>...</td>\n",
       "      <td>...</td>\n",
       "      <td>...</td>\n",
       "      <td>...</td>\n",
       "    </tr>\n",
       "    <tr>\n",
       "      <th>2382020</th>\n",
       "      <td>2340104821234</td>\n",
       "      <td>1988-09-23</td>\n",
       "      <td>?</td>\n",
       "      <td>NaN</td>\n",
       "      <td>NaN</td>\n",
       "      <td>0.0</td>\n",
       "      <td>0</td>\n",
       "      <td>?</td>\n",
       "      <td>1</td>\n",
       "      <td>N</td>\n",
       "      <td>9</td>\n",
       "      <td>31</td>\n",
       "      <td>False</td>\n",
       "      <td>0</td>\n",
       "    </tr>\n",
       "    <tr>\n",
       "      <th>2382021</th>\n",
       "      <td>4060218712406</td>\n",
       "      <td>1994-06-25</td>\n",
       "      <td>?</td>\n",
       "      <td>NaN</td>\n",
       "      <td>NaN</td>\n",
       "      <td>0.0</td>\n",
       "      <td>0</td>\n",
       "      <td>F</td>\n",
       "      <td>1</td>\n",
       "      <td>N</td>\n",
       "      <td>1</td>\n",
       "      <td>26</td>\n",
       "      <td>False</td>\n",
       "      <td>0</td>\n",
       "    </tr>\n",
       "    <tr>\n",
       "      <th>2382022</th>\n",
       "      <td>9440015442944</td>\n",
       "      <td>1983-05-05</td>\n",
       "      <td>?</td>\n",
       "      <td>NaN</td>\n",
       "      <td>NaN</td>\n",
       "      <td>0.0</td>\n",
       "      <td>0</td>\n",
       "      <td>F</td>\n",
       "      <td>1</td>\n",
       "      <td>S</td>\n",
       "      <td>9</td>\n",
       "      <td>37</td>\n",
       "      <td>False</td>\n",
       "      <td>0</td>\n",
       "    </tr>\n",
       "    <tr>\n",
       "      <th>2382023</th>\n",
       "      <td>7570098273757</td>\n",
       "      <td>1945-12-19</td>\n",
       "      <td>?</td>\n",
       "      <td>NaN</td>\n",
       "      <td>NaN</td>\n",
       "      <td>0.0</td>\n",
       "      <td>0</td>\n",
       "      <td>M</td>\n",
       "      <td>1</td>\n",
       "      <td>S</td>\n",
       "      <td>2</td>\n",
       "      <td>74</td>\n",
       "      <td>False</td>\n",
       "      <td>0</td>\n",
       "    </tr>\n",
       "    <tr>\n",
       "      <th>2382026</th>\n",
       "      <td>2870048829287</td>\n",
       "      <td>1959-11-07</td>\n",
       "      <td>?</td>\n",
       "      <td>NaN</td>\n",
       "      <td>NaN</td>\n",
       "      <td>0.0</td>\n",
       "      <td>0</td>\n",
       "      <td>F</td>\n",
       "      <td>1</td>\n",
       "      <td>S</td>\n",
       "      <td>0</td>\n",
       "      <td>60</td>\n",
       "      <td>False</td>\n",
       "      <td>0</td>\n",
       "    </tr>\n",
       "  </tbody>\n",
       "</table>\n",
       "<p>658335 rows × 14 columns</p>\n",
       "</div>"
      ],
      "text/plain": [
       "             nu_pessoa dt_nascimento ic_tipo_renda  vr_renda_bruta  \\\n",
       "1222000  9840013122984    1948-01-26             ?             NaN   \n",
       "1222002  9170137812917    1991-11-25             ?             NaN   \n",
       "1222003   140007015014    1942-10-29             ?             NaN   \n",
       "1222006  9750071690975    1957-07-20             ?             NaN   \n",
       "1222007  5810001101581    1959-05-05             ?             NaN   \n",
       "...                ...           ...           ...             ...   \n",
       "2382020  2340104821234    1988-09-23             ?             NaN   \n",
       "2382021  4060218712406    1994-06-25             ?             NaN   \n",
       "2382022  9440015442944    1983-05-05             ?             NaN   \n",
       "2382023  7570098273757    1945-12-19             ?             NaN   \n",
       "2382026  2870048829287    1959-11-07             ?             NaN   \n",
       "\n",
       "         vr_renda_liquida  ic_infmo_renda  dt_apuracao_renda ic_sexo  \\\n",
       "1222000               NaN             0.0                  0       F   \n",
       "1222002               NaN             0.0                  0       M   \n",
       "1222003               NaN             0.0                  0       F   \n",
       "1222006               NaN             0.0                  0       F   \n",
       "1222007               NaN             0.0                  0       F   \n",
       "...                   ...             ...                ...     ...   \n",
       "2382020               NaN             0.0                  0       ?   \n",
       "2382021               NaN             0.0                  0       F   \n",
       "2382022               NaN             0.0                  0       F   \n",
       "2382023               NaN             0.0                  0       M   \n",
       "2382026               NaN             0.0                  0       F   \n",
       "\n",
       "         ic_situacao ic_inconsistencia  nu_estdo_civil_p27  idade  valido  \\\n",
       "1222000            1                 S                   0     72   False   \n",
       "1222002            1                 N                   1     28   False   \n",
       "1222003            1                 S                   0     77   False   \n",
       "1222006            1                 S                   0     63   False   \n",
       "1222007            1                 S                   7     61   False   \n",
       "...              ...               ...                 ...    ...     ...   \n",
       "2382020            1                 N                   9     31   False   \n",
       "2382021            1                 N                   1     26   False   \n",
       "2382022            1                 S                   9     37   False   \n",
       "2382023            1                 S                   2     74   False   \n",
       "2382026            1                 S                   0     60   False   \n",
       "\n",
       "         ic_tipo_renda_estimado  \n",
       "1222000                       0  \n",
       "1222002                       0  \n",
       "1222003                       0  \n",
       "1222006                       0  \n",
       "1222007                       0  \n",
       "...                         ...  \n",
       "2382020                       0  \n",
       "2382021                       0  \n",
       "2382022                       0  \n",
       "2382023                       0  \n",
       "2382026                       0  \n",
       "\n",
       "[658335 rows x 14 columns]"
      ]
     },
     "execution_count": 60,
     "metadata": {},
     "output_type": "execute_result"
    }
   ],
   "source": [
    "ic_tipo_renda_estimado = model_NBG.predict(X)\n",
    "\n",
    "print(confusion_matrix(y, ic_tipo_renda_estimado))\n",
    "\n",
    "df_ic_tipo_renda_inferir['ic_tipo_renda_estimado'] = ic_tipo_renda_estimado\n",
    "df_ic_tipo_renda_inferir"
   ]
  },
  {
   "cell_type": "code",
   "execution_count": null,
   "metadata": {},
   "outputs": [],
   "source": []
  }
 ],
 "metadata": {
  "kernelspec": {
   "display_name": "Python 3",
   "language": "python",
   "name": "python3"
  },
  "language_info": {
   "codemirror_mode": {
    "name": "ipython",
    "version": 3
   },
   "file_extension": ".py",
   "mimetype": "text/x-python",
   "name": "python",
   "nbconvert_exporter": "python",
   "pygments_lexer": "ipython3",
   "version": "3.6.10"
  },
  "toc": {
   "base_numbering": 1,
   "nav_menu": {},
   "number_sections": true,
   "sideBar": true,
   "skip_h1_title": false,
   "title_cell": "Table of Contents",
   "title_sidebar": "Contents",
   "toc_cell": false,
   "toc_position": {},
   "toc_section_display": "block",
   "toc_window_display": true
  }
 },
 "nbformat": 4,
 "nbformat_minor": 1
}
