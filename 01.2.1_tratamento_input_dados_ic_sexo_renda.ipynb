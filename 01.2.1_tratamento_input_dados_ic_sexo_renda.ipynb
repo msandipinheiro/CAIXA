{
 "cells": [
  {
   "cell_type": "markdown",
   "metadata": {},
   "source": [
    "# Input de dados  \n",
    "### Desenvolvimento de modelos visando a inferência de valores em variáveis contendo `NaN` (nulo)\n",
    "- Variáveis:\n",
    "    - ic_sexo\n",
    "    - ic_tipo_renda\n",
    "    - ic_infmo_renda\n",
    "    - dt_apuracao_renda"
   ]
  },
  {
   "cell_type": "code",
   "execution_count": 1,
   "metadata": {},
   "outputs": [],
   "source": [
    "# Importação das bibliotecas\n",
    "import pandas as pd\n",
    "import numpy as np\n",
    "import matplotlib.pyplot as plt\n",
    "import seaborn as sns\n",
    "import scipy.stats as stats"
   ]
  },
  {
   "cell_type": "code",
   "execution_count": 2,
   "metadata": {},
   "outputs": [],
   "source": [
    "from IPython.display import Image\n",
    "%matplotlib inline\n",
    "pd.set_option('display.max_columns', None)"
   ]
  },
  {
   "cell_type": "code",
   "execution_count": 3,
   "metadata": {},
   "outputs": [
    {
     "data": {
      "text/plain": [
       "(2382027, 13)"
      ]
     },
     "execution_count": 3,
     "metadata": {},
     "output_type": "execute_result"
    }
   ],
   "source": [
    "# Ler o arquivo\n",
    "# Resultado do 01.1_tratamento_filtros_dados_renda.ipynb\n",
    "df_renda = pd.read_csv(\"../../../dados/amostra_sicli_tratada/cli_renda_amostra_regras_tratamento.csv\", sep=';')\n",
    "df_renda.shape"
   ]
  },
  {
   "cell_type": "code",
   "execution_count": 4,
   "metadata": {},
   "outputs": [
    {
     "data": {
      "text/plain": [
       "Index(['nu_pessoa', 'dt_nascimento', 'ic_tipo_renda', 'vr_renda_bruta',\n",
       "       'vr_renda_liquida', 'ic_infmo_renda', 'dt_apuracao_renda', 'ic_sexo',\n",
       "       'ic_situacao', 'ic_inconsistencia', 'nu_estdo_civil_p27', 'idade',\n",
       "       'valido'],\n",
       "      dtype='object')"
      ]
     },
     "execution_count": 4,
     "metadata": {},
     "output_type": "execute_result"
    }
   ],
   "source": [
    "df_renda.columns"
   ]
  },
  {
   "cell_type": "code",
   "execution_count": 5,
   "metadata": {},
   "outputs": [],
   "source": [
    "# Definição das features (inputs) e label (target)\n",
    "# Todas as features\n",
    "features = ['vr_renda_bruta', 'vr_renda_liquida', #'dt_nascimento', \n",
    "            'ic_infmo_renda', 'dt_apuracao_renda', 'ic_sexo', 'ic_tipo_renda',\n",
    "            'ic_situacao', 'nu_estdo_civil_p27', 'idade', 'valido']\n",
    "\n",
    "# features e label ic_sexo\n",
    "features_sexo = ['vr_renda_bruta', 'vr_renda_liquida', #'dt_nascimento', \n",
    "            'ic_infmo_renda', 'dt_apuracao_renda', 'ic_tipo_renda',\n",
    "            'ic_situacao', 'nu_estdo_civil_p27', 'idade']\n",
    "label_ic_sexo     = ['ic_sexo']\n",
    "\n",
    "# features e label ic_tipo_renda\n",
    "features_tp_renda = ['vr_renda_bruta', 'vr_renda_liquida', #'dt_nascimento', \n",
    "            'ic_infmo_renda', 'dt_apuracao_renda', 'ic_sexo',\n",
    "            'ic_situacao', 'nu_estdo_civil_p27', 'idade']\n",
    "label_tp_renda    = ['ic_tipo_renda']\n",
    "\n",
    "# features e label ic_infmo_renda\n",
    "features_infmo_renda = ['vr_renda_bruta', 'vr_renda_liquida', #'dt_nascimento', \n",
    "            'dt_apuracao_renda', 'ic_sexo', 'ic_tipo_renda',\n",
    "            'ic_situacao', 'nu_estdo_civil_p27', 'idade']\n",
    "label_infmo_renda = ['ic_infmo_renda']\n",
    "\n",
    "# features e label dt_apuracao_renda\n",
    "features_dt_apuracao = ['vr_renda_bruta', 'vr_renda_liquida', #'dt_nascimento', \n",
    "            'ic_infmo_renda', 'ic_sexo', 'ic_tipo_renda',\n",
    "            'ic_situacao', 'nu_estdo_civil_p27', 'idade']\n",
    "label_dt_apuracao = ['dt_apuracao_renda']"
   ]
  },
  {
   "cell_type": "markdown",
   "metadata": {},
   "source": [
    " ### Quantitativo de dados válidos e inválidos"
   ]
  },
  {
   "cell_type": "code",
   "execution_count": 6,
   "metadata": {},
   "outputs": [
    {
     "name": "stdout",
     "output_type": "stream",
     "text": [
      "Válidos:    (1221998, 13)\n",
      "Inválidos:  (1160029, 13)\n"
     ]
    }
   ],
   "source": [
    "df_validos   = df_renda[df_renda['valido'] == True]\n",
    "df_invalidos = df_renda[df_renda['valido'] == False]\n",
    "\n",
    "print('Válidos:   ', df_validos.shape)\n",
    "print('Inválidos: ', df_invalidos.shape)"
   ]
  },
  {
   "cell_type": "markdown",
   "metadata": {},
   "source": [
    "# ic_sexo"
   ]
  },
  {
   "cell_type": "code",
   "execution_count": 7,
   "metadata": {},
   "outputs": [
    {
     "name": "stdout",
     "output_type": "stream",
     "text": [
      "Válidos:\n",
      "M    617715\n",
      "F    603686\n",
      "?       597\n",
      "Name: ic_sexo, dtype: int64\n",
      "Inválidos:\n",
      "M    629606\n",
      "F    526174\n",
      "?      4249\n",
      "Name: ic_sexo, dtype: int64\n"
     ]
    }
   ],
   "source": [
    "print('Válidos:')\n",
    "print(df_validos['ic_sexo'].value_counts())\n",
    "print('Inválidos:')\n",
    "print(df_invalidos['ic_sexo'].value_counts())"
   ]
  },
  {
   "cell_type": "markdown",
   "metadata": {},
   "source": [
    "### Inconsistências em ic_sexo\n",
    "- `? = 597` nos registros válidos\n",
    "- `? = 4249` nos registros inválidos\n",
    "- Total: `4846` inválidos\n",
    "- Serão separados os registros em dois conjuntos de dados\n",
    "    - df_ic_sexo_treino contendo os `M` e `F` válidos que serão usados para treino e validação.\n",
    "    - df_ic_sexo_inferir contendo os `4846` registros que serão inferidos pelo modelo treinado."
   ]
  },
  {
   "cell_type": "code",
   "execution_count": 8,
   "metadata": {},
   "outputs": [
    {
     "name": "stdout",
     "output_type": "stream",
     "text": [
      "Treino:   (1221401, 13)\n",
      "Inferir:  (4846, 13)\n"
     ]
    }
   ],
   "source": [
    "# registros consistentes\n",
    "df_ic_sexo_treino  = df_validos[df_validos['ic_sexo'] != '?']\n",
    "\n",
    "# df_renda será usado porque existem registros INCONSISTENTES de\n",
    "# ic_sexo em ambos datasets (válidos e inválidos)\n",
    "df_ic_sexo_inferir = df_renda[df_renda['ic_sexo'] == '?']\n",
    "print('Treino:  ', df_ic_sexo_treino.shape)\n",
    "print('Inferir: ', df_ic_sexo_inferir.shape)"
   ]
  },
  {
   "cell_type": "markdown",
   "metadata": {},
   "source": [
    "# ic_tipo_renda"
   ]
  },
  {
   "cell_type": "code",
   "execution_count": 9,
   "metadata": {
    "scrolled": true
   },
   "outputs": [
    {
     "name": "stdout",
     "output_type": "stream",
     "text": [
      "Válidos:\n",
      "F    729319\n",
      "I    492679\n",
      "Name: ic_tipo_renda, dtype: int64\n",
      "Inválidos:\n",
      "?    658335\n",
      "F    398215\n",
      "I    103479\n",
      "Name: ic_tipo_renda, dtype: int64\n"
     ]
    }
   ],
   "source": [
    "print('Válidos:')\n",
    "print(df_validos['ic_tipo_renda'].value_counts())\n",
    "print('Inválidos:')\n",
    "print(df_invalidos['ic_tipo_renda'].value_counts())"
   ]
  },
  {
   "cell_type": "markdown",
   "metadata": {},
   "source": [
    "### Inconsistências em ic_tipo_renda\n",
    "- `? = 658335` registros inválidos\n",
    "- Serão separados os registros em dois conjuntos de dados\n",
    "    - df_ic_tipo_renda_treino contendo os `F` e `I` válidos que serão usados para treino e validação.\n",
    "    - df_ic_tipo_renda_inferir contendo os `658335` registros que serão inferidos pelo modelo treinado."
   ]
  },
  {
   "cell_type": "code",
   "execution_count": 10,
   "metadata": {},
   "outputs": [
    {
     "name": "stdout",
     "output_type": "stream",
     "text": [
      "Treino:   (1221998, 13)\n",
      "Inferir:  (658335, 13)\n"
     ]
    }
   ],
   "source": [
    "# registros consistentes\n",
    "df_ic_tipo_renda_treino  = df_validos\n",
    "\n",
    "# registros INCONSISTENTES\n",
    "df_ic_tipo_renda_inferir = df_invalidos[df_invalidos['ic_tipo_renda'] == '?']\n",
    "print('Treino:  ', df_ic_tipo_renda_treino.shape)\n",
    "print('Inferir: ', df_ic_tipo_renda_inferir.shape)"
   ]
  },
  {
   "cell_type": "markdown",
   "metadata": {},
   "source": [
    "# ic_infmo_renda"
   ]
  },
  {
   "cell_type": "code",
   "execution_count": 11,
   "metadata": {},
   "outputs": [
    {
     "name": "stdout",
     "output_type": "stream",
     "text": [
      "Válidos:\n",
      "2.0    538634\n",
      "6.0    344764\n",
      "3.0    292274\n",
      "5.0     46326\n",
      "Name: ic_infmo_renda, dtype: int64\n",
      "Inválidos:\n",
      "0.0    658335\n",
      "5.0    221813\n",
      "3.0    106344\n",
      "6.0     92123\n",
      "2.0     81414\n",
      "Name: ic_infmo_renda, dtype: int64\n"
     ]
    }
   ],
   "source": [
    "print('Válidos:')\n",
    "print(df_validos['ic_infmo_renda'].value_counts())\n",
    "print('Inválidos:')\n",
    "print(df_invalidos['ic_infmo_renda'].value_counts())"
   ]
  },
  {
   "cell_type": "markdown",
   "metadata": {},
   "source": [
    "### Inconsistências em ic_infmo_renda\n",
    "- `0.0 = 658335` registros inválidos\n",
    "- Serão separados os registros em dois conjuntos de dados\n",
    "    - df_ic_infmo_renda_treino contendo os registros válidos que serão usados para treino e validação.\n",
    "    - df_ic_infmo_renda_inferir contendo os `658335` registros que serão inferidos pelo modelo treinado."
   ]
  },
  {
   "cell_type": "code",
   "execution_count": 12,
   "metadata": {},
   "outputs": [
    {
     "name": "stdout",
     "output_type": "stream",
     "text": [
      "Treino:   (1221998, 13)\n",
      "Inferir:  (658335, 13)\n"
     ]
    }
   ],
   "source": [
    "# registros consistentes\n",
    "df_ic_infmo_renda_treino  = df_validos\n",
    "\n",
    "# registros INCONSISTENTES\n",
    "df_ic_infmo_renda_inferir = df_invalidos[df_invalidos['ic_infmo_renda'] == 0]\n",
    "print('Treino:  ', df_ic_infmo_renda_treino.shape)\n",
    "print('Inferir: ', df_ic_infmo_renda_inferir.shape)"
   ]
  },
  {
   "cell_type": "markdown",
   "metadata": {},
   "source": [
    "# dt_apuracao_renda"
   ]
  },
  {
   "cell_type": "code",
   "execution_count": 13,
   "metadata": {},
   "outputs": [
    {
     "name": "stdout",
     "output_type": "stream",
     "text": [
      "Válidos:\n",
      "False    1221998\n",
      "Name: dt_apuracao_renda, dtype: int64\n",
      "Inválidos:\n",
      "True     767164\n",
      "False    392865\n",
      "Name: dt_apuracao_renda, dtype: int64\n"
     ]
    }
   ],
   "source": [
    "print('Válidos:')\n",
    "print((df_validos['dt_apuracao_renda'] == 0).value_counts())\n",
    "print('Inválidos:')\n",
    "print((df_invalidos['dt_apuracao_renda'] == 0).value_counts())"
   ]
  },
  {
   "cell_type": "markdown",
   "metadata": {},
   "source": [
    "### Inconsistências em dt_apuracao_renda\n",
    "- Em **Inválidos** `True = 767164` são registros **inconsistentes**, no caso sem dt_apuracao_renda\n",
    "- Serão separados os registros em dois conjuntos de dados\n",
    "    - df_dt_apuracao_renda_treino contendo os registros válidos que serão usados para treino e validação.\n",
    "    - df_dt_apuracao_renda_inferir contendo os `767164` registros que serão inferidos pelo modelo treinado."
   ]
  },
  {
   "cell_type": "code",
   "execution_count": 14,
   "metadata": {},
   "outputs": [
    {
     "name": "stdout",
     "output_type": "stream",
     "text": [
      "(1221401, 8)\n",
      "(1221401, 1)\n"
     ]
    }
   ],
   "source": [
    "df_features = df_dt_apuracao_renda[features_dt_apuracao]\n",
    "df_label    = df_dt_apuracao_renda[label_dt_apuracao]\n",
    "\n",
    "print(df_features.shape)\n",
    "print(df_label.shape)"
   ]
  },
  {
   "cell_type": "code",
   "execution_count": 15,
   "metadata": {},
   "outputs": [
    {
     "data": {
      "text/html": [
       "<div>\n",
       "<style scoped>\n",
       "    .dataframe tbody tr th:only-of-type {\n",
       "        vertical-align: middle;\n",
       "    }\n",
       "\n",
       "    .dataframe tbody tr th {\n",
       "        vertical-align: top;\n",
       "    }\n",
       "\n",
       "    .dataframe thead th {\n",
       "        text-align: right;\n",
       "    }\n",
       "</style>\n",
       "<table border=\"1\" class=\"dataframe\">\n",
       "  <thead>\n",
       "    <tr style=\"text-align: right;\">\n",
       "      <th></th>\n",
       "      <th>vr_renda_bruta</th>\n",
       "      <th>vr_renda_liquida</th>\n",
       "      <th>ic_infmo_renda</th>\n",
       "      <th>dt_apuracao_renda</th>\n",
       "      <th>ic_tipo_renda</th>\n",
       "      <th>ic_situacao</th>\n",
       "      <th>nu_estdo_civil_p27</th>\n",
       "      <th>idade</th>\n",
       "    </tr>\n",
       "  </thead>\n",
       "  <tbody>\n",
       "    <tr>\n",
       "      <th>0</th>\n",
       "      <td>0.00</td>\n",
       "      <td>0.00</td>\n",
       "      <td>2.0</td>\n",
       "      <td>201710</td>\n",
       "      <td>I</td>\n",
       "      <td>1</td>\n",
       "      <td>9</td>\n",
       "      <td>66</td>\n",
       "    </tr>\n",
       "    <tr>\n",
       "      <th>1</th>\n",
       "      <td>975.00</td>\n",
       "      <td>897.00</td>\n",
       "      <td>6.0</td>\n",
       "      <td>201709</td>\n",
       "      <td>F</td>\n",
       "      <td>1</td>\n",
       "      <td>9</td>\n",
       "      <td>34</td>\n",
       "    </tr>\n",
       "    <tr>\n",
       "      <th>2</th>\n",
       "      <td>1530.00</td>\n",
       "      <td>1407.60</td>\n",
       "      <td>6.0</td>\n",
       "      <td>201709</td>\n",
       "      <td>F</td>\n",
       "      <td>1</td>\n",
       "      <td>9</td>\n",
       "      <td>34</td>\n",
       "    </tr>\n",
       "    <tr>\n",
       "      <th>3</th>\n",
       "      <td>0.00</td>\n",
       "      <td>0.00</td>\n",
       "      <td>2.0</td>\n",
       "      <td>201511</td>\n",
       "      <td>I</td>\n",
       "      <td>1</td>\n",
       "      <td>9</td>\n",
       "      <td>52</td>\n",
       "    </tr>\n",
       "    <tr>\n",
       "      <th>4</th>\n",
       "      <td>0.00</td>\n",
       "      <td>0.00</td>\n",
       "      <td>2.0</td>\n",
       "      <td>201702</td>\n",
       "      <td>I</td>\n",
       "      <td>1</td>\n",
       "      <td>1</td>\n",
       "      <td>47</td>\n",
       "    </tr>\n",
       "    <tr>\n",
       "      <th>...</th>\n",
       "      <td>...</td>\n",
       "      <td>...</td>\n",
       "      <td>...</td>\n",
       "      <td>...</td>\n",
       "      <td>...</td>\n",
       "      <td>...</td>\n",
       "      <td>...</td>\n",
       "      <td>...</td>\n",
       "    </tr>\n",
       "    <tr>\n",
       "      <th>1221993</th>\n",
       "      <td>0.00</td>\n",
       "      <td>0.00</td>\n",
       "      <td>2.0</td>\n",
       "      <td>201412</td>\n",
       "      <td>I</td>\n",
       "      <td>1</td>\n",
       "      <td>1</td>\n",
       "      <td>24</td>\n",
       "    </tr>\n",
       "    <tr>\n",
       "      <th>1221994</th>\n",
       "      <td>0.00</td>\n",
       "      <td>0.00</td>\n",
       "      <td>2.0</td>\n",
       "      <td>201603</td>\n",
       "      <td>I</td>\n",
       "      <td>1</td>\n",
       "      <td>9</td>\n",
       "      <td>53</td>\n",
       "    </tr>\n",
       "    <tr>\n",
       "      <th>1221995</th>\n",
       "      <td>978.58</td>\n",
       "      <td>978.58</td>\n",
       "      <td>6.0</td>\n",
       "      <td>201509</td>\n",
       "      <td>F</td>\n",
       "      <td>1</td>\n",
       "      <td>9</td>\n",
       "      <td>55</td>\n",
       "    </tr>\n",
       "    <tr>\n",
       "      <th>1221996</th>\n",
       "      <td>788.00</td>\n",
       "      <td>788.00</td>\n",
       "      <td>3.0</td>\n",
       "      <td>201510</td>\n",
       "      <td>F</td>\n",
       "      <td>1</td>\n",
       "      <td>1</td>\n",
       "      <td>29</td>\n",
       "    </tr>\n",
       "    <tr>\n",
       "      <th>1221997</th>\n",
       "      <td>0.00</td>\n",
       "      <td>0.00</td>\n",
       "      <td>2.0</td>\n",
       "      <td>201703</td>\n",
       "      <td>I</td>\n",
       "      <td>1</td>\n",
       "      <td>9</td>\n",
       "      <td>59</td>\n",
       "    </tr>\n",
       "  </tbody>\n",
       "</table>\n",
       "<p>1221401 rows × 8 columns</p>\n",
       "</div>"
      ],
      "text/plain": [
       "         vr_renda_bruta  vr_renda_liquida  ic_infmo_renda  dt_apuracao_renda  \\\n",
       "0                  0.00              0.00             2.0             201710   \n",
       "1                975.00            897.00             6.0             201709   \n",
       "2               1530.00           1407.60             6.0             201709   \n",
       "3                  0.00              0.00             2.0             201511   \n",
       "4                  0.00              0.00             2.0             201702   \n",
       "...                 ...               ...             ...                ...   \n",
       "1221993            0.00              0.00             2.0             201412   \n",
       "1221994            0.00              0.00             2.0             201603   \n",
       "1221995          978.58            978.58             6.0             201509   \n",
       "1221996          788.00            788.00             3.0             201510   \n",
       "1221997            0.00              0.00             2.0             201703   \n",
       "\n",
       "        ic_tipo_renda  ic_situacao  nu_estdo_civil_p27  idade  \n",
       "0                   I            1                   9     66  \n",
       "1                   F            1                   9     34  \n",
       "2                   F            1                   9     34  \n",
       "3                   I            1                   9     52  \n",
       "4                   I            1                   1     47  \n",
       "...               ...          ...                 ...    ...  \n",
       "1221993             I            1                   1     24  \n",
       "1221994             I            1                   9     53  \n",
       "1221995             F            1                   9     55  \n",
       "1221996             F            1                   1     29  \n",
       "1221997             I            1                   9     59  \n",
       "\n",
       "[1221401 rows x 8 columns]"
      ]
     },
     "execution_count": 15,
     "metadata": {},
     "output_type": "execute_result"
    }
   ],
   "source": [
    "df_features"
   ]
  },
  {
   "cell_type": "markdown",
   "metadata": {},
   "source": [
    "# Gera amostragem conforme a calculadora:  \n",
    "- https://www.solvis.com.br/calculos-de-amostragem/  \n",
    "\n",
    "- **Calculadora 2**\n",
    "    - População: 1.741.828\n",
    "    - Margem de erro (%): 1\n",
    "    - Confiabilidade (%): 99\n",
    "    - Tamanho da Amostra: 16419\n",
    "        - Será usada a metade dessa proporção por questões de tempo computacional."
   ]
  },
  {
   "cell_type": "code",
   "execution_count": 16,
   "metadata": {},
   "outputs": [
    {
     "name": "stdout",
     "output_type": "stream",
     "text": [
      "(8550, 8) (8550, 1)\n"
     ]
    }
   ],
   "source": [
    "# Amostra extratificada\n",
    "from sklearn.model_selection import train_test_split\n",
    "\n",
    "X, y = df_features[features_sexo], df_label[label_ic_sexo]\n",
    "\n",
    "X_train, X_test, y_train, y_test = train_test_split(X, y,\n",
    "                                                    test_size=0.007, #0.013441941, \n",
    "                                                    random_state=42,\n",
    "                                                    stratify=df_features['ic_tipo_renda'])\n",
    "\n",
    "del X_train\n",
    "del y_train\n",
    "\n",
    "#print (X_train.shape, y_train.shape)\n",
    "print (X_test.shape, y_test.shape)"
   ]
  },
  {
   "cell_type": "markdown",
   "metadata": {},
   "source": [
    "#### `X` e `y` correspondem as variáveis independentes e dependente, respectivamente."
   ]
  },
  {
   "cell_type": "code",
   "execution_count": 17,
   "metadata": {},
   "outputs": [
    {
     "name": "stdout",
     "output_type": "stream",
     "text": [
      "(8550, 8) (8550, 1)\n"
     ]
    }
   ],
   "source": [
    "X = X_test\n",
    "y = y_test\n",
    "\n",
    "del X_test, y_test\n",
    "\n",
    "print(X.shape,y.shape)"
   ]
  },
  {
   "cell_type": "markdown",
   "metadata": {},
   "source": [
    "Essa amostra será dividida no conjunto de dados para o `treino` e `teste`"
   ]
  },
  {
   "cell_type": "markdown",
   "metadata": {},
   "source": [
    "## Quantitativo por variáveis categóricas"
   ]
  },
  {
   "cell_type": "code",
   "execution_count": 18,
   "metadata": {},
   "outputs": [
    {
     "name": "stdout",
     "output_type": "stream",
     "text": [
      "ic_sexo:\n",
      "F    4344\n",
      "M    4206\n",
      "Name: ic_sexo, dtype: int64\n",
      "ic_tipo_renda:\n",
      "F    5102\n",
      "I    3448\n",
      "Name: ic_tipo_renda, dtype: int64\n",
      "ic_infmo_renda:\n",
      "2.0    3795\n",
      "6.0    2357\n",
      "3.0    2089\n",
      "5.0     309\n",
      "Name: ic_infmo_renda, dtype: int64\n"
     ]
    }
   ],
   "source": [
    "print('ic_sexo:')\n",
    "print(y['ic_sexo'].value_counts())\n",
    "\n",
    "print('ic_tipo_renda:')\n",
    "print(X['ic_tipo_renda'].value_counts())\n",
    "\n",
    "print('ic_infmo_renda:')\n",
    "print(X['ic_infmo_renda'].value_counts())"
   ]
  },
  {
   "cell_type": "markdown",
   "metadata": {},
   "source": [
    "||Variáveis Usadas na Estratificada||\n",
    "|---|---|---|\n",
    "|**ic_infmo_renda**|**ic_tipo_renda**|**ic_tipo_renda & ic_infmo_renda**|\n",
    "|--------------------------|--------------------------|--------------------------|\n",
    "|**ic_sexo**|**ic_sexo**|**ic_sexo**|\n",
    "|M - 4331 | **F - 4344** | M - 4420|\n",
    "|F - 4219 | **M - 4206** | F - 4130|\n",
    "||||\n",
    "|**ic_tipo_renda**|**ic_tipo_renda**|**ic_tipo_renda**|\n",
    "|F - 5180 | **F - 5102** | F - 5101|\n",
    "|I - 3370 | **I - 3448** | I - 3449|\n",
    "||||\n",
    "|**ic_infmo_renda**|**ic_infmo_renda**|**ic_infmo_renda**|\n",
    "|2.0 - 3769 | **2.0 - 3795** | 2.0 - 3768|\n",
    "|6.0 - 2412 | **6.0 - 2357** | 6.0 - 2413|\n",
    "|3.0 - 2045 | **3.0 - 2089** | 3.0 - 2045| \n",
    "|5.0 - 324 | **5.0 - 309** | 5.0 - 324| "
   ]
  },
  {
   "cell_type": "markdown",
   "metadata": {},
   "source": [
    "- Foi observado que a amostragem estratificada por `ic_tipo_renda` deixou `ic_sexo = F` em maior proporção.\n",
    "    - Originalmente a maioria é do sexo masculino.\n",
    "- Isso é interessante porque o desbalaneamento da variável dependente `ic_sexo` está, então, no fato da renda ser formal ou informal.\n",
    "- Portanto, a estratificação será feita por `ic_tipo_renda`, pois mantem um melhor equilibrio entre `ic_sexo = M` e `ic_sexo = F`."
   ]
  },
  {
   "cell_type": "markdown",
   "metadata": {},
   "source": [
    "### Quantidade de registros por ic_sexo"
   ]
  },
  {
   "cell_type": "code",
   "execution_count": 19,
   "metadata": {},
   "outputs": [
    {
     "data": {
      "text/plain": [
       "F    4344\n",
       "M    4206\n",
       "Name: ic_sexo, dtype: int64"
      ]
     },
     "execution_count": 19,
     "metadata": {},
     "output_type": "execute_result"
    }
   ],
   "source": [
    "y['ic_sexo'].value_counts()"
   ]
  },
  {
   "cell_type": "code",
   "execution_count": 20,
   "metadata": {},
   "outputs": [
    {
     "name": "stdout",
     "output_type": "stream",
     "text": [
      "(5728, 8) (5728, 1)\n",
      "(2822, 8) (2822, 1)\n"
     ]
    }
   ],
   "source": [
    "# Divisão do dataset em porções train e test.\n",
    "X_train, X_test, y_train, y_test =\\\n",
    "     train_test_split(X, y,\n",
    "                      test_size=0.33,\n",
    "                      shuffle=True,\n",
    "                      random_state=42,\n",
    "                      stratify=X['ic_tipo_renda'])\n",
    "\n",
    "print (X_train.shape, y_train.shape)\n",
    "print (X_test.shape, y_test.shape)"
   ]
  },
  {
   "cell_type": "markdown",
   "metadata": {},
   "source": [
    "- 11000 amostras para o treinamento dos modelos\n",
    "- 5419 amostras para a validação da acurácia dos modelos"
   ]
  },
  {
   "cell_type": "markdown",
   "metadata": {},
   "source": [
    "# Transforma em números (encoding) as variáveis categóricas"
   ]
  },
  {
   "cell_type": "code",
   "execution_count": 21,
   "metadata": {},
   "outputs": [
    {
     "name": "stderr",
     "output_type": "stream",
     "text": [
      "/home/marcello/anaconda3/envs/av/lib/python3.6/site-packages/ipykernel_launcher.py:10: SettingWithCopyWarning: \n",
      "A value is trying to be set on a copy of a slice from a DataFrame.\n",
      "Try using .loc[row_indexer,col_indexer] = value instead\n",
      "\n",
      "See the caveats in the documentation: https://pandas.pydata.org/pandas-docs/stable/user_guide/indexing.html#returning-a-view-versus-a-copy\n",
      "  # Remove the CWD from sys.path while we load stuff.\n",
      "/home/marcello/anaconda3/envs/av/lib/python3.6/site-packages/ipykernel_launcher.py:14: SettingWithCopyWarning: \n",
      "A value is trying to be set on a copy of a slice from a DataFrame.\n",
      "Try using .loc[row_indexer,col_indexer] = value instead\n",
      "\n",
      "See the caveats in the documentation: https://pandas.pydata.org/pandas-docs/stable/user_guide/indexing.html#returning-a-view-versus-a-copy\n",
      "  \n",
      "/home/marcello/anaconda3/envs/av/lib/python3.6/site-packages/ipykernel_launcher.py:22: SettingWithCopyWarning: \n",
      "A value is trying to be set on a copy of a slice from a DataFrame.\n",
      "Try using .loc[row_indexer,col_indexer] = value instead\n",
      "\n",
      "See the caveats in the documentation: https://pandas.pydata.org/pandas-docs/stable/user_guide/indexing.html#returning-a-view-versus-a-copy\n",
      "/home/marcello/anaconda3/envs/av/lib/python3.6/site-packages/ipykernel_launcher.py:26: SettingWithCopyWarning: \n",
      "A value is trying to be set on a copy of a slice from a DataFrame.\n",
      "Try using .loc[row_indexer,col_indexer] = value instead\n",
      "\n",
      "See the caveats in the documentation: https://pandas.pydata.org/pandas-docs/stable/user_guide/indexing.html#returning-a-view-versus-a-copy\n"
     ]
    }
   ],
   "source": [
    "from sklearn.preprocessing import LabelEncoder\n",
    "le = LabelEncoder()\n",
    "\n",
    "# aplica no y_train\n",
    "### label = ic_sexo ###\n",
    "###################################\n",
    "### ic_sexo 1 = M e 0 = F ###\n",
    "###################################\n",
    "le = le.fit(y_train['ic_sexo'])\n",
    "y_train['ic_sexo'] = le.transform(y_train['ic_sexo'])\n",
    "\n",
    "# aplica no y_test\n",
    "le = le.fit(y_test['ic_sexo'])\n",
    "y_test['ic_sexo'] = le.transform(y_test['ic_sexo'])\n",
    "\n",
    "### encoding das variáveis categóricas ###\n",
    "###################################\n",
    "### ic_tipo_renda 0 = F e 1 = I ###\n",
    "###################################\n",
    "# aplica no X_train\n",
    "le = le.fit(X_train['ic_tipo_renda'])\n",
    "X_train['ic_tipo_renda'] = le.transform(X_train['ic_tipo_renda'])\n",
    "\n",
    "# aplica no X_test\n",
    "le = le.fit(X_test['ic_tipo_renda'])\n",
    "X_test['ic_tipo_renda'] = le.transform(X_test['ic_tipo_renda'])\n",
    "###################################\n",
    "\n",
    "#print(y_train.ic_sexo.value_counts())"
   ]
  },
  {
   "cell_type": "markdown",
   "metadata": {},
   "source": [
    "## Bibliotecas usadas na preparação, treinamento e na validação"
   ]
  },
  {
   "cell_type": "code",
   "execution_count": 22,
   "metadata": {},
   "outputs": [],
   "source": [
    "from matplotlib import pyplot\n",
    "from pandas import set_option\n",
    "from pandas.plotting import scatter_matrix\n",
    "from sklearn.preprocessing import StandardScaler\n",
    "from sklearn.model_selection import train_test_split\n",
    "from sklearn.model_selection import KFold\n",
    "from sklearn.model_selection import cross_val_score\n",
    "from sklearn.model_selection import GridSearchCV\n",
    "from sklearn.metrics import classification_report\n",
    "from sklearn.metrics import confusion_matrix\n",
    "from sklearn.metrics import accuracy_score\n",
    "from sklearn.pipeline import Pipeline"
   ]
  },
  {
   "cell_type": "markdown",
   "metadata": {},
   "source": [
    "# Aprendizado Supervisionado - Classificação"
   ]
  },
  {
   "cell_type": "markdown",
   "metadata": {},
   "source": [
    "### Algoritmos de Classificação"
   ]
  },
  {
   "cell_type": "code",
   "execution_count": 23,
   "metadata": {},
   "outputs": [],
   "source": [
    "from sklearn.linear_model import LogisticRegression\n",
    "from sklearn.tree import DecisionTreeClassifier\n",
    "from sklearn.ensemble import RandomForestClassifier\n",
    "from sklearn.neighbors import KNeighborsClassifier\n",
    "from sklearn.discriminant_analysis import LinearDiscriminantAnalysis\n",
    "from sklearn.naive_bayes import GaussianNB\n",
    "from sklearn.svm import SVC\n",
    "from sklearn.ensemble import AdaBoostClassifier"
   ]
  },
  {
   "cell_type": "markdown",
   "metadata": {},
   "source": [
    "### Parâmetros de configuração da validação por KFold"
   ]
  },
  {
   "cell_type": "markdown",
   "metadata": {},
   "source": [
    "Definição de quantidade de folds, definição da seed a ser utilizada, e definição da métrica de avaliação. K-fold é um método de treinamento a ser usado em conjuntos de dados de tamanho moderado devido ao seu treinamento consumir bastante tempo.  \n",
    "\n",
    "Referência: \n",
    "- https://scikit-learn.org/stable/modules/generated/sklearn.model_selection.cross_val_score.html, https://scikit-learn.org/stable/modules/generated/sklearn.model_selection.KFold.html"
   ]
  },
  {
   "cell_type": "code",
   "execution_count": 24,
   "metadata": {},
   "outputs": [],
   "source": [
    "num_folds = 10\n",
    "seed = 42\n",
    "scoring = 'accuracy'"
   ]
  },
  {
   "cell_type": "markdown",
   "metadata": {},
   "source": [
    "# Pipeline de avaliação de desempenho de algoritmos  \n",
    "### Classificação Supervisionada"
   ]
  },
  {
   "cell_type": "code",
   "execution_count": 25,
   "metadata": {},
   "outputs": [
    {
     "name": "stdout",
     "output_type": "stream",
     "text": [
      "LR: 0.538410 (0.014333)\n",
      "LDA: 0.533867 (0.012143)\n",
      "KNN: 0.530383 (0.022091)\n",
      "CART: 0.527593 (0.025205)\n",
      "NB: 0.535097 (0.017967)\n",
      "RF: 0.548014 (0.016537)\n",
      "SVM: 0.514491 (0.012553)\n",
      "ADT: 0.547486 (0.019109)\n"
     ]
    }
   ],
   "source": [
    "# Verificação do score de cada algoritmo. Avaliação de desempenho de cada modelo.\n",
    "models = []\n",
    "models.append(('LR', LogisticRegression(solver='liblinear')))\n",
    "models.append(('LDA', LinearDiscriminantAnalysis()))\n",
    "models.append(('KNN', KNeighborsClassifier(n_jobs=-1)))\n",
    "models.append(('CART', DecisionTreeClassifier()))\n",
    "models.append(('NB', GaussianNB()))\n",
    "models.append(('RF', RandomForestClassifier(max_depth=2, random_state=0, n_jobs=-1)))\n",
    "#models.append(('SVM', LinearSVC()))\n",
    "models.append(('SVM', SVC(kernel='rbf', gamma=0.7, C=0.2)))\n",
    "models.append(('ADT', AdaBoostClassifier(DecisionTreeClassifier(max_depth=1),\n",
    "                                         algorithm=\"SAMME\",\n",
    "                                         n_estimators=200)))\n",
    "\n",
    "results = []\n",
    "names = []\n",
    "for name, model in models:\n",
    "\tkfold = KFold(n_splits=num_folds, random_state=seed, shuffle=True)\n",
    "\tcv_results = cross_val_score(model, X_train, y_train, cv=kfold, scoring=scoring, n_jobs=-1)\n",
    "\tresults.append(cv_results)\n",
    "\tnames.append(name)\n",
    "\tmsg = \"%s: %f (%f)\" % (name, cv_results.mean(), cv_results.std())\n",
    "\tprint(msg)"
   ]
  },
  {
   "cell_type": "code",
   "execution_count": 26,
   "metadata": {},
   "outputs": [
    {
     "data": {
      "image/png": "[encoded data removed]",
      "text/plain": [
       "<Figure size 432x288 with 1 Axes>"
      ]
     },
     "metadata": {
      "needs_background": "light"
     },
     "output_type": "display_data"
    }
   ],
   "source": [
    "# Visualização das acurácias dos diferentes modelos.\n",
    "fig = pyplot.figure()\n",
    "fig.suptitle('Comparação entre as acurácias')\n",
    "ax = fig.add_subplot(111)\n",
    "pyplot.boxplot(results)\n",
    "ax.set_xticklabels(names)\n",
    "pyplot.show()"
   ]
  },
  {
   "cell_type": "code",
   "execution_count": 27,
   "metadata": {},
   "outputs": [
    {
     "name": "stdout",
     "output_type": "stream",
     "text": [
      "LR: 0.537185 (0.017197)\n",
      "LDA: 0.533867 (0.012143)\n",
      "KNN: 0.528983 (0.014467)\n",
      "CART: 0.528467 (0.030407)\n",
      "NB: 0.535097 (0.017967)\n",
      "RF: 0.548014 (0.016537)\n",
      "SVM: 0.548712 (0.021106)\n",
      "ADT: 0.547486 (0.019109)\n"
     ]
    }
   ],
   "source": [
    "# Padronização do dataset, utilizando StandardScaler\n",
    "# Aplica normalização por z-score\n",
    "pipelines = []\n",
    "pipelines.append(('LR', Pipeline([('Scaler', StandardScaler()),('LR', LogisticRegression(solver='liblinear'))])))\n",
    "pipelines.append(('LDA', Pipeline([('Scaler', StandardScaler()),('LDA', LinearDiscriminantAnalysis())])))\n",
    "pipelines.append(('KNN', Pipeline([('Scaler', StandardScaler()),('KNN', KNeighborsClassifier(n_jobs=-1))])))\n",
    "pipelines.append(('CART', Pipeline([('Scaler', StandardScaler()),('CART', DecisionTreeClassifier())])))\n",
    "pipelines.append(('NB', Pipeline([('Scaler', StandardScaler()),('NB', GaussianNB())])))\n",
    "pipelines.append(('RF', Pipeline([('Scaler', StandardScaler()),('RF', RandomForestClassifier(max_depth=2, \n",
    "                                                                                             random_state=0, \n",
    "                                                                                             n_jobs=-1))])))\n",
    "#pipelines.append(('SVM', Pipeline([('Scaler', StandardScaler()),('SVM', LinearSVC())])))\n",
    "pipelines.append(('SVM', Pipeline([('Scaler', StandardScaler()),('SVM', SVC(kernel='rbf', \n",
    "                                                                            gamma=0.7, \n",
    "                                                                            C=0.2))])))\n",
    "pipelines.append(('ADT', Pipeline([('Scaler', StandardScaler()),('ADT', AdaBoostClassifier(DecisionTreeClassifier(max_depth=1),\n",
    "                                                                                           algorithm=\"SAMME\",\n",
    "                                                                                           n_estimators=200))])))\n",
    "results = []\n",
    "names = []\n",
    "for name, model in pipelines:\n",
    "\tkfold = KFold(n_splits=num_folds, random_state=seed, shuffle=True)\n",
    "\tcv_results = cross_val_score(model, X_train, y_train, cv=kfold, scoring=scoring, n_jobs=-1)\n",
    "\tresults.append(cv_results)\n",
    "\tnames.append(name)\n",
    "\tmsg = \"%s: %f (%f)\" % (name, cv_results.mean(), cv_results.std())\n",
    "\tprint(msg)"
   ]
  },
  {
   "cell_type": "code",
   "execution_count": 28,
   "metadata": {},
   "outputs": [
    {
     "data": {
      "image/png": "[encoded data removed]",
      "text/plain": [
       "<Figure size 432x288 with 1 Axes>"
      ]
     },
     "metadata": {
      "needs_background": "light"
     },
     "output_type": "display_data"
    }
   ],
   "source": [
    "# Visualização das acurácias dos diferentes modelos pós-normalização do dataset.\n",
    "fig = pyplot.figure()\n",
    "fig.suptitle('Escala de Algoritmos - Nomalizado - Comparação')\n",
    "ax = fig.add_subplot(111)\n",
    "pyplot.boxplot(results)\n",
    "ax.set_xticklabels(names)\n",
    "pyplot.show()"
   ]
  },
  {
   "cell_type": "markdown",
   "metadata": {},
   "source": [
    "# Otimização de parâmetros dos modelos selecionados\n",
    "- KNN\n",
    "- AdaBoost CART\n",
    "- Logistic Regression\n",
    "- svm.SVC(RBF)"
   ]
  },
  {
   "cell_type": "markdown",
   "metadata": {},
   "source": [
    "# KNN"
   ]
  },
  {
   "cell_type": "code",
   "execution_count": 29,
   "metadata": {},
   "outputs": [
    {
     "name": "stdout",
     "output_type": "stream",
     "text": [
      "Best: 0.544869 using {'n_neighbors': 14}\n",
      "0.517982 (0.015388) with: {'n_neighbors': 1}\n",
      "0.515716 (0.023761) with: {'n_neighbors': 2}\n",
      "0.525319 (0.020178) with: {'n_neighbors': 3}\n",
      "0.532303 (0.017314) with: {'n_neighbors': 4}\n",
      "0.530383 (0.022091) with: {'n_neighbors': 5}\n",
      "0.534392 (0.025000) with: {'n_neighbors': 6}\n",
      "0.531607 (0.024688) with: {'n_neighbors': 7}\n",
      "0.538065 (0.023231) with: {'n_neighbors': 8}\n",
      "0.532482 (0.031359) with: {'n_neighbors': 9}\n",
      "0.533700 (0.023906) with: {'n_neighbors': 10}\n",
      "0.531255 (0.026700) with: {'n_neighbors': 11}\n",
      "0.541552 (0.022367) with: {'n_neighbors': 12}\n",
      "0.539283 (0.019977) with: {'n_neighbors': 13}\n",
      "0.544869 (0.023139) with: {'n_neighbors': 14}\n",
      "0.537190 (0.022865) with: {'n_neighbors': 15}\n"
     ]
    },
    {
     "name": "stderr",
     "output_type": "stream",
     "text": [
      "/home/marcello/anaconda3/envs/av/lib/python3.6/site-packages/sklearn/model_selection/_search.py:765: DataConversionWarning: A column-vector y was passed when a 1d array was expected. Please change the shape of y to (n_samples, ), for example using ravel().\n",
      "  self.best_estimator_.fit(X, y, **fit_params)\n"
     ]
    }
   ],
   "source": [
    "# Ajuste de parâmetros do modelo KNN. Tuning\n",
    "#scaler = StandardScaler().fit(X_train)\n",
    "#rescaledX = scaler.transform(X_train)\n",
    "\n",
    "neighbors = [1,2,3,4,5,6,7,8,9,10,11,12,13,14,15]\n",
    "param_grid = dict(n_neighbors=neighbors)\n",
    "\n",
    "model = KNeighborsClassifier(n_jobs=-1)\n",
    "\n",
    "kfold = KFold(n_splits=num_folds, random_state=seed, shuffle=True)\n",
    "\n",
    "grid = GridSearchCV(estimator=model, param_grid=param_grid, scoring=scoring, cv=kfold, n_jobs=-1)\n",
    "\n",
    "#grid_result = grid.fit(rescaledX, y_train)\n",
    "grid_result = grid.fit(X_train, y_train)\n",
    "\n",
    "print(\"Best: %f using %s\" % (grid_result.best_score_, grid_result.best_params_))\n",
    "means = grid_result.cv_results_['mean_test_score']\n",
    "stds = grid_result.cv_results_['std_test_score']\n",
    "params = grid_result.cv_results_['params']\n",
    "for mean, stdev, param in zip(means, stds, params):\n",
    "    print(\"%f (%f) with: %r\" % (mean, stdev, param))"
   ]
  },
  {
   "cell_type": "markdown",
   "metadata": {},
   "source": [
    "# AdaBoost(CART)"
   ]
  },
  {
   "cell_type": "code",
   "execution_count": 30,
   "metadata": {},
   "outputs": [
    {
     "name": "stderr",
     "output_type": "stream",
     "text": [
      "/home/marcello/anaconda3/envs/av/lib/python3.6/site-packages/sklearn/utils/validation.py:73: DataConversionWarning: A column-vector y was passed when a 1d array was expected. Please change the shape of y to (n_samples, ), for example using ravel().\n",
      "  return f(**kwargs)\n"
     ]
    },
    {
     "name": "stdout",
     "output_type": "stream",
     "text": [
      "Best: 0.560058 using {'algorithm': 'SAMME.R', 'learning_rate': 0.51, 'n_estimators': 250}\n",
      "0.544172 (0.016772) with: {'algorithm': 'SAMME', 'learning_rate': 0.5, 'n_estimators': 250}\n",
      "0.543998 (0.015901) with: {'algorithm': 'SAMME', 'learning_rate': 0.5, 'n_estimators': 255}\n",
      "0.543998 (0.015901) with: {'algorithm': 'SAMME', 'learning_rate': 0.5, 'n_estimators': 260}\n",
      "0.543998 (0.015901) with: {'algorithm': 'SAMME', 'learning_rate': 0.5, 'n_estimators': 265}\n",
      "0.543822 (0.016346) with: {'algorithm': 'SAMME', 'learning_rate': 0.5, 'n_estimators': 270}\n",
      "0.542950 (0.016845) with: {'algorithm': 'SAMME', 'learning_rate': 0.51, 'n_estimators': 250}\n",
      "0.543822 (0.015794) with: {'algorithm': 'SAMME', 'learning_rate': 0.51, 'n_estimators': 255}\n",
      "0.543997 (0.016728) with: {'algorithm': 'SAMME', 'learning_rate': 0.51, 'n_estimators': 260}\n",
      "0.544520 (0.017282) with: {'algorithm': 'SAMME', 'learning_rate': 0.51, 'n_estimators': 265}\n",
      "0.544346 (0.017482) with: {'algorithm': 'SAMME', 'learning_rate': 0.51, 'n_estimators': 270}\n",
      "0.545043 (0.016726) with: {'algorithm': 'SAMME', 'learning_rate': 0.52, 'n_estimators': 250}\n",
      "0.545393 (0.016547) with: {'algorithm': 'SAMME', 'learning_rate': 0.52, 'n_estimators': 255}\n",
      "0.545393 (0.016547) with: {'algorithm': 'SAMME', 'learning_rate': 0.52, 'n_estimators': 260}\n",
      "0.545393 (0.016547) with: {'algorithm': 'SAMME', 'learning_rate': 0.52, 'n_estimators': 265}\n",
      "0.546440 (0.017532) with: {'algorithm': 'SAMME', 'learning_rate': 0.52, 'n_estimators': 270}\n",
      "0.542077 (0.016976) with: {'algorithm': 'SAMME', 'learning_rate': 0.53, 'n_estimators': 250}\n",
      "0.542077 (0.016976) with: {'algorithm': 'SAMME', 'learning_rate': 0.53, 'n_estimators': 255}\n",
      "0.542426 (0.017689) with: {'algorithm': 'SAMME', 'learning_rate': 0.53, 'n_estimators': 260}\n",
      "0.542251 (0.017753) with: {'algorithm': 'SAMME', 'learning_rate': 0.53, 'n_estimators': 265}\n",
      "0.542426 (0.017689) with: {'algorithm': 'SAMME', 'learning_rate': 0.53, 'n_estimators': 270}\n",
      "0.542949 (0.016160) with: {'algorithm': 'SAMME', 'learning_rate': 0.54, 'n_estimators': 250}\n",
      "0.542425 (0.016576) with: {'algorithm': 'SAMME', 'learning_rate': 0.54, 'n_estimators': 255}\n",
      "0.543298 (0.016889) with: {'algorithm': 'SAMME', 'learning_rate': 0.54, 'n_estimators': 260}\n",
      "0.542075 (0.016670) with: {'algorithm': 'SAMME', 'learning_rate': 0.54, 'n_estimators': 265}\n",
      "0.543473 (0.017082) with: {'algorithm': 'SAMME', 'learning_rate': 0.54, 'n_estimators': 270}\n",
      "0.542775 (0.016599) with: {'algorithm': 'SAMME', 'learning_rate': 0.55, 'n_estimators': 250}\n",
      "0.542775 (0.016599) with: {'algorithm': 'SAMME', 'learning_rate': 0.55, 'n_estimators': 255}\n",
      "0.543124 (0.016705) with: {'algorithm': 'SAMME', 'learning_rate': 0.55, 'n_estimators': 260}\n",
      "0.542775 (0.016599) with: {'algorithm': 'SAMME', 'learning_rate': 0.55, 'n_estimators': 265}\n",
      "0.543124 (0.017314) with: {'algorithm': 'SAMME', 'learning_rate': 0.55, 'n_estimators': 270}\n",
      "0.542774 (0.016515) with: {'algorithm': 'SAMME', 'learning_rate': 0.56, 'n_estimators': 250}\n",
      "0.542774 (0.016515) with: {'algorithm': 'SAMME', 'learning_rate': 0.56, 'n_estimators': 255}\n",
      "0.542425 (0.016804) with: {'algorithm': 'SAMME', 'learning_rate': 0.56, 'n_estimators': 260}\n",
      "0.542425 (0.016804) with: {'algorithm': 'SAMME', 'learning_rate': 0.56, 'n_estimators': 265}\n",
      "0.542425 (0.016804) with: {'algorithm': 'SAMME', 'learning_rate': 0.56, 'n_estimators': 270}\n",
      "0.544868 (0.017143) with: {'algorithm': 'SAMME', 'learning_rate': 0.57, 'n_estimators': 250}\n",
      "0.544868 (0.017143) with: {'algorithm': 'SAMME', 'learning_rate': 0.57, 'n_estimators': 255}\n",
      "0.544868 (0.017143) with: {'algorithm': 'SAMME', 'learning_rate': 0.57, 'n_estimators': 260}\n",
      "0.544170 (0.018112) with: {'algorithm': 'SAMME', 'learning_rate': 0.57, 'n_estimators': 265}\n",
      "0.544170 (0.018112) with: {'algorithm': 'SAMME', 'learning_rate': 0.57, 'n_estimators': 270}\n",
      "0.543123 (0.018287) with: {'algorithm': 'SAMME', 'learning_rate': 0.58, 'n_estimators': 250}\n",
      "0.543472 (0.018051) with: {'algorithm': 'SAMME', 'learning_rate': 0.58, 'n_estimators': 255}\n",
      "0.543123 (0.018287) with: {'algorithm': 'SAMME', 'learning_rate': 0.58, 'n_estimators': 260}\n",
      "0.543298 (0.018200) with: {'algorithm': 'SAMME', 'learning_rate': 0.58, 'n_estimators': 265}\n",
      "0.542599 (0.018807) with: {'algorithm': 'SAMME', 'learning_rate': 0.58, 'n_estimators': 270}\n",
      "0.543299 (0.017109) with: {'algorithm': 'SAMME', 'learning_rate': 0.59, 'n_estimators': 250}\n",
      "0.542949 (0.016662) with: {'algorithm': 'SAMME', 'learning_rate': 0.59, 'n_estimators': 255}\n",
      "0.542076 (0.015065) with: {'algorithm': 'SAMME', 'learning_rate': 0.59, 'n_estimators': 260}\n",
      "0.544345 (0.017996) with: {'algorithm': 'SAMME', 'learning_rate': 0.59, 'n_estimators': 265}\n",
      "0.542775 (0.016818) with: {'algorithm': 'SAMME', 'learning_rate': 0.59, 'n_estimators': 270}\n",
      "0.541902 (0.017817) with: {'algorithm': 'SAMME', 'learning_rate': 0.6, 'n_estimators': 250}\n",
      "0.541902 (0.017817) with: {'algorithm': 'SAMME', 'learning_rate': 0.6, 'n_estimators': 255}\n",
      "0.541553 (0.015667) with: {'algorithm': 'SAMME', 'learning_rate': 0.6, 'n_estimators': 260}\n",
      "0.542600 (0.017069) with: {'algorithm': 'SAMME', 'learning_rate': 0.6, 'n_estimators': 265}\n",
      "0.542775 (0.016972) with: {'algorithm': 'SAMME', 'learning_rate': 0.6, 'n_estimators': 270}\n",
      "0.556045 (0.020029) with: {'algorithm': 'SAMME.R', 'learning_rate': 0.5, 'n_estimators': 250}\n",
      "0.554824 (0.018966) with: {'algorithm': 'SAMME.R', 'learning_rate': 0.5, 'n_estimators': 255}\n",
      "0.556569 (0.020677) with: {'algorithm': 'SAMME.R', 'learning_rate': 0.5, 'n_estimators': 260}\n",
      "0.555871 (0.020075) with: {'algorithm': 'SAMME.R', 'learning_rate': 0.5, 'n_estimators': 265}\n",
      "0.557266 (0.018856) with: {'algorithm': 'SAMME.R', 'learning_rate': 0.5, 'n_estimators': 270}\n",
      "0.560058 (0.018931) with: {'algorithm': 'SAMME.R', 'learning_rate': 0.51, 'n_estimators': 250}\n",
      "0.558663 (0.019568) with: {'algorithm': 'SAMME.R', 'learning_rate': 0.51, 'n_estimators': 255}\n",
      "0.557266 (0.018183) with: {'algorithm': 'SAMME.R', 'learning_rate': 0.51, 'n_estimators': 260}\n",
      "0.559711 (0.017958) with: {'algorithm': 'SAMME.R', 'learning_rate': 0.51, 'n_estimators': 265}\n",
      "0.559012 (0.016195) with: {'algorithm': 'SAMME.R', 'learning_rate': 0.51, 'n_estimators': 270}\n",
      "0.557439 (0.019478) with: {'algorithm': 'SAMME.R', 'learning_rate': 0.52, 'n_estimators': 250}\n",
      "0.555344 (0.018352) with: {'algorithm': 'SAMME.R', 'learning_rate': 0.52, 'n_estimators': 255}\n",
      "0.553948 (0.020532) with: {'algorithm': 'SAMME.R', 'learning_rate': 0.52, 'n_estimators': 260}\n",
      "0.555868 (0.017957) with: {'algorithm': 'SAMME.R', 'learning_rate': 0.52, 'n_estimators': 265}\n",
      "0.554646 (0.017398) with: {'algorithm': 'SAMME.R', 'learning_rate': 0.52, 'n_estimators': 270}\n",
      "0.556218 (0.019125) with: {'algorithm': 'SAMME.R', 'learning_rate': 0.53, 'n_estimators': 250}\n",
      "0.555170 (0.020333) with: {'algorithm': 'SAMME.R', 'learning_rate': 0.53, 'n_estimators': 255}\n",
      "0.556044 (0.020099) with: {'algorithm': 'SAMME.R', 'learning_rate': 0.53, 'n_estimators': 260}\n",
      "0.555869 (0.020856) with: {'algorithm': 'SAMME.R', 'learning_rate': 0.53, 'n_estimators': 265}\n",
      "0.558139 (0.020956) with: {'algorithm': 'SAMME.R', 'learning_rate': 0.53, 'n_estimators': 270}\n",
      "0.553424 (0.015846) with: {'algorithm': 'SAMME.R', 'learning_rate': 0.54, 'n_estimators': 250}\n",
      "0.552376 (0.014787) with: {'algorithm': 'SAMME.R', 'learning_rate': 0.54, 'n_estimators': 255}\n",
      "0.554996 (0.016972) with: {'algorithm': 'SAMME.R', 'learning_rate': 0.54, 'n_estimators': 260}\n",
      "0.556218 (0.019036) with: {'algorithm': 'SAMME.R', 'learning_rate': 0.54, 'n_estimators': 265}\n",
      "0.554297 (0.016693) with: {'algorithm': 'SAMME.R', 'learning_rate': 0.54, 'n_estimators': 270}\n",
      "0.554474 (0.019004) with: {'algorithm': 'SAMME.R', 'learning_rate': 0.55, 'n_estimators': 250}\n",
      "0.555696 (0.020013) with: {'algorithm': 'SAMME.R', 'learning_rate': 0.55, 'n_estimators': 255}\n",
      "0.554472 (0.019964) with: {'algorithm': 'SAMME.R', 'learning_rate': 0.55, 'n_estimators': 260}\n",
      "0.556044 (0.019562) with: {'algorithm': 'SAMME.R', 'learning_rate': 0.55, 'n_estimators': 265}\n",
      "0.555870 (0.020322) with: {'algorithm': 'SAMME.R', 'learning_rate': 0.55, 'n_estimators': 270}\n",
      "0.555171 (0.019997) with: {'algorithm': 'SAMME.R', 'learning_rate': 0.56, 'n_estimators': 250}\n",
      "0.556393 (0.021265) with: {'algorithm': 'SAMME.R', 'learning_rate': 0.56, 'n_estimators': 255}\n",
      "0.555870 (0.021657) with: {'algorithm': 'SAMME.R', 'learning_rate': 0.56, 'n_estimators': 260}\n",
      "0.556394 (0.019365) with: {'algorithm': 'SAMME.R', 'learning_rate': 0.56, 'n_estimators': 265}\n",
      "0.556568 (0.020892) with: {'algorithm': 'SAMME.R', 'learning_rate': 0.56, 'n_estimators': 270}\n",
      "0.554123 (0.019031) with: {'algorithm': 'SAMME.R', 'learning_rate': 0.57, 'n_estimators': 250}\n",
      "0.554994 (0.018740) with: {'algorithm': 'SAMME.R', 'learning_rate': 0.57, 'n_estimators': 255}\n",
      "0.552900 (0.018910) with: {'algorithm': 'SAMME.R', 'learning_rate': 0.57, 'n_estimators': 260}\n",
      "0.552726 (0.019570) with: {'algorithm': 'SAMME.R', 'learning_rate': 0.57, 'n_estimators': 265}\n",
      "0.554122 (0.019140) with: {'algorithm': 'SAMME.R', 'learning_rate': 0.57, 'n_estimators': 270}\n",
      "0.556043 (0.017806) with: {'algorithm': 'SAMME.R', 'learning_rate': 0.58, 'n_estimators': 250}\n",
      "0.554125 (0.017565) with: {'algorithm': 'SAMME.R', 'learning_rate': 0.58, 'n_estimators': 255}\n",
      "0.555172 (0.018248) with: {'algorithm': 'SAMME.R', 'learning_rate': 0.58, 'n_estimators': 260}\n",
      "0.553950 (0.018376) with: {'algorithm': 'SAMME.R', 'learning_rate': 0.58, 'n_estimators': 265}\n",
      "0.554822 (0.017493) with: {'algorithm': 'SAMME.R', 'learning_rate': 0.58, 'n_estimators': 270}\n",
      "0.553600 (0.020712) with: {'algorithm': 'SAMME.R', 'learning_rate': 0.59, 'n_estimators': 250}\n",
      "0.553774 (0.019937) with: {'algorithm': 'SAMME.R', 'learning_rate': 0.59, 'n_estimators': 255}\n",
      "0.555170 (0.018612) with: {'algorithm': 'SAMME.R', 'learning_rate': 0.59, 'n_estimators': 260}\n",
      "0.556741 (0.018809) with: {'algorithm': 'SAMME.R', 'learning_rate': 0.59, 'n_estimators': 265}\n",
      "0.555869 (0.019662) with: {'algorithm': 'SAMME.R', 'learning_rate': 0.59, 'n_estimators': 270}\n",
      "0.557613 (0.021506) with: {'algorithm': 'SAMME.R', 'learning_rate': 0.6, 'n_estimators': 250}\n",
      "0.555867 (0.019688) with: {'algorithm': 'SAMME.R', 'learning_rate': 0.6, 'n_estimators': 255}\n",
      "0.557787 (0.018547) with: {'algorithm': 'SAMME.R', 'learning_rate': 0.6, 'n_estimators': 260}\n",
      "0.558486 (0.018189) with: {'algorithm': 'SAMME.R', 'learning_rate': 0.6, 'n_estimators': 265}\n",
      "0.554821 (0.018694) with: {'algorithm': 'SAMME.R', 'learning_rate': 0.6, 'n_estimators': 270}\n"
     ]
    }
   ],
   "source": [
    "# Ajuste de parâmetros do modelo ADT - AdaBoost Decison Tree Tuning\n",
    "scaler = StandardScaler().fit(X_train)\n",
    "rescaledX = scaler.transform(X_train)\n",
    "\n",
    "n_estimators = [250, 255, 260, 265, 270]\n",
    "learning_rate = [0.5, 0.51, 0.52, 0.53, 0.54, 0.55, 0.56, 0.57, 0.58, 0.59, 0.6]\n",
    "algorithm = ['SAMME', 'SAMME.R']\n",
    "param_grid = dict(n_estimators=n_estimators, learning_rate=learning_rate, algorithm=algorithm)\n",
    "\n",
    "model = AdaBoostClassifier(DecisionTreeClassifier(max_depth=1))\n",
    "\n",
    "kfold = KFold(n_splits=num_folds, random_state=seed, shuffle=True)\n",
    "\n",
    "grid = GridSearchCV(estimator=model, param_grid=param_grid, scoring=scoring, cv=kfold, n_jobs=-1)\n",
    "\n",
    "grid_result = grid.fit(rescaledX, y_train)\n",
    "\n",
    "print(\"Best: %f using %s\" % (grid_result.best_score_, grid_result.best_params_))\n",
    "means = grid_result.cv_results_['mean_test_score']\n",
    "stds = grid_result.cv_results_['std_test_score']\n",
    "params = grid_result.cv_results_['params']\n",
    "for mean, stdev, param in zip(means, stds, params):\n",
    "    print(\"%f (%f) with: %r\" % (mean, stdev, param))"
   ]
  },
  {
   "cell_type": "markdown",
   "metadata": {},
   "source": [
    "# Logistic Regression"
   ]
  },
  {
   "cell_type": "code",
   "execution_count": 31,
   "metadata": {},
   "outputs": [
    {
     "name": "stdout",
     "output_type": "stream",
     "text": [
      "Best: 0.540158 using {'solver': 'sag'}\n",
      "0.532297 (0.018580) with: {'solver': 'newton-cg'}\n",
      "0.534047 (0.016341) with: {'solver': 'lbfgs'}\n",
      "0.538410 (0.014333) with: {'solver': 'liblinear'}\n",
      "0.540158 (0.015792) with: {'solver': 'sag'}\n",
      "0.539635 (0.014716) with: {'solver': 'saga'}\n"
     ]
    },
    {
     "name": "stderr",
     "output_type": "stream",
     "text": [
      "/home/marcello/anaconda3/envs/av/lib/python3.6/site-packages/sklearn/utils/validation.py:73: DataConversionWarning: A column-vector y was passed when a 1d array was expected. Please change the shape of y to (n_samples, ), for example using ravel().\n",
      "  return f(**kwargs)\n",
      "/home/marcello/anaconda3/envs/av/lib/python3.6/site-packages/sklearn/linear_model/_sag.py:330: ConvergenceWarning: The max_iter was reached which means the coef_ did not converge\n",
      "  \"the coef_ did not converge\", ConvergenceWarning)\n"
     ]
    }
   ],
   "source": [
    "# Ajuste de parâmetros do modelo Logistic Regression Tuning\n",
    "#scaler = StandardScaler().fit(X_train)\n",
    "#rescaledX = scaler.transform(X_train)\n",
    "\n",
    "solver = ['newton-cg','lbfgs','liblinear','sag','saga']\n",
    "\n",
    "param_grid = dict(solver=solver)\n",
    "\n",
    "model = LogisticRegression()\n",
    "\n",
    "kfold = KFold(n_splits=num_folds, random_state=seed, shuffle=True)\n",
    "\n",
    "grid = GridSearchCV(estimator=model, param_grid=param_grid, scoring=scoring, cv=kfold, n_jobs=-1)\n",
    "\n",
    "grid_result = grid.fit(X_train, y_train)\n",
    "#grid_result = grid.fit(rescaledX, y_train)\n",
    "\n",
    "print(\"Best: %f using %s\" % (grid_result.best_score_, grid_result.best_params_))\n",
    "means = grid_result.cv_results_['mean_test_score']\n",
    "stds = grid_result.cv_results_['std_test_score']\n",
    "params = grid_result.cv_results_['params']\n",
    "for mean, stdev, param in zip(means, stds, params):\n",
    "    print(\"%f (%f) with: %r\" % (mean, stdev, param))"
   ]
  },
  {
   "cell_type": "markdown",
   "metadata": {},
   "source": [
    "# Amostragem de 30%\n",
    "- Essa amostragem será usada nos modelos que apresentam os melhores resultados.\n",
    "- Os modelos serão configurados com os melhores parâmetros após otimização."
   ]
  },
  {
   "cell_type": "code",
   "execution_count": 32,
   "metadata": {},
   "outputs": [
    {
     "name": "stdout",
     "output_type": "stream",
     "text": [
      "(1221401, 8)\n",
      "(1221401, 1)\n"
     ]
    }
   ],
   "source": [
    "df_features = df_ic_sexo_treino[features_sexo]\n",
    "df_label    = df_ic_sexo_treino[label_ic_sexo]\n",
    "\n",
    "print(df_features.shape)\n",
    "print(df_label.shape)"
   ]
  },
  {
   "cell_type": "code",
   "execution_count": 33,
   "metadata": {},
   "outputs": [
    {
     "name": "stdout",
     "output_type": "stream",
     "text": [
      "(122141, 8) (122141,)\n"
     ]
    }
   ],
   "source": [
    "from sklearn.model_selection import train_test_split\n",
    "\n",
    "X, y = df_features[features_sexo], df_label['ic_sexo']\n",
    "X_train, X_test, y_train, y_test =\\\n",
    "     train_test_split(X, y,\n",
    "                      test_size=0.1, ## -> 30% será usado para treinar e avaliar\n",
    "                      random_state=42,\n",
    "                      stratify=df_features['ic_tipo_renda'])\n",
    "\n",
    "X = X_test\n",
    "y = y_test\n",
    "\n",
    "del X_train, y_train, X_test, y_test\n",
    "\n",
    "print (X.shape, y.shape)"
   ]
  },
  {
   "cell_type": "markdown",
   "metadata": {},
   "source": [
    "# Separar dados de treino e teste"
   ]
  },
  {
   "cell_type": "code",
   "execution_count": 34,
   "metadata": {},
   "outputs": [
    {
     "name": "stdout",
     "output_type": "stream",
     "text": [
      "(85498, 8) (85498,)\n",
      "(36643, 8) (36643,)\n",
      "M    43416\n",
      "F    42082\n",
      "Name: ic_sexo, dtype: int64\n",
      "F    51014\n",
      "I    34484\n",
      "Name: ic_tipo_renda, dtype: int64\n"
     ]
    }
   ],
   "source": [
    "from sklearn.model_selection import train_test_split\n",
    "X_train, X_test, y_train, y_test =\\\n",
    "     train_test_split(X, y,\n",
    "                      #test_size=0.15, # 15% de 522.549 será usado para avaliar\n",
    "                      test_size=0.3, # 30% de 522.549 será usado para avaliar\n",
    "                      random_state=42, \n",
    "                      stratify=X['ic_tipo_renda'])\n",
    "\n",
    "print(X_train.shape, y_train.shape)\n",
    "print(X_test.shape, y_test.shape)\n",
    "\n",
    "print(y_train.value_counts())\n",
    "print(X_train['ic_tipo_renda'].value_counts())"
   ]
  },
  {
   "cell_type": "markdown",
   "metadata": {},
   "source": [
    "# Encoding"
   ]
  },
  {
   "cell_type": "code",
   "execution_count": 35,
   "metadata": {},
   "outputs": [
    {
     "name": "stderr",
     "output_type": "stream",
     "text": [
      "/home/marcello/anaconda3/envs/av/lib/python3.6/site-packages/ipykernel_launcher.py:26: SettingWithCopyWarning: \n",
      "A value is trying to be set on a copy of a slice from a DataFrame.\n",
      "Try using .loc[row_indexer,col_indexer] = value instead\n",
      "\n",
      "See the caveats in the documentation: https://pandas.pydata.org/pandas-docs/stable/user_guide/indexing.html#returning-a-view-versus-a-copy\n",
      "/home/marcello/anaconda3/envs/av/lib/python3.6/site-packages/ipykernel_launcher.py:30: SettingWithCopyWarning: \n",
      "A value is trying to be set on a copy of a slice from a DataFrame.\n",
      "Try using .loc[row_indexer,col_indexer] = value instead\n",
      "\n",
      "See the caveats in the documentation: https://pandas.pydata.org/pandas-docs/stable/user_guide/indexing.html#returning-a-view-versus-a-copy\n"
     ]
    }
   ],
   "source": [
    "from sklearn.preprocessing import LabelEncoder\n",
    "le = LabelEncoder()\n",
    "\n",
    "# aplica no y_train\n",
    "### label = ic_sexo ###\n",
    "###################################\n",
    "###    ic_sexo 1 = M e 0 = F    ###\n",
    "###################################\n",
    "#le = le.fit(y_train['ic_sexo'])\n",
    "#y_train['ic_sexo'] = le.transform(y_train['ic_sexo'])\n",
    "le = le.fit(y_train)\n",
    "y_train = le.transform(y_train)\n",
    "\n",
    "# aplica no y_test\n",
    "#le = le.fit(y_test['ic_sexo'])\n",
    "#y_test['ic_sexo'] = le.transform(y_test['ic_sexo'])\n",
    "le = le.fit(y_test)\n",
    "y_test = le.transform(y_test)\n",
    "\n",
    "# encoding das variáveis categóricas\n",
    "###################################\n",
    "### ic_tipo_renda 0 = F e 1 = I ###\n",
    "###################################\n",
    "# aplica no X_train\n",
    "le = le.fit(X_train['ic_tipo_renda'])\n",
    "X_train['ic_tipo_renda'] = le.transform(X_train['ic_tipo_renda'])\n",
    "\n",
    "# aplica no X_test\n",
    "le = le.fit(X_test['ic_tipo_renda'])\n",
    "X_test['ic_tipo_renda'] = le.transform(X_test['ic_tipo_renda'])\n",
    "\n",
    "#print(y_train.ic_sexo.value_counts())"
   ]
  },
  {
   "cell_type": "code",
   "execution_count": 36,
   "metadata": {},
   "outputs": [
    {
     "name": "stdout",
     "output_type": "stream",
     "text": [
      "qtd 0 = F:  42082\n",
      "qtd 1 = M:  43416\n"
     ]
    }
   ],
   "source": [
    "print('qtd 0 = F: ',(y_train == 0).sum())\n",
    "print('qtd 1 = M: ',(y_train == 1).sum())"
   ]
  },
  {
   "cell_type": "markdown",
   "metadata": {},
   "source": [
    "# Resample"
   ]
  },
  {
   "cell_type": "code",
   "execution_count": 37,
   "metadata": {},
   "outputs": [
    {
     "name": "stdout",
     "output_type": "stream",
     "text": [
      "(15869, 8)\n",
      "(15869,)\n",
      "(6919, 8)\n",
      "(6919,)\n"
     ]
    }
   ],
   "source": [
    "from imblearn.combine import SMOTEENN\n",
    "undersample = SMOTEENN(n_jobs=-1)\n",
    "\n",
    "#from imblearn.combine import SMOTETomek\n",
    "#undersample = SMOTETomek(n_jobs=-1)\n",
    "\n",
    "X_train, y_train = undersample.fit_resample(X_train, y_train)\n",
    "X_test, y_test = undersample.fit_resample(X_test, y_test)\n",
    "\n",
    "print(X_train.shape)\n",
    "print(y_train.shape)\n",
    "\n",
    "print(X_test.shape)\n",
    "print(y_test.shape)"
   ]
  },
  {
   "cell_type": "markdown",
   "metadata": {},
   "source": [
    "# Modelos\n",
    "- KNN\n",
    "- AdaBoost(CART)\n",
    "- Naïve Bayes Gaussian\n",
    "- Logistic Regression\n",
    "- XGBoost"
   ]
  },
  {
   "cell_type": "markdown",
   "metadata": {},
   "source": [
    "# KNN"
   ]
  },
  {
   "cell_type": "code",
   "execution_count": 38,
   "metadata": {},
   "outputs": [
    {
     "name": "stdout",
     "output_type": "stream",
     "text": [
      "0.6904176904176904\n",
      "[[2539  923]\n",
      " [1219 2238]]\n",
      "              precision    recall  f1-score   support\n",
      "\n",
      "           0       0.68      0.73      0.70      3462\n",
      "           1       0.71      0.65      0.68      3457\n",
      "\n",
      "    accuracy                           0.69      6919\n",
      "   macro avg       0.69      0.69      0.69      6919\n",
      "weighted avg       0.69      0.69      0.69      6919\n",
      "\n"
     ]
    }
   ],
   "source": [
    "# Modelo final KNN\n",
    "# Best: 0.546261 using {'n_neighbors': 14}\n",
    "\n",
    "scaler = StandardScaler().fit(X_train)\n",
    "#rescaledX = scaler.transform(X_train)\n",
    "\n",
    "model_KNN = KNeighborsClassifier(n_neighbors=14, n_jobs=-1)\n",
    "\n",
    "#model_KNN.fit(rescaledX, y_train)\n",
    "model_KNN.fit(X_train, y_train)\n",
    "\n",
    "# Estima a acurácia no dataset de validação\n",
    "#rescaledValidationX = scaler.transform(X_test)\n",
    "\n",
    "#predictions = model_KNN.predict(rescaledValidationX)\n",
    "predictions = model_KNN.predict(X_test)\n",
    "\n",
    "print(accuracy_score(y_test, predictions))\n",
    "print(confusion_matrix(y_test, predictions))\n",
    "print(classification_report(y_test, predictions))"
   ]
  },
  {
   "cell_type": "markdown",
   "metadata": {},
   "source": [
    "# AdaBoost(CART)"
   ]
  },
  {
   "cell_type": "code",
   "execution_count": 39,
   "metadata": {},
   "outputs": [
    {
     "name": "stdout",
     "output_type": "stream",
     "text": [
      "0.6911403381991618\n",
      "[[2291 1171]\n",
      " [ 966 2491]]\n",
      "              precision    recall  f1-score   support\n",
      "\n",
      "           0       0.70      0.66      0.68      3462\n",
      "           1       0.68      0.72      0.70      3457\n",
      "\n",
      "    accuracy                           0.69      6919\n",
      "   macro avg       0.69      0.69      0.69      6919\n",
      "weighted avg       0.69      0.69      0.69      6919\n",
      "\n"
     ]
    }
   ],
   "source": [
    "# Modelo final AdaBoost Decision Tree Classifier\n",
    "# Best: 0.566727 using {'algorithm': 'SAMME', 'learning_rate': 0.58, 'n_estimators': 255}\n",
    "# Best: 0.560058 using {'algorithm': 'SAMME.R', 'learning_rate': 0.51, 'n_estimators': 250}\n",
    "\n",
    "scaler = StandardScaler().fit(X_train)\n",
    "rescaledX = scaler.transform(X_train)\n",
    "\n",
    "model_ADT =  AdaBoostClassifier(DecisionTreeClassifier(max_depth=1),\n",
    "                                algorithm=\"SAMME.R\",\n",
    "                                learning_rate=0.51,\n",
    "                                n_estimators=250)\n",
    "\n",
    "model_ADT.fit(rescaledX, y_train)\n",
    "\n",
    "# Estima a acurácia no dataset de validação\n",
    "rescaledValidationX = scaler.transform(X_test)\n",
    "\n",
    "predictions = model_ADT.predict(rescaledValidationX)\n",
    "#predictions = model_RF.predict(X_test)\n",
    "\n",
    "print(accuracy_score(y_test, predictions))\n",
    "print(confusion_matrix(y_test, predictions))\n",
    "print(classification_report(y_test, predictions))"
   ]
  },
  {
   "cell_type": "markdown",
   "metadata": {},
   "source": [
    "# Naïve Bayes Gaussian"
   ]
  },
  {
   "cell_type": "code",
   "execution_count": 40,
   "metadata": {},
   "outputs": [
    {
     "name": "stdout",
     "output_type": "stream",
     "text": [
      "0.5401069518716578\n",
      "[[3428   34]\n",
      " [3148  309]]\n",
      "              precision    recall  f1-score   support\n",
      "\n",
      "           0       0.52      0.99      0.68      3462\n",
      "           1       0.90      0.09      0.16      3457\n",
      "\n",
      "    accuracy                           0.54      6919\n",
      "   macro avg       0.71      0.54      0.42      6919\n",
      "weighted avg       0.71      0.54      0.42      6919\n",
      "\n"
     ]
    }
   ],
   "source": [
    "# Modelo final Naïve Bayes Gaussian Classifier\n",
    "scaler = StandardScaler().fit(X_train)\n",
    "rescaledX = scaler.transform(X_train)\n",
    "\n",
    "model_NBG =  GaussianNB()\n",
    "\n",
    "model_NBG.fit(rescaledX, y_train)\n",
    "\n",
    "# Estima a acurácia no dataset de validação\n",
    "rescaledValidationX = scaler.transform(X_test)\n",
    "\n",
    "predictions = model_NBG.predict(rescaledValidationX)\n",
    "#predictions = model_RF.predict(X_test)\n",
    "\n",
    "print(accuracy_score(y_test, predictions))\n",
    "print(confusion_matrix(y_test, predictions))\n",
    "print(classification_report(y_test, predictions))"
   ]
  },
  {
   "cell_type": "markdown",
   "metadata": {},
   "source": [
    "# Logistic Regression"
   ]
  },
  {
   "cell_type": "code",
   "execution_count": 41,
   "metadata": {},
   "outputs": [
    {
     "name": "stdout",
     "output_type": "stream",
     "text": [
      "0.515392397745339\n",
      "[[3451   11]\n",
      " [3342  115]]\n",
      "              precision    recall  f1-score   support\n",
      "\n",
      "           0       0.51      1.00      0.67      3462\n",
      "           1       0.91      0.03      0.06      3457\n",
      "\n",
      "    accuracy                           0.52      6919\n",
      "   macro avg       0.71      0.52      0.37      6919\n",
      "weighted avg       0.71      0.52      0.37      6919\n",
      "\n"
     ]
    },
    {
     "name": "stderr",
     "output_type": "stream",
     "text": [
      "/home/marcello/anaconda3/envs/av/lib/python3.6/site-packages/sklearn/linear_model/_sag.py:330: ConvergenceWarning: The max_iter was reached which means the coef_ did not converge\n",
      "  \"the coef_ did not converge\", ConvergenceWarning)\n"
     ]
    }
   ],
   "source": [
    "# Modelo final Logistic Regression Classifier\n",
    "# Best: 0.540508 using {'solver': 'sag'}\n",
    "\n",
    "#scaler = StandardScaler().fit(X_train)\n",
    "#rescaledX = scaler.transform(X_train)\n",
    "\n",
    "model_LR =  LogisticRegression(solver='sag')\n",
    "\n",
    "#model_LR.fit(rescaledX, y_train)\n",
    "model_LR.fit(X_train, y_train)\n",
    "\n",
    "# Estima a acurácia no dataset de validação\n",
    "#rescaledValidationX = scaler.transform(X_test)\n",
    "\n",
    "#predictions = model_LR.predict(rescaledValidationX)\n",
    "predictions = model_LR.predict(X_test)\n",
    "\n",
    "print(accuracy_score(y_test, predictions))\n",
    "print(confusion_matrix(y_test, predictions))\n",
    "print(classification_report(y_test, predictions)) "
   ]
  },
  {
   "cell_type": "markdown",
   "metadata": {},
   "source": [
    "# XGBoost"
   ]
  },
  {
   "cell_type": "code",
   "execution_count": 42,
   "metadata": {},
   "outputs": [
    {
     "name": "stdout",
     "output_type": "stream",
     "text": [
      "[0]\tvalidation_0-merror:0.27866\tvalidation_0-mlogloss:0.62405\tvalidation_1-merror:0.29643\tvalidation_1-mlogloss:0.63018\n",
      "[1]\tvalidation_0-merror:0.26983\tvalidation_0-mlogloss:0.58654\tvalidation_1-merror:0.29036\tvalidation_1-mlogloss:0.59790\n",
      "[2]\tvalidation_0-merror:0.25786\tvalidation_0-mlogloss:0.56188\tvalidation_1-merror:0.27099\tvalidation_1-mlogloss:0.57739\n",
      "[3]\tvalidation_0-merror:0.25408\tvalidation_0-mlogloss:0.53486\tvalidation_1-merror:0.26377\tvalidation_1-mlogloss:0.55559\n",
      "[4]\tvalidation_0-merror:0.25465\tvalidation_0-mlogloss:0.52058\tvalidation_1-merror:0.27027\tvalidation_1-mlogloss:0.54437\n",
      "[5]\tvalidation_0-merror:0.23864\tvalidation_0-mlogloss:0.50505\tvalidation_1-merror:0.27620\tvalidation_1-mlogloss:0.53898\n",
      "[6]\tvalidation_0-merror:0.23347\tvalidation_0-mlogloss:0.49503\tvalidation_1-merror:0.27215\tvalidation_1-mlogloss:0.53248\n",
      "[7]\tvalidation_0-merror:0.23524\tvalidation_0-mlogloss:0.48853\tvalidation_1-merror:0.27345\tvalidation_1-mlogloss:0.52913\n",
      "[8]\tvalidation_0-merror:0.22913\tvalidation_0-mlogloss:0.47564\tvalidation_1-merror:0.26521\tvalidation_1-mlogloss:0.52197\n",
      "[9]\tvalidation_0-merror:0.22453\tvalidation_0-mlogloss:0.46936\tvalidation_1-merror:0.25986\tvalidation_1-mlogloss:0.51832\n",
      "[10]\tvalidation_0-merror:0.22245\tvalidation_0-mlogloss:0.46478\tvalidation_1-merror:0.25986\tvalidation_1-mlogloss:0.51733\n",
      "[11]\tvalidation_0-merror:0.21993\tvalidation_0-mlogloss:0.46031\tvalidation_1-merror:0.26825\tvalidation_1-mlogloss:0.51608\n",
      "[12]\tvalidation_0-merror:0.20877\tvalidation_0-mlogloss:0.44819\tvalidation_1-merror:0.26579\tvalidation_1-mlogloss:0.51859\n",
      "[13]\tvalidation_0-merror:0.20739\tvalidation_0-mlogloss:0.44497\tvalidation_1-merror:0.26405\tvalidation_1-mlogloss:0.51714\n",
      "[14]\tvalidation_0-merror:0.20713\tvalidation_0-mlogloss:0.44378\tvalidation_1-merror:0.26434\tvalidation_1-mlogloss:0.51728\n",
      "[15]\tvalidation_0-merror:0.20720\tvalidation_0-mlogloss:0.43897\tvalidation_1-merror:0.26449\tvalidation_1-mlogloss:0.51963\n",
      "[16]\tvalidation_0-merror:0.20524\tvalidation_0-mlogloss:0.43507\tvalidation_1-merror:0.26738\tvalidation_1-mlogloss:0.51968\n",
      "[17]\tvalidation_0-merror:0.19888\tvalidation_0-mlogloss:0.42733\tvalidation_1-merror:0.26897\tvalidation_1-mlogloss:0.51961\n",
      "[18]\tvalidation_0-merror:0.19497\tvalidation_0-mlogloss:0.42245\tvalidation_1-merror:0.27273\tvalidation_1-mlogloss:0.52087\n",
      "[19]\tvalidation_0-merror:0.19037\tvalidation_0-mlogloss:0.41794\tvalidation_1-merror:0.27157\tvalidation_1-mlogloss:0.52042\n",
      "[20]\tvalidation_0-merror:0.18905\tvalidation_0-mlogloss:0.41225\tvalidation_1-merror:0.26897\tvalidation_1-mlogloss:0.51873\n",
      "[21]\tvalidation_0-merror:0.18533\tvalidation_0-mlogloss:0.40756\tvalidation_1-merror:0.26868\tvalidation_1-mlogloss:0.51942\n",
      "[22]\tvalidation_0-merror:0.18300\tvalidation_0-mlogloss:0.40471\tvalidation_1-merror:0.26882\tvalidation_1-mlogloss:0.51918\n",
      "[23]\tvalidation_0-merror:0.18117\tvalidation_0-mlogloss:0.40120\tvalidation_1-merror:0.26882\tvalidation_1-mlogloss:0.51823\n",
      "[24]\tvalidation_0-merror:0.18067\tvalidation_0-mlogloss:0.40020\tvalidation_1-merror:0.26926\tvalidation_1-mlogloss:0.51876\n",
      "[25]\tvalidation_0-merror:0.18060\tvalidation_0-mlogloss:0.39845\tvalidation_1-merror:0.26868\tvalidation_1-mlogloss:0.51885\n",
      "[26]\tvalidation_0-merror:0.17928\tvalidation_0-mlogloss:0.39754\tvalidation_1-merror:0.26868\tvalidation_1-mlogloss:0.51875\n",
      "[27]\tvalidation_0-merror:0.17783\tvalidation_0-mlogloss:0.39558\tvalidation_1-merror:0.26882\tvalidation_1-mlogloss:0.51922\n",
      "[28]\tvalidation_0-merror:0.16958\tvalidation_0-mlogloss:0.38985\tvalidation_1-merror:0.27244\tvalidation_1-mlogloss:0.52095\n",
      "[29]\tvalidation_0-merror:0.16655\tvalidation_0-mlogloss:0.38315\tvalidation_1-merror:0.27764\tvalidation_1-mlogloss:0.52352\n",
      "[30]\tvalidation_0-merror:0.16504\tvalidation_0-mlogloss:0.38104\tvalidation_1-merror:0.27851\tvalidation_1-mlogloss:0.52300\n",
      "[31]\tvalidation_0-merror:0.16460\tvalidation_0-mlogloss:0.38027\tvalidation_1-merror:0.27894\tvalidation_1-mlogloss:0.52319\n",
      "[32]\tvalidation_0-merror:0.16384\tvalidation_0-mlogloss:0.37939\tvalidation_1-merror:0.27923\tvalidation_1-mlogloss:0.52302\n",
      "[33]\tvalidation_0-merror:0.16227\tvalidation_0-mlogloss:0.37684\tvalidation_1-merror:0.27764\tvalidation_1-mlogloss:0.52288\n",
      "[34]\tvalidation_0-merror:0.15515\tvalidation_0-mlogloss:0.37108\tvalidation_1-merror:0.27692\tvalidation_1-mlogloss:0.52634\n",
      "[35]\tvalidation_0-merror:0.15363\tvalidation_0-mlogloss:0.36933\tvalidation_1-merror:0.27822\tvalidation_1-mlogloss:0.52649\n",
      "[36]\tvalidation_0-merror:0.15344\tvalidation_0-mlogloss:0.36905\tvalidation_1-merror:0.27822\tvalidation_1-mlogloss:0.52654\n",
      "[37]\tvalidation_0-merror:0.15288\tvalidation_0-mlogloss:0.36799\tvalidation_1-merror:0.27764\tvalidation_1-mlogloss:0.52658\n",
      "[38]\tvalidation_0-merror:0.15294\tvalidation_0-mlogloss:0.36474\tvalidation_1-merror:0.27822\tvalidation_1-mlogloss:0.52728\n",
      "[39]\tvalidation_0-merror:0.15231\tvalidation_0-mlogloss:0.36200\tvalidation_1-merror:0.27793\tvalidation_1-mlogloss:0.52750\n",
      "[40]\tvalidation_0-merror:0.14966\tvalidation_0-mlogloss:0.35819\tvalidation_1-merror:0.27836\tvalidation_1-mlogloss:0.52861\n",
      "[41]\tvalidation_0-merror:0.14834\tvalidation_0-mlogloss:0.35640\tvalidation_1-merror:0.27836\tvalidation_1-mlogloss:0.52949\n",
      "[42]\tvalidation_0-merror:0.14475\tvalidation_0-mlogloss:0.35174\tvalidation_1-merror:0.28111\tvalidation_1-mlogloss:0.53238\n",
      "[43]\tvalidation_0-merror:0.14405\tvalidation_0-mlogloss:0.35046\tvalidation_1-merror:0.28068\tvalidation_1-mlogloss:0.53221\n",
      "[44]\tvalidation_0-merror:0.14349\tvalidation_0-mlogloss:0.34770\tvalidation_1-merror:0.27909\tvalidation_1-mlogloss:0.53175\n",
      "[45]\tvalidation_0-merror:0.14223\tvalidation_0-mlogloss:0.34446\tvalidation_1-merror:0.27952\tvalidation_1-mlogloss:0.53340\n",
      "[46]\tvalidation_0-merror:0.14134\tvalidation_0-mlogloss:0.34371\tvalidation_1-merror:0.27995\tvalidation_1-mlogloss:0.53352\n",
      "[47]\tvalidation_0-merror:0.14072\tvalidation_0-mlogloss:0.33981\tvalidation_1-merror:0.27880\tvalidation_1-mlogloss:0.53703\n",
      "[48]\tvalidation_0-merror:0.13964\tvalidation_0-mlogloss:0.33804\tvalidation_1-merror:0.27966\tvalidation_1-mlogloss:0.53804\n",
      "[49]\tvalidation_0-merror:0.13926\tvalidation_0-mlogloss:0.33773\tvalidation_1-merror:0.28010\tvalidation_1-mlogloss:0.53828\n",
      "[50]\tvalidation_0-merror:0.13725\tvalidation_0-mlogloss:0.33607\tvalidation_1-merror:0.27952\tvalidation_1-mlogloss:0.53912\n",
      "[51]\tvalidation_0-merror:0.13328\tvalidation_0-mlogloss:0.33005\tvalidation_1-merror:0.27894\tvalidation_1-mlogloss:0.54098\n",
      "[52]\tvalidation_0-merror:0.13164\tvalidation_0-mlogloss:0.32763\tvalidation_1-merror:0.28024\tvalidation_1-mlogloss:0.54221\n",
      "[53]\tvalidation_0-merror:0.13076\tvalidation_0-mlogloss:0.32673\tvalidation_1-merror:0.28053\tvalidation_1-mlogloss:0.54241\n",
      "[54]\tvalidation_0-merror:0.12654\tvalidation_0-mlogloss:0.32240\tvalidation_1-merror:0.28039\tvalidation_1-mlogloss:0.54353\n",
      "[55]\tvalidation_0-merror:0.12433\tvalidation_0-mlogloss:0.31937\tvalidation_1-merror:0.27880\tvalidation_1-mlogloss:0.54446\n",
      "[56]\tvalidation_0-merror:0.12370\tvalidation_0-mlogloss:0.31662\tvalidation_1-merror:0.28125\tvalidation_1-mlogloss:0.54754\n",
      "[57]\tvalidation_0-merror:0.12068\tvalidation_0-mlogloss:0.31390\tvalidation_1-merror:0.28227\tvalidation_1-mlogloss:0.54907\n",
      "[58]\tvalidation_0-merror:0.11866\tvalidation_0-mlogloss:0.31142\tvalidation_1-merror:0.28169\tvalidation_1-mlogloss:0.55047\n",
      "[59]\tvalidation_0-merror:0.11803\tvalidation_0-mlogloss:0.30985\tvalidation_1-merror:0.28068\tvalidation_1-mlogloss:0.55226\n",
      "[60]\tvalidation_0-merror:0.11734\tvalidation_0-mlogloss:0.30809\tvalidation_1-merror:0.28024\tvalidation_1-mlogloss:0.55360\n",
      "[61]\tvalidation_0-merror:0.11658\tvalidation_0-mlogloss:0.30632\tvalidation_1-merror:0.28010\tvalidation_1-mlogloss:0.55366\n",
      "[62]\tvalidation_0-merror:0.11652\tvalidation_0-mlogloss:0.30538\tvalidation_1-merror:0.28125\tvalidation_1-mlogloss:0.55372\n",
      "[63]\tvalidation_0-merror:0.11639\tvalidation_0-mlogloss:0.30335\tvalidation_1-merror:0.28082\tvalidation_1-mlogloss:0.55475\n",
      "[64]\tvalidation_0-merror:0.11362\tvalidation_0-mlogloss:0.30000\tvalidation_1-merror:0.27981\tvalidation_1-mlogloss:0.55627\n",
      "[65]\tvalidation_0-merror:0.11192\tvalidation_0-mlogloss:0.29783\tvalidation_1-merror:0.28097\tvalidation_1-mlogloss:0.55806\n",
      "[66]\tvalidation_0-merror:0.11198\tvalidation_0-mlogloss:0.29633\tvalidation_1-merror:0.28111\tvalidation_1-mlogloss:0.55907\n",
      "[67]\tvalidation_0-merror:0.10933\tvalidation_0-mlogloss:0.29392\tvalidation_1-merror:0.28328\tvalidation_1-mlogloss:0.55946\n"
     ]
    },
    {
     "name": "stdout",
     "output_type": "stream",
     "text": [
      "[68]\tvalidation_0-merror:0.10725\tvalidation_0-mlogloss:0.29160\tvalidation_1-merror:0.28414\tvalidation_1-mlogloss:0.56010\n",
      "[69]\tvalidation_0-merror:0.10606\tvalidation_0-mlogloss:0.29013\tvalidation_1-merror:0.28400\tvalidation_1-mlogloss:0.55963\n",
      "[70]\tvalidation_0-merror:0.10625\tvalidation_0-mlogloss:0.28991\tvalidation_1-merror:0.28342\tvalidation_1-mlogloss:0.55941\n",
      "[71]\tvalidation_0-merror:0.10587\tvalidation_0-mlogloss:0.28887\tvalidation_1-merror:0.28357\tvalidation_1-mlogloss:0.55947\n",
      "[72]\tvalidation_0-merror:0.10492\tvalidation_0-mlogloss:0.28735\tvalidation_1-merror:0.28429\tvalidation_1-mlogloss:0.56028\n",
      "[73]\tvalidation_0-merror:0.10448\tvalidation_0-mlogloss:0.28644\tvalidation_1-merror:0.28472\tvalidation_1-mlogloss:0.56074\n",
      "[74]\tvalidation_0-merror:0.10410\tvalidation_0-mlogloss:0.28565\tvalidation_1-merror:0.28487\tvalidation_1-mlogloss:0.56087\n",
      "[75]\tvalidation_0-merror:0.10265\tvalidation_0-mlogloss:0.28387\tvalidation_1-merror:0.28646\tvalidation_1-mlogloss:0.56168\n",
      "[76]\tvalidation_0-merror:0.10051\tvalidation_0-mlogloss:0.28122\tvalidation_1-merror:0.28761\tvalidation_1-mlogloss:0.56215\n",
      "[77]\tvalidation_0-merror:0.10013\tvalidation_0-mlogloss:0.27947\tvalidation_1-merror:0.28747\tvalidation_1-mlogloss:0.56262\n",
      "[78]\tvalidation_0-merror:0.09988\tvalidation_0-mlogloss:0.27828\tvalidation_1-merror:0.28776\tvalidation_1-mlogloss:0.56264\n",
      "[79]\tvalidation_0-merror:0.09793\tvalidation_0-mlogloss:0.27634\tvalidation_1-merror:0.28732\tvalidation_1-mlogloss:0.56315\n",
      "[80]\tvalidation_0-merror:0.09755\tvalidation_0-mlogloss:0.27571\tvalidation_1-merror:0.28718\tvalidation_1-mlogloss:0.56346\n",
      "[81]\tvalidation_0-merror:0.09717\tvalidation_0-mlogloss:0.27547\tvalidation_1-merror:0.28718\tvalidation_1-mlogloss:0.56357\n",
      "[82]\tvalidation_0-merror:0.09698\tvalidation_0-mlogloss:0.27401\tvalidation_1-merror:0.28732\tvalidation_1-mlogloss:0.56571\n",
      "[83]\tvalidation_0-merror:0.09654\tvalidation_0-mlogloss:0.27332\tvalidation_1-merror:0.28704\tvalidation_1-mlogloss:0.56585\n",
      "[84]\tvalidation_0-merror:0.09660\tvalidation_0-mlogloss:0.27204\tvalidation_1-merror:0.28776\tvalidation_1-mlogloss:0.56620\n",
      "[85]\tvalidation_0-merror:0.09566\tvalidation_0-mlogloss:0.27075\tvalidation_1-merror:0.28906\tvalidation_1-mlogloss:0.56654\n",
      "[86]\tvalidation_0-merror:0.09566\tvalidation_0-mlogloss:0.26963\tvalidation_1-merror:0.28978\tvalidation_1-mlogloss:0.56634\n",
      "[87]\tvalidation_0-merror:0.09534\tvalidation_0-mlogloss:0.26857\tvalidation_1-merror:0.29108\tvalidation_1-mlogloss:0.56666\n",
      "[88]\tvalidation_0-merror:0.09358\tvalidation_0-mlogloss:0.26584\tvalidation_1-merror:0.28906\tvalidation_1-mlogloss:0.56844\n",
      "[89]\tvalidation_0-merror:0.09257\tvalidation_0-mlogloss:0.26357\tvalidation_1-merror:0.28949\tvalidation_1-mlogloss:0.56975\n",
      "[90]\tvalidation_0-merror:0.09144\tvalidation_0-mlogloss:0.26241\tvalidation_1-merror:0.29022\tvalidation_1-mlogloss:0.57255\n",
      "[91]\tvalidation_0-merror:0.08866\tvalidation_0-mlogloss:0.26077\tvalidation_1-merror:0.29123\tvalidation_1-mlogloss:0.57429\n",
      "[92]\tvalidation_0-merror:0.08765\tvalidation_0-mlogloss:0.25904\tvalidation_1-merror:0.29137\tvalidation_1-mlogloss:0.57497\n",
      "[93]\tvalidation_0-merror:0.08753\tvalidation_0-mlogloss:0.25788\tvalidation_1-merror:0.29094\tvalidation_1-mlogloss:0.57546\n",
      "[94]\tvalidation_0-merror:0.08677\tvalidation_0-mlogloss:0.25694\tvalidation_1-merror:0.29166\tvalidation_1-mlogloss:0.57661\n",
      "[95]\tvalidation_0-merror:0.08633\tvalidation_0-mlogloss:0.25626\tvalidation_1-merror:0.29137\tvalidation_1-mlogloss:0.57687\n",
      "[96]\tvalidation_0-merror:0.08602\tvalidation_0-mlogloss:0.25577\tvalidation_1-merror:0.29079\tvalidation_1-mlogloss:0.57724\n",
      "[97]\tvalidation_0-merror:0.08532\tvalidation_0-mlogloss:0.25458\tvalidation_1-merror:0.29195\tvalidation_1-mlogloss:0.57855\n",
      "[98]\tvalidation_0-merror:0.08501\tvalidation_0-mlogloss:0.25406\tvalidation_1-merror:0.29238\tvalidation_1-mlogloss:0.57882\n",
      "[99]\tvalidation_0-merror:0.08450\tvalidation_0-mlogloss:0.25315\tvalidation_1-merror:0.29209\tvalidation_1-mlogloss:0.57934\n"
     ]
    }
   ],
   "source": [
    "#######################################\n",
    "# Execução da GPU na linha de comando #\n",
    "#       watch -n 1 nvidia-smi         #\n",
    "#######################################\n",
    "\n",
    "from xgboost import XGBClassifier\n",
    "from xgboost import plot_importance\n",
    "from xgboost import plot_tree\n",
    "import time\n",
    "\n",
    "# utilizado para gerar os logs dos erros: merror e mlogloss\n",
    "eval_set = [(X_train, y_train), (X_test, y_test)]\n",
    "\n",
    "# métricas de avaliação\n",
    "eval_metric = ['merror', 'mlogloss']\n",
    "\n",
    "# Informa a quantidade de classes que serão usadas no treinamento\n",
    "num_class = 2 #len(y_train.unique())\n",
    "\n",
    "start = time.time() # inicia o tempo de execução\n",
    "\n",
    "model_xgb = XGBClassifier(num_class=num_class,\n",
    "                          objective='multi:softmax', \n",
    "                          n_jobs=-1, \n",
    "                          nthread=-1, \n",
    "                          tree_method='gpu_hist', \n",
    "                          gpu_id=-1)\n",
    "\n",
    "model_xgb = model_xgb.fit(X_train, \n",
    "                          y_train, \n",
    "                          eval_metric=eval_metric, \n",
    "                          eval_set=eval_set, \n",
    "                          verbose=True)\n",
    "\n",
    "elapsed = time.time() - start # informa o tempo de execução\n"
   ]
  },
  {
   "cell_type": "code",
   "execution_count": 43,
   "metadata": {},
   "outputs": [
    {
     "name": "stdout",
     "output_type": "stream",
     "text": [
      "Acurácia model_xgb: 70.79%\n",
      "GPU Training Time: 2.2095580101013184 seconds\n",
      "\n",
      "Matriz de confusão:\n",
      "[[2402 1060]\n",
      " [ 961 2496]]\n",
      "              precision    recall  f1-score   support\n",
      "\n",
      "           0       0.71      0.69      0.70      3462\n",
      "           1       0.70      0.72      0.71      3457\n",
      "\n",
      "    accuracy                           0.71      6919\n",
      "   macro avg       0.71      0.71      0.71      6919\n",
      "weighted avg       0.71      0.71      0.71      6919\n",
      "\n"
     ]
    }
   ],
   "source": [
    "# cria predições no dataset de teste e\n",
    "## avalia a acurácia da classificação\n",
    "acuracia = accuracy_score(y_test, model_xgb.predict(X_test))\n",
    "print(\"Acurácia model_xgb: %.2f%%\" % (acuracia * 100.0))\n",
    "\n",
    "#print(\"Tempo de execução: %f\" % (elapsed))\n",
    "print(\"GPU Training Time: %s seconds\" % (elapsed))\n",
    "\n",
    "predictions = model_xgb.predict(X_test)\n",
    "\n",
    "#print(accuracy_score(y_test, predictions))\n",
    "print('\\nMatriz de confusão:')\n",
    "print(confusion_matrix(y_test, predictions))\n",
    "print(classification_report(y_test, predictions))"
   ]
  },
  {
   "cell_type": "markdown",
   "metadata": {},
   "source": [
    "# Teste sobre amostra aleatória\n",
    "- A amostragem aleatória permite testar os modelos e avalia-los com dados que não participaram do treinamento."
   ]
  },
  {
   "cell_type": "code",
   "execution_count": 44,
   "metadata": {},
   "outputs": [
    {
     "name": "stdout",
     "output_type": "stream",
     "text": [
      "(1221401, 8)\n",
      "(1221401, 1)\n"
     ]
    }
   ],
   "source": [
    "df_features = df_ic_sexo_treino[features_sexo]\n",
    "df_label    = df_ic_sexo_treino[label_ic_sexo]\n",
    "\n",
    "print(df_features.shape)\n",
    "print(df_label.shape)"
   ]
  },
  {
   "cell_type": "code",
   "execution_count": 45,
   "metadata": {},
   "outputs": [
    {
     "name": "stdout",
     "output_type": "stream",
     "text": [
      "(366421, 8) (366421,)\n"
     ]
    }
   ],
   "source": [
    "from sklearn.model_selection import train_test_split\n",
    "\n",
    "X, y = df_features[features_sexo], df_label['ic_sexo']\n",
    "X_train, X_test, y_train, y_test =\\\n",
    "     train_test_split(X, y,\n",
    "                      test_size=0.3, ## -> 30% será usado para treinar e avaliar\n",
    "                      random_state=33,\n",
    "                      shuffle=True)\n",
    "\n",
    "X = X_test\n",
    "y = y_test\n",
    "\n",
    "del X_train, y_train, X_test, y_test\n",
    "\n",
    "print (X.shape, y.shape)"
   ]
  },
  {
   "cell_type": "code",
   "execution_count": 46,
   "metadata": {},
   "outputs": [],
   "source": [
    "from sklearn.preprocessing import LabelEncoder\n",
    "le = LabelEncoder()\n",
    "\n",
    "# aplica no y_train\n",
    "### label = ic_sexo ###\n",
    "###################################\n",
    "###    ic_sexo 1 = M e 0 = F    ###\n",
    "###################################\n",
    "le = le.fit(y)\n",
    "y = le.transform(y)\n",
    "\n",
    "# encoding das variáveis categóricas\n",
    "###################################\n",
    "### ic_tipo_renda 0 = F e 1 = I ###\n",
    "###################################\n",
    "# aplica no X_train\n",
    "le = le.fit(X['ic_tipo_renda'])\n",
    "X['ic_tipo_renda'] = le.transform(X['ic_tipo_renda'])"
   ]
  },
  {
   "cell_type": "code",
   "execution_count": 47,
   "metadata": {},
   "outputs": [
    {
     "name": "stdout",
     "output_type": "stream",
     "text": [
      "0.572224299371488\n",
      "\n",
      "Matriz de confusão:\n",
      "[[100035  81147]\n",
      " [ 75599 109640]]\n",
      "              precision    recall  f1-score   support\n",
      "\n",
      "           0       0.57      0.55      0.56    181182\n",
      "           1       0.57      0.59      0.58    185239\n",
      "\n",
      "    accuracy                           0.57    366421\n",
      "   macro avg       0.57      0.57      0.57    366421\n",
      "weighted avg       0.57      0.57      0.57    366421\n",
      "\n"
     ]
    }
   ],
   "source": [
    "# Modelo final XGBoost\n",
    "predictions = model_xgb.predict(X)\n",
    "\n",
    "print(accuracy_score(y, predictions))\n",
    "print('\\nMatriz de confusão:')\n",
    "print(confusion_matrix(y, predictions))\n",
    "print(classification_report(y, predictions))"
   ]
  },
  {
   "cell_type": "code",
   "execution_count": 48,
   "metadata": {
    "scrolled": true
   },
   "outputs": [
    {
     "name": "stdout",
     "output_type": "stream",
     "text": [
      "0.5545288070279815\n",
      "[[108550  72632]\n",
      " [ 90598  94641]]\n",
      "              precision    recall  f1-score   support\n",
      "\n",
      "           0       0.55      0.60      0.57    181182\n",
      "           1       0.57      0.51      0.54    185239\n",
      "\n",
      "    accuracy                           0.55    366421\n",
      "   macro avg       0.56      0.56      0.55    366421\n",
      "weighted avg       0.56      0.55      0.55    366421\n",
      "\n"
     ]
    }
   ],
   "source": [
    "# Modelo final KNN\n",
    "predictions = model_KNN.predict(X)\n",
    "\n",
    "print(accuracy_score(y, predictions))\n",
    "print(confusion_matrix(y, predictions))\n",
    "print(classification_report(y, predictions))"
   ]
  },
  {
   "cell_type": "code",
   "execution_count": 49,
   "metadata": {},
   "outputs": [
    {
     "name": "stdout",
     "output_type": "stream",
     "text": [
      "0.5553475373955096\n",
      "[[ 80892 100290]\n",
      " [ 62640 122599]]\n",
      "              precision    recall  f1-score   support\n",
      "\n",
      "           0       0.56      0.45      0.50    181182\n",
      "           1       0.55      0.66      0.60    185239\n",
      "\n",
      "    accuracy                           0.56    366421\n",
      "   macro avg       0.56      0.55      0.55    366421\n",
      "weighted avg       0.56      0.56      0.55    366421\n",
      "\n"
     ]
    }
   ],
   "source": [
    "# Modelo final AdaBoost Decision Tree Classifier\n",
    "\n",
    "scaler = StandardScaler().fit(X)\n",
    "rescaledX = scaler.transform(X)\n",
    "\n",
    "model_ADT.fit(rescaledX, y)\n",
    "\n",
    "predictions = model_ADT.predict(rescaledX)\n",
    "\n",
    "print(accuracy_score(y, predictions))\n",
    "print(confusion_matrix(y, predictions))\n",
    "print(classification_report(y, predictions))"
   ]
  },
  {
   "cell_type": "code",
   "execution_count": 50,
   "metadata": {},
   "outputs": [
    {
     "name": "stdout",
     "output_type": "stream",
     "text": [
      "0.5049928906913086\n",
      "[[   124 181058]\n",
      " [   323 184916]]\n",
      "              precision    recall  f1-score   support\n",
      "\n",
      "           0       0.28      0.00      0.00    181182\n",
      "           1       0.51      1.00      0.67    185239\n",
      "\n",
      "    accuracy                           0.50    366421\n",
      "   macro avg       0.39      0.50      0.34    366421\n",
      "weighted avg       0.39      0.50      0.34    366421\n",
      "\n"
     ]
    }
   ],
   "source": [
    "# Modelo final Naïve Bayes Gaussian Classifier\n",
    "scaler = StandardScaler().fit(X)\n",
    "rescaledX = scaler.transform(X)\n",
    "\n",
    "model_NBG =  GaussianNB()\n",
    "\n",
    "model_NBG.fit(rescaledX, y)\n",
    "\n",
    "predictions = model_NBG.predict(rescaledX)\n",
    "\n",
    "print(accuracy_score(y, predictions))\n",
    "print(confusion_matrix(y, predictions))\n",
    "print(classification_report(y, predictions))"
   ]
  },
  {
   "cell_type": "code",
   "execution_count": 51,
   "metadata": {},
   "outputs": [
    {
     "name": "stdout",
     "output_type": "stream",
     "text": [
      "0.49252362719385623\n",
      "[[134074  47108]\n",
      " [138842  46397]]\n",
      "              precision    recall  f1-score   support\n",
      "\n",
      "           0       0.49      0.74      0.59    181182\n",
      "           1       0.50      0.25      0.33    185239\n",
      "\n",
      "    accuracy                           0.49    366421\n",
      "   macro avg       0.49      0.50      0.46    366421\n",
      "weighted avg       0.49      0.49      0.46    366421\n",
      "\n"
     ]
    }
   ],
   "source": [
    "# Modelo final Logistic Regression Classifier\n",
    "\n",
    "scaler = StandardScaler().fit(X)\n",
    "rescaledX = scaler.transform(X)\n",
    "\n",
    "predictions = model_LR.predict(rescaledX)\n",
    "\n",
    "print(accuracy_score(y, predictions))\n",
    "print(confusion_matrix(y, predictions))\n",
    "print(classification_report(y, predictions)) "
   ]
  },
  {
   "cell_type": "code",
   "execution_count": null,
   "metadata": {},
   "outputs": [],
   "source": []
  },
  {
   "cell_type": "markdown",
   "metadata": {},
   "source": [
    "# Preparação do conjunto de dados a ser inferido"
   ]
  },
  {
   "cell_type": "code",
   "execution_count": 52,
   "metadata": {},
   "outputs": [
    {
     "name": "stdout",
     "output_type": "stream",
     "text": [
      "(4846, 8)\n",
      "(4846, 1)\n"
     ]
    },
    {
     "name": "stderr",
     "output_type": "stream",
     "text": [
      "/home/marcello/anaconda3/envs/av/lib/python3.6/site-packages/pandas/core/generic.py:6245: SettingWithCopyWarning: \n",
      "A value is trying to be set on a copy of a slice from a DataFrame\n",
      "\n",
      "See the caveats in the documentation: https://pandas.pydata.org/pandas-docs/stable/user_guide/indexing.html#returning-a-view-versus-a-copy\n",
      "  self._update_inplace(new_data)\n"
     ]
    }
   ],
   "source": [
    "X = df_ic_sexo_inferir[features_sexo]\n",
    "y = df_ic_sexo_inferir[label_ic_sexo]\n",
    "\n",
    "X['vr_renda_bruta'].fillna(0, inplace=True)\n",
    "X['vr_renda_liquida'].fillna(0, inplace=True)\n",
    "\n",
    "print(X.shape)\n",
    "print(y.shape)"
   ]
  },
  {
   "cell_type": "code",
   "execution_count": 53,
   "metadata": {},
   "outputs": [
    {
     "name": "stderr",
     "output_type": "stream",
     "text": [
      "/home/marcello/anaconda3/envs/av/lib/python3.6/site-packages/sklearn/utils/validation.py:73: DataConversionWarning: A column-vector y was passed when a 1d array was expected. Please change the shape of y to (n_samples, ), for example using ravel().\n",
      "  return f(**kwargs)\n",
      "/home/marcello/anaconda3/envs/av/lib/python3.6/site-packages/ipykernel_launcher.py:18: SettingWithCopyWarning: \n",
      "A value is trying to be set on a copy of a slice from a DataFrame.\n",
      "Try using .loc[row_indexer,col_indexer] = value instead\n",
      "\n",
      "See the caveats in the documentation: https://pandas.pydata.org/pandas-docs/stable/user_guide/indexing.html#returning-a-view-versus-a-copy\n"
     ]
    }
   ],
   "source": [
    "from sklearn.preprocessing import LabelEncoder\n",
    "le = LabelEncoder()\n",
    "\n",
    "# aplica no y_train\n",
    "### label = ic_sexo ###\n",
    "###################################\n",
    "###    ic_sexo 1 = M e 0 = F    ###\n",
    "###################################\n",
    "le = le.fit(y)\n",
    "y = le.transform(y)\n",
    "\n",
    "# encoding das variáveis categóricas\n",
    "###################################\n",
    "### ic_tipo_renda 0 = F e 1 = I ###\n",
    "###################################\n",
    "# aplica no X_train\n",
    "le = le.fit(X['ic_tipo_renda'])\n",
    "X['ic_tipo_renda'] = le.transform(X['ic_tipo_renda'])\n",
    "\n",
    "# Quantidade a ser inferida\n",
    "#y.ic_sexo.value_counts()"
   ]
  },
  {
   "cell_type": "markdown",
   "metadata": {},
   "source": [
    "# Aplicar os modelos  \n",
    "## Inferir `0 = F` ou `1 = M` onde ic_sexo = ?  \n",
    "- XGBoost  \n",
    "- AdaBoost(CART)\n",
    "- KNN\n",
    "- Naïve Bayes Gaussian\n",
    "- Logistic Regression"
   ]
  },
  {
   "cell_type": "markdown",
   "metadata": {},
   "source": [
    "### XGBoost"
   ]
  },
  {
   "cell_type": "code",
   "execution_count": 54,
   "metadata": {
    "scrolled": true
   },
   "outputs": [
    {
     "name": "stdout",
     "output_type": "stream",
     "text": [
      "[[3540 1306]\n",
      " [   0    0]]\n"
     ]
    },
    {
     "name": "stderr",
     "output_type": "stream",
     "text": [
      "/home/marcello/anaconda3/envs/av/lib/python3.6/site-packages/ipykernel_launcher.py:9: SettingWithCopyWarning: \n",
      "A value is trying to be set on a copy of a slice from a DataFrame.\n",
      "Try using .loc[row_indexer,col_indexer] = value instead\n",
      "\n",
      "See the caveats in the documentation: https://pandas.pydata.org/pandas-docs/stable/user_guide/indexing.html#returning-a-view-versus-a-copy\n",
      "  if __name__ == '__main__':\n"
     ]
    }
   ],
   "source": [
    "ic_sexo_estimado = model_xgb.predict(X)\n",
    "\n",
    "#print(accuracy_score(y, ic_sexo_estimado))\n",
    "\n",
    "print(confusion_matrix(y, ic_sexo_estimado))\n",
    "\n",
    "#print(classification_report(y, ic_sexo_estimado))\n",
    "                            \n",
    "df_ic_sexo_inferir['ic_sexo_estimado'] = ic_sexo_estimado\n"
   ]
  },
  {
   "cell_type": "code",
   "execution_count": 55,
   "metadata": {},
   "outputs": [
    {
     "data": {
      "text/html": [
       "<div>\n",
       "<style scoped>\n",
       "    .dataframe tbody tr th:only-of-type {\n",
       "        vertical-align: middle;\n",
       "    }\n",
       "\n",
       "    .dataframe tbody tr th {\n",
       "        vertical-align: top;\n",
       "    }\n",
       "\n",
       "    .dataframe thead th {\n",
       "        text-align: right;\n",
       "    }\n",
       "</style>\n",
       "<table border=\"1\" class=\"dataframe\">\n",
       "  <thead>\n",
       "    <tr style=\"text-align: right;\">\n",
       "      <th></th>\n",
       "      <th>nu_pessoa</th>\n",
       "      <th>dt_nascimento</th>\n",
       "      <th>ic_tipo_renda</th>\n",
       "      <th>vr_renda_bruta</th>\n",
       "      <th>vr_renda_liquida</th>\n",
       "      <th>ic_infmo_renda</th>\n",
       "      <th>dt_apuracao_renda</th>\n",
       "      <th>ic_sexo</th>\n",
       "      <th>ic_situacao</th>\n",
       "      <th>ic_inconsistencia</th>\n",
       "      <th>nu_estdo_civil_p27</th>\n",
       "      <th>idade</th>\n",
       "      <th>valido</th>\n",
       "      <th>ic_sexo_estimado</th>\n",
       "    </tr>\n",
       "  </thead>\n",
       "  <tbody>\n",
       "    <tr>\n",
       "      <th>9278</th>\n",
       "      <td>2760103921276</td>\n",
       "      <td>1993-07-12</td>\n",
       "      <td>F</td>\n",
       "      <td>1075.75</td>\n",
       "      <td>1075.75</td>\n",
       "      <td>6.0</td>\n",
       "      <td>201806</td>\n",
       "      <td>?</td>\n",
       "      <td>1</td>\n",
       "      <td>N</td>\n",
       "      <td>0</td>\n",
       "      <td>27</td>\n",
       "      <td>True</td>\n",
       "      <td>0</td>\n",
       "    </tr>\n",
       "    <tr>\n",
       "      <th>10582</th>\n",
       "      <td>1440125192144</td>\n",
       "      <td>1994-02-14</td>\n",
       "      <td>F</td>\n",
       "      <td>0.00</td>\n",
       "      <td>0.00</td>\n",
       "      <td>2.0</td>\n",
       "      <td>201912</td>\n",
       "      <td>?</td>\n",
       "      <td>1</td>\n",
       "      <td>N</td>\n",
       "      <td>1</td>\n",
       "      <td>26</td>\n",
       "      <td>True</td>\n",
       "      <td>1</td>\n",
       "    </tr>\n",
       "    <tr>\n",
       "      <th>18671</th>\n",
       "      <td>7480156353748</td>\n",
       "      <td>1990-11-20</td>\n",
       "      <td>F</td>\n",
       "      <td>1144.96</td>\n",
       "      <td>1053.00</td>\n",
       "      <td>6.0</td>\n",
       "      <td>202002</td>\n",
       "      <td>?</td>\n",
       "      <td>1</td>\n",
       "      <td>N</td>\n",
       "      <td>0</td>\n",
       "      <td>29</td>\n",
       "      <td>True</td>\n",
       "      <td>0</td>\n",
       "    </tr>\n",
       "    <tr>\n",
       "      <th>29427</th>\n",
       "      <td>2510211999251</td>\n",
       "      <td>1980-03-29</td>\n",
       "      <td>F</td>\n",
       "      <td>0.00</td>\n",
       "      <td>0.00</td>\n",
       "      <td>2.0</td>\n",
       "      <td>202003</td>\n",
       "      <td>?</td>\n",
       "      <td>1</td>\n",
       "      <td>N</td>\n",
       "      <td>1</td>\n",
       "      <td>40</td>\n",
       "      <td>True</td>\n",
       "      <td>0</td>\n",
       "    </tr>\n",
       "    <tr>\n",
       "      <th>30119</th>\n",
       "      <td>3520063738352</td>\n",
       "      <td>1984-06-27</td>\n",
       "      <td>F</td>\n",
       "      <td>0.00</td>\n",
       "      <td>0.00</td>\n",
       "      <td>2.0</td>\n",
       "      <td>202001</td>\n",
       "      <td>?</td>\n",
       "      <td>1</td>\n",
       "      <td>N</td>\n",
       "      <td>1</td>\n",
       "      <td>36</td>\n",
       "      <td>True</td>\n",
       "      <td>1</td>\n",
       "    </tr>\n",
       "    <tr>\n",
       "      <th>...</th>\n",
       "      <td>...</td>\n",
       "      <td>...</td>\n",
       "      <td>...</td>\n",
       "      <td>...</td>\n",
       "      <td>...</td>\n",
       "      <td>...</td>\n",
       "      <td>...</td>\n",
       "      <td>...</td>\n",
       "      <td>...</td>\n",
       "      <td>...</td>\n",
       "      <td>...</td>\n",
       "      <td>...</td>\n",
       "      <td>...</td>\n",
       "      <td>...</td>\n",
       "    </tr>\n",
       "    <tr>\n",
       "      <th>2381481</th>\n",
       "      <td>1650115035165</td>\n",
       "      <td>1948-11-21</td>\n",
       "      <td>?</td>\n",
       "      <td>NaN</td>\n",
       "      <td>NaN</td>\n",
       "      <td>0.0</td>\n",
       "      <td>0</td>\n",
       "      <td>?</td>\n",
       "      <td>1</td>\n",
       "      <td>N</td>\n",
       "      <td>0</td>\n",
       "      <td>71</td>\n",
       "      <td>False</td>\n",
       "      <td>0</td>\n",
       "    </tr>\n",
       "    <tr>\n",
       "      <th>2381585</th>\n",
       "      <td>3340020367334</td>\n",
       "      <td>1957-06-28</td>\n",
       "      <td>?</td>\n",
       "      <td>NaN</td>\n",
       "      <td>NaN</td>\n",
       "      <td>0.0</td>\n",
       "      <td>0</td>\n",
       "      <td>?</td>\n",
       "      <td>1</td>\n",
       "      <td>S</td>\n",
       "      <td>0</td>\n",
       "      <td>63</td>\n",
       "      <td>False</td>\n",
       "      <td>0</td>\n",
       "    </tr>\n",
       "    <tr>\n",
       "      <th>2381834</th>\n",
       "      <td>1160004740116</td>\n",
       "      <td>1935-09-14</td>\n",
       "      <td>?</td>\n",
       "      <td>NaN</td>\n",
       "      <td>NaN</td>\n",
       "      <td>0.0</td>\n",
       "      <td>0</td>\n",
       "      <td>?</td>\n",
       "      <td>1</td>\n",
       "      <td>S</td>\n",
       "      <td>0</td>\n",
       "      <td>84</td>\n",
       "      <td>False</td>\n",
       "      <td>0</td>\n",
       "    </tr>\n",
       "    <tr>\n",
       "      <th>2381957</th>\n",
       "      <td>6540119734654</td>\n",
       "      <td>1969-04-05</td>\n",
       "      <td>?</td>\n",
       "      <td>NaN</td>\n",
       "      <td>NaN</td>\n",
       "      <td>0.0</td>\n",
       "      <td>0</td>\n",
       "      <td>?</td>\n",
       "      <td>1</td>\n",
       "      <td>N</td>\n",
       "      <td>0</td>\n",
       "      <td>51</td>\n",
       "      <td>False</td>\n",
       "      <td>0</td>\n",
       "    </tr>\n",
       "    <tr>\n",
       "      <th>2382020</th>\n",
       "      <td>2340104821234</td>\n",
       "      <td>1988-09-23</td>\n",
       "      <td>?</td>\n",
       "      <td>NaN</td>\n",
       "      <td>NaN</td>\n",
       "      <td>0.0</td>\n",
       "      <td>0</td>\n",
       "      <td>?</td>\n",
       "      <td>1</td>\n",
       "      <td>N</td>\n",
       "      <td>9</td>\n",
       "      <td>31</td>\n",
       "      <td>False</td>\n",
       "      <td>0</td>\n",
       "    </tr>\n",
       "  </tbody>\n",
       "</table>\n",
       "<p>4846 rows × 14 columns</p>\n",
       "</div>"
      ],
      "text/plain": [
       "             nu_pessoa dt_nascimento ic_tipo_renda  vr_renda_bruta  \\\n",
       "9278     2760103921276    1993-07-12             F         1075.75   \n",
       "10582    1440125192144    1994-02-14             F            0.00   \n",
       "18671    7480156353748    1990-11-20             F         1144.96   \n",
       "29427    2510211999251    1980-03-29             F            0.00   \n",
       "30119    3520063738352    1984-06-27             F            0.00   \n",
       "...                ...           ...           ...             ...   \n",
       "2381481  1650115035165    1948-11-21             ?             NaN   \n",
       "2381585  3340020367334    1957-06-28             ?             NaN   \n",
       "2381834  1160004740116    1935-09-14             ?             NaN   \n",
       "2381957  6540119734654    1969-04-05             ?             NaN   \n",
       "2382020  2340104821234    1988-09-23             ?             NaN   \n",
       "\n",
       "         vr_renda_liquida  ic_infmo_renda  dt_apuracao_renda ic_sexo  \\\n",
       "9278              1075.75             6.0             201806       ?   \n",
       "10582                0.00             2.0             201912       ?   \n",
       "18671             1053.00             6.0             202002       ?   \n",
       "29427                0.00             2.0             202003       ?   \n",
       "30119                0.00             2.0             202001       ?   \n",
       "...                   ...             ...                ...     ...   \n",
       "2381481               NaN             0.0                  0       ?   \n",
       "2381585               NaN             0.0                  0       ?   \n",
       "2381834               NaN             0.0                  0       ?   \n",
       "2381957               NaN             0.0                  0       ?   \n",
       "2382020               NaN             0.0                  0       ?   \n",
       "\n",
       "         ic_situacao ic_inconsistencia  nu_estdo_civil_p27  idade  valido  \\\n",
       "9278               1                 N                   0     27    True   \n",
       "10582              1                 N                   1     26    True   \n",
       "18671              1                 N                   0     29    True   \n",
       "29427              1                 N                   1     40    True   \n",
       "30119              1                 N                   1     36    True   \n",
       "...              ...               ...                 ...    ...     ...   \n",
       "2381481            1                 N                   0     71   False   \n",
       "2381585            1                 S                   0     63   False   \n",
       "2381834            1                 S                   0     84   False   \n",
       "2381957            1                 N                   0     51   False   \n",
       "2382020            1                 N                   9     31   False   \n",
       "\n",
       "         ic_sexo_estimado  \n",
       "9278                    0  \n",
       "10582                   1  \n",
       "18671                   0  \n",
       "29427                   0  \n",
       "30119                   1  \n",
       "...                   ...  \n",
       "2381481                 0  \n",
       "2381585                 0  \n",
       "2381834                 0  \n",
       "2381957                 0  \n",
       "2382020                 0  \n",
       "\n",
       "[4846 rows x 14 columns]"
      ]
     },
     "execution_count": 55,
     "metadata": {},
     "output_type": "execute_result"
    }
   ],
   "source": [
    "df_ic_sexo_inferir"
   ]
  },
  {
   "cell_type": "markdown",
   "metadata": {},
   "source": [
    "# KNN"
   ]
  },
  {
   "cell_type": "code",
   "execution_count": 56,
   "metadata": {},
   "outputs": [
    {
     "name": "stdout",
     "output_type": "stream",
     "text": [
      "[[4520  326]\n",
      " [   0    0]]\n"
     ]
    },
    {
     "name": "stderr",
     "output_type": "stream",
     "text": [
      "/home/marcello/anaconda3/envs/av/lib/python3.6/site-packages/ipykernel_launcher.py:9: SettingWithCopyWarning: \n",
      "A value is trying to be set on a copy of a slice from a DataFrame.\n",
      "Try using .loc[row_indexer,col_indexer] = value instead\n",
      "\n",
      "See the caveats in the documentation: https://pandas.pydata.org/pandas-docs/stable/user_guide/indexing.html#returning-a-view-versus-a-copy\n",
      "  if __name__ == '__main__':\n"
     ]
    },
    {
     "data": {
      "text/html": [
       "<div>\n",
       "<style scoped>\n",
       "    .dataframe tbody tr th:only-of-type {\n",
       "        vertical-align: middle;\n",
       "    }\n",
       "\n",
       "    .dataframe tbody tr th {\n",
       "        vertical-align: top;\n",
       "    }\n",
       "\n",
       "    .dataframe thead th {\n",
       "        text-align: right;\n",
       "    }\n",
       "</style>\n",
       "<table border=\"1\" class=\"dataframe\">\n",
       "  <thead>\n",
       "    <tr style=\"text-align: right;\">\n",
       "      <th></th>\n",
       "      <th>nu_pessoa</th>\n",
       "      <th>dt_nascimento</th>\n",
       "      <th>ic_tipo_renda</th>\n",
       "      <th>vr_renda_bruta</th>\n",
       "      <th>vr_renda_liquida</th>\n",
       "      <th>ic_infmo_renda</th>\n",
       "      <th>dt_apuracao_renda</th>\n",
       "      <th>ic_sexo</th>\n",
       "      <th>ic_situacao</th>\n",
       "      <th>ic_inconsistencia</th>\n",
       "      <th>nu_estdo_civil_p27</th>\n",
       "      <th>idade</th>\n",
       "      <th>valido</th>\n",
       "      <th>ic_sexo_estimado</th>\n",
       "    </tr>\n",
       "  </thead>\n",
       "  <tbody>\n",
       "    <tr>\n",
       "      <th>9278</th>\n",
       "      <td>2760103921276</td>\n",
       "      <td>1993-07-12</td>\n",
       "      <td>F</td>\n",
       "      <td>1075.75</td>\n",
       "      <td>1075.75</td>\n",
       "      <td>6.0</td>\n",
       "      <td>201806</td>\n",
       "      <td>?</td>\n",
       "      <td>1</td>\n",
       "      <td>N</td>\n",
       "      <td>0</td>\n",
       "      <td>27</td>\n",
       "      <td>True</td>\n",
       "      <td>0</td>\n",
       "    </tr>\n",
       "    <tr>\n",
       "      <th>10582</th>\n",
       "      <td>1440125192144</td>\n",
       "      <td>1994-02-14</td>\n",
       "      <td>F</td>\n",
       "      <td>0.00</td>\n",
       "      <td>0.00</td>\n",
       "      <td>2.0</td>\n",
       "      <td>201912</td>\n",
       "      <td>?</td>\n",
       "      <td>1</td>\n",
       "      <td>N</td>\n",
       "      <td>1</td>\n",
       "      <td>26</td>\n",
       "      <td>True</td>\n",
       "      <td>1</td>\n",
       "    </tr>\n",
       "    <tr>\n",
       "      <th>18671</th>\n",
       "      <td>7480156353748</td>\n",
       "      <td>1990-11-20</td>\n",
       "      <td>F</td>\n",
       "      <td>1144.96</td>\n",
       "      <td>1053.00</td>\n",
       "      <td>6.0</td>\n",
       "      <td>202002</td>\n",
       "      <td>?</td>\n",
       "      <td>1</td>\n",
       "      <td>N</td>\n",
       "      <td>0</td>\n",
       "      <td>29</td>\n",
       "      <td>True</td>\n",
       "      <td>0</td>\n",
       "    </tr>\n",
       "    <tr>\n",
       "      <th>29427</th>\n",
       "      <td>2510211999251</td>\n",
       "      <td>1980-03-29</td>\n",
       "      <td>F</td>\n",
       "      <td>0.00</td>\n",
       "      <td>0.00</td>\n",
       "      <td>2.0</td>\n",
       "      <td>202003</td>\n",
       "      <td>?</td>\n",
       "      <td>1</td>\n",
       "      <td>N</td>\n",
       "      <td>1</td>\n",
       "      <td>40</td>\n",
       "      <td>True</td>\n",
       "      <td>0</td>\n",
       "    </tr>\n",
       "    <tr>\n",
       "      <th>30119</th>\n",
       "      <td>3520063738352</td>\n",
       "      <td>1984-06-27</td>\n",
       "      <td>F</td>\n",
       "      <td>0.00</td>\n",
       "      <td>0.00</td>\n",
       "      <td>2.0</td>\n",
       "      <td>202001</td>\n",
       "      <td>?</td>\n",
       "      <td>1</td>\n",
       "      <td>N</td>\n",
       "      <td>1</td>\n",
       "      <td>36</td>\n",
       "      <td>True</td>\n",
       "      <td>1</td>\n",
       "    </tr>\n",
       "    <tr>\n",
       "      <th>...</th>\n",
       "      <td>...</td>\n",
       "      <td>...</td>\n",
       "      <td>...</td>\n",
       "      <td>...</td>\n",
       "      <td>...</td>\n",
       "      <td>...</td>\n",
       "      <td>...</td>\n",
       "      <td>...</td>\n",
       "      <td>...</td>\n",
       "      <td>...</td>\n",
       "      <td>...</td>\n",
       "      <td>...</td>\n",
       "      <td>...</td>\n",
       "      <td>...</td>\n",
       "    </tr>\n",
       "    <tr>\n",
       "      <th>2381481</th>\n",
       "      <td>1650115035165</td>\n",
       "      <td>1948-11-21</td>\n",
       "      <td>?</td>\n",
       "      <td>NaN</td>\n",
       "      <td>NaN</td>\n",
       "      <td>0.0</td>\n",
       "      <td>0</td>\n",
       "      <td>?</td>\n",
       "      <td>1</td>\n",
       "      <td>N</td>\n",
       "      <td>0</td>\n",
       "      <td>71</td>\n",
       "      <td>False</td>\n",
       "      <td>0</td>\n",
       "    </tr>\n",
       "    <tr>\n",
       "      <th>2381585</th>\n",
       "      <td>3340020367334</td>\n",
       "      <td>1957-06-28</td>\n",
       "      <td>?</td>\n",
       "      <td>NaN</td>\n",
       "      <td>NaN</td>\n",
       "      <td>0.0</td>\n",
       "      <td>0</td>\n",
       "      <td>?</td>\n",
       "      <td>1</td>\n",
       "      <td>S</td>\n",
       "      <td>0</td>\n",
       "      <td>63</td>\n",
       "      <td>False</td>\n",
       "      <td>0</td>\n",
       "    </tr>\n",
       "    <tr>\n",
       "      <th>2381834</th>\n",
       "      <td>1160004740116</td>\n",
       "      <td>1935-09-14</td>\n",
       "      <td>?</td>\n",
       "      <td>NaN</td>\n",
       "      <td>NaN</td>\n",
       "      <td>0.0</td>\n",
       "      <td>0</td>\n",
       "      <td>?</td>\n",
       "      <td>1</td>\n",
       "      <td>S</td>\n",
       "      <td>0</td>\n",
       "      <td>84</td>\n",
       "      <td>False</td>\n",
       "      <td>0</td>\n",
       "    </tr>\n",
       "    <tr>\n",
       "      <th>2381957</th>\n",
       "      <td>6540119734654</td>\n",
       "      <td>1969-04-05</td>\n",
       "      <td>?</td>\n",
       "      <td>NaN</td>\n",
       "      <td>NaN</td>\n",
       "      <td>0.0</td>\n",
       "      <td>0</td>\n",
       "      <td>?</td>\n",
       "      <td>1</td>\n",
       "      <td>N</td>\n",
       "      <td>0</td>\n",
       "      <td>51</td>\n",
       "      <td>False</td>\n",
       "      <td>0</td>\n",
       "    </tr>\n",
       "    <tr>\n",
       "      <th>2382020</th>\n",
       "      <td>2340104821234</td>\n",
       "      <td>1988-09-23</td>\n",
       "      <td>?</td>\n",
       "      <td>NaN</td>\n",
       "      <td>NaN</td>\n",
       "      <td>0.0</td>\n",
       "      <td>0</td>\n",
       "      <td>?</td>\n",
       "      <td>1</td>\n",
       "      <td>N</td>\n",
       "      <td>9</td>\n",
       "      <td>31</td>\n",
       "      <td>False</td>\n",
       "      <td>0</td>\n",
       "    </tr>\n",
       "  </tbody>\n",
       "</table>\n",
       "<p>4846 rows × 14 columns</p>\n",
       "</div>"
      ],
      "text/plain": [
       "             nu_pessoa dt_nascimento ic_tipo_renda  vr_renda_bruta  \\\n",
       "9278     2760103921276    1993-07-12             F         1075.75   \n",
       "10582    1440125192144    1994-02-14             F            0.00   \n",
       "18671    7480156353748    1990-11-20             F         1144.96   \n",
       "29427    2510211999251    1980-03-29             F            0.00   \n",
       "30119    3520063738352    1984-06-27             F            0.00   \n",
       "...                ...           ...           ...             ...   \n",
       "2381481  1650115035165    1948-11-21             ?             NaN   \n",
       "2381585  3340020367334    1957-06-28             ?             NaN   \n",
       "2381834  1160004740116    1935-09-14             ?             NaN   \n",
       "2381957  6540119734654    1969-04-05             ?             NaN   \n",
       "2382020  2340104821234    1988-09-23             ?             NaN   \n",
       "\n",
       "         vr_renda_liquida  ic_infmo_renda  dt_apuracao_renda ic_sexo  \\\n",
       "9278              1075.75             6.0             201806       ?   \n",
       "10582                0.00             2.0             201912       ?   \n",
       "18671             1053.00             6.0             202002       ?   \n",
       "29427                0.00             2.0             202003       ?   \n",
       "30119                0.00             2.0             202001       ?   \n",
       "...                   ...             ...                ...     ...   \n",
       "2381481               NaN             0.0                  0       ?   \n",
       "2381585               NaN             0.0                  0       ?   \n",
       "2381834               NaN             0.0                  0       ?   \n",
       "2381957               NaN             0.0                  0       ?   \n",
       "2382020               NaN             0.0                  0       ?   \n",
       "\n",
       "         ic_situacao ic_inconsistencia  nu_estdo_civil_p27  idade  valido  \\\n",
       "9278               1                 N                   0     27    True   \n",
       "10582              1                 N                   1     26    True   \n",
       "18671              1                 N                   0     29    True   \n",
       "29427              1                 N                   1     40    True   \n",
       "30119              1                 N                   1     36    True   \n",
       "...              ...               ...                 ...    ...     ...   \n",
       "2381481            1                 N                   0     71   False   \n",
       "2381585            1                 S                   0     63   False   \n",
       "2381834            1                 S                   0     84   False   \n",
       "2381957            1                 N                   0     51   False   \n",
       "2382020            1                 N                   9     31   False   \n",
       "\n",
       "         ic_sexo_estimado  \n",
       "9278                    0  \n",
       "10582                   1  \n",
       "18671                   0  \n",
       "29427                   0  \n",
       "30119                   1  \n",
       "...                   ...  \n",
       "2381481                 0  \n",
       "2381585                 0  \n",
       "2381834                 0  \n",
       "2381957                 0  \n",
       "2382020                 0  \n",
       "\n",
       "[4846 rows x 14 columns]"
      ]
     },
     "execution_count": 56,
     "metadata": {},
     "output_type": "execute_result"
    }
   ],
   "source": [
    "ic_sexo_estimado = model_KNN.predict(X)\n",
    "\n",
    "#print(accuracy_score(y, ic_sexo_estimado))\n",
    "\n",
    "print(confusion_matrix(y, ic_sexo_estimado))\n",
    "\n",
    "#print(classification_report(y, ic_sexo_estimado))\n",
    "                            \n",
    "df_ic_sexo_inferir['ic_sexo_estimado'] = ic_sexo_estimado\n",
    "df_ic_sexo_inferir"
   ]
  },
  {
   "cell_type": "markdown",
   "metadata": {},
   "source": [
    "# Naïve Bayes Gaussian"
   ]
  },
  {
   "cell_type": "code",
   "execution_count": 57,
   "metadata": {},
   "outputs": [
    {
     "name": "stdout",
     "output_type": "stream",
     "text": [
      "[[4846]]\n"
     ]
    },
    {
     "name": "stderr",
     "output_type": "stream",
     "text": [
      "/home/marcello/anaconda3/envs/av/lib/python3.6/site-packages/ipykernel_launcher.py:9: SettingWithCopyWarning: \n",
      "A value is trying to be set on a copy of a slice from a DataFrame.\n",
      "Try using .loc[row_indexer,col_indexer] = value instead\n",
      "\n",
      "See the caveats in the documentation: https://pandas.pydata.org/pandas-docs/stable/user_guide/indexing.html#returning-a-view-versus-a-copy\n",
      "  if __name__ == '__main__':\n"
     ]
    },
    {
     "data": {
      "text/html": [
       "<div>\n",
       "<style scoped>\n",
       "    .dataframe tbody tr th:only-of-type {\n",
       "        vertical-align: middle;\n",
       "    }\n",
       "\n",
       "    .dataframe tbody tr th {\n",
       "        vertical-align: top;\n",
       "    }\n",
       "\n",
       "    .dataframe thead th {\n",
       "        text-align: right;\n",
       "    }\n",
       "</style>\n",
       "<table border=\"1\" class=\"dataframe\">\n",
       "  <thead>\n",
       "    <tr style=\"text-align: right;\">\n",
       "      <th></th>\n",
       "      <th>nu_pessoa</th>\n",
       "      <th>dt_nascimento</th>\n",
       "      <th>ic_tipo_renda</th>\n",
       "      <th>vr_renda_bruta</th>\n",
       "      <th>vr_renda_liquida</th>\n",
       "      <th>ic_infmo_renda</th>\n",
       "      <th>dt_apuracao_renda</th>\n",
       "      <th>ic_sexo</th>\n",
       "      <th>ic_situacao</th>\n",
       "      <th>ic_inconsistencia</th>\n",
       "      <th>nu_estdo_civil_p27</th>\n",
       "      <th>idade</th>\n",
       "      <th>valido</th>\n",
       "      <th>ic_sexo_estimado</th>\n",
       "    </tr>\n",
       "  </thead>\n",
       "  <tbody>\n",
       "    <tr>\n",
       "      <th>9278</th>\n",
       "      <td>2760103921276</td>\n",
       "      <td>1993-07-12</td>\n",
       "      <td>F</td>\n",
       "      <td>1075.75</td>\n",
       "      <td>1075.75</td>\n",
       "      <td>6.0</td>\n",
       "      <td>201806</td>\n",
       "      <td>?</td>\n",
       "      <td>1</td>\n",
       "      <td>N</td>\n",
       "      <td>0</td>\n",
       "      <td>27</td>\n",
       "      <td>True</td>\n",
       "      <td>0</td>\n",
       "    </tr>\n",
       "    <tr>\n",
       "      <th>10582</th>\n",
       "      <td>1440125192144</td>\n",
       "      <td>1994-02-14</td>\n",
       "      <td>F</td>\n",
       "      <td>0.00</td>\n",
       "      <td>0.00</td>\n",
       "      <td>2.0</td>\n",
       "      <td>201912</td>\n",
       "      <td>?</td>\n",
       "      <td>1</td>\n",
       "      <td>N</td>\n",
       "      <td>1</td>\n",
       "      <td>26</td>\n",
       "      <td>True</td>\n",
       "      <td>0</td>\n",
       "    </tr>\n",
       "    <tr>\n",
       "      <th>18671</th>\n",
       "      <td>7480156353748</td>\n",
       "      <td>1990-11-20</td>\n",
       "      <td>F</td>\n",
       "      <td>1144.96</td>\n",
       "      <td>1053.00</td>\n",
       "      <td>6.0</td>\n",
       "      <td>202002</td>\n",
       "      <td>?</td>\n",
       "      <td>1</td>\n",
       "      <td>N</td>\n",
       "      <td>0</td>\n",
       "      <td>29</td>\n",
       "      <td>True</td>\n",
       "      <td>0</td>\n",
       "    </tr>\n",
       "    <tr>\n",
       "      <th>29427</th>\n",
       "      <td>2510211999251</td>\n",
       "      <td>1980-03-29</td>\n",
       "      <td>F</td>\n",
       "      <td>0.00</td>\n",
       "      <td>0.00</td>\n",
       "      <td>2.0</td>\n",
       "      <td>202003</td>\n",
       "      <td>?</td>\n",
       "      <td>1</td>\n",
       "      <td>N</td>\n",
       "      <td>1</td>\n",
       "      <td>40</td>\n",
       "      <td>True</td>\n",
       "      <td>0</td>\n",
       "    </tr>\n",
       "    <tr>\n",
       "      <th>30119</th>\n",
       "      <td>3520063738352</td>\n",
       "      <td>1984-06-27</td>\n",
       "      <td>F</td>\n",
       "      <td>0.00</td>\n",
       "      <td>0.00</td>\n",
       "      <td>2.0</td>\n",
       "      <td>202001</td>\n",
       "      <td>?</td>\n",
       "      <td>1</td>\n",
       "      <td>N</td>\n",
       "      <td>1</td>\n",
       "      <td>36</td>\n",
       "      <td>True</td>\n",
       "      <td>0</td>\n",
       "    </tr>\n",
       "    <tr>\n",
       "      <th>...</th>\n",
       "      <td>...</td>\n",
       "      <td>...</td>\n",
       "      <td>...</td>\n",
       "      <td>...</td>\n",
       "      <td>...</td>\n",
       "      <td>...</td>\n",
       "      <td>...</td>\n",
       "      <td>...</td>\n",
       "      <td>...</td>\n",
       "      <td>...</td>\n",
       "      <td>...</td>\n",
       "      <td>...</td>\n",
       "      <td>...</td>\n",
       "      <td>...</td>\n",
       "    </tr>\n",
       "    <tr>\n",
       "      <th>2381481</th>\n",
       "      <td>1650115035165</td>\n",
       "      <td>1948-11-21</td>\n",
       "      <td>?</td>\n",
       "      <td>NaN</td>\n",
       "      <td>NaN</td>\n",
       "      <td>0.0</td>\n",
       "      <td>0</td>\n",
       "      <td>?</td>\n",
       "      <td>1</td>\n",
       "      <td>N</td>\n",
       "      <td>0</td>\n",
       "      <td>71</td>\n",
       "      <td>False</td>\n",
       "      <td>0</td>\n",
       "    </tr>\n",
       "    <tr>\n",
       "      <th>2381585</th>\n",
       "      <td>3340020367334</td>\n",
       "      <td>1957-06-28</td>\n",
       "      <td>?</td>\n",
       "      <td>NaN</td>\n",
       "      <td>NaN</td>\n",
       "      <td>0.0</td>\n",
       "      <td>0</td>\n",
       "      <td>?</td>\n",
       "      <td>1</td>\n",
       "      <td>S</td>\n",
       "      <td>0</td>\n",
       "      <td>63</td>\n",
       "      <td>False</td>\n",
       "      <td>0</td>\n",
       "    </tr>\n",
       "    <tr>\n",
       "      <th>2381834</th>\n",
       "      <td>1160004740116</td>\n",
       "      <td>1935-09-14</td>\n",
       "      <td>?</td>\n",
       "      <td>NaN</td>\n",
       "      <td>NaN</td>\n",
       "      <td>0.0</td>\n",
       "      <td>0</td>\n",
       "      <td>?</td>\n",
       "      <td>1</td>\n",
       "      <td>S</td>\n",
       "      <td>0</td>\n",
       "      <td>84</td>\n",
       "      <td>False</td>\n",
       "      <td>0</td>\n",
       "    </tr>\n",
       "    <tr>\n",
       "      <th>2381957</th>\n",
       "      <td>6540119734654</td>\n",
       "      <td>1969-04-05</td>\n",
       "      <td>?</td>\n",
       "      <td>NaN</td>\n",
       "      <td>NaN</td>\n",
       "      <td>0.0</td>\n",
       "      <td>0</td>\n",
       "      <td>?</td>\n",
       "      <td>1</td>\n",
       "      <td>N</td>\n",
       "      <td>0</td>\n",
       "      <td>51</td>\n",
       "      <td>False</td>\n",
       "      <td>0</td>\n",
       "    </tr>\n",
       "    <tr>\n",
       "      <th>2382020</th>\n",
       "      <td>2340104821234</td>\n",
       "      <td>1988-09-23</td>\n",
       "      <td>?</td>\n",
       "      <td>NaN</td>\n",
       "      <td>NaN</td>\n",
       "      <td>0.0</td>\n",
       "      <td>0</td>\n",
       "      <td>?</td>\n",
       "      <td>1</td>\n",
       "      <td>N</td>\n",
       "      <td>9</td>\n",
       "      <td>31</td>\n",
       "      <td>False</td>\n",
       "      <td>0</td>\n",
       "    </tr>\n",
       "  </tbody>\n",
       "</table>\n",
       "<p>4846 rows × 14 columns</p>\n",
       "</div>"
      ],
      "text/plain": [
       "             nu_pessoa dt_nascimento ic_tipo_renda  vr_renda_bruta  \\\n",
       "9278     2760103921276    1993-07-12             F         1075.75   \n",
       "10582    1440125192144    1994-02-14             F            0.00   \n",
       "18671    7480156353748    1990-11-20             F         1144.96   \n",
       "29427    2510211999251    1980-03-29             F            0.00   \n",
       "30119    3520063738352    1984-06-27             F            0.00   \n",
       "...                ...           ...           ...             ...   \n",
       "2381481  1650115035165    1948-11-21             ?             NaN   \n",
       "2381585  3340020367334    1957-06-28             ?             NaN   \n",
       "2381834  1160004740116    1935-09-14             ?             NaN   \n",
       "2381957  6540119734654    1969-04-05             ?             NaN   \n",
       "2382020  2340104821234    1988-09-23             ?             NaN   \n",
       "\n",
       "         vr_renda_liquida  ic_infmo_renda  dt_apuracao_renda ic_sexo  \\\n",
       "9278              1075.75             6.0             201806       ?   \n",
       "10582                0.00             2.0             201912       ?   \n",
       "18671             1053.00             6.0             202002       ?   \n",
       "29427                0.00             2.0             202003       ?   \n",
       "30119                0.00             2.0             202001       ?   \n",
       "...                   ...             ...                ...     ...   \n",
       "2381481               NaN             0.0                  0       ?   \n",
       "2381585               NaN             0.0                  0       ?   \n",
       "2381834               NaN             0.0                  0       ?   \n",
       "2381957               NaN             0.0                  0       ?   \n",
       "2382020               NaN             0.0                  0       ?   \n",
       "\n",
       "         ic_situacao ic_inconsistencia  nu_estdo_civil_p27  idade  valido  \\\n",
       "9278               1                 N                   0     27    True   \n",
       "10582              1                 N                   1     26    True   \n",
       "18671              1                 N                   0     29    True   \n",
       "29427              1                 N                   1     40    True   \n",
       "30119              1                 N                   1     36    True   \n",
       "...              ...               ...                 ...    ...     ...   \n",
       "2381481            1                 N                   0     71   False   \n",
       "2381585            1                 S                   0     63   False   \n",
       "2381834            1                 S                   0     84   False   \n",
       "2381957            1                 N                   0     51   False   \n",
       "2382020            1                 N                   9     31   False   \n",
       "\n",
       "         ic_sexo_estimado  \n",
       "9278                    0  \n",
       "10582                   0  \n",
       "18671                   0  \n",
       "29427                   0  \n",
       "30119                   0  \n",
       "...                   ...  \n",
       "2381481                 0  \n",
       "2381585                 0  \n",
       "2381834                 0  \n",
       "2381957                 0  \n",
       "2382020                 0  \n",
       "\n",
       "[4846 rows x 14 columns]"
      ]
     },
     "execution_count": 57,
     "metadata": {},
     "output_type": "execute_result"
    }
   ],
   "source": [
    "ic_sexo_estimado = model_NBG.predict(X)\n",
    "\n",
    "#print(accuracy_score(y, ic_sexo_estimado))\n",
    "\n",
    "print(confusion_matrix(y, ic_sexo_estimado))\n",
    "\n",
    "#print(classification_report(y, ic_sexo_estimado))\n",
    "                            \n",
    "df_ic_sexo_inferir['ic_sexo_estimado'] = ic_sexo_estimado\n",
    "df_ic_sexo_inferir"
   ]
  },
  {
   "cell_type": "markdown",
   "metadata": {},
   "source": [
    "# AdaBoost(CART)"
   ]
  },
  {
   "cell_type": "code",
   "execution_count": 58,
   "metadata": {},
   "outputs": [
    {
     "name": "stdout",
     "output_type": "stream",
     "text": [
      "[[   0 4846]\n",
      " [   0    0]]\n"
     ]
    },
    {
     "name": "stderr",
     "output_type": "stream",
     "text": [
      "/home/marcello/anaconda3/envs/av/lib/python3.6/site-packages/ipykernel_launcher.py:9: SettingWithCopyWarning: \n",
      "A value is trying to be set on a copy of a slice from a DataFrame.\n",
      "Try using .loc[row_indexer,col_indexer] = value instead\n",
      "\n",
      "See the caveats in the documentation: https://pandas.pydata.org/pandas-docs/stable/user_guide/indexing.html#returning-a-view-versus-a-copy\n",
      "  if __name__ == '__main__':\n"
     ]
    },
    {
     "data": {
      "text/html": [
       "<div>\n",
       "<style scoped>\n",
       "    .dataframe tbody tr th:only-of-type {\n",
       "        vertical-align: middle;\n",
       "    }\n",
       "\n",
       "    .dataframe tbody tr th {\n",
       "        vertical-align: top;\n",
       "    }\n",
       "\n",
       "    .dataframe thead th {\n",
       "        text-align: right;\n",
       "    }\n",
       "</style>\n",
       "<table border=\"1\" class=\"dataframe\">\n",
       "  <thead>\n",
       "    <tr style=\"text-align: right;\">\n",
       "      <th></th>\n",
       "      <th>nu_pessoa</th>\n",
       "      <th>dt_nascimento</th>\n",
       "      <th>ic_tipo_renda</th>\n",
       "      <th>vr_renda_bruta</th>\n",
       "      <th>vr_renda_liquida</th>\n",
       "      <th>ic_infmo_renda</th>\n",
       "      <th>dt_apuracao_renda</th>\n",
       "      <th>ic_sexo</th>\n",
       "      <th>ic_situacao</th>\n",
       "      <th>ic_inconsistencia</th>\n",
       "      <th>nu_estdo_civil_p27</th>\n",
       "      <th>idade</th>\n",
       "      <th>valido</th>\n",
       "      <th>ic_sexo_estimado</th>\n",
       "    </tr>\n",
       "  </thead>\n",
       "  <tbody>\n",
       "    <tr>\n",
       "      <th>9278</th>\n",
       "      <td>2760103921276</td>\n",
       "      <td>1993-07-12</td>\n",
       "      <td>F</td>\n",
       "      <td>1075.75</td>\n",
       "      <td>1075.75</td>\n",
       "      <td>6.0</td>\n",
       "      <td>201806</td>\n",
       "      <td>?</td>\n",
       "      <td>1</td>\n",
       "      <td>N</td>\n",
       "      <td>0</td>\n",
       "      <td>27</td>\n",
       "      <td>True</td>\n",
       "      <td>1</td>\n",
       "    </tr>\n",
       "    <tr>\n",
       "      <th>10582</th>\n",
       "      <td>1440125192144</td>\n",
       "      <td>1994-02-14</td>\n",
       "      <td>F</td>\n",
       "      <td>0.00</td>\n",
       "      <td>0.00</td>\n",
       "      <td>2.0</td>\n",
       "      <td>201912</td>\n",
       "      <td>?</td>\n",
       "      <td>1</td>\n",
       "      <td>N</td>\n",
       "      <td>1</td>\n",
       "      <td>26</td>\n",
       "      <td>True</td>\n",
       "      <td>1</td>\n",
       "    </tr>\n",
       "    <tr>\n",
       "      <th>18671</th>\n",
       "      <td>7480156353748</td>\n",
       "      <td>1990-11-20</td>\n",
       "      <td>F</td>\n",
       "      <td>1144.96</td>\n",
       "      <td>1053.00</td>\n",
       "      <td>6.0</td>\n",
       "      <td>202002</td>\n",
       "      <td>?</td>\n",
       "      <td>1</td>\n",
       "      <td>N</td>\n",
       "      <td>0</td>\n",
       "      <td>29</td>\n",
       "      <td>True</td>\n",
       "      <td>1</td>\n",
       "    </tr>\n",
       "    <tr>\n",
       "      <th>29427</th>\n",
       "      <td>2510211999251</td>\n",
       "      <td>1980-03-29</td>\n",
       "      <td>F</td>\n",
       "      <td>0.00</td>\n",
       "      <td>0.00</td>\n",
       "      <td>2.0</td>\n",
       "      <td>202003</td>\n",
       "      <td>?</td>\n",
       "      <td>1</td>\n",
       "      <td>N</td>\n",
       "      <td>1</td>\n",
       "      <td>40</td>\n",
       "      <td>True</td>\n",
       "      <td>1</td>\n",
       "    </tr>\n",
       "    <tr>\n",
       "      <th>30119</th>\n",
       "      <td>3520063738352</td>\n",
       "      <td>1984-06-27</td>\n",
       "      <td>F</td>\n",
       "      <td>0.00</td>\n",
       "      <td>0.00</td>\n",
       "      <td>2.0</td>\n",
       "      <td>202001</td>\n",
       "      <td>?</td>\n",
       "      <td>1</td>\n",
       "      <td>N</td>\n",
       "      <td>1</td>\n",
       "      <td>36</td>\n",
       "      <td>True</td>\n",
       "      <td>1</td>\n",
       "    </tr>\n",
       "    <tr>\n",
       "      <th>...</th>\n",
       "      <td>...</td>\n",
       "      <td>...</td>\n",
       "      <td>...</td>\n",
       "      <td>...</td>\n",
       "      <td>...</td>\n",
       "      <td>...</td>\n",
       "      <td>...</td>\n",
       "      <td>...</td>\n",
       "      <td>...</td>\n",
       "      <td>...</td>\n",
       "      <td>...</td>\n",
       "      <td>...</td>\n",
       "      <td>...</td>\n",
       "      <td>...</td>\n",
       "    </tr>\n",
       "    <tr>\n",
       "      <th>2381481</th>\n",
       "      <td>1650115035165</td>\n",
       "      <td>1948-11-21</td>\n",
       "      <td>?</td>\n",
       "      <td>NaN</td>\n",
       "      <td>NaN</td>\n",
       "      <td>0.0</td>\n",
       "      <td>0</td>\n",
       "      <td>?</td>\n",
       "      <td>1</td>\n",
       "      <td>N</td>\n",
       "      <td>0</td>\n",
       "      <td>71</td>\n",
       "      <td>False</td>\n",
       "      <td>1</td>\n",
       "    </tr>\n",
       "    <tr>\n",
       "      <th>2381585</th>\n",
       "      <td>3340020367334</td>\n",
       "      <td>1957-06-28</td>\n",
       "      <td>?</td>\n",
       "      <td>NaN</td>\n",
       "      <td>NaN</td>\n",
       "      <td>0.0</td>\n",
       "      <td>0</td>\n",
       "      <td>?</td>\n",
       "      <td>1</td>\n",
       "      <td>S</td>\n",
       "      <td>0</td>\n",
       "      <td>63</td>\n",
       "      <td>False</td>\n",
       "      <td>1</td>\n",
       "    </tr>\n",
       "    <tr>\n",
       "      <th>2381834</th>\n",
       "      <td>1160004740116</td>\n",
       "      <td>1935-09-14</td>\n",
       "      <td>?</td>\n",
       "      <td>NaN</td>\n",
       "      <td>NaN</td>\n",
       "      <td>0.0</td>\n",
       "      <td>0</td>\n",
       "      <td>?</td>\n",
       "      <td>1</td>\n",
       "      <td>S</td>\n",
       "      <td>0</td>\n",
       "      <td>84</td>\n",
       "      <td>False</td>\n",
       "      <td>1</td>\n",
       "    </tr>\n",
       "    <tr>\n",
       "      <th>2381957</th>\n",
       "      <td>6540119734654</td>\n",
       "      <td>1969-04-05</td>\n",
       "      <td>?</td>\n",
       "      <td>NaN</td>\n",
       "      <td>NaN</td>\n",
       "      <td>0.0</td>\n",
       "      <td>0</td>\n",
       "      <td>?</td>\n",
       "      <td>1</td>\n",
       "      <td>N</td>\n",
       "      <td>0</td>\n",
       "      <td>51</td>\n",
       "      <td>False</td>\n",
       "      <td>1</td>\n",
       "    </tr>\n",
       "    <tr>\n",
       "      <th>2382020</th>\n",
       "      <td>2340104821234</td>\n",
       "      <td>1988-09-23</td>\n",
       "      <td>?</td>\n",
       "      <td>NaN</td>\n",
       "      <td>NaN</td>\n",
       "      <td>0.0</td>\n",
       "      <td>0</td>\n",
       "      <td>?</td>\n",
       "      <td>1</td>\n",
       "      <td>N</td>\n",
       "      <td>9</td>\n",
       "      <td>31</td>\n",
       "      <td>False</td>\n",
       "      <td>1</td>\n",
       "    </tr>\n",
       "  </tbody>\n",
       "</table>\n",
       "<p>4846 rows × 14 columns</p>\n",
       "</div>"
      ],
      "text/plain": [
       "             nu_pessoa dt_nascimento ic_tipo_renda  vr_renda_bruta  \\\n",
       "9278     2760103921276    1993-07-12             F         1075.75   \n",
       "10582    1440125192144    1994-02-14             F            0.00   \n",
       "18671    7480156353748    1990-11-20             F         1144.96   \n",
       "29427    2510211999251    1980-03-29             F            0.00   \n",
       "30119    3520063738352    1984-06-27             F            0.00   \n",
       "...                ...           ...           ...             ...   \n",
       "2381481  1650115035165    1948-11-21             ?             NaN   \n",
       "2381585  3340020367334    1957-06-28             ?             NaN   \n",
       "2381834  1160004740116    1935-09-14             ?             NaN   \n",
       "2381957  6540119734654    1969-04-05             ?             NaN   \n",
       "2382020  2340104821234    1988-09-23             ?             NaN   \n",
       "\n",
       "         vr_renda_liquida  ic_infmo_renda  dt_apuracao_renda ic_sexo  \\\n",
       "9278              1075.75             6.0             201806       ?   \n",
       "10582                0.00             2.0             201912       ?   \n",
       "18671             1053.00             6.0             202002       ?   \n",
       "29427                0.00             2.0             202003       ?   \n",
       "30119                0.00             2.0             202001       ?   \n",
       "...                   ...             ...                ...     ...   \n",
       "2381481               NaN             0.0                  0       ?   \n",
       "2381585               NaN             0.0                  0       ?   \n",
       "2381834               NaN             0.0                  0       ?   \n",
       "2381957               NaN             0.0                  0       ?   \n",
       "2382020               NaN             0.0                  0       ?   \n",
       "\n",
       "         ic_situacao ic_inconsistencia  nu_estdo_civil_p27  idade  valido  \\\n",
       "9278               1                 N                   0     27    True   \n",
       "10582              1                 N                   1     26    True   \n",
       "18671              1                 N                   0     29    True   \n",
       "29427              1                 N                   1     40    True   \n",
       "30119              1                 N                   1     36    True   \n",
       "...              ...               ...                 ...    ...     ...   \n",
       "2381481            1                 N                   0     71   False   \n",
       "2381585            1                 S                   0     63   False   \n",
       "2381834            1                 S                   0     84   False   \n",
       "2381957            1                 N                   0     51   False   \n",
       "2382020            1                 N                   9     31   False   \n",
       "\n",
       "         ic_sexo_estimado  \n",
       "9278                    1  \n",
       "10582                   1  \n",
       "18671                   1  \n",
       "29427                   1  \n",
       "30119                   1  \n",
       "...                   ...  \n",
       "2381481                 1  \n",
       "2381585                 1  \n",
       "2381834                 1  \n",
       "2381957                 1  \n",
       "2382020                 1  \n",
       "\n",
       "[4846 rows x 14 columns]"
      ]
     },
     "execution_count": 58,
     "metadata": {},
     "output_type": "execute_result"
    }
   ],
   "source": [
    "ic_sexo_estimado = model_ADT.predict(X)\n",
    "\n",
    "#print(accuracy_score(y, ic_sexo_estimado))\n",
    "\n",
    "print(confusion_matrix(y, ic_sexo_estimado))\n",
    "\n",
    "#print(classification_report(y, ic_sexo_estimado))\n",
    "                            \n",
    "df_ic_sexo_inferir['ic_sexo_estimado'] = ic_sexo_estimado\n",
    "df_ic_sexo_inferir"
   ]
  },
  {
   "cell_type": "markdown",
   "metadata": {},
   "source": [
    "# Logistic Regression"
   ]
  },
  {
   "cell_type": "code",
   "execution_count": 59,
   "metadata": {},
   "outputs": [
    {
     "name": "stdout",
     "output_type": "stream",
     "text": [
      "[[4809   37]\n",
      " [   0    0]]\n"
     ]
    },
    {
     "name": "stderr",
     "output_type": "stream",
     "text": [
      "/home/marcello/anaconda3/envs/av/lib/python3.6/site-packages/ipykernel_launcher.py:9: SettingWithCopyWarning: \n",
      "A value is trying to be set on a copy of a slice from a DataFrame.\n",
      "Try using .loc[row_indexer,col_indexer] = value instead\n",
      "\n",
      "See the caveats in the documentation: https://pandas.pydata.org/pandas-docs/stable/user_guide/indexing.html#returning-a-view-versus-a-copy\n",
      "  if __name__ == '__main__':\n"
     ]
    },
    {
     "data": {
      "text/html": [
       "<div>\n",
       "<style scoped>\n",
       "    .dataframe tbody tr th:only-of-type {\n",
       "        vertical-align: middle;\n",
       "    }\n",
       "\n",
       "    .dataframe tbody tr th {\n",
       "        vertical-align: top;\n",
       "    }\n",
       "\n",
       "    .dataframe thead th {\n",
       "        text-align: right;\n",
       "    }\n",
       "</style>\n",
       "<table border=\"1\" class=\"dataframe\">\n",
       "  <thead>\n",
       "    <tr style=\"text-align: right;\">\n",
       "      <th></th>\n",
       "      <th>nu_pessoa</th>\n",
       "      <th>dt_nascimento</th>\n",
       "      <th>ic_tipo_renda</th>\n",
       "      <th>vr_renda_bruta</th>\n",
       "      <th>vr_renda_liquida</th>\n",
       "      <th>ic_infmo_renda</th>\n",
       "      <th>dt_apuracao_renda</th>\n",
       "      <th>ic_sexo</th>\n",
       "      <th>ic_situacao</th>\n",
       "      <th>ic_inconsistencia</th>\n",
       "      <th>nu_estdo_civil_p27</th>\n",
       "      <th>idade</th>\n",
       "      <th>valido</th>\n",
       "      <th>ic_sexo_estimado</th>\n",
       "    </tr>\n",
       "  </thead>\n",
       "  <tbody>\n",
       "    <tr>\n",
       "      <th>9278</th>\n",
       "      <td>2760103921276</td>\n",
       "      <td>1993-07-12</td>\n",
       "      <td>F</td>\n",
       "      <td>1075.75</td>\n",
       "      <td>1075.75</td>\n",
       "      <td>6.0</td>\n",
       "      <td>201806</td>\n",
       "      <td>?</td>\n",
       "      <td>1</td>\n",
       "      <td>N</td>\n",
       "      <td>0</td>\n",
       "      <td>27</td>\n",
       "      <td>True</td>\n",
       "      <td>0</td>\n",
       "    </tr>\n",
       "    <tr>\n",
       "      <th>10582</th>\n",
       "      <td>1440125192144</td>\n",
       "      <td>1994-02-14</td>\n",
       "      <td>F</td>\n",
       "      <td>0.00</td>\n",
       "      <td>0.00</td>\n",
       "      <td>2.0</td>\n",
       "      <td>201912</td>\n",
       "      <td>?</td>\n",
       "      <td>1</td>\n",
       "      <td>N</td>\n",
       "      <td>1</td>\n",
       "      <td>26</td>\n",
       "      <td>True</td>\n",
       "      <td>0</td>\n",
       "    </tr>\n",
       "    <tr>\n",
       "      <th>18671</th>\n",
       "      <td>7480156353748</td>\n",
       "      <td>1990-11-20</td>\n",
       "      <td>F</td>\n",
       "      <td>1144.96</td>\n",
       "      <td>1053.00</td>\n",
       "      <td>6.0</td>\n",
       "      <td>202002</td>\n",
       "      <td>?</td>\n",
       "      <td>1</td>\n",
       "      <td>N</td>\n",
       "      <td>0</td>\n",
       "      <td>29</td>\n",
       "      <td>True</td>\n",
       "      <td>0</td>\n",
       "    </tr>\n",
       "    <tr>\n",
       "      <th>29427</th>\n",
       "      <td>2510211999251</td>\n",
       "      <td>1980-03-29</td>\n",
       "      <td>F</td>\n",
       "      <td>0.00</td>\n",
       "      <td>0.00</td>\n",
       "      <td>2.0</td>\n",
       "      <td>202003</td>\n",
       "      <td>?</td>\n",
       "      <td>1</td>\n",
       "      <td>N</td>\n",
       "      <td>1</td>\n",
       "      <td>40</td>\n",
       "      <td>True</td>\n",
       "      <td>0</td>\n",
       "    </tr>\n",
       "    <tr>\n",
       "      <th>30119</th>\n",
       "      <td>3520063738352</td>\n",
       "      <td>1984-06-27</td>\n",
       "      <td>F</td>\n",
       "      <td>0.00</td>\n",
       "      <td>0.00</td>\n",
       "      <td>2.0</td>\n",
       "      <td>202001</td>\n",
       "      <td>?</td>\n",
       "      <td>1</td>\n",
       "      <td>N</td>\n",
       "      <td>1</td>\n",
       "      <td>36</td>\n",
       "      <td>True</td>\n",
       "      <td>0</td>\n",
       "    </tr>\n",
       "    <tr>\n",
       "      <th>...</th>\n",
       "      <td>...</td>\n",
       "      <td>...</td>\n",
       "      <td>...</td>\n",
       "      <td>...</td>\n",
       "      <td>...</td>\n",
       "      <td>...</td>\n",
       "      <td>...</td>\n",
       "      <td>...</td>\n",
       "      <td>...</td>\n",
       "      <td>...</td>\n",
       "      <td>...</td>\n",
       "      <td>...</td>\n",
       "      <td>...</td>\n",
       "      <td>...</td>\n",
       "    </tr>\n",
       "    <tr>\n",
       "      <th>2381481</th>\n",
       "      <td>1650115035165</td>\n",
       "      <td>1948-11-21</td>\n",
       "      <td>?</td>\n",
       "      <td>NaN</td>\n",
       "      <td>NaN</td>\n",
       "      <td>0.0</td>\n",
       "      <td>0</td>\n",
       "      <td>?</td>\n",
       "      <td>1</td>\n",
       "      <td>N</td>\n",
       "      <td>0</td>\n",
       "      <td>71</td>\n",
       "      <td>False</td>\n",
       "      <td>0</td>\n",
       "    </tr>\n",
       "    <tr>\n",
       "      <th>2381585</th>\n",
       "      <td>3340020367334</td>\n",
       "      <td>1957-06-28</td>\n",
       "      <td>?</td>\n",
       "      <td>NaN</td>\n",
       "      <td>NaN</td>\n",
       "      <td>0.0</td>\n",
       "      <td>0</td>\n",
       "      <td>?</td>\n",
       "      <td>1</td>\n",
       "      <td>S</td>\n",
       "      <td>0</td>\n",
       "      <td>63</td>\n",
       "      <td>False</td>\n",
       "      <td>0</td>\n",
       "    </tr>\n",
       "    <tr>\n",
       "      <th>2381834</th>\n",
       "      <td>1160004740116</td>\n",
       "      <td>1935-09-14</td>\n",
       "      <td>?</td>\n",
       "      <td>NaN</td>\n",
       "      <td>NaN</td>\n",
       "      <td>0.0</td>\n",
       "      <td>0</td>\n",
       "      <td>?</td>\n",
       "      <td>1</td>\n",
       "      <td>S</td>\n",
       "      <td>0</td>\n",
       "      <td>84</td>\n",
       "      <td>False</td>\n",
       "      <td>0</td>\n",
       "    </tr>\n",
       "    <tr>\n",
       "      <th>2381957</th>\n",
       "      <td>6540119734654</td>\n",
       "      <td>1969-04-05</td>\n",
       "      <td>?</td>\n",
       "      <td>NaN</td>\n",
       "      <td>NaN</td>\n",
       "      <td>0.0</td>\n",
       "      <td>0</td>\n",
       "      <td>?</td>\n",
       "      <td>1</td>\n",
       "      <td>N</td>\n",
       "      <td>0</td>\n",
       "      <td>51</td>\n",
       "      <td>False</td>\n",
       "      <td>0</td>\n",
       "    </tr>\n",
       "    <tr>\n",
       "      <th>2382020</th>\n",
       "      <td>2340104821234</td>\n",
       "      <td>1988-09-23</td>\n",
       "      <td>?</td>\n",
       "      <td>NaN</td>\n",
       "      <td>NaN</td>\n",
       "      <td>0.0</td>\n",
       "      <td>0</td>\n",
       "      <td>?</td>\n",
       "      <td>1</td>\n",
       "      <td>N</td>\n",
       "      <td>9</td>\n",
       "      <td>31</td>\n",
       "      <td>False</td>\n",
       "      <td>0</td>\n",
       "    </tr>\n",
       "  </tbody>\n",
       "</table>\n",
       "<p>4846 rows × 14 columns</p>\n",
       "</div>"
      ],
      "text/plain": [
       "             nu_pessoa dt_nascimento ic_tipo_renda  vr_renda_bruta  \\\n",
       "9278     2760103921276    1993-07-12             F         1075.75   \n",
       "10582    1440125192144    1994-02-14             F            0.00   \n",
       "18671    7480156353748    1990-11-20             F         1144.96   \n",
       "29427    2510211999251    1980-03-29             F            0.00   \n",
       "30119    3520063738352    1984-06-27             F            0.00   \n",
       "...                ...           ...           ...             ...   \n",
       "2381481  1650115035165    1948-11-21             ?             NaN   \n",
       "2381585  3340020367334    1957-06-28             ?             NaN   \n",
       "2381834  1160004740116    1935-09-14             ?             NaN   \n",
       "2381957  6540119734654    1969-04-05             ?             NaN   \n",
       "2382020  2340104821234    1988-09-23             ?             NaN   \n",
       "\n",
       "         vr_renda_liquida  ic_infmo_renda  dt_apuracao_renda ic_sexo  \\\n",
       "9278              1075.75             6.0             201806       ?   \n",
       "10582                0.00             2.0             201912       ?   \n",
       "18671             1053.00             6.0             202002       ?   \n",
       "29427                0.00             2.0             202003       ?   \n",
       "30119                0.00             2.0             202001       ?   \n",
       "...                   ...             ...                ...     ...   \n",
       "2381481               NaN             0.0                  0       ?   \n",
       "2381585               NaN             0.0                  0       ?   \n",
       "2381834               NaN             0.0                  0       ?   \n",
       "2381957               NaN             0.0                  0       ?   \n",
       "2382020               NaN             0.0                  0       ?   \n",
       "\n",
       "         ic_situacao ic_inconsistencia  nu_estdo_civil_p27  idade  valido  \\\n",
       "9278               1                 N                   0     27    True   \n",
       "10582              1                 N                   1     26    True   \n",
       "18671              1                 N                   0     29    True   \n",
       "29427              1                 N                   1     40    True   \n",
       "30119              1                 N                   1     36    True   \n",
       "...              ...               ...                 ...    ...     ...   \n",
       "2381481            1                 N                   0     71   False   \n",
       "2381585            1                 S                   0     63   False   \n",
       "2381834            1                 S                   0     84   False   \n",
       "2381957            1                 N                   0     51   False   \n",
       "2382020            1                 N                   9     31   False   \n",
       "\n",
       "         ic_sexo_estimado  \n",
       "9278                    0  \n",
       "10582                   0  \n",
       "18671                   0  \n",
       "29427                   0  \n",
       "30119                   0  \n",
       "...                   ...  \n",
       "2381481                 0  \n",
       "2381585                 0  \n",
       "2381834                 0  \n",
       "2381957                 0  \n",
       "2382020                 0  \n",
       "\n",
       "[4846 rows x 14 columns]"
      ]
     },
     "execution_count": 59,
     "metadata": {},
     "output_type": "execute_result"
    }
   ],
   "source": [
    "ic_sexo_estimado = model_LR.predict(X)\n",
    "\n",
    "#print(accuracy_score(y, ic_sexo_estimado))\n",
    "\n",
    "print(confusion_matrix(y, ic_sexo_estimado))\n",
    "\n",
    "#print(classification_report(y, ic_sexo_estimado))\n",
    "                            \n",
    "df_ic_sexo_inferir['ic_sexo_estimado'] = ic_sexo_estimado\n",
    "df_ic_sexo_inferir"
   ]
  },
  {
   "cell_type": "code",
   "execution_count": null,
   "metadata": {},
   "outputs": [],
   "source": []
  }
 ],
 "metadata": {
  "kernelspec": {
   "display_name": "Python 3",
   "language": "python",
   "name": "python3"
  },
  "language_info": {
   "codemirror_mode": {
    "name": "ipython",
    "version": 3
   },
   "file_extension": ".py",
   "mimetype": "text/x-python",
   "name": "python",
   "nbconvert_exporter": "python",
   "pygments_lexer": "ipython3",
   "version": "3.6.10"
  },
  "toc": {
   "base_numbering": 1,
   "nav_menu": {},
   "number_sections": true,
   "sideBar": true,
   "skip_h1_title": false,
   "title_cell": "Table of Contents",
   "title_sidebar": "Contents",
   "toc_cell": false,
   "toc_position": {},
   "toc_section_display": "block",
   "toc_window_display": true
  }
 },
 "nbformat": 4,
 "nbformat_minor": 1
}
