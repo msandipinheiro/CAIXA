{
 "cells": [
  {
   "cell_type": "code",
   "execution_count": null,
   "metadata": {},
   "outputs": [],
   "source": [
    "import pandas as pd\n",
    "#import pandas_profiling # gera diversas análises de uma só vez\n",
    "import numpy as np\n",
    "import scipy.stats as stats\n",
    "import matplotlib.pyplot as plt\n",
    "import seaborn as sns"
   ]
  },
  {
   "cell_type": "code",
   "execution_count": null,
   "metadata": {},
   "outputs": [],
   "source": [
    "from IPython.display import Image\n",
    "%matplotlib inline"
   ]
  },
  {
   "cell_type": "markdown",
   "metadata": {},
   "source": [
    "### Sobre o vaex\n",
    "* Instalação: https://pypi.org/project/vaex/\n",
    "* Documentação oficial: https://vaex.readthedocs.io/en/latest/index.html\n",
    "* https://en.wikipedia.org/wiki/Lazy_evaluation\n",
    "\n",
    "### Utilização\n",
    "* A library Vaex será considerada quando a amostragem for estratificada por SG_UF e CEP a partir do universo de clientes do SICLI em produção, situação essa que abrangerá mais de 200 milhoes de registros como fator de confidência a ser considerado."
   ]
  },
  {
   "cell_type": "code",
   "execution_count": null,
   "metadata": {},
   "outputs": [],
   "source": [
    "#import vaex, pandas as pd\n",
    "#df_pandas = pd.read_csv(\"cli_amostra_minas_gerais_202005281322.csv\", sep=';', low_memory=False)\n",
    "#df = vaex.from_pandas(df_pandas)"
   ]
  },
  {
   "cell_type": "code",
   "execution_count": null,
   "metadata": {},
   "outputs": [],
   "source": [
    "#df.data_type('dt_fim')"
   ]
  },
  {
   "cell_type": "code",
   "execution_count": null,
   "metadata": {},
   "outputs": [],
   "source": [
    "#df.plot('vr_renda_bruta', 'vr_renda_liquida', what=['mean(vr_renda_bruta)', 'correlation(vr_renda_bruta, vr_renda_liquida)'])"
   ]
  },
  {
   "cell_type": "code",
   "execution_count": null,
   "metadata": {},
   "outputs": [],
   "source": [
    "#df.plot1d(df.r)"
   ]
  },
  {
   "cell_type": "markdown",
   "metadata": {},
   "source": [
    "## Conjunto de Dados - Temática: Endereço"
   ]
  },
  {
   "cell_type": "code",
   "execution_count": null,
   "metadata": {},
   "outputs": [],
   "source": [
    "#f_end = pd.read_csv(\"cli_end_amostra_minas_gerais_202005281312_1000.csv\", sep=';')\n",
    "df_end = pd.read_csv(\"cli_end_amostra_minas_gerais_202005281312.csv\", sep=';', low_memory=False)\n",
    "features_end = ['nu_pessoa','nu_cep','ic_origem_cdsto','ic_validacao','ic_comprovacao','nu_ano_mes_inicio',\n",
    "                'nu_ano_mes_fim','dt_apuracao_endereco','nu_cep']\n",
    "label_end = ['nu_cep']"
   ]
  },
  {
   "cell_type": "code",
   "execution_count": null,
   "metadata": {},
   "outputs": [],
   "source": [
    "df_end.info()"
   ]
  },
  {
   "cell_type": "markdown",
   "metadata": {},
   "source": [
    "## Conjunto de Dados - Temática: Renda"
   ]
  },
  {
   "cell_type": "code",
   "execution_count": null,
   "metadata": {},
   "outputs": [],
   "source": [
    "df_renda = pd.read_csv(\"cli_amostra_minas_gerais_202006051503.csv\", sep=';')\n",
    "#df_renda = pd.read_csv(\"cli_amostra_minas_gerais_202006051503.csv\", sep=';', low_memory=False)"
   ]
  },
  {
   "cell_type": "code",
   "execution_count": null,
   "metadata": {},
   "outputs": [],
   "source": [
    "# atributos int ou float\n",
    "features = ['nu_pessoa', 'dt_nascimento', 'ic_tipo_renda', 'vr_renda_bruta',\n",
    "       'vr_renda_liquida', 'dt_inicio', 'dt_fim', 'ic_principal',\n",
    "       'nu_tipo_renda_p76', 'no_atividade', 'de_local_trabalho',\n",
    "       'ic_infmo_renda', 'dt_apuracao_renda', 'ic_sexo', 'ic_situacao',\n",
    "       'ic_inconsistencia', 'nu_estdo_civil_p27', 'de_estado_civil',\n",
    "       'nu_nivel_insto_p14', 'de_nivel_instrucao']\n",
    "\n",
    "features_grp = ['ic_tipo_renda', 'ic_principal', 'nu_tipo_renda_p76', 'no_atividade',\n",
    "                'ic_infmo_renda', 'ic_sexo', 'ic_situacao', 'ic_inconsistencia', 'nu_estdo_civil_p27']\n",
    "\n",
    "features_renda = ['nu_pessoa','vr_renda_bruta','vr_renda_liquida']\n",
    "\n",
    "#label_renda = ['ic_principal','nu_tipo_renda_p76','ic_infmo_renda','ic_situacao']\n",
    "label_renda = ['ic_situacao']"
   ]
  },
  {
   "cell_type": "code",
   "execution_count": null,
   "metadata": {},
   "outputs": [],
   "source": [
    "df_renda.info()"
   ]
  },
  {
   "cell_type": "code",
   "execution_count": null,
   "metadata": {},
   "outputs": [],
   "source": [
    "pd.set_option('float_format', '{:0.2f}'.format) ## Coloca na notação de números reais.\n",
    "df_renda[features_renda].describe()"
   ]
  },
  {
   "cell_type": "code",
   "execution_count": null,
   "metadata": {},
   "outputs": [],
   "source": [
    "df_renda[features_renda].quantile()"
   ]
  },
  {
   "cell_type": "code",
   "execution_count": null,
   "metadata": {},
   "outputs": [],
   "source": [
    "df_renda[['vr_renda_bruta','vr_renda_liquida']].plot.box()"
   ]
  },
  {
   "cell_type": "code",
   "execution_count": null,
   "metadata": {},
   "outputs": [],
   "source": [
    "#renda_situacao = pd.DataFrame()\n",
    "#renda_situacao = df_renda[features_renda].groupby(df_renda.ic_situacao.astype(str)).count()\n",
    "#renda_situacao.describe()\n",
    "df_renda[features_renda].groupby(df_renda.ic_situacao.astype(str)).count()"
   ]
  },
  {
   "cell_type": "code",
   "execution_count": null,
   "metadata": {},
   "outputs": [],
   "source": [
    "df_renda[features_renda].groupby(df_renda.nu_tipo_renda_p76.astype(str)).count()"
   ]
  },
  {
   "cell_type": "code",
   "execution_count": null,
   "metadata": {},
   "outputs": [],
   "source": [
    "df_renda[features_renda].groupby(df_renda.ic_infmo_renda.astype(str)).count()"
   ]
  },
  {
   "cell_type": "code",
   "execution_count": null,
   "metadata": {},
   "outputs": [],
   "source": [
    "df_renda[features_renda].groupby(df_renda.ic_sexo.astype(str)).count()"
   ]
  },
  {
   "cell_type": "code",
   "execution_count": null,
   "metadata": {},
   "outputs": [],
   "source": [
    "df_renda[features_renda].groupby(df_renda.ic_tipo_renda.astype(str)).count()"
   ]
  },
  {
   "cell_type": "code",
   "execution_count": null,
   "metadata": {},
   "outputs": [],
   "source": [
    "df_renda[features_renda].groupby(df_renda.ic_principal.astype(str)).count()"
   ]
  },
  {
   "cell_type": "code",
   "execution_count": null,
   "metadata": {},
   "outputs": [],
   "source": [
    "df_renda[features_renda].groupby(df_renda.nu_estdo_civil_p27.astype(str)).count()"
   ]
  },
  {
   "cell_type": "code",
   "execution_count": null,
   "metadata": {},
   "outputs": [],
   "source": [
    "df_renda[features_renda].groupby(df_renda.ic_inconsistencia.astype(str)).count()"
   ]
  },
  {
   "cell_type": "code",
   "execution_count": null,
   "metadata": {},
   "outputs": [],
   "source": [
    "pd.set_option('display.max_rows', 150)\n",
    "df_renda[features_renda].groupby(df_renda.no_atividade.astype(str)).count()"
   ]
  },
  {
   "cell_type": "code",
   "execution_count": null,
   "metadata": {},
   "outputs": [],
   "source": []
  },
  {
   "cell_type": "markdown",
   "metadata": {},
   "source": [
    "## Funções para geração de gráficos estatísticos em valores numéricos e categóricos"
   ]
  },
  {
   "cell_type": "code",
   "execution_count": null,
   "metadata": {},
   "outputs": [],
   "source": [
    "def diagnostic_number_plots(df):\n",
    "    for v in df:\n",
    "        if pd.api.types.is_numeric_dtype(df[v]) == True:\n",
    "            # define figure size\n",
    "            plt.figure(figsize=(16, 4))\n",
    "\n",
    "            # histogram\n",
    "            plt.subplot(1, 3, 1)\n",
    "            sns.distplot(df[v], bins=30)\n",
    "            plt.title('Histogram')\n",
    "\n",
    "            # Q-Q plot\n",
    "            plt.subplot(1, 3, 2)\n",
    "            stats.probplot(df[v], dist=\"norm\", plot=plt)\n",
    "            plt.ylabel(v+' quantiles')\n",
    "\n",
    "            # boxplot\n",
    "            plt.subplot(1, 3, 3)\n",
    "            sns.boxplot(y=df[v])\n",
    "            plt.title('Boxplot')\n",
    "\n",
    "            plt.show()"
   ]
  },
  {
   "cell_type": "code",
   "execution_count": null,
   "metadata": {
    "scrolled": false
   },
   "outputs": [],
   "source": [
    "diagnostic_number_plots(df_renda[features_renda])"
   ]
  },
  {
   "cell_type": "code",
   "execution_count": null,
   "metadata": {},
   "outputs": [],
   "source": [
    "def diagnostic_category_plots(df):\n",
    "    for v in df:\n",
    "        if pd.api.types.is_numeric_dtype (df[v]) == False:\n",
    "            #plt.figure(figsize=(16, 4))\n",
    "            print(df[v], '\\n')\n",
    "            #df.plot.box"
   ]
  },
  {
   "cell_type": "code",
   "execution_count": null,
   "metadata": {},
   "outputs": [],
   "source": [
    "diagnostic_category_plots(df_renda)"
   ]
  },
  {
   "cell_type": "markdown",
   "metadata": {},
   "source": [
    "### Tratar missing values de ENDEREÇOS"
   ]
  },
  {
   "cell_type": "code",
   "execution_count": null,
   "metadata": {},
   "outputs": [],
   "source": [
    "def tratar_cep(df):\n",
    "    df = df.dropna(axis=0)\n",
    "    return df != (df / 10000)"
   ]
  },
  {
   "cell_type": "code",
   "execution_count": null,
   "metadata": {},
   "outputs": [],
   "source": [
    "df_end['valida_cep'] = tratar_cep(df_end['nu_cep'])"
   ]
  },
  {
   "cell_type": "code",
   "execution_count": null,
   "metadata": {},
   "outputs": [],
   "source": [
    "print(df_end['valida_cep'])"
   ]
  },
  {
   "cell_type": "code",
   "execution_count": null,
   "metadata": {},
   "outputs": [],
   "source": [
    "df_end"
   ]
  },
  {
   "cell_type": "code",
   "execution_count": null,
   "metadata": {},
   "outputs": [],
   "source": [
    "#s.str.slice(stop=2)\n",
    "#s.str.slice(start=1)\n",
    "#s.str.slice(start=0, stop=5, step=3)\n",
    "\n",
    "nu_cep0 = [nu_cep]\n",
    "nu_cep2 = [df_end.nu_cep.str.slice(stop=2)]\n",
    "nu_cep3 = [df_end.nu_cep.str.slice(stop=3)]\n",
    "nu_cep4 = [df_end.nu_cep.str.slice(stop=4)]\n",
    "nu_cep5 = [df_end.nu_cep.str.slice(stop=5)]\n",
    "#sg_uf   = [df_end.sg_uf.upper()]\n",
    "\n",
    "cep0 = df_end.nu_cep.isin(nu_cep0)\n",
    "cep2 = df_end.nu_cep.isin(nu_cep2)\n",
    "cep3 = df_end.nu_cep.isin(nu_cep3)\n",
    "cep4 = df_end.nu_cep.isin(nu_cep4)\n",
    "cep5 = df_end.nu_cep.isin(nu_cep5)\n",
    "\n",
    "#uf_cep  = (sg_uf & criterio_cep0)\n",
    "where_ac_cep2  = [69,69]\n",
    "where_al_cep2  = [57,57]\n",
    "where_am1_cep2 = [69,69]\n",
    "where_am2_cep2 = [69,69]\n",
    "where_ap_cep2  = [68,68]\n",
    "where_ba_cep2  = [40,48]\n",
    "where_ce_cep2  = [60,63]\n",
    "where_df1_cep2 = [70,72]\n",
    "where_df1_cep2 = [73,73]\n",
    "where_es_cep2  = [29,29]\n",
    "where_go1_cep2 = [72,72]\n",
    "where_go2_cep2 = [73,76]\n",
    "where_ma_cep2  = [65,65]\n",
    "where_mg_cep2  = [30,39]\n",
    "where_ms_cep2  = [79,79]\n",
    "where_mt_cep2  = [78,78]\n",
    "where_pa_cep2  = [66,68]\n",
    "where_pb_cep2  = [58,58]\n",
    "where_pe_cep2  = [50,56]\n",
    "where_pi_cep2  = [64,64]\n",
    "where_pr_cep2  = [80,87]\n",
    "where_rj_cep2  = [20,28]\n",
    "where_rn_cep2  = [59,59]\n",
    "where_ro_cep2  = [76,76]\n",
    "where_rr_cep2  = [69,69]\n",
    "where_rs_cep2  = [90,99]\n",
    "where_sc_cep2  = [88,89]\n",
    "where_se_cep2  = [49,49]\n",
    "where_sp_cep2  = ['01',19]\n",
    "where_to_cep2  = [77,77]\n",
    "\n",
    "select_columns_t = ['PassengerId']\n",
    "select_columns_f = ['PassengerId']\n",
    "\n",
    "print('Sobreviventes: ', + dataset.loc[criterio_final_t, select_columns_t].count())\n",
    "print('Não sobreviventes: ', + dataset.loc[criterio_final_f, select_columns_f].count())"
   ]
  },
  {
   "cell_type": "code",
   "execution_count": null,
   "metadata": {
    "scrolled": true
   },
   "outputs": [],
   "source": [
    "df_end[['nu_cep','valida_cep']][df_end['valida_cep'] == False]"
   ]
  },
  {
   "cell_type": "code",
   "execution_count": null,
   "metadata": {},
   "outputs": [],
   "source": [
    "def tratar_ic_origem_cdsto(df,v):\n",
    "    if df[v].astype == object:\n",
    "        df_end['ic_origem_cdsto'] = df_end['ic_origem_cdsto'].str.split(',')\n",
    "        df = df.drop[(df[v] != 'O') | (df[v] | 'B')]\n",
    "    else:\n",
    "        df = df.drop[(df[v] != 'O') | (df[v] | 'B')]\n",
    "    return df"
   ]
  },
  {
   "cell_type": "code",
   "execution_count": null,
   "metadata": {},
   "outputs": [],
   "source": [
    "df_end.info()"
   ]
  },
  {
   "cell_type": "code",
   "execution_count": null,
   "metadata": {},
   "outputs": [],
   "source": [
    "#df_end['ic_origem_cdsto'].astype(str)\n",
    "df_end['ic_origem_cdsto'] = df_end['ic_origem_cdsto'].str.split(',')"
   ]
  },
  {
   "cell_type": "code",
   "execution_count": null,
   "metadata": {},
   "outputs": [],
   "source": [
    "df_end['ic_origem_cdsto']"
   ]
  },
  {
   "cell_type": "code",
   "execution_count": null,
   "metadata": {},
   "outputs": [],
   "source": [
    "df_end['valida_ic_origem_cdsto'] = tratar_ic_origem_cdsto(df_end,'ic_origem_cdsto')"
   ]
  },
  {
   "cell_type": "code",
   "execution_count": null,
   "metadata": {},
   "outputs": [],
   "source": [
    "df_end[['ic_origem_cdsto','valida_ic_origem_cdsto']][df_end['ic_origem_cdsto'] == False]"
   ]
  },
  {
   "cell_type": "code",
   "execution_count": null,
   "metadata": {},
   "outputs": [],
   "source": []
  },
  {
   "cell_type": "code",
   "execution_count": null,
   "metadata": {},
   "outputs": [],
   "source": []
  },
  {
   "cell_type": "code",
   "execution_count": null,
   "metadata": {},
   "outputs": [],
   "source": []
  },
  {
   "cell_type": "markdown",
   "metadata": {},
   "source": [
    "### Tratar missing values de RENDA"
   ]
  },
  {
   "cell_type": "code",
   "execution_count": null,
   "metadata": {},
   "outputs": [],
   "source": [
    "def tratar_dt_nascimento(df):\n",
    "    df = df.dropna(axis=0)\n",
    "    return df"
   ]
  },
  {
   "cell_type": "code",
   "execution_count": null,
   "metadata": {},
   "outputs": [],
   "source": [
    "df_end['valida_dt_nascimento'] = tratar_dt_nascimento(df_end['dt_nascimento'])"
   ]
  },
  {
   "cell_type": "code",
   "execution_count": null,
   "metadata": {},
   "outputs": [],
   "source": []
  },
  {
   "cell_type": "code",
   "execution_count": null,
   "metadata": {},
   "outputs": [],
   "source": []
  },
  {
   "cell_type": "code",
   "execution_count": null,
   "metadata": {},
   "outputs": [],
   "source": []
  },
  {
   "cell_type": "code",
   "execution_count": null,
   "metadata": {},
   "outputs": [],
   "source": [
    "df_end = df_end.drop(columns=['qtd_cep_nulo','isnull_cep'])"
   ]
  },
  {
   "cell_type": "code",
   "execution_count": null,
   "metadata": {},
   "outputs": [],
   "source": [
    "df_end"
   ]
  },
  {
   "cell_type": "markdown",
   "metadata": {},
   "source": [
    "## Definindo limites máximos e mínimos"
   ]
  },
  {
   "cell_type": "code",
   "execution_count": null,
   "metadata": {},
   "outputs": [],
   "source": [
    "def find_boundaries(df, variable, distance):\n",
    "    # argumento distance: std = 0.1 até 3.0\n",
    "\n",
    "    IQR = df[variable].quantile(0.75) - df[variable].quantile(0.25)\n",
    "\n",
    "    lower_boundary = df[variable].quantile(0.25) - (IQR * distance)\n",
    "    upper_boundary = df[variable].quantile(0.75) + (IQR * distance)\n",
    "\n",
    "    return upper_boundary, lower_boundary"
   ]
  },
  {
   "cell_type": "markdown",
   "metadata": {},
   "source": [
    "## Delimitando os outliers em co_unidade"
   ]
  },
  {
   "cell_type": "markdown",
   "metadata": {},
   "source": [
    "## co_unidade"
   ]
  },
  {
   "cell_type": "code",
   "execution_count": null,
   "metadata": {
    "scrolled": true
   },
   "outputs": [],
   "source": [
    "nu_produto_upper_limit, nu_produto_lower_limit = find_boundaries(dataset, 'co_unidade', 1.35)\n",
    "nu_produto_upper_limit, nu_produto_lower_limit"
   ]
  },
  {
   "cell_type": "code",
   "execution_count": null,
   "metadata": {},
   "outputs": [],
   "source": [
    "outliers_co_unidade =  np.where(dataset['co_unidade'] > nu_produto_upper_limit, True,\n",
    "                       np.where(dataset['co_unidade'] < nu_produto_lower_limit, True, False))\n",
    "dataset['outliers_co_unidade'] = outliers_co_unidade\n",
    "dataset"
   ]
  },
  {
   "cell_type": "code",
   "execution_count": null,
   "metadata": {},
   "outputs": [],
   "source": [
    "# limpar do dataset somente os outliers\n",
    "\n",
    "df_trimmed = dataset.loc[~outliers_co_unidade]\n",
    "\n",
    "dataset.shape, df_trimmed.shape"
   ]
  },
  {
   "cell_type": "code",
   "execution_count": null,
   "metadata": {},
   "outputs": [],
   "source": [
    "diagnostic_number_plots(df_trimmed, features)"
   ]
  }
 ],
 "metadata": {
  "kernelspec": {
   "display_name": "Python 3",
   "language": "python",
   "name": "python3"
  },
  "language_info": {
   "codemirror_mode": {
    "name": "ipython",
    "version": 3
   },
   "file_extension": ".py",
   "mimetype": "text/x-python",
   "name": "python",
   "nbconvert_exporter": "python",
   "pygments_lexer": "ipython3",
   "version": "3.8.2"
  },
  "toc": {
   "base_numbering": 1,
   "nav_menu": {},
   "number_sections": true,
   "sideBar": true,
   "skip_h1_title": false,
   "title_cell": "Table of Contents",
   "title_sidebar": "Contents",
   "toc_cell": false,
   "toc_position": {},
   "toc_section_display": "block",
   "toc_window_display": true
  }
 },
 "nbformat": 4,
 "nbformat_minor": 1
}
